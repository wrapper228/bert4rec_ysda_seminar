{
 "cells": [
  {
   "cell_type": "markdown",
   "id": "4fcb97db",
   "metadata": {},
   "source": [
    "# бейзлайны:"
   ]
  },
  {
   "cell_type": "code",
   "execution_count": 1,
   "id": "7ad2829b",
   "metadata": {},
   "outputs": [],
   "source": [
    "import pandas as pd\n",
    "import numpy as np\n",
    "import torch\n",
    "import pickle\n",
    "\n",
    "from metrics import ( \n",
    "    calculate_grouped_ndcg_random, \n",
    "    calculate_grouped_ndcg_sum_popularity,\n",
    "    calculate_grouped_ndcg_with_embeddings,\n",
    "    calculate_grouped_ndcg_for_bert4rec_output\n",
    ")"
   ]
  },
  {
   "cell_type": "code",
   "execution_count": 2,
   "id": "8718628f",
   "metadata": {},
   "outputs": [],
   "source": [
    "rnames = ['user_id', 'movie_id', 'rating', 'timestamp']\n",
    "ratings = pd.read_table('movielens_1m_dataset/ratings.dat', sep='::', header=None, names=rnames, engine='python', encoding='ISO-8859-1')"
   ]
  },
  {
   "cell_type": "code",
   "execution_count": 3,
   "id": "70428cbc",
   "metadata": {},
   "outputs": [
    {
     "data": {
      "text/html": [
       "<div>\n",
       "<style scoped>\n",
       "    .dataframe tbody tr th:only-of-type {\n",
       "        vertical-align: middle;\n",
       "    }\n",
       "\n",
       "    .dataframe tbody tr th {\n",
       "        vertical-align: top;\n",
       "    }\n",
       "\n",
       "    .dataframe thead th {\n",
       "        text-align: right;\n",
       "    }\n",
       "</style>\n",
       "<table border=\"1\" class=\"dataframe\">\n",
       "  <thead>\n",
       "    <tr style=\"text-align: right;\">\n",
       "      <th></th>\n",
       "      <th>user_id</th>\n",
       "      <th>movie_id</th>\n",
       "      <th>rating</th>\n",
       "      <th>timestamp</th>\n",
       "    </tr>\n",
       "  </thead>\n",
       "  <tbody>\n",
       "    <tr>\n",
       "      <th>0</th>\n",
       "      <td>1</td>\n",
       "      <td>1193</td>\n",
       "      <td>5</td>\n",
       "      <td>978300760</td>\n",
       "    </tr>\n",
       "    <tr>\n",
       "      <th>1</th>\n",
       "      <td>1</td>\n",
       "      <td>661</td>\n",
       "      <td>3</td>\n",
       "      <td>978302109</td>\n",
       "    </tr>\n",
       "    <tr>\n",
       "      <th>2</th>\n",
       "      <td>1</td>\n",
       "      <td>914</td>\n",
       "      <td>3</td>\n",
       "      <td>978301968</td>\n",
       "    </tr>\n",
       "    <tr>\n",
       "      <th>3</th>\n",
       "      <td>1</td>\n",
       "      <td>3408</td>\n",
       "      <td>4</td>\n",
       "      <td>978300275</td>\n",
       "    </tr>\n",
       "    <tr>\n",
       "      <th>4</th>\n",
       "      <td>1</td>\n",
       "      <td>2355</td>\n",
       "      <td>5</td>\n",
       "      <td>978824291</td>\n",
       "    </tr>\n",
       "    <tr>\n",
       "      <th>...</th>\n",
       "      <td>...</td>\n",
       "      <td>...</td>\n",
       "      <td>...</td>\n",
       "      <td>...</td>\n",
       "    </tr>\n",
       "    <tr>\n",
       "      <th>1000204</th>\n",
       "      <td>6040</td>\n",
       "      <td>1091</td>\n",
       "      <td>1</td>\n",
       "      <td>956716541</td>\n",
       "    </tr>\n",
       "    <tr>\n",
       "      <th>1000205</th>\n",
       "      <td>6040</td>\n",
       "      <td>1094</td>\n",
       "      <td>5</td>\n",
       "      <td>956704887</td>\n",
       "    </tr>\n",
       "    <tr>\n",
       "      <th>1000206</th>\n",
       "      <td>6040</td>\n",
       "      <td>562</td>\n",
       "      <td>5</td>\n",
       "      <td>956704746</td>\n",
       "    </tr>\n",
       "    <tr>\n",
       "      <th>1000207</th>\n",
       "      <td>6040</td>\n",
       "      <td>1096</td>\n",
       "      <td>4</td>\n",
       "      <td>956715648</td>\n",
       "    </tr>\n",
       "    <tr>\n",
       "      <th>1000208</th>\n",
       "      <td>6040</td>\n",
       "      <td>1097</td>\n",
       "      <td>4</td>\n",
       "      <td>956715569</td>\n",
       "    </tr>\n",
       "  </tbody>\n",
       "</table>\n",
       "<p>1000209 rows × 4 columns</p>\n",
       "</div>"
      ],
      "text/plain": [
       "         user_id  movie_id  rating  timestamp\n",
       "0              1      1193       5  978300760\n",
       "1              1       661       3  978302109\n",
       "2              1       914       3  978301968\n",
       "3              1      3408       4  978300275\n",
       "4              1      2355       5  978824291\n",
       "...          ...       ...     ...        ...\n",
       "1000204     6040      1091       1  956716541\n",
       "1000205     6040      1094       5  956704887\n",
       "1000206     6040       562       5  956704746\n",
       "1000207     6040      1096       4  956715648\n",
       "1000208     6040      1097       4  956715569\n",
       "\n",
       "[1000209 rows x 4 columns]"
      ]
     },
     "execution_count": 3,
     "metadata": {},
     "output_type": "execute_result"
    }
   ],
   "source": [
    "ratings"
   ]
  },
  {
   "cell_type": "code",
   "execution_count": 4,
   "id": "9538696e",
   "metadata": {},
   "outputs": [
    {
     "data": {
      "text/html": [
       "<div>\n",
       "<style scoped>\n",
       "    .dataframe tbody tr th:only-of-type {\n",
       "        vertical-align: middle;\n",
       "    }\n",
       "\n",
       "    .dataframe tbody tr th {\n",
       "        vertical-align: top;\n",
       "    }\n",
       "\n",
       "    .dataframe thead th {\n",
       "        text-align: right;\n",
       "    }\n",
       "</style>\n",
       "<table border=\"1\" class=\"dataframe\">\n",
       "  <thead>\n",
       "    <tr style=\"text-align: right;\">\n",
       "      <th></th>\n",
       "      <th>user_id</th>\n",
       "      <th>movie_id</th>\n",
       "      <th>rating</th>\n",
       "    </tr>\n",
       "  </thead>\n",
       "  <tbody>\n",
       "    <tr>\n",
       "      <th>0</th>\n",
       "      <td>1</td>\n",
       "      <td>3186</td>\n",
       "      <td>4</td>\n",
       "    </tr>\n",
       "    <tr>\n",
       "      <th>1</th>\n",
       "      <td>1</td>\n",
       "      <td>1270</td>\n",
       "      <td>5</td>\n",
       "    </tr>\n",
       "    <tr>\n",
       "      <th>2</th>\n",
       "      <td>1</td>\n",
       "      <td>1721</td>\n",
       "      <td>4</td>\n",
       "    </tr>\n",
       "    <tr>\n",
       "      <th>3</th>\n",
       "      <td>1</td>\n",
       "      <td>1022</td>\n",
       "      <td>5</td>\n",
       "    </tr>\n",
       "    <tr>\n",
       "      <th>4</th>\n",
       "      <td>1</td>\n",
       "      <td>2340</td>\n",
       "      <td>3</td>\n",
       "    </tr>\n",
       "    <tr>\n",
       "      <th>...</th>\n",
       "      <td>...</td>\n",
       "      <td>...</td>\n",
       "      <td>...</td>\n",
       "    </tr>\n",
       "    <tr>\n",
       "      <th>1000204</th>\n",
       "      <td>6040</td>\n",
       "      <td>2917</td>\n",
       "      <td>4</td>\n",
       "    </tr>\n",
       "    <tr>\n",
       "      <th>1000205</th>\n",
       "      <td>6040</td>\n",
       "      <td>1921</td>\n",
       "      <td>4</td>\n",
       "    </tr>\n",
       "    <tr>\n",
       "      <th>1000206</th>\n",
       "      <td>6040</td>\n",
       "      <td>1784</td>\n",
       "      <td>3</td>\n",
       "    </tr>\n",
       "    <tr>\n",
       "      <th>1000207</th>\n",
       "      <td>6040</td>\n",
       "      <td>161</td>\n",
       "      <td>3</td>\n",
       "    </tr>\n",
       "    <tr>\n",
       "      <th>1000208</th>\n",
       "      <td>6040</td>\n",
       "      <td>1221</td>\n",
       "      <td>4</td>\n",
       "    </tr>\n",
       "  </tbody>\n",
       "</table>\n",
       "<p>1000209 rows × 3 columns</p>\n",
       "</div>"
      ],
      "text/plain": [
       "         user_id  movie_id  rating\n",
       "0              1      3186       4\n",
       "1              1      1270       5\n",
       "2              1      1721       4\n",
       "3              1      1022       5\n",
       "4              1      2340       3\n",
       "...          ...       ...     ...\n",
       "1000204     6040      2917       4\n",
       "1000205     6040      1921       4\n",
       "1000206     6040      1784       3\n",
       "1000207     6040       161       3\n",
       "1000208     6040      1221       4\n",
       "\n",
       "[1000209 rows x 3 columns]"
      ]
     },
     "execution_count": 4,
     "metadata": {},
     "output_type": "execute_result"
    }
   ],
   "source": [
    "ratings.sort_values([\"user_id\", \"timestamp\"], inplace=True)\n",
    "\n",
    "ratings = ratings[[\"user_id\", \"movie_id\", \"rating\"]]\n",
    "\n",
    "ratings.reset_index(drop=True, inplace=True)\n",
    "\n",
    "ratings = ratings.astype(int)\n",
    "\n",
    "ratings"
   ]
  },
  {
   "cell_type": "code",
   "execution_count": 5,
   "id": "1d73ed87",
   "metadata": {},
   "outputs": [
    {
     "data": {
      "text/plain": [
       "(6040, 1, 6040)"
      ]
     },
     "execution_count": 5,
     "metadata": {},
     "output_type": "execute_result"
    }
   ],
   "source": [
    "ratings.user_id.nunique(), ratings.user_id.min(), ratings.user_id.max()"
   ]
  },
  {
   "cell_type": "code",
   "execution_count": 6,
   "id": "6877c399",
   "metadata": {},
   "outputs": [
    {
     "data": {
      "text/plain": [
       "(3706, 1, 3952)"
      ]
     },
     "execution_count": 6,
     "metadata": {},
     "output_type": "execute_result"
    }
   ],
   "source": [
    "ratings.movie_id.nunique(), ratings.movie_id.min(), ratings.movie_id.max()"
   ]
  },
  {
   "cell_type": "code",
   "execution_count": 7,
   "id": "b7657cc0",
   "metadata": {},
   "outputs": [
    {
     "data": {
      "text/html": [
       "<div>\n",
       "<style scoped>\n",
       "    .dataframe tbody tr th:only-of-type {\n",
       "        vertical-align: middle;\n",
       "    }\n",
       "\n",
       "    .dataframe tbody tr th {\n",
       "        vertical-align: top;\n",
       "    }\n",
       "\n",
       "    .dataframe thead th {\n",
       "        text-align: right;\n",
       "    }\n",
       "</style>\n",
       "<table border=\"1\" class=\"dataframe\">\n",
       "  <thead>\n",
       "    <tr style=\"text-align: right;\">\n",
       "      <th></th>\n",
       "      <th>user_id</th>\n",
       "      <th>movie_id</th>\n",
       "      <th>rating</th>\n",
       "    </tr>\n",
       "  </thead>\n",
       "  <tbody>\n",
       "    <tr>\n",
       "      <th>0</th>\n",
       "      <td>1</td>\n",
       "      <td>3186</td>\n",
       "      <td>1</td>\n",
       "    </tr>\n",
       "    <tr>\n",
       "      <th>1</th>\n",
       "      <td>1</td>\n",
       "      <td>1270</td>\n",
       "      <td>1</td>\n",
       "    </tr>\n",
       "    <tr>\n",
       "      <th>2</th>\n",
       "      <td>1</td>\n",
       "      <td>1721</td>\n",
       "      <td>1</td>\n",
       "    </tr>\n",
       "    <tr>\n",
       "      <th>3</th>\n",
       "      <td>1</td>\n",
       "      <td>1022</td>\n",
       "      <td>1</td>\n",
       "    </tr>\n",
       "    <tr>\n",
       "      <th>4</th>\n",
       "      <td>1</td>\n",
       "      <td>2340</td>\n",
       "      <td>1</td>\n",
       "    </tr>\n",
       "    <tr>\n",
       "      <th>...</th>\n",
       "      <td>...</td>\n",
       "      <td>...</td>\n",
       "      <td>...</td>\n",
       "    </tr>\n",
       "    <tr>\n",
       "      <th>1000204</th>\n",
       "      <td>6040</td>\n",
       "      <td>2917</td>\n",
       "      <td>1</td>\n",
       "    </tr>\n",
       "    <tr>\n",
       "      <th>1000205</th>\n",
       "      <td>6040</td>\n",
       "      <td>1921</td>\n",
       "      <td>1</td>\n",
       "    </tr>\n",
       "    <tr>\n",
       "      <th>1000206</th>\n",
       "      <td>6040</td>\n",
       "      <td>1784</td>\n",
       "      <td>1</td>\n",
       "    </tr>\n",
       "    <tr>\n",
       "      <th>1000207</th>\n",
       "      <td>6040</td>\n",
       "      <td>161</td>\n",
       "      <td>1</td>\n",
       "    </tr>\n",
       "    <tr>\n",
       "      <th>1000208</th>\n",
       "      <td>6040</td>\n",
       "      <td>1221</td>\n",
       "      <td>1</td>\n",
       "    </tr>\n",
       "  </tbody>\n",
       "</table>\n",
       "<p>1000209 rows × 3 columns</p>\n",
       "</div>"
      ],
      "text/plain": [
       "         user_id  movie_id  rating\n",
       "0              1      3186       1\n",
       "1              1      1270       1\n",
       "2              1      1721       1\n",
       "3              1      1022       1\n",
       "4              1      2340       1\n",
       "...          ...       ...     ...\n",
       "1000204     6040      2917       1\n",
       "1000205     6040      1921       1\n",
       "1000206     6040      1784       1\n",
       "1000207     6040       161       1\n",
       "1000208     6040      1221       1\n",
       "\n",
       "[1000209 rows x 3 columns]"
      ]
     },
     "execution_count": 7,
     "metadata": {},
     "output_type": "execute_result"
    }
   ],
   "source": [
    "ratings.rating = 1\n",
    "\n",
    "ratings"
   ]
  },
  {
   "cell_type": "code",
   "execution_count": 8,
   "id": "01575fac",
   "metadata": {},
   "outputs": [
    {
     "data": {
      "text/html": [
       "<div>\n",
       "<style scoped>\n",
       "    .dataframe tbody tr th:only-of-type {\n",
       "        vertical-align: middle;\n",
       "    }\n",
       "\n",
       "    .dataframe tbody tr th {\n",
       "        vertical-align: top;\n",
       "    }\n",
       "\n",
       "    .dataframe thead th {\n",
       "        text-align: right;\n",
       "    }\n",
       "</style>\n",
       "<table border=\"1\" class=\"dataframe\">\n",
       "  <thead>\n",
       "    <tr style=\"text-align: right;\">\n",
       "      <th></th>\n",
       "      <th>user_id</th>\n",
       "      <th>movie_id</th>\n",
       "      <th>rating</th>\n",
       "    </tr>\n",
       "  </thead>\n",
       "  <tbody>\n",
       "    <tr>\n",
       "      <th>0</th>\n",
       "      <td>1</td>\n",
       "      <td>3186</td>\n",
       "      <td>1</td>\n",
       "    </tr>\n",
       "    <tr>\n",
       "      <th>1</th>\n",
       "      <td>1</td>\n",
       "      <td>1270</td>\n",
       "      <td>1</td>\n",
       "    </tr>\n",
       "    <tr>\n",
       "      <th>2</th>\n",
       "      <td>1</td>\n",
       "      <td>1721</td>\n",
       "      <td>1</td>\n",
       "    </tr>\n",
       "    <tr>\n",
       "      <th>3</th>\n",
       "      <td>1</td>\n",
       "      <td>1022</td>\n",
       "      <td>1</td>\n",
       "    </tr>\n",
       "    <tr>\n",
       "      <th>4</th>\n",
       "      <td>1</td>\n",
       "      <td>2340</td>\n",
       "      <td>1</td>\n",
       "    </tr>\n",
       "    <tr>\n",
       "      <th>...</th>\n",
       "      <td>...</td>\n",
       "      <td>...</td>\n",
       "      <td>...</td>\n",
       "    </tr>\n",
       "    <tr>\n",
       "      <th>1000204</th>\n",
       "      <td>6040</td>\n",
       "      <td>2917</td>\n",
       "      <td>1</td>\n",
       "    </tr>\n",
       "    <tr>\n",
       "      <th>1000205</th>\n",
       "      <td>6040</td>\n",
       "      <td>1921</td>\n",
       "      <td>1</td>\n",
       "    </tr>\n",
       "    <tr>\n",
       "      <th>1000206</th>\n",
       "      <td>6040</td>\n",
       "      <td>1784</td>\n",
       "      <td>1</td>\n",
       "    </tr>\n",
       "    <tr>\n",
       "      <th>1000207</th>\n",
       "      <td>6040</td>\n",
       "      <td>161</td>\n",
       "      <td>1</td>\n",
       "    </tr>\n",
       "    <tr>\n",
       "      <th>1000208</th>\n",
       "      <td>6040</td>\n",
       "      <td>1221</td>\n",
       "      <td>1</td>\n",
       "    </tr>\n",
       "  </tbody>\n",
       "</table>\n",
       "<p>1000209 rows × 3 columns</p>\n",
       "</div>"
      ],
      "text/plain": [
       "         user_id  movie_id  rating\n",
       "0              1      3186       1\n",
       "1              1      1270       1\n",
       "2              1      1721       1\n",
       "3              1      1022       1\n",
       "4              1      2340       1\n",
       "...          ...       ...     ...\n",
       "1000204     6040      2917       1\n",
       "1000205     6040      1921       1\n",
       "1000206     6040      1784       1\n",
       "1000207     6040       161       1\n",
       "1000208     6040      1221       1\n",
       "\n",
       "[1000209 rows x 3 columns]"
      ]
     },
     "execution_count": 8,
     "metadata": {},
     "output_type": "execute_result"
    }
   ],
   "source": [
    "# ratings = ratings[ratings.groupby(\"movie_id\")['user_id'].transform('count') >= 5]\n",
    "# дабы подстроиться под берт. потом вернем\n",
    "ratings = ratings[ratings.groupby(\"user_id\")['movie_id'].transform('count') >= 5]\n",
    "ratings = ratings[ratings.groupby(\"movie_id\")['user_id'].transform('count') >= 0]\n",
    "\n",
    "ratings.reset_index(drop=True, inplace=True)\n",
    "\n",
    "ratings"
   ]
  },
  {
   "cell_type": "code",
   "execution_count": 9,
   "id": "d6e828be",
   "metadata": {},
   "outputs": [
    {
     "name": "stdout",
     "output_type": "stream",
     "text": [
      "statistics: 6040 3706\n"
     ]
    }
   ],
   "source": [
    "print(\"statistics:\", ratings.user_id.nunique(), ratings.movie_id.nunique())"
   ]
  },
  {
   "cell_type": "code",
   "execution_count": 10,
   "id": "7de48ad9",
   "metadata": {},
   "outputs": [],
   "source": [
    "def create_index_mapping(df):\n",
    "    \"\"\"\n",
    "    Создает словарь, отображающий айдишники юзеров и айтемов в\n",
    "    небольшие различные числа (соответствующие индексам в enumerate)\n",
    "    Зачем это нужно: implicit ALS хочет спарс матрицу для обучения, а размер scipy спарс\n",
    "    матрицы зависит от максимального значения айдишника. Применение такого отображения к данным\n",
    "    позволит работать с матрицами значительно меньших размеров.\n",
    "    Parameters\n",
    "        df: датасет, с колонок которого создаются словари\n",
    "    Returns\n",
    "        u2ix, i2ix: вышеописанные словари\n",
    "    \"\"\"\n",
    "    u2ix = {user_id: i for i, user_id in enumerate(df.user_id.unique())}\n",
    "    i2ix = {item_id: i for i, item_id in enumerate(df.movie_id.unique())}\n",
    "    return u2ix, i2ix\n",
    "\n",
    "def apply_index_mapping(df, u2ix, i2ix) -> pd.DataFrame:\n",
    "    \"\"\"\n",
    "    Применяет вышеописанные словари к колонкам \"user_id\" и \"movie_id\".\n",
    "    Parameters\n",
    "        df: датасет, к которому применяется маппинг по словарям\n",
    "        u2ix: словарь \"user_id\": \"небольшое число\"\n",
    "        i2ix: словарь \"movie_id\": \"небольшое число\"\n",
    "    Returns\n",
    "        df: датасет с измененными (согласно u2ix и i2ix) значениями в колонках\n",
    "    \"\"\"\n",
    "    df.user_id = df.user_id.map(lambda x: u2ix[x])\n",
    "    df.movie_id = df.movie_id.map(lambda x: i2ix[x])\n",
    "    return df\n",
    "\n",
    "u2ix, i2ix = create_index_mapping(ratings)\n",
    "ratings = apply_index_mapping(ratings, u2ix, i2ix)"
   ]
  },
  {
   "cell_type": "markdown",
   "id": "12b02439",
   "metadata": {},
   "source": [
    "leave-last-out:"
   ]
  },
  {
   "cell_type": "code",
   "execution_count": 11,
   "id": "dde8ede0",
   "metadata": {},
   "outputs": [
    {
     "data": {
      "text/html": [
       "<div>\n",
       "<style scoped>\n",
       "    .dataframe tbody tr th:only-of-type {\n",
       "        vertical-align: middle;\n",
       "    }\n",
       "\n",
       "    .dataframe tbody tr th {\n",
       "        vertical-align: top;\n",
       "    }\n",
       "\n",
       "    .dataframe thead th {\n",
       "        text-align: right;\n",
       "    }\n",
       "</style>\n",
       "<table border=\"1\" class=\"dataframe\">\n",
       "  <thead>\n",
       "    <tr style=\"text-align: right;\">\n",
       "      <th></th>\n",
       "      <th>user_id</th>\n",
       "      <th>movie_id</th>\n",
       "      <th>rating</th>\n",
       "    </tr>\n",
       "  </thead>\n",
       "  <tbody>\n",
       "    <tr>\n",
       "      <th>52</th>\n",
       "      <td>0</td>\n",
       "      <td>52</td>\n",
       "      <td>1</td>\n",
       "    </tr>\n",
       "    <tr>\n",
       "      <th>181</th>\n",
       "      <td>1</td>\n",
       "      <td>174</td>\n",
       "      <td>1</td>\n",
       "    </tr>\n",
       "    <tr>\n",
       "      <th>232</th>\n",
       "      <td>2</td>\n",
       "      <td>207</td>\n",
       "      <td>1</td>\n",
       "    </tr>\n",
       "    <tr>\n",
       "      <th>253</th>\n",
       "      <td>3</td>\n",
       "      <td>88</td>\n",
       "      <td>1</td>\n",
       "    </tr>\n",
       "    <tr>\n",
       "      <th>451</th>\n",
       "      <td>4</td>\n",
       "      <td>384</td>\n",
       "      <td>1</td>\n",
       "    </tr>\n",
       "    <tr>\n",
       "      <th>...</th>\n",
       "      <td>...</td>\n",
       "      <td>...</td>\n",
       "      <td>...</td>\n",
       "    </tr>\n",
       "    <tr>\n",
       "      <th>999522</th>\n",
       "      <td>6035</td>\n",
       "      <td>927</td>\n",
       "      <td>1</td>\n",
       "    </tr>\n",
       "    <tr>\n",
       "      <th>999724</th>\n",
       "      <td>6036</td>\n",
       "      <td>684</td>\n",
       "      <td>1</td>\n",
       "    </tr>\n",
       "    <tr>\n",
       "      <th>999744</th>\n",
       "      <td>6037</td>\n",
       "      <td>1587</td>\n",
       "      <td>1</td>\n",
       "    </tr>\n",
       "    <tr>\n",
       "      <th>999867</th>\n",
       "      <td>6038</td>\n",
       "      <td>579</td>\n",
       "      <td>1</td>\n",
       "    </tr>\n",
       "    <tr>\n",
       "      <th>1000208</th>\n",
       "      <td>6039</td>\n",
       "      <td>430</td>\n",
       "      <td>1</td>\n",
       "    </tr>\n",
       "  </tbody>\n",
       "</table>\n",
       "<p>6040 rows × 3 columns</p>\n",
       "</div>"
      ],
      "text/plain": [
       "         user_id  movie_id  rating\n",
       "52             0        52       1\n",
       "181            1       174       1\n",
       "232            2       207       1\n",
       "253            3        88       1\n",
       "451            4       384       1\n",
       "...          ...       ...     ...\n",
       "999522      6035       927       1\n",
       "999724      6036       684       1\n",
       "999744      6037      1587       1\n",
       "999867      6038       579       1\n",
       "1000208     6039       430       1\n",
       "\n",
       "[6040 rows x 3 columns]"
      ]
     },
     "execution_count": 11,
     "metadata": {},
     "output_type": "execute_result"
    }
   ],
   "source": [
    "test = ratings.groupby(\"user_id\").tail(1)\n",
    "\n",
    "test"
   ]
  },
  {
   "cell_type": "code",
   "execution_count": 12,
   "id": "90c8c63f",
   "metadata": {},
   "outputs": [
    {
     "data": {
      "text/html": [
       "<div>\n",
       "<style scoped>\n",
       "    .dataframe tbody tr th:only-of-type {\n",
       "        vertical-align: middle;\n",
       "    }\n",
       "\n",
       "    .dataframe tbody tr th {\n",
       "        vertical-align: top;\n",
       "    }\n",
       "\n",
       "    .dataframe thead th {\n",
       "        text-align: right;\n",
       "    }\n",
       "</style>\n",
       "<table border=\"1\" class=\"dataframe\">\n",
       "  <thead>\n",
       "    <tr style=\"text-align: right;\">\n",
       "      <th></th>\n",
       "      <th>user_id</th>\n",
       "      <th>movie_id</th>\n",
       "      <th>rating</th>\n",
       "    </tr>\n",
       "  </thead>\n",
       "  <tbody>\n",
       "    <tr>\n",
       "      <th>0</th>\n",
       "      <td>0</td>\n",
       "      <td>0</td>\n",
       "      <td>1</td>\n",
       "    </tr>\n",
       "    <tr>\n",
       "      <th>1</th>\n",
       "      <td>0</td>\n",
       "      <td>1</td>\n",
       "      <td>1</td>\n",
       "    </tr>\n",
       "    <tr>\n",
       "      <th>2</th>\n",
       "      <td>0</td>\n",
       "      <td>2</td>\n",
       "      <td>1</td>\n",
       "    </tr>\n",
       "    <tr>\n",
       "      <th>3</th>\n",
       "      <td>0</td>\n",
       "      <td>3</td>\n",
       "      <td>1</td>\n",
       "    </tr>\n",
       "    <tr>\n",
       "      <th>4</th>\n",
       "      <td>0</td>\n",
       "      <td>4</td>\n",
       "      <td>1</td>\n",
       "    </tr>\n",
       "    <tr>\n",
       "      <th>...</th>\n",
       "      <td>...</td>\n",
       "      <td>...</td>\n",
       "      <td>...</td>\n",
       "    </tr>\n",
       "    <tr>\n",
       "      <th>1000203</th>\n",
       "      <td>6039</td>\n",
       "      <td>1097</td>\n",
       "      <td>1</td>\n",
       "    </tr>\n",
       "    <tr>\n",
       "      <th>1000204</th>\n",
       "      <td>6039</td>\n",
       "      <td>1248</td>\n",
       "      <td>1</td>\n",
       "    </tr>\n",
       "    <tr>\n",
       "      <th>1000205</th>\n",
       "      <td>6039</td>\n",
       "      <td>370</td>\n",
       "      <td>1</td>\n",
       "    </tr>\n",
       "    <tr>\n",
       "      <th>1000206</th>\n",
       "      <td>6039</td>\n",
       "      <td>89</td>\n",
       "      <td>1</td>\n",
       "    </tr>\n",
       "    <tr>\n",
       "      <th>1000207</th>\n",
       "      <td>6039</td>\n",
       "      <td>464</td>\n",
       "      <td>1</td>\n",
       "    </tr>\n",
       "  </tbody>\n",
       "</table>\n",
       "<p>994169 rows × 3 columns</p>\n",
       "</div>"
      ],
      "text/plain": [
       "         user_id  movie_id  rating\n",
       "0              0         0       1\n",
       "1              0         1       1\n",
       "2              0         2       1\n",
       "3              0         3       1\n",
       "4              0         4       1\n",
       "...          ...       ...     ...\n",
       "1000203     6039      1097       1\n",
       "1000204     6039      1248       1\n",
       "1000205     6039       370       1\n",
       "1000206     6039        89       1\n",
       "1000207     6039       464       1\n",
       "\n",
       "[994169 rows x 3 columns]"
      ]
     },
     "execution_count": 12,
     "metadata": {},
     "output_type": "execute_result"
    }
   ],
   "source": [
    "train_and_val = ratings.drop(test.index, axis=0)\n",
    "\n",
    "train_and_val"
   ]
  },
  {
   "cell_type": "code",
   "execution_count": 13,
   "id": "9475a56d",
   "metadata": {},
   "outputs": [
    {
     "data": {
      "text/html": [
       "<div>\n",
       "<style scoped>\n",
       "    .dataframe tbody tr th:only-of-type {\n",
       "        vertical-align: middle;\n",
       "    }\n",
       "\n",
       "    .dataframe tbody tr th {\n",
       "        vertical-align: top;\n",
       "    }\n",
       "\n",
       "    .dataframe thead th {\n",
       "        text-align: right;\n",
       "    }\n",
       "</style>\n",
       "<table border=\"1\" class=\"dataframe\">\n",
       "  <thead>\n",
       "    <tr style=\"text-align: right;\">\n",
       "      <th></th>\n",
       "      <th>user_id</th>\n",
       "      <th>movie_id</th>\n",
       "      <th>rating</th>\n",
       "    </tr>\n",
       "  </thead>\n",
       "  <tbody>\n",
       "    <tr>\n",
       "      <th>51</th>\n",
       "      <td>0</td>\n",
       "      <td>51</td>\n",
       "      <td>1</td>\n",
       "    </tr>\n",
       "    <tr>\n",
       "      <th>180</th>\n",
       "      <td>1</td>\n",
       "      <td>173</td>\n",
       "      <td>1</td>\n",
       "    </tr>\n",
       "    <tr>\n",
       "      <th>231</th>\n",
       "      <td>2</td>\n",
       "      <td>206</td>\n",
       "      <td>1</td>\n",
       "    </tr>\n",
       "    <tr>\n",
       "      <th>252</th>\n",
       "      <td>3</td>\n",
       "      <td>217</td>\n",
       "      <td>1</td>\n",
       "    </tr>\n",
       "    <tr>\n",
       "      <th>450</th>\n",
       "      <td>4</td>\n",
       "      <td>383</td>\n",
       "      <td>1</td>\n",
       "    </tr>\n",
       "    <tr>\n",
       "      <th>...</th>\n",
       "      <td>...</td>\n",
       "      <td>...</td>\n",
       "      <td>...</td>\n",
       "    </tr>\n",
       "    <tr>\n",
       "      <th>999521</th>\n",
       "      <td>6035</td>\n",
       "      <td>3356</td>\n",
       "      <td>1</td>\n",
       "    </tr>\n",
       "    <tr>\n",
       "      <th>999723</th>\n",
       "      <td>6036</td>\n",
       "      <td>244</td>\n",
       "      <td>1</td>\n",
       "    </tr>\n",
       "    <tr>\n",
       "      <th>999743</th>\n",
       "      <td>6037</td>\n",
       "      <td>252</td>\n",
       "      <td>1</td>\n",
       "    </tr>\n",
       "    <tr>\n",
       "      <th>999866</th>\n",
       "      <td>6038</td>\n",
       "      <td>562</td>\n",
       "      <td>1</td>\n",
       "    </tr>\n",
       "    <tr>\n",
       "      <th>1000207</th>\n",
       "      <td>6039</td>\n",
       "      <td>464</td>\n",
       "      <td>1</td>\n",
       "    </tr>\n",
       "  </tbody>\n",
       "</table>\n",
       "<p>6040 rows × 3 columns</p>\n",
       "</div>"
      ],
      "text/plain": [
       "         user_id  movie_id  rating\n",
       "51             0        51       1\n",
       "180            1       173       1\n",
       "231            2       206       1\n",
       "252            3       217       1\n",
       "450            4       383       1\n",
       "...          ...       ...     ...\n",
       "999521      6035      3356       1\n",
       "999723      6036       244       1\n",
       "999743      6037       252       1\n",
       "999866      6038       562       1\n",
       "1000207     6039       464       1\n",
       "\n",
       "[6040 rows x 3 columns]"
      ]
     },
     "execution_count": 13,
     "metadata": {},
     "output_type": "execute_result"
    }
   ],
   "source": [
    "val = train_and_val.groupby(\"user_id\").tail(1)\n",
    "\n",
    "val"
   ]
  },
  {
   "cell_type": "code",
   "execution_count": 14,
   "id": "b1998430",
   "metadata": {},
   "outputs": [
    {
     "data": {
      "text/html": [
       "<div>\n",
       "<style scoped>\n",
       "    .dataframe tbody tr th:only-of-type {\n",
       "        vertical-align: middle;\n",
       "    }\n",
       "\n",
       "    .dataframe tbody tr th {\n",
       "        vertical-align: top;\n",
       "    }\n",
       "\n",
       "    .dataframe thead th {\n",
       "        text-align: right;\n",
       "    }\n",
       "</style>\n",
       "<table border=\"1\" class=\"dataframe\">\n",
       "  <thead>\n",
       "    <tr style=\"text-align: right;\">\n",
       "      <th></th>\n",
       "      <th>user_id</th>\n",
       "      <th>movie_id</th>\n",
       "      <th>rating</th>\n",
       "    </tr>\n",
       "  </thead>\n",
       "  <tbody>\n",
       "    <tr>\n",
       "      <th>0</th>\n",
       "      <td>0</td>\n",
       "      <td>0</td>\n",
       "      <td>1</td>\n",
       "    </tr>\n",
       "    <tr>\n",
       "      <th>1</th>\n",
       "      <td>0</td>\n",
       "      <td>1</td>\n",
       "      <td>1</td>\n",
       "    </tr>\n",
       "    <tr>\n",
       "      <th>2</th>\n",
       "      <td>0</td>\n",
       "      <td>2</td>\n",
       "      <td>1</td>\n",
       "    </tr>\n",
       "    <tr>\n",
       "      <th>3</th>\n",
       "      <td>0</td>\n",
       "      <td>3</td>\n",
       "      <td>1</td>\n",
       "    </tr>\n",
       "    <tr>\n",
       "      <th>4</th>\n",
       "      <td>0</td>\n",
       "      <td>4</td>\n",
       "      <td>1</td>\n",
       "    </tr>\n",
       "    <tr>\n",
       "      <th>...</th>\n",
       "      <td>...</td>\n",
       "      <td>...</td>\n",
       "      <td>...</td>\n",
       "    </tr>\n",
       "    <tr>\n",
       "      <th>1000202</th>\n",
       "      <td>6039</td>\n",
       "      <td>180</td>\n",
       "      <td>1</td>\n",
       "    </tr>\n",
       "    <tr>\n",
       "      <th>1000203</th>\n",
       "      <td>6039</td>\n",
       "      <td>1097</td>\n",
       "      <td>1</td>\n",
       "    </tr>\n",
       "    <tr>\n",
       "      <th>1000204</th>\n",
       "      <td>6039</td>\n",
       "      <td>1248</td>\n",
       "      <td>1</td>\n",
       "    </tr>\n",
       "    <tr>\n",
       "      <th>1000205</th>\n",
       "      <td>6039</td>\n",
       "      <td>370</td>\n",
       "      <td>1</td>\n",
       "    </tr>\n",
       "    <tr>\n",
       "      <th>1000206</th>\n",
       "      <td>6039</td>\n",
       "      <td>89</td>\n",
       "      <td>1</td>\n",
       "    </tr>\n",
       "  </tbody>\n",
       "</table>\n",
       "<p>988129 rows × 3 columns</p>\n",
       "</div>"
      ],
      "text/plain": [
       "         user_id  movie_id  rating\n",
       "0              0         0       1\n",
       "1              0         1       1\n",
       "2              0         2       1\n",
       "3              0         3       1\n",
       "4              0         4       1\n",
       "...          ...       ...     ...\n",
       "1000202     6039       180       1\n",
       "1000203     6039      1097       1\n",
       "1000204     6039      1248       1\n",
       "1000205     6039       370       1\n",
       "1000206     6039        89       1\n",
       "\n",
       "[988129 rows x 3 columns]"
      ]
     },
     "execution_count": 14,
     "metadata": {},
     "output_type": "execute_result"
    }
   ],
   "source": [
    "train = train_and_val.drop(val.index, axis=0)\n",
    "\n",
    "train"
   ]
  },
  {
   "cell_type": "code",
   "execution_count": 15,
   "id": "0b02997a",
   "metadata": {},
   "outputs": [],
   "source": [
    "train.reset_index(drop=True, inplace=True)\n",
    "val.reset_index(drop=True, inplace=True)\n",
    "test.reset_index(drop=True, inplace=True)\n",
    "\n",
    "train_and_val.reset_index(drop=True, inplace=True) # нужно только для бейзлайнов и алс, мы там ниче не смотрим на val и не тюним"
   ]
  },
  {
   "cell_type": "code",
   "execution_count": 16,
   "id": "1e9af677",
   "metadata": {},
   "outputs": [],
   "source": [
    "# так, берту не нужно время, ток порядок\n",
    "train_dict = dict(train.groupby('user_id').apply(lambda d: list(d['movie_id'])))\n",
    "val_dict = dict(val.groupby('user_id').apply(lambda d: list(d['movie_id'])))\n",
    "test_dict = dict(test.groupby('user_id').apply(lambda d: list(d['movie_id'])))"
   ]
  },
  {
   "cell_type": "code",
   "execution_count": 17,
   "id": "4dff1c24",
   "metadata": {},
   "outputs": [],
   "source": [
    "dataset_for_bert4rec = {'train': train_dict,\n",
    "                       'val': val_dict,\n",
    "                       'test': test_dict,\n",
    "                       'umap': u2ix,\n",
    "                       'smap': i2ix}"
   ]
  },
  {
   "cell_type": "code",
   "execution_count": 18,
   "id": "580b5d19",
   "metadata": {},
   "outputs": [],
   "source": [
    "import pickle\n",
    "\n",
    "with open('prepared_dataset/dataset_for_bert4rec.pickle', 'wb') as handle:\n",
    "    pickle.dump(dataset_for_bert4rec, handle, protocol=pickle.HIGHEST_PROTOCOL)"
   ]
  },
  {
   "cell_type": "markdown",
   "id": "59b8f991",
   "metadata": {},
   "source": [
    "... продолжаем:"
   ]
  },
  {
   "cell_type": "code",
   "execution_count": 19,
   "id": "155954ac",
   "metadata": {},
   "outputs": [
    {
     "data": {
      "text/html": [
       "<div>\n",
       "<style scoped>\n",
       "    .dataframe tbody tr th:only-of-type {\n",
       "        vertical-align: middle;\n",
       "    }\n",
       "\n",
       "    .dataframe tbody tr th {\n",
       "        vertical-align: top;\n",
       "    }\n",
       "\n",
       "    .dataframe thead th {\n",
       "        text-align: right;\n",
       "    }\n",
       "</style>\n",
       "<table border=\"1\" class=\"dataframe\">\n",
       "  <thead>\n",
       "    <tr style=\"text-align: right;\">\n",
       "      <th></th>\n",
       "      <th>user_id</th>\n",
       "      <th>movie_id</th>\n",
       "      <th>rating</th>\n",
       "    </tr>\n",
       "  </thead>\n",
       "  <tbody>\n",
       "    <tr>\n",
       "      <th>0</th>\n",
       "      <td>0</td>\n",
       "      <td>0</td>\n",
       "      <td>1</td>\n",
       "    </tr>\n",
       "    <tr>\n",
       "      <th>1</th>\n",
       "      <td>0</td>\n",
       "      <td>1</td>\n",
       "      <td>1</td>\n",
       "    </tr>\n",
       "    <tr>\n",
       "      <th>2</th>\n",
       "      <td>0</td>\n",
       "      <td>2</td>\n",
       "      <td>1</td>\n",
       "    </tr>\n",
       "    <tr>\n",
       "      <th>3</th>\n",
       "      <td>0</td>\n",
       "      <td>3</td>\n",
       "      <td>1</td>\n",
       "    </tr>\n",
       "    <tr>\n",
       "      <th>4</th>\n",
       "      <td>0</td>\n",
       "      <td>4</td>\n",
       "      <td>1</td>\n",
       "    </tr>\n",
       "    <tr>\n",
       "      <th>...</th>\n",
       "      <td>...</td>\n",
       "      <td>...</td>\n",
       "      <td>...</td>\n",
       "    </tr>\n",
       "    <tr>\n",
       "      <th>994164</th>\n",
       "      <td>6039</td>\n",
       "      <td>1097</td>\n",
       "      <td>1</td>\n",
       "    </tr>\n",
       "    <tr>\n",
       "      <th>994165</th>\n",
       "      <td>6039</td>\n",
       "      <td>1248</td>\n",
       "      <td>1</td>\n",
       "    </tr>\n",
       "    <tr>\n",
       "      <th>994166</th>\n",
       "      <td>6039</td>\n",
       "      <td>370</td>\n",
       "      <td>1</td>\n",
       "    </tr>\n",
       "    <tr>\n",
       "      <th>994167</th>\n",
       "      <td>6039</td>\n",
       "      <td>89</td>\n",
       "      <td>1</td>\n",
       "    </tr>\n",
       "    <tr>\n",
       "      <th>994168</th>\n",
       "      <td>6039</td>\n",
       "      <td>464</td>\n",
       "      <td>1</td>\n",
       "    </tr>\n",
       "  </tbody>\n",
       "</table>\n",
       "<p>994169 rows × 3 columns</p>\n",
       "</div>"
      ],
      "text/plain": [
       "        user_id  movie_id  rating\n",
       "0             0         0       1\n",
       "1             0         1       1\n",
       "2             0         2       1\n",
       "3             0         3       1\n",
       "4             0         4       1\n",
       "...         ...       ...     ...\n",
       "994164     6039      1097       1\n",
       "994165     6039      1248       1\n",
       "994166     6039       370       1\n",
       "994167     6039        89       1\n",
       "994168     6039       464       1\n",
       "\n",
       "[994169 rows x 3 columns]"
      ]
     },
     "execution_count": 19,
     "metadata": {},
     "output_type": "execute_result"
    }
   ],
   "source": [
    "train_and_val"
   ]
  },
  {
   "cell_type": "code",
   "execution_count": 20,
   "id": "cb8cdcd4",
   "metadata": {},
   "outputs": [
    {
     "data": {
      "text/html": [
       "<div>\n",
       "<style scoped>\n",
       "    .dataframe tbody tr th:only-of-type {\n",
       "        vertical-align: middle;\n",
       "    }\n",
       "\n",
       "    .dataframe tbody tr th {\n",
       "        vertical-align: top;\n",
       "    }\n",
       "\n",
       "    .dataframe thead th {\n",
       "        text-align: right;\n",
       "    }\n",
       "</style>\n",
       "<table border=\"1\" class=\"dataframe\">\n",
       "  <thead>\n",
       "    <tr style=\"text-align: right;\">\n",
       "      <th></th>\n",
       "      <th>user_id</th>\n",
       "      <th>movie_id</th>\n",
       "      <th>rating</th>\n",
       "    </tr>\n",
       "  </thead>\n",
       "  <tbody>\n",
       "    <tr>\n",
       "      <th>0</th>\n",
       "      <td>0</td>\n",
       "      <td>52</td>\n",
       "      <td>1</td>\n",
       "    </tr>\n",
       "    <tr>\n",
       "      <th>1</th>\n",
       "      <td>1</td>\n",
       "      <td>174</td>\n",
       "      <td>1</td>\n",
       "    </tr>\n",
       "    <tr>\n",
       "      <th>2</th>\n",
       "      <td>2</td>\n",
       "      <td>207</td>\n",
       "      <td>1</td>\n",
       "    </tr>\n",
       "    <tr>\n",
       "      <th>3</th>\n",
       "      <td>3</td>\n",
       "      <td>88</td>\n",
       "      <td>1</td>\n",
       "    </tr>\n",
       "    <tr>\n",
       "      <th>4</th>\n",
       "      <td>4</td>\n",
       "      <td>384</td>\n",
       "      <td>1</td>\n",
       "    </tr>\n",
       "    <tr>\n",
       "      <th>...</th>\n",
       "      <td>...</td>\n",
       "      <td>...</td>\n",
       "      <td>...</td>\n",
       "    </tr>\n",
       "    <tr>\n",
       "      <th>6035</th>\n",
       "      <td>6035</td>\n",
       "      <td>927</td>\n",
       "      <td>1</td>\n",
       "    </tr>\n",
       "    <tr>\n",
       "      <th>6036</th>\n",
       "      <td>6036</td>\n",
       "      <td>684</td>\n",
       "      <td>1</td>\n",
       "    </tr>\n",
       "    <tr>\n",
       "      <th>6037</th>\n",
       "      <td>6037</td>\n",
       "      <td>1587</td>\n",
       "      <td>1</td>\n",
       "    </tr>\n",
       "    <tr>\n",
       "      <th>6038</th>\n",
       "      <td>6038</td>\n",
       "      <td>579</td>\n",
       "      <td>1</td>\n",
       "    </tr>\n",
       "    <tr>\n",
       "      <th>6039</th>\n",
       "      <td>6039</td>\n",
       "      <td>430</td>\n",
       "      <td>1</td>\n",
       "    </tr>\n",
       "  </tbody>\n",
       "</table>\n",
       "<p>6040 rows × 3 columns</p>\n",
       "</div>"
      ],
      "text/plain": [
       "      user_id  movie_id  rating\n",
       "0           0        52       1\n",
       "1           1       174       1\n",
       "2           2       207       1\n",
       "3           3        88       1\n",
       "4           4       384       1\n",
       "...       ...       ...     ...\n",
       "6035     6035       927       1\n",
       "6036     6036       684       1\n",
       "6037     6037      1587       1\n",
       "6038     6038       579       1\n",
       "6039     6039       430       1\n",
       "\n",
       "[6040 rows x 3 columns]"
      ]
     },
     "execution_count": 20,
     "metadata": {},
     "output_type": "execute_result"
    }
   ],
   "source": [
    "test"
   ]
  },
  {
   "cell_type": "code",
   "execution_count": 21,
   "id": "b1c81a99",
   "metadata": {},
   "outputs": [],
   "source": [
    "user_positively_interacted_with = ratings.groupby('user_id')['movie_id'].apply(set).to_dict()"
   ]
  },
  {
   "cell_type": "code",
   "execution_count": 22,
   "id": "febd0785",
   "metadata": {},
   "outputs": [],
   "source": [
    "assert len(user_positively_interacted_with[1]) == len(train_and_val[train_and_val.user_id == 1]) + 1"
   ]
  },
  {
   "cell_type": "code",
   "execution_count": 23,
   "id": "3c1cadf1",
   "metadata": {},
   "outputs": [],
   "source": [
    "item_count = ratings[\"movie_id\"].value_counts().to_dict()\n",
    "item_probabilities = {k: v / sum([x for x in item_count.values()]) for k, v in item_count.items()}"
   ]
  },
  {
   "cell_type": "code",
   "execution_count": 24,
   "id": "b8c1d34b",
   "metadata": {},
   "outputs": [
    {
     "data": {
      "text/plain": [
       "0.003427283697707179"
      ]
     },
     "execution_count": 24,
     "metadata": {},
     "output_type": "execute_result"
    }
   ],
   "source": [
    "item_probabilities[62]"
   ]
  },
  {
   "cell_type": "code",
   "execution_count": 25,
   "id": "36cd329c",
   "metadata": {},
   "outputs": [
    {
     "data": {
      "text/plain": [
       "0.00035592561154718663"
      ]
     },
     "execution_count": 25,
     "metadata": {},
     "output_type": "execute_result"
    }
   ],
   "source": [
    "item_probabilities[731]"
   ]
  },
  {
   "cell_type": "code",
   "execution_count": 26,
   "id": "09f0a05f",
   "metadata": {},
   "outputs": [
    {
     "data": {
      "text/plain": [
       "[(0, 52, 1),\n",
       " (0, 1068, 0),\n",
       " (0, 731, 0),\n",
       " (0, 1026, 0),\n",
       " (0, 314, 0),\n",
       " (0, 1148, 0),\n",
       " (0, 1008, 0),\n",
       " (0, 1030, 0),\n",
       " (0, 1513, 0),\n",
       " (0, 2575, 0)]"
      ]
     },
     "execution_count": 26,
     "metadata": {},
     "output_type": "execute_result"
    }
   ],
   "source": [
    "import numpy as np\n",
    "from numpy.random import choice\n",
    "\n",
    "negative_samples = dict()\n",
    "test_rows = []\n",
    "\n",
    "for _, row in test.iterrows():\n",
    "    test_interactions = [(row[\"user_id\"], row[\"movie_id\"], row[\"rating\"],)]\n",
    "    \n",
    "    np.random.seed(row[\"user_id\"])\n",
    "    negative_sampled_interactions = list(choice(list(item_probabilities.keys()), 800, replace=False, p=list(item_probabilities.values())))\n",
    "    negative_sampled_interactions = [x for x in negative_sampled_interactions if x not in user_positively_interacted_with[row[\"user_id\"]]]\n",
    "    negative_sampled_interactions = negative_sampled_interactions[:100]\n",
    "    \n",
    "    # потом, когда будем делать берт, будем ссылаться на сгенерированные здесь негативы:\n",
    "    negative_samples[row[\"user_id\"]] = negative_sampled_interactions\n",
    "\n",
    "    test_interactions.extend([(row[\"user_id\"], x, 0,) for x in negative_sampled_interactions])\n",
    "    \n",
    "    test_rows.extend(test_interactions)\n",
    "    \n",
    "test_rows[:10]"
   ]
  },
  {
   "cell_type": "code",
   "execution_count": 27,
   "id": "69c6cb15",
   "metadata": {},
   "outputs": [
    {
     "data": {
      "text/plain": [
       "[1068, 731, 1026, 314, 1148, 1008, 1030, 1513, 2575]"
      ]
     },
     "execution_count": 27,
     "metadata": {},
     "output_type": "execute_result"
    }
   ],
   "source": [
    "negative_samples[0][:9]"
   ]
  },
  {
   "cell_type": "code",
   "execution_count": 28,
   "id": "27b3282d",
   "metadata": {},
   "outputs": [
    {
     "data": {
      "text/html": [
       "<div>\n",
       "<style scoped>\n",
       "    .dataframe tbody tr th:only-of-type {\n",
       "        vertical-align: middle;\n",
       "    }\n",
       "\n",
       "    .dataframe tbody tr th {\n",
       "        vertical-align: top;\n",
       "    }\n",
       "\n",
       "    .dataframe thead th {\n",
       "        text-align: right;\n",
       "    }\n",
       "</style>\n",
       "<table border=\"1\" class=\"dataframe\">\n",
       "  <thead>\n",
       "    <tr style=\"text-align: right;\">\n",
       "      <th></th>\n",
       "      <th>user_id</th>\n",
       "      <th>movie_id</th>\n",
       "      <th>rating</th>\n",
       "    </tr>\n",
       "  </thead>\n",
       "  <tbody>\n",
       "    <tr>\n",
       "      <th>0</th>\n",
       "      <td>0</td>\n",
       "      <td>52</td>\n",
       "      <td>1</td>\n",
       "    </tr>\n",
       "    <tr>\n",
       "      <th>1</th>\n",
       "      <td>0</td>\n",
       "      <td>1068</td>\n",
       "      <td>0</td>\n",
       "    </tr>\n",
       "    <tr>\n",
       "      <th>2</th>\n",
       "      <td>0</td>\n",
       "      <td>731</td>\n",
       "      <td>0</td>\n",
       "    </tr>\n",
       "    <tr>\n",
       "      <th>3</th>\n",
       "      <td>0</td>\n",
       "      <td>1026</td>\n",
       "      <td>0</td>\n",
       "    </tr>\n",
       "    <tr>\n",
       "      <th>4</th>\n",
       "      <td>0</td>\n",
       "      <td>314</td>\n",
       "      <td>0</td>\n",
       "    </tr>\n",
       "    <tr>\n",
       "      <th>...</th>\n",
       "      <td>...</td>\n",
       "      <td>...</td>\n",
       "      <td>...</td>\n",
       "    </tr>\n",
       "    <tr>\n",
       "      <th>610035</th>\n",
       "      <td>6039</td>\n",
       "      <td>442</td>\n",
       "      <td>0</td>\n",
       "    </tr>\n",
       "    <tr>\n",
       "      <th>610036</th>\n",
       "      <td>6039</td>\n",
       "      <td>581</td>\n",
       "      <td>0</td>\n",
       "    </tr>\n",
       "    <tr>\n",
       "      <th>610037</th>\n",
       "      <td>6039</td>\n",
       "      <td>147</td>\n",
       "      <td>0</td>\n",
       "    </tr>\n",
       "    <tr>\n",
       "      <th>610038</th>\n",
       "      <td>6039</td>\n",
       "      <td>1327</td>\n",
       "      <td>0</td>\n",
       "    </tr>\n",
       "    <tr>\n",
       "      <th>610039</th>\n",
       "      <td>6039</td>\n",
       "      <td>73</td>\n",
       "      <td>0</td>\n",
       "    </tr>\n",
       "  </tbody>\n",
       "</table>\n",
       "<p>610040 rows × 3 columns</p>\n",
       "</div>"
      ],
      "text/plain": [
       "        user_id  movie_id  rating\n",
       "0             0        52       1\n",
       "1             0      1068       0\n",
       "2             0       731       0\n",
       "3             0      1026       0\n",
       "4             0       314       0\n",
       "...         ...       ...     ...\n",
       "610035     6039       442       0\n",
       "610036     6039       581       0\n",
       "610037     6039       147       0\n",
       "610038     6039      1327       0\n",
       "610039     6039        73       0\n",
       "\n",
       "[610040 rows x 3 columns]"
      ]
     },
     "execution_count": 28,
     "metadata": {},
     "output_type": "execute_result"
    }
   ],
   "source": [
    "neg_sampled_test = pd.DataFrame(test_rows, columns=[\"user_id\", \"movie_id\", \"rating\"])\n",
    "\n",
    "neg_sampled_test"
   ]
  },
  {
   "cell_type": "markdown",
   "id": "edd90e09",
   "metadata": {},
   "source": [
    "### random baseline:"
   ]
  },
  {
   "cell_type": "code",
   "execution_count": 29,
   "id": "ae8712af",
   "metadata": {},
   "outputs": [
    {
     "data": {
      "text/plain": [
       "(0.04438110400529842, 0.001780072420999918)"
      ]
     },
     "execution_count": 29,
     "metadata": {},
     "output_type": "execute_result"
    }
   ],
   "source": [
    "ndcgresults = []\n",
    "for i in range(10):\n",
    "    ndcg_value = calculate_grouped_ndcg_random(train_and_val, neg_sampled_test, 10, i)\n",
    "    \n",
    "    ndcgresults.append(ndcg_value)\n",
    "    \n",
    "np.mean(ndcgresults), np.std(ndcgresults)"
   ]
  },
  {
   "cell_type": "markdown",
   "id": "4e0db11f",
   "metadata": {},
   "source": [
    "### pop baseline:"
   ]
  },
  {
   "cell_type": "code",
   "execution_count": 30,
   "id": "cdc2843c",
   "metadata": {},
   "outputs": [
    {
     "data": {
      "text/plain": [
       "0.06391453558404456"
      ]
     },
     "execution_count": 30,
     "metadata": {},
     "output_type": "execute_result"
    }
   ],
   "source": [
    "calculate_grouped_ndcg_sum_popularity(train_and_val, neg_sampled_test, 10)"
   ]
  },
  {
   "cell_type": "markdown",
   "id": "f9b8a85f",
   "metadata": {},
   "source": [
    "### iALS baseline:"
   ]
  },
  {
   "cell_type": "code",
   "execution_count": 31,
   "id": "07d092c4",
   "metadata": {},
   "outputs": [],
   "source": [
    "import scipy.sparse as sparse\n",
    "\n",
    "\n",
    "def create_sparse_matrix(df: pd.DataFrame) -> sparse.csr_matrix:\n",
    "    \"\"\"\n",
    "    Делает разреженную матрицу из пандас датафрейма. Нужно для\n",
    "    обучения implicit.als.AlternatingLeastSquares.\n",
    "    Parameters\n",
    "        df (pd.DataFrame): датасет\n",
    "    Returns\n",
    "        csr (sparse.csr_matrix): разреженная матрица\n",
    "    \"\"\"\n",
    "    csr = sparse.csr_matrix((df.rating, (df.user_id, df.movie_id)))\n",
    "    return csr\n",
    "\n",
    "sparse_train_and_val = create_sparse_matrix(train_and_val)"
   ]
  },
  {
   "cell_type": "code",
   "execution_count": 32,
   "id": "c3549aed",
   "metadata": {},
   "outputs": [],
   "source": [
    "import implicit"
   ]
  },
  {
   "cell_type": "code",
   "execution_count": 33,
   "id": "9e4379b7",
   "metadata": {},
   "outputs": [
    {
     "name": "stderr",
     "output_type": "stream",
     "text": [
      "C:\\Users\\atama\\anaconda3\\envs\\conda_bert4rec\\lib\\site-packages\\implicit\\cpu\\als.py:95: RuntimeWarning: OpenBLAS is configured to use 8 threads. It is highly recommended to disable its internal threadpool by setting the environment variable 'OPENBLAS_NUM_THREADS=1' or by calling 'threadpoolctl.threadpool_limits(1, \"blas\")'. Having OpenBLAS use a threadpool can lead to severe performance issues here.\n",
      "  check_blas_config()\n"
     ]
    }
   ],
   "source": [
    "iALS = implicit.als.AlternatingLeastSquares(factors=100, iterations=150)"
   ]
  },
  {
   "cell_type": "code",
   "execution_count": 34,
   "id": "759b71c6",
   "metadata": {},
   "outputs": [
    {
     "data": {
      "application/vnd.jupyter.widget-view+json": {
       "model_id": "44db3f22a68c43b1ac87b6cdf0009d1c",
       "version_major": 2,
       "version_minor": 0
      },
      "text/plain": [
       "  0%|          | 0/150 [00:00<?, ?it/s]"
      ]
     },
     "metadata": {},
     "output_type": "display_data"
    }
   ],
   "source": [
    "iALS.fit(sparse_train_and_val)"
   ]
  },
  {
   "cell_type": "code",
   "execution_count": 36,
   "id": "c95c109d",
   "metadata": {},
   "outputs": [
    {
     "data": {
      "text/plain": [
       "0.22401902697663326"
      ]
     },
     "execution_count": 36,
     "metadata": {},
     "output_type": "execute_result"
    }
   ],
   "source": [
    "calculate_grouped_ndcg_with_embeddings(neg_sampled_test, iALS, 10)"
   ]
  },
  {
   "cell_type": "code",
   "execution_count": 37,
   "id": "21e94d53",
   "metadata": {},
   "outputs": [],
   "source": [
    "BPRMF = implicit.bpr.BayesianPersonalizedRanking(factors=60, iterations=125)"
   ]
  },
  {
   "cell_type": "code",
   "execution_count": 38,
   "id": "03617276",
   "metadata": {},
   "outputs": [
    {
     "data": {
      "application/vnd.jupyter.widget-view+json": {
       "model_id": "b097e2367075476cb194ca3edfc988c0",
       "version_major": 2,
       "version_minor": 0
      },
      "text/plain": [
       "  0%|          | 0/125 [00:00<?, ?it/s]"
      ]
     },
     "metadata": {},
     "output_type": "display_data"
    }
   ],
   "source": [
    "BPRMF.fit(sparse_train_and_val)"
   ]
  },
  {
   "cell_type": "code",
   "execution_count": 39,
   "id": "73cea776",
   "metadata": {},
   "outputs": [
    {
     "data": {
      "text/plain": [
       "0.26978218387643793"
      ]
     },
     "execution_count": 39,
     "metadata": {},
     "output_type": "execute_result"
    }
   ],
   "source": [
    "calculate_grouped_ndcg_with_embeddings(neg_sampled_test, BPRMF, 10)"
   ]
  },
  {
   "cell_type": "markdown",
   "id": "805e661a",
   "metadata": {},
   "source": [
    "# начинаем берт4рек:"
   ]
  },
  {
   "cell_type": "code",
   "execution_count": 44,
   "id": "22c8a9eb",
   "metadata": {},
   "outputs": [],
   "source": [
    "import argparse\n",
    "\n",
    "import pandas as pd\n",
    "import pickle\n",
    "import random\n",
    "import torch\n",
    "\n",
    "from tqdm import trange\n",
    "from collections import Counter\n",
    "\n",
    "import numpy as np\n",
    "from numpy.random import choice"
   ]
  },
  {
   "cell_type": "code",
   "execution_count": 45,
   "id": "11a4b42d",
   "metadata": {},
   "outputs": [],
   "source": [
    "# fix argparse in ipython\n",
    "import sys\n",
    "sys.argv = ['']"
   ]
  },
  {
   "cell_type": "code",
   "execution_count": 46,
   "id": "13f32614",
   "metadata": {},
   "outputs": [],
   "source": [
    "from bert4rec_modules_and_configs.utils import *\n",
    "from bert4rec_modules_and_configs.options import args"
   ]
  },
  {
   "cell_type": "code",
   "execution_count": 47,
   "id": "135ba84f",
   "metadata": {},
   "outputs": [],
   "source": [
    "# то что сохранили\n",
    "\n",
    "def read_data(prepared_data_path):\n",
    "    with open(prepared_data_path, 'rb') as handle:\n",
    "        dataset = pickle.load(handle)\n",
    "    return dataset"
   ]
  },
  {
   "cell_type": "code",
   "execution_count": 48,
   "id": "7f881ac5",
   "metadata": {},
   "outputs": [],
   "source": [
    "data = read_data(args.prepared_data_path)\n",
    "\n",
    "train_data = data['train']\n",
    "val_data = data['val']\n",
    "test_data = data['test']\n",
    "umap = data['umap']\n",
    "smap = data['smap']"
   ]
  },
  {
   "cell_type": "markdown",
   "id": "4d81742e",
   "metadata": {},
   "source": [
    "готовим трейн датасет и даталоадер:"
   ]
  },
  {
   "cell_type": "code",
   "execution_count": 49,
   "id": "e1b62f2e",
   "metadata": {},
   "outputs": [],
   "source": [
    "class BertTrainDataset(torch.utils.data.Dataset):\n",
    "    def __init__(self, u2seq, max_len, mask_prob, mask_token, num_items, rng):\n",
    "        self.u2seq = u2seq\n",
    "        self.users = sorted(self.u2seq.keys())  # дополнительный \"надежный\" (с заданным порядком) способ ходить по train_data, в отличие от хождения по train_data по ключу\n",
    "        self.max_len = max_len\n",
    "        self.mask_prob = mask_prob\n",
    "        print(\"self.mask_prob\", self.mask_prob)\n",
    "        self.mask_token = mask_token\n",
    "        print(\"self.mask_token\", self.mask_token)\n",
    "        self.num_items = num_items\n",
    "        self.rng = rng\n",
    "\n",
    "    def __len__(self):\n",
    "        return len(self.users)\n",
    "\n",
    "    def __getitem__(self, index):\n",
    "        user = self.users[index]\n",
    "        seq = self._getseq(user)\n",
    "\n",
    "        tokens = []\n",
    "        labels = []\n",
    "        for s in seq: # касательно каждого s заполняем токен и лейбл\n",
    "            prob = self.rng.random()  # сгенерили для конкретного s вероятность uniform, deterministic\n",
    "            if prob < self.mask_prob:  # если prob меньше self.mask_prob == 0.15: TLDR С ВЕРОЯТНОСТЬЮ 80% ЗАПОЛНИМ ТОКЕН МАСКТОКЕНОМ, А НЕ ЭТИМ ITEM INDEX\n",
    "                prob /= self.mask_prob  # то сильно бустим, затем...\n",
    "\n",
    "                # if prob < 0.8:\n",
    "                if prob < 0.99:\n",
    "                    tokens.append(self.mask_token)  # если оч слабо то заполняем токен масктокеном - который max(item !INDEX!) + 1 или self.item_count + 1\n",
    "                # if prob < 0.9:\n",
    "                elif prob < 0.999:\n",
    "                    tokens.append(self.rng.randint(1, self.num_items))  # если попал в маленькое окошко - то рандомно между 1 и self.item_count (== self.num_items) НАХУЯ?\n",
    "                else:\n",
    "                    tokens.append(s) # emergency(?) вариант, но лэйбл всё равно заполнится ненормальным значением - он заполнится ЭТИМ ITEM INDEX\n",
    "\n",
    "                labels.append(s)\n",
    "            else:\n",
    "                tokens.append(s)\n",
    "                labels.append(0)  # !!!ЭТО СТРАННО ВЕДЬ СУЩНОСТЬ S [0, MAX INDEX]!!!\n",
    "\n",
    "        # в итоге каждому s присвоится либо (s, 0) если не замаскирован, либо (mask_token<под вопросом>, s). окей, для чего? !!!ЭТО СТРАННО ВЕДЬ СУЩНОСТЬ S [0, MAX INDEX]!!!\n",
    "\n",
    "        # видимо max_len это не длина окна подпоследовательности из всей последовательности (если использование такой подпоследовательности ваще в этой реализации будет как-то фигурировать), а то, раньше чего мы 100% забываем\n",
    "        tokens = tokens[-self.max_len:]\n",
    "        labels = labels[-self.max_len:]\n",
    "        # был 140 - стал 100\n",
    "        # был 90 - стал 90\n",
    "\n",
    "        # тупа паддинг, если изначальный seq был меньше max_len\n",
    "        mask_len = self.max_len - len(tokens)\n",
    "\n",
    "        # прилепляем нули слева. почему нули???? !!!ЭТО СТРАННО ВЕДЬ СУЩНОСТЬ S [0, MAX INDEX]!!!\n",
    "        tokens = [0] * mask_len + tokens\n",
    "        labels = [0] * mask_len + labels\n",
    "\n",
    "        # лол ща попробуем маскировать с 10% вероятностью последний айтем\n",
    "        prob = self.rng.random()\n",
    "        if prob < 0.1:\n",
    "            tokens[-1] = self.mask_token\n",
    "            labels[-1] = seq[-1]\n",
    "\n",
    "        # в итоге каждому s присвоится либо (s, 0) если не замаскирован, либо (mask_token<под вопросом><уже не под вопросом>, s) + в начале будут прилеплены нули, если не дотягивает до max_len, или иначе обрублено [-max_len:]. окей, для чего? !!!ЭТО СТРАННО ВЕДЬ СУЩНОСТЬ S [0, MAX INDEX]!!!\n",
    "        # tokens    0   0   0   2969, 1574,   957,    1178,   <3707>, 1658,   <3707>, 1117\n",
    "        # labels    0   0   0   0     0       0       0       2147    0       3177    0\n",
    "        return torch.LongTensor(tokens), torch.LongTensor(labels)\n",
    "\n",
    "        # КАК ЕЩЁ ЧАСТО ДЕЛАЕТСЯ И КАК ДЕЛАЛОСЬ В СТАТЬЕ: БЕРЕТСЯ СЛУЧАЙНО 10% ЮЗЕРСКИХ ПОСЛЕДОВАТЕЛЬНОСТЕЙ ИЗ ТРЕЙНА И ДЛЯ НИХ ТОЛЬКО ПОСЛЕДНИЙ ТОКЕН ЗАМЕНЯЕТСЯ МАСКОЙ. мы так не делаем, в представленной реализации которую я разбираю такого случайного выбора 10% из трейна (для навешивания маски только на конец) нет.\n",
    "        # теперь я тоже так делаю\n",
    "        \n",
    "    def _getseq(self, user):\n",
    "        return self.u2seq[user]"
   ]
  },
  {
   "cell_type": "code",
   "execution_count": 50,
   "id": "6cdd1d06",
   "metadata": {},
   "outputs": [
    {
     "name": "stdout",
     "output_type": "stream",
     "text": [
      "self.mask_prob 0.15\n",
      "self.mask_token 3707\n"
     ]
    }
   ],
   "source": [
    "train_torch_dataset = BertTrainDataset(\n",
    "    u2seq=      train_data,\n",
    "    max_len=    args.bert_max_len,\n",
    "    mask_prob=  args.bert_mask_prob,\n",
    "    mask_token= len(smap) + 1,\n",
    "    num_items=  len(smap),\n",
    "    rng=        random.Random(args.dataloader_random_seed)\n",
    ")"
   ]
  },
  {
   "cell_type": "code",
   "execution_count": 51,
   "id": "f4d452c5",
   "metadata": {},
   "outputs": [],
   "source": [
    "train_torch_dataloader = torch.utils.data.DataLoader(\n",
    "    dataset=train_torch_dataset,\n",
    "    batch_size=args.train_batch_size,\n",
    "    shuffle=True,\n",
    "    pin_memory=True\n",
    ")"
   ]
  },
  {
   "cell_type": "code",
   "execution_count": 52,
   "id": "c81e44ef",
   "metadata": {},
   "outputs": [],
   "source": [
    "# <показать здесь что получится для такого-то юзера>"
   ]
  },
  {
   "cell_type": "markdown",
   "id": "13a617c4",
   "metadata": {},
   "source": [
    "готовим валидационные и тестовые датасет и даталоадер:"
   ]
  },
  {
   "cell_type": "markdown",
   "id": "a7321e13",
   "metadata": {},
   "source": [
    "прежде чем сделать эти датасеты, сгенерируем негативы для юзеров, чтобы у них был не только один true positive на отложенной выборке, а ещё сотня негативов - тогда сможем замерить валидац метрики. семплируем по популярности (согласно статье)"
   ]
  },
  {
   "cell_type": "code",
   "execution_count": 53,
   "id": "943a22a7",
   "metadata": {},
   "outputs": [
    {
     "name": "stdout",
     "output_type": "stream",
     "text": [
      "CHECK\n",
      "[1068, 731, 1026, 314, 1148, 1008, 1030, 1513, 2575]\n"
     ]
    }
   ],
   "source": [
    "# popularity = Counter()\n",
    "# for user in range(len(umap)):\n",
    "#     popularity.update(train_data[user])\n",
    "#     popularity.update(val_data[user])\n",
    "#     popularity.update(test_data[user])\n",
    "# item_probabilities = {k: v / sum([x for x in popularity.values()]) for k, v in popularity.items()}\n",
    "\n",
    "# print(\"PROB CHECK\")\n",
    "# print(item_probabilities[62])\n",
    "# print(item_probabilities[731])\n",
    "\n",
    "# negative_samples = {}\n",
    "# print('Sampling negative items')\n",
    "# for user in trange(len(umap)):\n",
    "#     seen = set(train_data[user])\n",
    "#     seen.update(val_data[user])\n",
    "#     seen.update(test_data[user])\n",
    "\n",
    "#     np.random.seed(user)\n",
    "\n",
    "#     negative_sampled_interactions = list(choice(list(item_probabilities.keys()), 800, replace=False, p=list(item_probabilities.values())))\n",
    "#     negative_sampled_interactions = [x for x in negative_sampled_interactions if x not in seen]\n",
    "#     negative_sampled_interactions = negative_sampled_interactions[:100]\n",
    "\n",
    "#     negative_samples[user] = negative_sampled_interactions\n",
    "###\n",
    "\n",
    "# взяли negative_samples, сделанные на этапе построения бейзлайнов, для 100% идентичности замера ndcg@10.\n",
    "\n",
    "print(\"CHECK\")\n",
    "print(negative_samples[0][:9])"
   ]
  },
  {
   "cell_type": "code",
   "execution_count": 54,
   "id": "e7614938",
   "metadata": {},
   "outputs": [],
   "source": [
    "class BertEvalDataset(torch.utils.data.Dataset):\n",
    "    def __init__(self, u2seq, u2answer, max_len, mask_token, negative_samples):\n",
    "        self.u2seq = u2seq\n",
    "        self.users = sorted(self.u2seq.keys()) # дополнительный \"надежный\" (с заданным порядком) способ ходить по train_data, в отличие от хождения по train_data по ключу\n",
    "        self.u2answer = u2answer\n",
    "        self.max_len = max_len\n",
    "        self.mask_token = mask_token\n",
    "        self.negative_samples = negative_samples\n",
    "\n",
    "    def __len__(self):\n",
    "        return len(self.users)\n",
    "\n",
    "    def __getitem__(self, index):\n",
    "        user = self.users[index]\n",
    "        seq = self.u2seq[user]\n",
    "        answer = self.u2answer[user]\n",
    "        negs = self.negative_samples[user]\n",
    "\n",
    "        candidates = answer + negs  # ну понятно, [228] + [142, 1488, 0, ...]\n",
    "        labels = [1] * len(answer) + [0] * len(negs)  # сказали что первое позитив, остальное негативы\n",
    "\n",
    "        seq = seq + [self.mask_token]  # прилепили <3707> в конец. теперь хорошо обученная модель сможет угадать его label\n",
    "\n",
    "        seq = seq[-self.max_len:]  # эти три строки - всё так же как в трейне\n",
    "        padding_len = self.max_len - len(seq)\n",
    "        seq = [0] * padding_len + seq\n",
    "\n",
    "        return torch.LongTensor(seq), torch.LongTensor(candidates), torch.LongTensor(labels)\n",
    "        # например:\n",
    "        # seq (в сущности как tokens в трейне)  0   0   2969,   1574,   957,    1178,   2147,   1658,   3177,   1117, <3707>\n",
    "        #\n",
    "        # candidates: [индекс айтема реального позитива; сгенерированные негативы]\n",
    "        # labels:     [1, 0, 0, 0, 0, ...]"
   ]
  },
  {
   "cell_type": "code",
   "execution_count": 55,
   "id": "e2dcb75d",
   "metadata": {},
   "outputs": [],
   "source": [
    "val_torch_dataset = BertEvalDataset(\n",
    "    u2seq=              train_data,\n",
    "    u2answer=           val_data,\n",
    "    max_len=            args.bert_max_len,\n",
    "    mask_token=         len(smap) + 1,\n",
    "    negative_samples=   negative_samples\n",
    ")"
   ]
  },
  {
   "cell_type": "code",
   "execution_count": 56,
   "id": "b65bc603",
   "metadata": {},
   "outputs": [],
   "source": [
    "val_torch_dataloader = torch.utils.data.DataLoader(val_torch_dataset, batch_size=args.val_batch_size,\n",
    "                                       shuffle=False, pin_memory=True)"
   ]
  },
  {
   "cell_type": "code",
   "execution_count": 57,
   "id": "3dcff7d5",
   "metadata": {},
   "outputs": [],
   "source": [
    "test_torch_dataset = BertEvalDataset(\n",
    "        u2seq=              train_data,\n",
    "        u2answer=           test_data,\n",
    "        max_len=            args.bert_max_len,\n",
    "        mask_token=         len(smap) + 1,\n",
    "        negative_samples=   negative_samples\n",
    "    )"
   ]
  },
  {
   "cell_type": "code",
   "execution_count": 58,
   "id": "2869ce91",
   "metadata": {},
   "outputs": [],
   "source": [
    "test_torch_dataloader = torch.utils.data.DataLoader(test_torch_dataset, batch_size=args.test_batch_size,\n",
    "                                                       shuffle=False, pin_memory=True)"
   ]
  },
  {
   "cell_type": "code",
   "execution_count": 59,
   "id": "3de51fae",
   "metadata": {},
   "outputs": [],
   "source": [
    "args.num_items = len(smap)"
   ]
  },
  {
   "cell_type": "markdown",
   "id": "bc960218",
   "metadata": {},
   "source": [
    "описываем модель:"
   ]
  },
  {
   "cell_type": "code",
   "execution_count": 62,
   "id": "25ce4475",
   "metadata": {},
   "outputs": [],
   "source": [
    "from bert4rec_modules_and_configs.models.bert import BERTModel"
   ]
  },
  {
   "cell_type": "code",
   "execution_count": 63,
   "id": "3ea4ffa3",
   "metadata": {},
   "outputs": [],
   "source": [
    "model = BERTModel(args)"
   ]
  },
  {
   "cell_type": "code",
   "execution_count": 64,
   "id": "40f56707",
   "metadata": {},
   "outputs": [
    {
     "name": "stdout",
     "output_type": "stream",
     "text": [
      "torch.Size([128, 100])\n",
      "torch.Size([1, 100])\n",
      "torch.Size([1, 100, 3707])\n"
     ]
    }
   ],
   "source": [
    "some_batch = next(iter(train_torch_dataloader))\n",
    "seq, _ = some_batch\n",
    "print(seq.shape)\n",
    "print(seq[0, ...].unsqueeze(0).shape)\n",
    "print(model(seq[0, ...].unsqueeze(0)).shape)"
   ]
  },
  {
   "cell_type": "code",
   "execution_count": 67,
   "id": "fc3c8db3",
   "metadata": {
    "scrolled": true
   },
   "outputs": [],
   "source": [
    "from bert4rec_modules_and_configs.trainers import trainer_factory"
   ]
  },
  {
   "cell_type": "code",
   "execution_count": 68,
   "id": "38afa007",
   "metadata": {},
   "outputs": [
    {
     "name": "stdout",
     "output_type": "stream",
     "text": [
      "Folder created: C:\\Users\\atama\\Documents\\GitHub\\bert4rec_ysda_seminar\\seminar\\experiments\\test_2024-03-09_0\n",
      "experiments\\test_2024-03-09_0\n",
      "experiments\\test_2024-03-09_0\\config.json\n",
      "\n",
      "Namespace(mode='train', template=None, test_model_path=None, dataset_code='ml-1m', min_rating=0, min_uc=5, min_sc=0, split='leave_one_out', dataset_split_seed=98765, eval_set_size=500, prepared_data_path='prepared_dataset/dataset_for_bert4rec.pickle', dataloader_code='bert', dataloader_random_seed=0.0, train_batch_size=128, val_batch_size=128, test_batch_size=128, train_negative_sampler_code='random', train_negative_sample_size=0, train_negative_sampling_seed=0, test_negative_sampler_code='popular', test_negative_sample_size=100, test_negative_sampling_seed=98765, trainer_code='bert', device='cuda', num_gpu=1, device_idx='0', optimizer='Adam', lr=0.001, weight_decay=0, momentum=None, decay_step=25, gamma=1.0, num_epochs=100, log_period_as_iter=12800, metric_ks=[1, 5, 10, 20, 50, 100], best_metric='NDCG@10', find_best_beta=False, total_anneal_steps=2000, anneal_cap=0.2, model_code='bert', model_init_seed=0, bert_max_len=100, bert_num_items=None, bert_hidden_units=256, bert_num_blocks=2, bert_num_heads=4, bert_dropout=0.1, bert_mask_prob=0.15, dae_num_items=None, dae_num_hidden=0, dae_hidden_dim=600, dae_latent_dim=200, dae_dropout=0.5, vae_num_items=None, vae_num_hidden=0, vae_hidden_dim=600, vae_latent_dim=200, vae_dropout=0.5, experiment_dir='experiments', experiment_description='test', enable_lr_schedule=True, num_items=3706)\n",
      "\n",
      "{'mode': 'train', 'template': None, 'test_model_path': None, 'dataset_code': 'ml-1m', 'min_rating': 0, 'min_uc': 5, 'min_sc': 0, 'split': 'leave_one_out', 'dataset_split_seed': 98765, 'eval_set_size': 500, 'prepared_data_path': 'prepared_dataset/dataset_for_bert4rec.pickle', 'dataloader_code': 'bert', 'dataloader_random_seed': 0.0, 'train_batch_size': 128, 'val_batch_size': 128, 'test_batch_size': 128, 'train_negative_sampler_code': 'random', 'train_negative_sample_size': 0, 'train_negative_sampling_seed': 0, 'test_negative_sampler_code': 'popular', 'test_negative_sample_size': 100, 'test_negative_sampling_seed': 98765, 'trainer_code': 'bert', 'device': 'cuda', 'num_gpu': 1, 'device_idx': '0', 'optimizer': 'Adam', 'lr': 0.001, 'weight_decay': 0, 'momentum': None, 'decay_step': 25, 'gamma': 1.0, 'num_epochs': 100, 'log_period_as_iter': 12800, 'metric_ks': [1, 5, 10, 20, 50, 100], 'best_metric': 'NDCG@10', 'find_best_beta': False, 'total_anneal_steps': 2000, 'anneal_cap': 0.2, 'model_code': 'bert', 'model_init_seed': 0, 'bert_max_len': 100, 'bert_num_items': None, 'bert_hidden_units': 256, 'bert_num_blocks': 2, 'bert_num_heads': 4, 'bert_dropout': 0.1, 'bert_mask_prob': 0.15, 'dae_num_items': None, 'dae_num_hidden': 0, 'dae_hidden_dim': 600, 'dae_latent_dim': 200, 'dae_dropout': 0.5, 'vae_num_items': None, 'vae_num_hidden': 0, 'vae_hidden_dim': 600, 'vae_latent_dim': 200, 'vae_dropout': 0.5, 'experiment_dir': 'experiments', 'experiment_description': 'test', 'enable_lr_schedule': True, 'num_items': 3706}\n",
      "{'anneal_cap': 0.2,\n",
      " 'bert_dropout': 0.1,\n",
      " 'bert_hidden_units': 256,\n",
      " 'bert_mask_prob': 0.15,\n",
      " 'bert_max_len': 100,\n",
      " 'bert_num_blocks': 2,\n",
      " 'bert_num_heads': 4,\n",
      " 'best_metric': 'NDCG@10',\n",
      " 'dae_dropout': 0.5,\n",
      " 'dae_hidden_dim': 600,\n",
      " 'dae_latent_dim': 200,\n",
      " 'dae_num_hidden': 0,\n",
      " 'dataloader_code': 'bert',\n",
      " 'dataloader_random_seed': 0.0,\n",
      " 'dataset_code': 'ml-1m',\n",
      " 'dataset_split_seed': 98765,\n",
      " 'decay_step': 25,\n",
      " 'device': 'cuda',\n",
      " 'device_idx': '0',\n",
      " 'enable_lr_schedule': True,\n",
      " 'eval_set_size': 500,\n",
      " 'experiment_description': 'test',\n",
      " 'experiment_dir': 'experiments',\n",
      " 'find_best_beta': False,\n",
      " 'gamma': 1.0,\n",
      " 'log_period_as_iter': 12800,\n",
      " 'lr': 0.001,\n",
      " 'metric_ks': [1,\n",
      "               5,\n",
      "               10,\n",
      "               20,\n",
      "               50,\n",
      "               100],\n",
      " 'min_rating': 0,\n",
      " 'min_sc': 0,\n",
      " 'min_uc': 5,\n",
      " 'mode': 'train',\n",
      " 'model_code': 'bert',\n",
      " 'model_init_seed': 0,\n",
      " 'num_epochs': 100,\n",
      " 'num_gpu': 1,\n",
      " 'num_items': 3706,\n",
      " 'optimizer': 'Adam',\n",
      " 'prepared_data_path': 'prepared_dataset/dataset_for_bert4rec.pickle',\n",
      " 'split': 'leave_one_out',\n",
      " 'test_batch_size': 128,\n",
      " 'test_negative_sample_size': 100,\n",
      " 'test_negative_sampler_code': 'popular',\n",
      " 'test_negative_sampling_seed': 98765,\n",
      " 'total_anneal_steps': 2000,\n",
      " 'train_batch_size': 128,\n",
      " 'train_negative_sample_size': 0,\n",
      " 'train_negative_sampler_code': 'random',\n",
      " 'train_negative_sampling_seed': 0,\n",
      " 'trainer_code': 'bert',\n",
      " 'vae_dropout': 0.5,\n",
      " 'vae_hidden_dim': 600,\n",
      " 'vae_latent_dim': 200,\n",
      " 'vae_num_hidden': 0,\n",
      " 'val_batch_size': 128,\n",
      " 'weight_decay': 0}\n"
     ]
    }
   ],
   "source": [
    "export_root = setup_train(args)\n",
    "\n",
    "trainer = trainer_factory(args, model, train_torch_dataloader, val_torch_dataloader, test_torch_dataloader, export_root)"
   ]
  },
  {
   "cell_type": "code",
   "execution_count": 69,
   "id": "f4076eb9",
   "metadata": {
    "scrolled": true
   },
   "outputs": [
    {
     "name": "stderr",
     "output_type": "stream",
     "text": [
      "Val: N@1 0.007, N@5 0.028, N@10 0.045, R@1 0.007, R@5 0.050, R@10 0.102: 100%|██████████| 48/48 [00:04<00:00, 10.12it/s]\n",
      "C:\\Users\\atama\\anaconda3\\envs\\conda_bert4rec\\lib\\site-packages\\torch\\optim\\lr_scheduler.py:138: UserWarning: Detected call of `lr_scheduler.step()` before `optimizer.step()`. In PyTorch 1.1.0 and later, you should call them in the opposite order: `optimizer.step()` before `lr_scheduler.step()`.  Failure to do this will result in PyTorch skipping the first value of the learning rate schedule. See more details at https://pytorch.org/docs/stable/optim.html#how-to-adjust-learning-rate\n",
      "  warnings.warn(\"Detected call of `lr_scheduler.step()` before `optimizer.step()`. \"\n"
     ]
    },
    {
     "name": "stdout",
     "output_type": "stream",
     "text": [
      "Update Best NDCG@10 Model at 1\n"
     ]
    },
    {
     "name": "stderr",
     "output_type": "stream",
     "text": [
      "Epoch 1, loss 7.838 : 100%|██████████| 48/48 [00:02<00:00, 18.27it/s]\n",
      "Val: N@1 0.019, N@5 0.049, N@10 0.072, R@1 0.019, R@5 0.081, R@10 0.154: 100%|██████████| 48/48 [00:02<00:00, 21.35it/s]\n"
     ]
    },
    {
     "name": "stdout",
     "output_type": "stream",
     "text": [
      "Update Best NDCG@10 Model at 1\n"
     ]
    },
    {
     "name": "stderr",
     "output_type": "stream",
     "text": [
      "Epoch 2, loss 7.517 : 100%|██████████| 48/48 [00:02<00:00, 18.48it/s]\n",
      "Val: N@1 0.023, N@5 0.064, N@10 0.086, R@1 0.023, R@5 0.104, R@10 0.175: 100%|██████████| 48/48 [00:02<00:00, 21.41it/s]\n"
     ]
    },
    {
     "name": "stdout",
     "output_type": "stream",
     "text": [
      "Update Best NDCG@10 Model at 2\n"
     ]
    },
    {
     "name": "stderr",
     "output_type": "stream",
     "text": [
      "Epoch 3, loss 7.356 : 100%|██████████| 48/48 [00:02<00:00, 17.95it/s] \n",
      "Val: N@1 0.046, N@5 0.098, N@10 0.130, R@1 0.046, R@5 0.151, R@10 0.251: 100%|██████████| 48/48 [00:02<00:00, 20.67it/s]\n"
     ]
    },
    {
     "name": "stdout",
     "output_type": "stream",
     "text": [
      "Update Best NDCG@10 Model at 3\n"
     ]
    },
    {
     "name": "stderr",
     "output_type": "stream",
     "text": [
      "Epoch 4, loss 7.177 : 100%|██████████| 48/48 [00:02<00:00, 17.96it/s]\n",
      "Val: N@1 0.055, N@5 0.134, N@10 0.175, R@1 0.055, R@5 0.214, R@10 0.341: 100%|██████████| 48/48 [00:02<00:00, 20.33it/s]\n"
     ]
    },
    {
     "name": "stdout",
     "output_type": "stream",
     "text": [
      "Update Best NDCG@10 Model at 4\n"
     ]
    },
    {
     "name": "stderr",
     "output_type": "stream",
     "text": [
      "Epoch 5, loss 6.988 : 100%|██████████| 48/48 [00:02<00:00, 17.57it/s]  \n",
      "Val: N@1 0.075, N@5 0.163, N@10 0.202, R@1 0.075, R@5 0.249, R@10 0.374: 100%|██████████| 48/48 [00:02<00:00, 21.01it/s]\n"
     ]
    },
    {
     "name": "stdout",
     "output_type": "stream",
     "text": [
      "Update Best NDCG@10 Model at 5\n"
     ]
    },
    {
     "name": "stderr",
     "output_type": "stream",
     "text": [
      "Epoch 6, loss 6.830 : 100%|██████████| 48/48 [00:02<00:00, 16.72it/s]\n",
      "Val: N@1 0.094, N@5 0.192, N@10 0.239, R@1 0.094, R@5 0.290, R@10 0.434: 100%|██████████| 48/48 [00:02<00:00, 19.54it/s]\n"
     ]
    },
    {
     "name": "stdout",
     "output_type": "stream",
     "text": [
      "Update Best NDCG@10 Model at 6\n"
     ]
    },
    {
     "name": "stderr",
     "output_type": "stream",
     "text": [
      "Epoch 7, loss 6.685 : 100%|██████████| 48/48 [00:02<00:00, 17.93it/s]  \n",
      "Val: N@1 0.125, N@5 0.236, N@10 0.284, R@1 0.125, R@5 0.342, R@10 0.490: 100%|██████████| 48/48 [00:02<00:00, 20.92it/s]\n"
     ]
    },
    {
     "name": "stdout",
     "output_type": "stream",
     "text": [
      "Update Best NDCG@10 Model at 7\n"
     ]
    },
    {
     "name": "stderr",
     "output_type": "stream",
     "text": [
      "Epoch 8, loss 6.538 : 100%|██████████| 48/48 [00:02<00:00, 17.82it/s]\n",
      "Val: N@1 0.128, N@5 0.255, N@10 0.303, R@1 0.128, R@5 0.375, R@10 0.523: 100%|██████████| 48/48 [00:02<00:00, 20.65it/s]\n"
     ]
    },
    {
     "name": "stdout",
     "output_type": "stream",
     "text": [
      "Update Best NDCG@10 Model at 8\n"
     ]
    },
    {
     "name": "stderr",
     "output_type": "stream",
     "text": [
      "Epoch 9, loss 6.449 : 100%|██████████| 48/48 [00:02<00:00, 18.23it/s]  \n",
      "Val: N@1 0.134, N@5 0.265, N@10 0.309, R@1 0.134, R@5 0.388, R@10 0.523: 100%|██████████| 48/48 [00:02<00:00, 20.72it/s]\n"
     ]
    },
    {
     "name": "stdout",
     "output_type": "stream",
     "text": [
      "Update Best NDCG@10 Model at 9\n"
     ]
    },
    {
     "name": "stderr",
     "output_type": "stream",
     "text": [
      "Epoch 10, loss 6.363 : 100%|██████████| 48/48 [00:02<00:00, 18.08it/s]\n",
      "Val: N@1 0.151, N@5 0.280, N@10 0.326, R@1 0.151, R@5 0.401, R@10 0.544: 100%|██████████| 48/48 [00:02<00:00, 20.95it/s]\n"
     ]
    },
    {
     "name": "stdout",
     "output_type": "stream",
     "text": [
      "Update Best NDCG@10 Model at 10\n"
     ]
    },
    {
     "name": "stderr",
     "output_type": "stream",
     "text": [
      "Epoch 11, loss 6.279 : 100%|██████████| 48/48 [00:02<00:00, 18.03it/s] \n",
      "Val: N@1 0.164, N@5 0.300, N@10 0.346, R@1 0.164, R@5 0.429, R@10 0.572: 100%|██████████| 48/48 [00:02<00:00, 19.81it/s]\n"
     ]
    },
    {
     "name": "stdout",
     "output_type": "stream",
     "text": [
      "Update Best NDCG@10 Model at 11\n"
     ]
    },
    {
     "name": "stderr",
     "output_type": "stream",
     "text": [
      "Epoch 12, loss 6.201 : 100%|██████████| 48/48 [00:02<00:00, 18.52it/s]\n",
      "Val: N@1 0.176, N@5 0.318, N@10 0.361, R@1 0.176, R@5 0.453, R@10 0.586: 100%|██████████| 48/48 [00:02<00:00, 20.35it/s]\n"
     ]
    },
    {
     "name": "stdout",
     "output_type": "stream",
     "text": [
      "Update Best NDCG@10 Model at 12\n"
     ]
    },
    {
     "name": "stderr",
     "output_type": "stream",
     "text": [
      "Epoch 13, loss 6.156 : 100%|██████████| 48/48 [00:02<00:00, 18.33it/s] \n",
      "Val: N@1 0.173, N@5 0.317, N@10 0.359, R@1 0.173, R@5 0.453, R@10 0.584: 100%|██████████| 48/48 [00:02<00:00, 20.64it/s]\n",
      "Epoch 14, loss 6.091 : 100%|██████████| 48/48 [00:02<00:00, 18.29it/s]\n",
      "Val: N@1 0.185, N@5 0.328, N@10 0.372, R@1 0.185, R@5 0.463, R@10 0.596: 100%|██████████| 48/48 [00:02<00:00, 20.69it/s]\n"
     ]
    },
    {
     "name": "stdout",
     "output_type": "stream",
     "text": [
      "Update Best NDCG@10 Model at 14\n"
     ]
    },
    {
     "name": "stderr",
     "output_type": "stream",
     "text": [
      "Epoch 15, loss 6.029 : 100%|██████████| 48/48 [00:02<00:00, 18.58it/s] \n",
      "Val: N@1 0.185, N@5 0.329, N@10 0.374, R@1 0.185, R@5 0.463, R@10 0.601: 100%|██████████| 48/48 [00:02<00:00, 21.00it/s]\n"
     ]
    },
    {
     "name": "stdout",
     "output_type": "stream",
     "text": [
      "Update Best NDCG@10 Model at 15\n"
     ]
    },
    {
     "name": "stderr",
     "output_type": "stream",
     "text": [
      "Epoch 16, loss 5.998 : 100%|██████████| 48/48 [00:02<00:00, 18.27it/s]\n",
      "Val: N@1 0.196, N@5 0.337, N@10 0.380, R@1 0.196, R@5 0.466, R@10 0.598: 100%|██████████| 48/48 [00:02<00:00, 20.97it/s]\n"
     ]
    },
    {
     "name": "stdout",
     "output_type": "stream",
     "text": [
      "Update Best NDCG@10 Model at 16\n"
     ]
    },
    {
     "name": "stderr",
     "output_type": "stream",
     "text": [
      "Epoch 17, loss 5.943 : 100%|██████████| 48/48 [00:02<00:00, 18.54it/s] \n",
      "Val: N@1 0.190, N@5 0.330, N@10 0.374, R@1 0.190, R@5 0.460, R@10 0.593: 100%|██████████| 48/48 [00:02<00:00, 20.70it/s]\n",
      "Epoch 18, loss 5.911 : 100%|██████████| 48/48 [00:02<00:00, 18.50it/s]\n",
      "Val: N@1 0.200, N@5 0.350, N@10 0.391, R@1 0.200, R@5 0.488, R@10 0.614: 100%|██████████| 48/48 [00:02<00:00, 21.08it/s]\n"
     ]
    },
    {
     "name": "stdout",
     "output_type": "stream",
     "text": [
      "Update Best NDCG@10 Model at 18\n"
     ]
    },
    {
     "name": "stderr",
     "output_type": "stream",
     "text": [
      "Epoch 19, loss 5.866 : 100%|██████████| 48/48 [00:02<00:00, 18.43it/s]\n",
      "Val: N@1 0.204, N@5 0.350, N@10 0.394, R@1 0.204, R@5 0.486, R@10 0.620: 100%|██████████| 48/48 [00:02<00:00, 20.48it/s]\n"
     ]
    },
    {
     "name": "stdout",
     "output_type": "stream",
     "text": [
      "Update Best NDCG@10 Model at 19\n"
     ]
    },
    {
     "name": "stderr",
     "output_type": "stream",
     "text": [
      "Epoch 20, loss 5.836 : 100%|██████████| 48/48 [00:02<00:00, 18.42it/s]\n",
      "Val: N@1 0.208, N@5 0.351, N@10 0.396, R@1 0.208, R@5 0.482, R@10 0.621: 100%|██████████| 48/48 [00:02<00:00, 20.66it/s]\n"
     ]
    },
    {
     "name": "stdout",
     "output_type": "stream",
     "text": [
      "Update Best NDCG@10 Model at 20\n"
     ]
    },
    {
     "name": "stderr",
     "output_type": "stream",
     "text": [
      "Epoch 21, loss 5.814 : 100%|██████████| 48/48 [00:02<00:00, 18.34it/s]\n",
      "Val: N@1 0.217, N@5 0.360, N@10 0.405, R@1 0.217, R@5 0.492, R@10 0.631: 100%|██████████| 48/48 [00:02<00:00, 20.89it/s]\n"
     ]
    },
    {
     "name": "stdout",
     "output_type": "stream",
     "text": [
      "Update Best NDCG@10 Model at 21\n"
     ]
    },
    {
     "name": "stderr",
     "output_type": "stream",
     "text": [
      "Epoch 22, loss 5.780 : 100%|██████████| 48/48 [00:02<00:00, 18.66it/s] \n",
      "Val: N@1 0.216, N@5 0.363, N@10 0.405, R@1 0.216, R@5 0.499, R@10 0.629: 100%|██████████| 48/48 [00:02<00:00, 20.67it/s]\n",
      "Epoch 23, loss 5.765 : 100%|██████████| 48/48 [00:02<00:00, 18.57it/s]\n",
      "Val: N@1 0.224, N@5 0.369, N@10 0.412, R@1 0.224, R@5 0.506, R@10 0.639: 100%|██████████| 48/48 [00:02<00:00, 20.74it/s]\n"
     ]
    },
    {
     "name": "stdout",
     "output_type": "stream",
     "text": [
      "Update Best NDCG@10 Model at 23\n"
     ]
    },
    {
     "name": "stderr",
     "output_type": "stream",
     "text": [
      "Epoch 24, loss 5.712 : 100%|██████████| 48/48 [00:02<00:00, 18.45it/s] \n",
      "Val: N@1 0.232, N@5 0.375, N@10 0.418, R@1 0.232, R@5 0.507, R@10 0.640: 100%|██████████| 48/48 [00:02<00:00, 20.74it/s]\n"
     ]
    },
    {
     "name": "stdout",
     "output_type": "stream",
     "text": [
      "Update Best NDCG@10 Model at 24\n"
     ]
    },
    {
     "name": "stderr",
     "output_type": "stream",
     "text": [
      "Epoch 25, loss 5.699 : 100%|██████████| 48/48 [00:02<00:00, 18.52it/s]\n",
      "Val: N@1 0.225, N@5 0.371, N@10 0.415, R@1 0.225, R@5 0.505, R@10 0.641: 100%|██████████| 48/48 [00:02<00:00, 20.59it/s]\n",
      "Epoch 26, loss 5.677 : 100%|██████████| 48/48 [00:02<00:00, 18.56it/s] \n",
      "Val: N@1 0.236, N@5 0.388, N@10 0.429, R@1 0.236, R@5 0.529, R@10 0.654: 100%|██████████| 48/48 [00:02<00:00, 20.73it/s]\n"
     ]
    },
    {
     "name": "stdout",
     "output_type": "stream",
     "text": [
      "Update Best NDCG@10 Model at 26\n"
     ]
    },
    {
     "name": "stderr",
     "output_type": "stream",
     "text": [
      "Epoch 27, loss 5.651 : 100%|██████████| 48/48 [00:02<00:00, 18.55it/s]\n",
      "Val: N@1 0.230, N@5 0.379, N@10 0.421, R@1 0.230, R@5 0.517, R@10 0.647: 100%|██████████| 48/48 [00:02<00:00, 20.48it/s]\n",
      "Epoch 28, loss 5.624 : 100%|██████████| 48/48 [00:02<00:00, 18.55it/s] \n",
      "Val: N@1 0.236, N@5 0.383, N@10 0.426, R@1 0.236, R@5 0.519, R@10 0.651: 100%|██████████| 48/48 [00:02<00:00, 20.85it/s]\n",
      "Epoch 29, loss 5.616 : 100%|██████████| 48/48 [00:02<00:00, 18.57it/s]\n",
      "Val: N@1 0.241, N@5 0.392, N@10 0.432, R@1 0.241, R@5 0.531, R@10 0.654: 100%|██████████| 48/48 [00:02<00:00, 20.70it/s]\n"
     ]
    },
    {
     "name": "stdout",
     "output_type": "stream",
     "text": [
      "Update Best NDCG@10 Model at 29\n"
     ]
    },
    {
     "name": "stderr",
     "output_type": "stream",
     "text": [
      "Epoch 30, loss 5.580 : 100%|██████████| 48/48 [00:02<00:00, 18.49it/s] \n",
      "Val: N@1 0.244, N@5 0.395, N@10 0.436, R@1 0.244, R@5 0.536, R@10 0.661: 100%|██████████| 48/48 [00:02<00:00, 20.46it/s]\n"
     ]
    },
    {
     "name": "stdout",
     "output_type": "stream",
     "text": [
      "Update Best NDCG@10 Model at 30\n"
     ]
    },
    {
     "name": "stderr",
     "output_type": "stream",
     "text": [
      "Epoch 31, loss 5.565 : 100%|██████████| 48/48 [00:02<00:00, 18.49it/s]\n",
      "Val: N@1 0.234, N@5 0.386, N@10 0.429, R@1 0.234, R@5 0.525, R@10 0.660: 100%|██████████| 48/48 [00:02<00:00, 20.76it/s]\n",
      "Epoch 32, loss 5.544 : 100%|██████████| 48/48 [00:02<00:00, 18.68it/s] \n",
      "Val: N@1 0.242, N@5 0.390, N@10 0.434, R@1 0.242, R@5 0.525, R@10 0.661: 100%|██████████| 48/48 [00:02<00:00, 20.52it/s]\n",
      "Epoch 33, loss 5.518 : 100%|██████████| 48/48 [00:02<00:00, 18.35it/s]\n",
      "Val: N@1 0.243, N@5 0.391, N@10 0.433, R@1 0.243, R@5 0.526, R@10 0.654: 100%|██████████| 48/48 [00:02<00:00, 20.40it/s]\n",
      "Epoch 34, loss 5.520 : 100%|██████████| 48/48 [00:02<00:00, 17.79it/s] \n",
      "Val: N@1 0.245, N@5 0.395, N@10 0.436, R@1 0.245, R@5 0.536, R@10 0.663: 100%|██████████| 48/48 [00:02<00:00, 19.05it/s]\n"
     ]
    },
    {
     "name": "stdout",
     "output_type": "stream",
     "text": [
      "Update Best NDCG@10 Model at 34\n"
     ]
    },
    {
     "name": "stderr",
     "output_type": "stream",
     "text": [
      "Epoch 35, loss 5.492 : 100%|██████████| 48/48 [00:02<00:00, 18.29it/s]\n",
      "Val: N@1 0.241, N@5 0.397, N@10 0.438, R@1 0.241, R@5 0.540, R@10 0.667: 100%|██████████| 48/48 [00:02<00:00, 21.26it/s]\n"
     ]
    },
    {
     "name": "stdout",
     "output_type": "stream",
     "text": [
      "Update Best NDCG@10 Model at 35\n"
     ]
    },
    {
     "name": "stderr",
     "output_type": "stream",
     "text": [
      "Epoch 36, loss 5.481 : 100%|██████████| 48/48 [00:02<00:00, 17.81it/s]\n",
      "Val: N@1 0.238, N@5 0.393, N@10 0.433, R@1 0.238, R@5 0.535, R@10 0.658: 100%|██████████| 48/48 [00:02<00:00, 19.92it/s]\n",
      "Epoch 37, loss 5.467 : 100%|██████████| 48/48 [00:02<00:00, 18.33it/s]\n",
      "Val: N@1 0.242, N@5 0.397, N@10 0.438, R@1 0.242, R@5 0.538, R@10 0.663: 100%|██████████| 48/48 [00:02<00:00, 21.30it/s]\n"
     ]
    },
    {
     "name": "stdout",
     "output_type": "stream",
     "text": [
      "Update Best NDCG@10 Model at 37\n"
     ]
    },
    {
     "name": "stderr",
     "output_type": "stream",
     "text": [
      "Epoch 38, loss 5.440 : 100%|██████████| 48/48 [00:02<00:00, 18.55it/s]\n",
      "Val: N@1 0.248, N@5 0.398, N@10 0.439, R@1 0.248, R@5 0.537, R@10 0.664: 100%|██████████| 48/48 [00:02<00:00, 21.63it/s]\n"
     ]
    },
    {
     "name": "stdout",
     "output_type": "stream",
     "text": [
      "Update Best NDCG@10 Model at 38\n"
     ]
    },
    {
     "name": "stderr",
     "output_type": "stream",
     "text": [
      "Epoch 39, loss 5.443 : 100%|██████████| 48/48 [00:02<00:00, 18.40it/s]\n",
      "Val: N@1 0.251, N@5 0.404, N@10 0.442, R@1 0.251, R@5 0.544, R@10 0.663: 100%|██████████| 48/48 [00:02<00:00, 21.32it/s]\n"
     ]
    },
    {
     "name": "stdout",
     "output_type": "stream",
     "text": [
      "Update Best NDCG@10 Model at 39\n"
     ]
    },
    {
     "name": "stderr",
     "output_type": "stream",
     "text": [
      "Epoch 40, loss 5.435 : 100%|██████████| 48/48 [00:02<00:00, 17.83it/s]\n",
      "Val: N@1 0.249, N@5 0.408, N@10 0.448, R@1 0.249, R@5 0.552, R@10 0.676: 100%|██████████| 48/48 [00:02<00:00, 20.57it/s]\n"
     ]
    },
    {
     "name": "stdout",
     "output_type": "stream",
     "text": [
      "Update Best NDCG@10 Model at 40\n"
     ]
    },
    {
     "name": "stderr",
     "output_type": "stream",
     "text": [
      "Epoch 41, loss 5.421 : 100%|██████████| 48/48 [00:02<00:00, 18.08it/s] \n",
      "Val: N@1 0.251, N@5 0.407, N@10 0.446, R@1 0.251, R@5 0.549, R@10 0.670: 100%|██████████| 48/48 [00:02<00:00, 21.09it/s]\n",
      "Epoch 42, loss 5.407 : 100%|██████████| 48/48 [00:02<00:00, 17.93it/s]\n",
      "Val: N@1 0.256, N@5 0.410, N@10 0.449, R@1 0.256, R@5 0.551, R@10 0.672: 100%|██████████| 48/48 [00:02<00:00, 19.76it/s]\n"
     ]
    },
    {
     "name": "stdout",
     "output_type": "stream",
     "text": [
      "Update Best NDCG@10 Model at 42\n"
     ]
    },
    {
     "name": "stderr",
     "output_type": "stream",
     "text": [
      "Epoch 43, loss 5.400 : 100%|██████████| 48/48 [00:02<00:00, 18.41it/s] \n",
      "Val: N@1 0.261, N@5 0.412, N@10 0.452, R@1 0.261, R@5 0.552, R@10 0.677: 100%|██████████| 48/48 [00:02<00:00, 21.35it/s]\n"
     ]
    },
    {
     "name": "stdout",
     "output_type": "stream",
     "text": [
      "Update Best NDCG@10 Model at 43\n"
     ]
    },
    {
     "name": "stderr",
     "output_type": "stream",
     "text": [
      "Epoch 44, loss 5.370 : 100%|██████████| 48/48 [00:02<00:00, 17.96it/s]\n",
      "Val: N@1 0.253, N@5 0.404, N@10 0.445, R@1 0.253, R@5 0.543, R@10 0.669: 100%|██████████| 48/48 [00:02<00:00, 21.23it/s]\n",
      "Epoch 45, loss 5.356 : 100%|██████████| 48/48 [00:02<00:00, 17.41it/s] \n",
      "Val: N@1 0.250, N@5 0.404, N@10 0.444, R@1 0.250, R@5 0.544, R@10 0.669: 100%|██████████| 48/48 [00:02<00:00, 20.03it/s]\n",
      "Epoch 46, loss 5.350 : 100%|██████████| 48/48 [00:02<00:00, 17.98it/s]\n",
      "Val: N@1 0.256, N@5 0.411, N@10 0.452, R@1 0.256, R@5 0.553, R@10 0.680: 100%|██████████| 48/48 [00:02<00:00, 17.54it/s]\n",
      "Epoch 47, loss 5.340 : 100%|██████████| 48/48 [00:02<00:00, 17.44it/s] \n",
      "Val: N@1 0.258, N@5 0.411, N@10 0.453, R@1 0.258, R@5 0.550, R@10 0.681: 100%|██████████| 48/48 [00:02<00:00, 18.53it/s]\n"
     ]
    },
    {
     "name": "stdout",
     "output_type": "stream",
     "text": [
      "Update Best NDCG@10 Model at 47\n"
     ]
    },
    {
     "name": "stderr",
     "output_type": "stream",
     "text": [
      "Epoch 48, loss 5.331 : 100%|██████████| 48/48 [00:02<00:00, 18.18it/s]\n",
      "Val: N@1 0.260, N@5 0.413, N@10 0.454, R@1 0.260, R@5 0.552, R@10 0.680: 100%|██████████| 48/48 [00:02<00:00, 20.11it/s]\n"
     ]
    },
    {
     "name": "stdout",
     "output_type": "stream",
     "text": [
      "Update Best NDCG@10 Model at 48\n"
     ]
    },
    {
     "name": "stderr",
     "output_type": "stream",
     "text": [
      "Epoch 49, loss 5.328 : 100%|██████████| 48/48 [00:02<00:00, 18.30it/s] \n",
      "Val: N@1 0.258, N@5 0.413, N@10 0.453, R@1 0.258, R@5 0.555, R@10 0.680: 100%|██████████| 48/48 [00:02<00:00, 20.59it/s]\n",
      "Epoch 50, loss 5.319 : 100%|██████████| 48/48 [00:02<00:00, 18.47it/s]\n",
      "Val: N@1 0.258, N@5 0.412, N@10 0.453, R@1 0.258, R@5 0.553, R@10 0.679: 100%|██████████| 48/48 [00:02<00:00, 20.32it/s]\n",
      "Epoch 51, loss 5.283 : 100%|██████████| 48/48 [00:02<00:00, 17.55it/s] \n",
      "Val: N@1 0.256, N@5 0.407, N@10 0.447, R@1 0.256, R@5 0.547, R@10 0.670: 100%|██████████| 48/48 [00:02<00:00, 20.65it/s]\n",
      "Epoch 52, loss 5.293 : 100%|██████████| 48/48 [00:02<00:00, 18.32it/s]\n",
      "Val: N@1 0.258, N@5 0.409, N@10 0.450, R@1 0.258, R@5 0.546, R@10 0.672: 100%|██████████| 48/48 [00:02<00:00, 19.55it/s]\n",
      "Logging to Tensorboard: 100%|██████████| 48/48 [00:02<00:00, 18.08it/s]\n",
      "Val: N@1 0.258, N@5 0.411, N@10 0.452, R@1 0.258, R@5 0.549, R@10 0.676: 100%|██████████| 48/48 [00:02<00:00, 20.07it/s]\n",
      "Epoch 54, loss 5.273 : 100%|██████████| 48/48 [00:02<00:00, 18.38it/s]\n",
      "Val: N@1 0.256, N@5 0.409, N@10 0.449, R@1 0.256, R@5 0.549, R@10 0.674: 100%|██████████| 48/48 [00:02<00:00, 19.85it/s]\n",
      "Epoch 55, loss 5.268 : 100%|██████████| 48/48 [00:02<00:00, 18.36it/s]\n",
      "Val: N@1 0.260, N@5 0.412, N@10 0.452, R@1 0.260, R@5 0.551, R@10 0.674: 100%|██████████| 48/48 [00:02<00:00, 19.93it/s]\n",
      "Epoch 56, loss 5.259 : 100%|██████████| 48/48 [00:02<00:00, 18.08it/s]\n",
      "Val: N@1 0.264, N@5 0.414, N@10 0.455, R@1 0.264, R@5 0.551, R@10 0.676: 100%|██████████| 48/48 [00:02<00:00, 20.14it/s]\n"
     ]
    },
    {
     "name": "stdout",
     "output_type": "stream",
     "text": [
      "Update Best NDCG@10 Model at 56\n"
     ]
    },
    {
     "name": "stderr",
     "output_type": "stream",
     "text": [
      "Epoch 57, loss 5.268 : 100%|██████████| 48/48 [00:02<00:00, 17.24it/s]\n",
      "Val: N@1 0.266, N@5 0.416, N@10 0.456, R@1 0.266, R@5 0.554, R@10 0.678: 100%|██████████| 48/48 [00:02<00:00, 20.18it/s]\n"
     ]
    },
    {
     "name": "stdout",
     "output_type": "stream",
     "text": [
      "Update Best NDCG@10 Model at 57\n"
     ]
    },
    {
     "name": "stderr",
     "output_type": "stream",
     "text": [
      "Epoch 58, loss 5.238 : 100%|██████████| 48/48 [00:02<00:00, 18.65it/s] \n",
      "Val: N@1 0.264, N@5 0.417, N@10 0.455, R@1 0.264, R@5 0.560, R@10 0.678: 100%|██████████| 48/48 [00:02<00:00, 19.70it/s]\n",
      "Epoch 59, loss 5.236 : 100%|██████████| 48/48 [00:02<00:00, 17.97it/s]\n",
      "Val: N@1 0.261, N@5 0.416, N@10 0.455, R@1 0.261, R@5 0.557, R@10 0.677: 100%|██████████| 48/48 [00:02<00:00, 19.59it/s]\n",
      "Epoch 60, loss 5.228 : 100%|██████████| 48/48 [00:02<00:00, 18.42it/s] \n",
      "Val: N@1 0.262, N@5 0.414, N@10 0.455, R@1 0.262, R@5 0.553, R@10 0.678: 100%|██████████| 48/48 [00:02<00:00, 19.77it/s]\n",
      "Epoch 61, loss 5.224 : 100%|██████████| 48/48 [00:02<00:00, 18.32it/s]\n",
      "Val: N@1 0.257, N@5 0.408, N@10 0.450, R@1 0.257, R@5 0.547, R@10 0.674: 100%|██████████| 48/48 [00:02<00:00, 19.94it/s]\n",
      "Epoch 62, loss 5.210 : 100%|██████████| 48/48 [00:02<00:00, 18.36it/s] \n",
      "Val: N@1 0.267, N@5 0.416, N@10 0.457, R@1 0.267, R@5 0.551, R@10 0.678: 100%|██████████| 48/48 [00:02<00:00, 20.09it/s]\n"
     ]
    },
    {
     "name": "stdout",
     "output_type": "stream",
     "text": [
      "Update Best NDCG@10 Model at 62\n"
     ]
    },
    {
     "name": "stderr",
     "output_type": "stream",
     "text": [
      "Epoch 63, loss 5.194 : 100%|██████████| 48/48 [00:02<00:00, 18.10it/s]\n",
      "Val: N@1 0.265, N@5 0.419, N@10 0.458, R@1 0.265, R@5 0.559, R@10 0.678: 100%|██████████| 48/48 [00:02<00:00, 20.19it/s]\n"
     ]
    },
    {
     "name": "stdout",
     "output_type": "stream",
     "text": [
      "Update Best NDCG@10 Model at 63\n"
     ]
    },
    {
     "name": "stderr",
     "output_type": "stream",
     "text": [
      "Epoch 64, loss 5.189 : 100%|██████████| 48/48 [00:02<00:00, 18.30it/s] \n",
      "Val: N@1 0.266, N@5 0.418, N@10 0.457, R@1 0.266, R@5 0.558, R@10 0.679: 100%|██████████| 48/48 [00:02<00:00, 20.33it/s]\n",
      "Epoch 65, loss 5.177 : 100%|██████████| 48/48 [00:02<00:00, 18.19it/s]\n",
      "Val: N@1 0.267, N@5 0.414, N@10 0.456, R@1 0.267, R@5 0.548, R@10 0.676: 100%|██████████| 48/48 [00:02<00:00, 19.76it/s]\n",
      "Epoch 66, loss 5.183 : 100%|██████████| 48/48 [00:02<00:00, 18.17it/s] \n",
      "Val: N@1 0.266, N@5 0.419, N@10 0.459, R@1 0.266, R@5 0.558, R@10 0.682: 100%|██████████| 48/48 [00:02<00:00, 19.63it/s]\n"
     ]
    },
    {
     "name": "stdout",
     "output_type": "stream",
     "text": [
      "Update Best NDCG@10 Model at 66\n"
     ]
    },
    {
     "name": "stderr",
     "output_type": "stream",
     "text": [
      "Epoch 67, loss 5.161 : 100%|██████████| 48/48 [00:02<00:00, 18.48it/s]\n",
      "Val: N@1 0.258, N@5 0.411, N@10 0.453, R@1 0.258, R@5 0.550, R@10 0.679: 100%|██████████| 48/48 [00:02<00:00, 20.32it/s]\n",
      "Epoch 68, loss 5.178 : 100%|██████████| 48/48 [00:02<00:00, 18.56it/s] \n",
      "Val: N@1 0.266, N@5 0.417, N@10 0.458, R@1 0.266, R@5 0.553, R@10 0.680: 100%|██████████| 48/48 [00:02<00:00, 19.65it/s]\n",
      "Epoch 69, loss 5.154 : 100%|██████████| 48/48 [00:02<00:00, 17.92it/s]\n",
      "Val: N@1 0.267, N@5 0.419, N@10 0.458, R@1 0.267, R@5 0.558, R@10 0.678: 100%|██████████| 48/48 [00:02<00:00, 19.48it/s]\n",
      "Epoch 70, loss 5.149 : 100%|██████████| 48/48 [00:02<00:00, 18.46it/s] \n",
      "Val: N@1 0.260, N@5 0.420, N@10 0.457, R@1 0.260, R@5 0.566, R@10 0.679: 100%|██████████| 48/48 [00:02<00:00, 20.44it/s]\n",
      "Epoch 71, loss 5.140 : 100%|██████████| 48/48 [00:02<00:00, 18.09it/s]\n",
      "Val: N@1 0.261, N@5 0.416, N@10 0.457, R@1 0.261, R@5 0.558, R@10 0.683: 100%|██████████| 48/48 [00:02<00:00, 19.86it/s]\n",
      "Epoch 72, loss 5.129 : 100%|██████████| 48/48 [00:02<00:00, 18.67it/s]\n",
      "Val: N@1 0.266, N@5 0.421, N@10 0.459, R@1 0.266, R@5 0.561, R@10 0.680: 100%|██████████| 48/48 [00:02<00:00, 20.50it/s]\n"
     ]
    },
    {
     "name": "stdout",
     "output_type": "stream",
     "text": [
      "Update Best NDCG@10 Model at 72\n"
     ]
    },
    {
     "name": "stderr",
     "output_type": "stream",
     "text": [
      "Epoch 73, loss 5.125 : 100%|██████████| 48/48 [00:02<00:00, 18.59it/s]\n",
      "Val: N@1 0.264, N@5 0.417, N@10 0.457, R@1 0.264, R@5 0.557, R@10 0.681: 100%|██████████| 48/48 [00:02<00:00, 20.58it/s]\n",
      "Epoch 74, loss 5.125 : 100%|██████████| 48/48 [00:02<00:00, 18.33it/s]\n",
      "Val: N@1 0.267, N@5 0.420, N@10 0.461, R@1 0.267, R@5 0.558, R@10 0.683: 100%|██████████| 48/48 [00:02<00:00, 20.62it/s]\n"
     ]
    },
    {
     "name": "stdout",
     "output_type": "stream",
     "text": [
      "Update Best NDCG@10 Model at 74\n"
     ]
    },
    {
     "name": "stderr",
     "output_type": "stream",
     "text": [
      "Epoch 75, loss 5.118 : 100%|██████████| 48/48 [00:02<00:00, 17.96it/s]\n",
      "Val: N@1 0.266, N@5 0.414, N@10 0.456, R@1 0.266, R@5 0.550, R@10 0.680: 100%|██████████| 48/48 [00:02<00:00, 21.05it/s]\n",
      "Epoch 76, loss 5.123 : 100%|██████████| 48/48 [00:02<00:00, 18.15it/s]\n",
      "Val: N@1 0.265, N@5 0.416, N@10 0.457, R@1 0.265, R@5 0.553, R@10 0.679: 100%|██████████| 48/48 [00:02<00:00, 20.83it/s]\n",
      "Epoch 77, loss 5.091 : 100%|██████████| 48/48 [00:02<00:00, 18.48it/s] \n",
      "Val: N@1 0.264, N@5 0.417, N@10 0.455, R@1 0.264, R@5 0.558, R@10 0.675: 100%|██████████| 48/48 [00:02<00:00, 21.09it/s]\n",
      "Epoch 78, loss 5.096 : 100%|██████████| 48/48 [00:02<00:00, 18.44it/s]\n",
      "Val: N@1 0.262, N@5 0.416, N@10 0.456, R@1 0.262, R@5 0.555, R@10 0.678: 100%|██████████| 48/48 [00:02<00:00, 21.55it/s]\n",
      "Epoch 79, loss 5.087 : 100%|██████████| 48/48 [00:02<00:00, 18.35it/s] \n",
      "Val: N@1 0.272, N@5 0.421, N@10 0.462, R@1 0.272, R@5 0.557, R@10 0.682: 100%|██████████| 48/48 [00:02<00:00, 21.28it/s]\n"
     ]
    },
    {
     "name": "stdout",
     "output_type": "stream",
     "text": [
      "Update Best NDCG@10 Model at 79\n"
     ]
    },
    {
     "name": "stderr",
     "output_type": "stream",
     "text": [
      "Epoch 80, loss 5.077 : 100%|██████████| 48/48 [00:02<00:00, 18.52it/s]\n",
      "Val: N@1 0.265, N@5 0.419, N@10 0.459, R@1 0.265, R@5 0.560, R@10 0.683: 100%|██████████| 48/48 [00:02<00:00, 21.42it/s]\n",
      "Epoch 81, loss 5.082 : 100%|██████████| 48/48 [00:02<00:00, 18.43it/s] \n",
      "Val: N@1 0.258, N@5 0.411, N@10 0.452, R@1 0.258, R@5 0.550, R@10 0.676: 100%|██████████| 48/48 [00:02<00:00, 21.49it/s]\n",
      "Epoch 82, loss 5.072 : 100%|██████████| 48/48 [00:02<00:00, 18.44it/s]\n",
      "Val: N@1 0.266, N@5 0.420, N@10 0.460, R@1 0.266, R@5 0.561, R@10 0.685: 100%|██████████| 48/48 [00:02<00:00, 21.19it/s]\n",
      "Epoch 83, loss 5.072 : 100%|██████████| 48/48 [00:02<00:00, 18.45it/s] \n",
      "Val: N@1 0.264, N@5 0.415, N@10 0.455, R@1 0.264, R@5 0.551, R@10 0.676: 100%|██████████| 48/48 [00:02<00:00, 21.31it/s]\n",
      "Epoch 84, loss 5.055 : 100%|██████████| 48/48 [00:02<00:00, 18.05it/s]\n",
      "Val: N@1 0.271, N@5 0.420, N@10 0.461, R@1 0.271, R@5 0.556, R@10 0.681: 100%|██████████| 48/48 [00:02<00:00, 20.83it/s]\n",
      "Epoch 85, loss 5.052 : 100%|██████████| 48/48 [00:02<00:00, 18.49it/s] \n",
      "Val: N@1 0.265, N@5 0.416, N@10 0.456, R@1 0.265, R@5 0.553, R@10 0.677: 100%|██████████| 48/48 [00:02<00:00, 21.27it/s]\n",
      "Epoch 86, loss 5.051 : 100%|██████████| 48/48 [00:02<00:00, 18.43it/s]\n",
      "Val: N@1 0.268, N@5 0.420, N@10 0.459, R@1 0.268, R@5 0.557, R@10 0.678: 100%|██████████| 48/48 [00:02<00:00, 20.32it/s]\n",
      "Epoch 87, loss 5.034 : 100%|██████████| 48/48 [00:02<00:00, 18.51it/s] \n",
      "Val: N@1 0.262, N@5 0.418, N@10 0.457, R@1 0.262, R@5 0.556, R@10 0.678: 100%|██████████| 48/48 [00:02<00:00, 20.37it/s]\n",
      "Epoch 88, loss 5.037 : 100%|██████████| 48/48 [00:02<00:00, 18.38it/s]\n",
      "Val: N@1 0.270, N@5 0.421, N@10 0.460, R@1 0.270, R@5 0.560, R@10 0.680: 100%|██████████| 48/48 [00:02<00:00, 21.10it/s]\n",
      "Epoch 89, loss 5.008 : 100%|██████████| 48/48 [00:02<00:00, 18.35it/s]\n",
      "Val: N@1 0.266, N@5 0.417, N@10 0.454, R@1 0.266, R@5 0.556, R@10 0.672: 100%|██████████| 48/48 [00:02<00:00, 20.31it/s]\n",
      "Epoch 90, loss 5.032 : 100%|██████████| 48/48 [00:02<00:00, 18.19it/s]\n",
      "Val: N@1 0.263, N@5 0.416, N@10 0.458, R@1 0.263, R@5 0.555, R@10 0.682: 100%|██████████| 48/48 [00:02<00:00, 19.65it/s]\n",
      "Epoch 91, loss 5.013 : 100%|██████████| 48/48 [00:02<00:00, 18.43it/s]\n",
      "Val: N@1 0.270, N@5 0.422, N@10 0.460, R@1 0.270, R@5 0.558, R@10 0.678: 100%|██████████| 48/48 [00:02<00:00, 20.09it/s]\n",
      "Epoch 92, loss 5.001 : 100%|██████████| 48/48 [00:02<00:00, 17.88it/s]\n",
      "Val: N@1 0.263, N@5 0.421, N@10 0.458, R@1 0.263, R@5 0.566, R@10 0.680: 100%|██████████| 48/48 [00:02<00:00, 19.80it/s]\n",
      "Epoch 93, loss 5.004 : 100%|██████████| 48/48 [00:02<00:00, 18.26it/s]\n",
      "Val: N@1 0.268, N@5 0.418, N@10 0.457, R@1 0.268, R@5 0.557, R@10 0.678: 100%|██████████| 48/48 [00:02<00:00, 19.52it/s]\n",
      "Epoch 94, loss 5.007 : 100%|██████████| 48/48 [00:02<00:00, 17.76it/s] \n",
      "Val: N@1 0.274, N@5 0.421, N@10 0.459, R@1 0.274, R@5 0.556, R@10 0.673: 100%|██████████| 48/48 [00:02<00:00, 20.23it/s]\n",
      "Epoch 95, loss 4.999 : 100%|██████████| 48/48 [00:02<00:00, 18.56it/s]\n",
      "Val: N@1 0.268, N@5 0.420, N@10 0.459, R@1 0.268, R@5 0.561, R@10 0.681: 100%|██████████| 48/48 [00:02<00:00, 20.60it/s]\n",
      "Epoch 96, loss 4.986 : 100%|██████████| 48/48 [00:02<00:00, 17.67it/s] \n",
      "Val: N@1 0.267, N@5 0.415, N@10 0.454, R@1 0.267, R@5 0.551, R@10 0.670: 100%|██████████| 48/48 [00:02<00:00, 19.51it/s]\n",
      "Epoch 97, loss 4.995 : 100%|██████████| 48/48 [00:02<00:00, 17.49it/s]\n",
      "Val: N@1 0.272, N@5 0.421, N@10 0.459, R@1 0.272, R@5 0.559, R@10 0.674: 100%|██████████| 48/48 [00:02<00:00, 20.02it/s]\n",
      "Epoch 98, loss 4.994 : 100%|██████████| 48/48 [00:02<00:00, 17.32it/s] \n",
      "Val: N@1 0.265, N@5 0.416, N@10 0.454, R@1 0.265, R@5 0.553, R@10 0.669: 100%|██████████| 48/48 [00:02<00:00, 20.66it/s]\n",
      "Epoch 99, loss 4.977 : 100%|██████████| 48/48 [00:02<00:00, 18.17it/s]\n",
      "Val: N@1 0.268, N@5 0.419, N@10 0.457, R@1 0.268, R@5 0.557, R@10 0.674: 100%|██████████| 48/48 [00:02<00:00, 20.73it/s]\n",
      "Epoch 100, loss 4.985 : 100%|██████████| 48/48 [00:02<00:00, 18.18it/s]\n",
      "Val: N@1 0.264, N@5 0.421, N@10 0.458, R@1 0.264, R@5 0.563, R@10 0.679: 100%|██████████| 48/48 [00:02<00:00, 21.38it/s]\n"
     ]
    }
   ],
   "source": [
    "trainer.train()"
   ]
  },
  {
   "cell_type": "code",
   "execution_count": 70,
   "id": "29a84f26",
   "metadata": {},
   "outputs": [
    {
     "name": "stdout",
     "output_type": "stream",
     "text": [
      "Test best model with test set!\n"
     ]
    },
    {
     "name": "stderr",
     "output_type": "stream",
     "text": [
      "Val: N@1 0.216, N@5 0.358, N@10 0.396, R@1 0.216, R@5 0.486, R@10 0.603: 100%|██████████| 48/48 [00:02<00:00, 19.39it/s]"
     ]
    },
    {
     "name": "stdout",
     "output_type": "stream",
     "text": [
      "{'Recall@100': 0.9978841145833334, 'NDCG@100': 0.47592918202281, 'Recall@50': 0.8781467018028101, 'NDCG@50': 0.4565200960884492, 'Recall@20': 0.7212999140222868, 'NDCG@20': 0.4253871502975623, 'Recall@10': 0.6029188372194767, 'NDCG@10': 0.3955337864657243, 'Recall@5': 0.48605685805281, 'NDCG@5': 0.3577783592045307, 'Recall@1': 0.2160915800680717, 'NDCG@1': 0.2160915800680717}\n"
     ]
    },
    {
     "name": "stderr",
     "output_type": "stream",
     "text": [
      "\n"
     ]
    }
   ],
   "source": [
    "trainer.test()"
   ]
  },
  {
   "cell_type": "markdown",
   "id": "088cc103",
   "metadata": {},
   "source": [
    "---"
   ]
  },
  {
   "cell_type": "markdown",
   "id": "90cce650",
   "metadata": {},
   "source": [
    "посчитаем ndcg@10 как в бейзлайнах - по датафрейму neg_sampled_test и по той функции рассчёта, которая использовалась там:"
   ]
  },
  {
   "cell_type": "code",
   "execution_count": 71,
   "id": "69aa4ef5",
   "metadata": {},
   "outputs": [],
   "source": [
    "best_model = torch.load(os.path.join(export_root, 'models', 'best_acc_model.pth')).get('model_state_dict')"
   ]
  },
  {
   "cell_type": "code",
   "execution_count": 72,
   "id": "d8d12472",
   "metadata": {
    "scrolled": true
   },
   "outputs": [
    {
     "data": {
      "text/plain": [
       "<All keys matched successfully>"
      ]
     },
     "execution_count": 72,
     "metadata": {},
     "output_type": "execute_result"
    }
   ],
   "source": [
    "model.load_state_dict(best_model)"
   ]
  },
  {
   "cell_type": "code",
   "execution_count": 73,
   "id": "5b3cf2a9",
   "metadata": {
    "scrolled": true
   },
   "outputs": [
    {
     "data": {
      "text/plain": [
       "BERTModel(\n",
       "  (bert): BERT(\n",
       "    (embedding): BERTEmbedding(\n",
       "      (token): TokenEmbedding(3708, 256, padding_idx=0)\n",
       "      (position): PositionalEmbedding(\n",
       "        (pe): Embedding(100, 256)\n",
       "      )\n",
       "      (dropout): Dropout(p=0.1, inplace=False)\n",
       "    )\n",
       "    (transformer_blocks): ModuleList(\n",
       "      (0): TransformerBlock(\n",
       "        (attention): MultiHeadedAttention(\n",
       "          (linear_layers): ModuleList(\n",
       "            (0): Linear(in_features=256, out_features=256, bias=True)\n",
       "            (1): Linear(in_features=256, out_features=256, bias=True)\n",
       "            (2): Linear(in_features=256, out_features=256, bias=True)\n",
       "          )\n",
       "          (output_linear): Linear(in_features=256, out_features=256, bias=True)\n",
       "          (attention): Attention()\n",
       "          (dropout): Dropout(p=0.1, inplace=False)\n",
       "        )\n",
       "        (feed_forward): PositionwiseFeedForward(\n",
       "          (w_1): Linear(in_features=256, out_features=1024, bias=True)\n",
       "          (w_2): Linear(in_features=1024, out_features=256, bias=True)\n",
       "          (dropout): Dropout(p=0.1, inplace=False)\n",
       "          (activation): GELU()\n",
       "        )\n",
       "        (input_sublayer): SublayerConnection(\n",
       "          (norm): LayerNorm()\n",
       "          (dropout): Dropout(p=0.1, inplace=False)\n",
       "        )\n",
       "        (output_sublayer): SublayerConnection(\n",
       "          (norm): LayerNorm()\n",
       "          (dropout): Dropout(p=0.1, inplace=False)\n",
       "        )\n",
       "        (dropout): Dropout(p=0.1, inplace=False)\n",
       "      )\n",
       "      (1): TransformerBlock(\n",
       "        (attention): MultiHeadedAttention(\n",
       "          (linear_layers): ModuleList(\n",
       "            (0): Linear(in_features=256, out_features=256, bias=True)\n",
       "            (1): Linear(in_features=256, out_features=256, bias=True)\n",
       "            (2): Linear(in_features=256, out_features=256, bias=True)\n",
       "          )\n",
       "          (output_linear): Linear(in_features=256, out_features=256, bias=True)\n",
       "          (attention): Attention()\n",
       "          (dropout): Dropout(p=0.1, inplace=False)\n",
       "        )\n",
       "        (feed_forward): PositionwiseFeedForward(\n",
       "          (w_1): Linear(in_features=256, out_features=1024, bias=True)\n",
       "          (w_2): Linear(in_features=1024, out_features=256, bias=True)\n",
       "          (dropout): Dropout(p=0.1, inplace=False)\n",
       "          (activation): GELU()\n",
       "        )\n",
       "        (input_sublayer): SublayerConnection(\n",
       "          (norm): LayerNorm()\n",
       "          (dropout): Dropout(p=0.1, inplace=False)\n",
       "        )\n",
       "        (output_sublayer): SublayerConnection(\n",
       "          (norm): LayerNorm()\n",
       "          (dropout): Dropout(p=0.1, inplace=False)\n",
       "        )\n",
       "        (dropout): Dropout(p=0.1, inplace=False)\n",
       "      )\n",
       "    )\n",
       "  )\n",
       "  (out): Linear(in_features=256, out_features=3707, bias=True)\n",
       ")"
      ]
     },
     "execution_count": 73,
     "metadata": {},
     "output_type": "execute_result"
    }
   ],
   "source": [
    "model.eval()"
   ]
  },
  {
   "cell_type": "code",
   "execution_count": 74,
   "id": "d351e308",
   "metadata": {},
   "outputs": [
    {
     "name": "stderr",
     "output_type": "stream",
     "text": [
      "100%|██████████| 48/48 [00:00<00:00, 50.64it/s]\n"
     ]
    }
   ],
   "source": [
    "from tqdm import tqdm\n",
    "\n",
    "# получаем предикты для mask_token на тестовой последовательности:\n",
    "scores_for_mask_token_for_each_batch = []\n",
    "\n",
    "with torch.no_grad():\n",
    "    tqdm_dataloader = tqdm(test_torch_dataloader)\n",
    "    \n",
    "    for batch_idx, batch in enumerate(tqdm_dataloader):\n",
    "        batch = [x.to('cuda') for x in batch]\n",
    "        \n",
    "        scores = model(batch[0])\n",
    "        scores_for_mask_token = scores[:, -1, :]\n",
    "        \n",
    "        scores_for_mask_token_for_each_batch.append(scores_for_mask_token.cpu())"
   ]
  },
  {
   "cell_type": "code",
   "execution_count": 75,
   "id": "beb3aeb2",
   "metadata": {},
   "outputs": [
    {
     "data": {
      "text/plain": [
       "torch.Size([6040, 3707])"
      ]
     },
     "execution_count": 75,
     "metadata": {},
     "output_type": "execute_result"
    }
   ],
   "source": [
    "scores_for_mask_token = torch.cat(scores_for_mask_token_for_each_batch, dim=0)\n",
    "\n",
    "scores_for_mask_token.shape"
   ]
  },
  {
   "cell_type": "code",
   "execution_count": 76,
   "id": "67e8fddc",
   "metadata": {},
   "outputs": [],
   "source": [
    "user_to_scores_of_items = dict()\n",
    "\n",
    "for user_ix, scores in enumerate(scores_for_mask_token):\n",
    "    user_to_scores_of_items[user_ix] = dict()\n",
    "    \n",
    "    for item_ix, score in enumerate(scores):\n",
    "        user_to_scores_of_items[user_ix][item_ix] = score.item()"
   ]
  },
  {
   "cell_type": "code",
   "execution_count": 77,
   "id": "d33a2fcd",
   "metadata": {},
   "outputs": [
    {
     "name": "stdout",
     "output_type": "stream",
     "text": [
      "8.646805763244629 10.688972473144531 9.815849304199219 10.665151596069336 2.121732473373413 2.446187973022461\n"
     ]
    }
   ],
   "source": [
    "print(\n",
    "    user_to_scores_of_items[0][49], # видел на трейне\n",
    "    user_to_scores_of_items[0][50], # видел на трейне\n",
    "    user_to_scores_of_items[0][51], # не видел на трейне (а стоило бы вернуть - мы его украли в валидационное взаимодействие)\n",
    "    user_to_scores_of_items[0][52], # не видел на трейне\n",
    "    user_to_scores_of_items[0][53], # не видел на трейне (и в реальности его не было в train + val + test)\n",
    "    user_to_scores_of_items[0][54], # не видел на трейне (и в реальности его не было в train + val + test)\n",
    ")"
   ]
  },
  {
   "cell_type": "markdown",
   "id": "bdfb907e",
   "metadata": {},
   "source": [
    "выглядит правдоподобно"
   ]
  },
  {
   "cell_type": "code",
   "execution_count": 78,
   "id": "59c457d7",
   "metadata": {},
   "outputs": [],
   "source": [
    "from metrics import *"
   ]
  },
  {
   "cell_type": "code",
   "execution_count": 79,
   "id": "a940286a",
   "metadata": {},
   "outputs": [],
   "source": [
    "def calculate_grouped_ndcg_for_bert4rec_output(valDf, model_scores, k):\n",
    "    data = valDf.copy()\n",
    "    \n",
    "    data[\"predicted_rating\"] = data.apply(lambda row: model_scores[row[\"user_id\"]][row[\"movie_id\"]], axis=1)\n",
    "    \n",
    "    nonnull_users = set(data[data.rating > 0].user_id)\n",
    "    data = data[data.user_id.isin(nonnull_users)]\n",
    "    \n",
    "    return np.mean(data.groupby(\"user_id\").apply(lambda x: ndcg_score(x.rating, x.predicted_rating, k)))"
   ]
  },
  {
   "cell_type": "code",
   "execution_count": 80,
   "id": "e8657163",
   "metadata": {},
   "outputs": [
    {
     "data": {
      "text/plain": [
       "0.3939330098851488"
      ]
     },
     "execution_count": 80,
     "metadata": {},
     "output_type": "execute_result"
    }
   ],
   "source": [
    "calculate_grouped_ndcg_for_bert4rec_output(neg_sampled_test, user_to_scores_of_items, 10)"
   ]
  },
  {
   "cell_type": "code",
   "execution_count": null,
   "id": "57f66ce5",
   "metadata": {},
   "outputs": [],
   "source": []
  }
 ],
 "metadata": {
  "kernelspec": {
   "display_name": "Python 3 (ipykernel)",
   "language": "python",
   "name": "python3"
  },
  "language_info": {
   "codemirror_mode": {
    "name": "ipython",
    "version": 3
   },
   "file_extension": ".py",
   "mimetype": "text/x-python",
   "name": "python",
   "nbconvert_exporter": "python",
   "pygments_lexer": "ipython3",
   "version": "3.10.9"
  }
 },
 "nbformat": 4,
 "nbformat_minor": 5
}
