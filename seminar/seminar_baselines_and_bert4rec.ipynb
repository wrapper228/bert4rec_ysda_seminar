{
 "cells": [
  {
   "cell_type": "markdown",
   "id": "4fcb97db",
   "metadata": {},
   "source": [
    "# 1) prepare data:"
   ]
  },
  {
   "cell_type": "code",
   "execution_count": 1,
   "id": "7ad2829b",
   "metadata": {},
   "outputs": [],
   "source": [
    "import pandas as pd\n",
    "import numpy as np\n",
    "import torch\n",
    "import pickle\n",
    "import argparse\n",
    "\n",
    "from metrics import (\n",
    "    calculate_grouped_ndcg_random, \n",
    "    calculate_grouped_ndcg_sum_popularity,\n",
    "    calculate_grouped_ndcg_with_embeddings,\n",
    "    calculate_grouped_ndcg_for_bert4rec_output\n",
    ")"
   ]
  },
  {
   "cell_type": "code",
   "execution_count": 2,
   "id": "8718628f",
   "metadata": {},
   "outputs": [],
   "source": [
    "rnames = ['user_id', 'movie_id', 'rating', 'timestamp']\n",
    "ratings = pd.read_table('movielens_1m_dataset/ratings.dat', sep='::', header=None, names=rnames, engine='python', encoding='ISO-8859-1')"
   ]
  },
  {
   "cell_type": "code",
   "execution_count": 3,
   "id": "70428cbc",
   "metadata": {},
   "outputs": [
    {
     "data": {
      "text/html": [
       "<div>\n",
       "<style scoped>\n",
       "    .dataframe tbody tr th:only-of-type {\n",
       "        vertical-align: middle;\n",
       "    }\n",
       "\n",
       "    .dataframe tbody tr th {\n",
       "        vertical-align: top;\n",
       "    }\n",
       "\n",
       "    .dataframe thead th {\n",
       "        text-align: right;\n",
       "    }\n",
       "</style>\n",
       "<table border=\"1\" class=\"dataframe\">\n",
       "  <thead>\n",
       "    <tr style=\"text-align: right;\">\n",
       "      <th></th>\n",
       "      <th>user_id</th>\n",
       "      <th>movie_id</th>\n",
       "      <th>rating</th>\n",
       "      <th>timestamp</th>\n",
       "    </tr>\n",
       "  </thead>\n",
       "  <tbody>\n",
       "    <tr>\n",
       "      <th>0</th>\n",
       "      <td>1</td>\n",
       "      <td>1193</td>\n",
       "      <td>5</td>\n",
       "      <td>978300760</td>\n",
       "    </tr>\n",
       "    <tr>\n",
       "      <th>1</th>\n",
       "      <td>1</td>\n",
       "      <td>661</td>\n",
       "      <td>3</td>\n",
       "      <td>978302109</td>\n",
       "    </tr>\n",
       "    <tr>\n",
       "      <th>2</th>\n",
       "      <td>1</td>\n",
       "      <td>914</td>\n",
       "      <td>3</td>\n",
       "      <td>978301968</td>\n",
       "    </tr>\n",
       "    <tr>\n",
       "      <th>3</th>\n",
       "      <td>1</td>\n",
       "      <td>3408</td>\n",
       "      <td>4</td>\n",
       "      <td>978300275</td>\n",
       "    </tr>\n",
       "    <tr>\n",
       "      <th>4</th>\n",
       "      <td>1</td>\n",
       "      <td>2355</td>\n",
       "      <td>5</td>\n",
       "      <td>978824291</td>\n",
       "    </tr>\n",
       "    <tr>\n",
       "      <th>...</th>\n",
       "      <td>...</td>\n",
       "      <td>...</td>\n",
       "      <td>...</td>\n",
       "      <td>...</td>\n",
       "    </tr>\n",
       "    <tr>\n",
       "      <th>1000204</th>\n",
       "      <td>6040</td>\n",
       "      <td>1091</td>\n",
       "      <td>1</td>\n",
       "      <td>956716541</td>\n",
       "    </tr>\n",
       "    <tr>\n",
       "      <th>1000205</th>\n",
       "      <td>6040</td>\n",
       "      <td>1094</td>\n",
       "      <td>5</td>\n",
       "      <td>956704887</td>\n",
       "    </tr>\n",
       "    <tr>\n",
       "      <th>1000206</th>\n",
       "      <td>6040</td>\n",
       "      <td>562</td>\n",
       "      <td>5</td>\n",
       "      <td>956704746</td>\n",
       "    </tr>\n",
       "    <tr>\n",
       "      <th>1000207</th>\n",
       "      <td>6040</td>\n",
       "      <td>1096</td>\n",
       "      <td>4</td>\n",
       "      <td>956715648</td>\n",
       "    </tr>\n",
       "    <tr>\n",
       "      <th>1000208</th>\n",
       "      <td>6040</td>\n",
       "      <td>1097</td>\n",
       "      <td>4</td>\n",
       "      <td>956715569</td>\n",
       "    </tr>\n",
       "  </tbody>\n",
       "</table>\n",
       "<p>1000209 rows × 4 columns</p>\n",
       "</div>"
      ],
      "text/plain": [
       "         user_id  movie_id  rating  timestamp\n",
       "0              1      1193       5  978300760\n",
       "1              1       661       3  978302109\n",
       "2              1       914       3  978301968\n",
       "3              1      3408       4  978300275\n",
       "4              1      2355       5  978824291\n",
       "...          ...       ...     ...        ...\n",
       "1000204     6040      1091       1  956716541\n",
       "1000205     6040      1094       5  956704887\n",
       "1000206     6040       562       5  956704746\n",
       "1000207     6040      1096       4  956715648\n",
       "1000208     6040      1097       4  956715569\n",
       "\n",
       "[1000209 rows x 4 columns]"
      ]
     },
     "execution_count": 3,
     "metadata": {},
     "output_type": "execute_result"
    }
   ],
   "source": [
    "ratings"
   ]
  },
  {
   "cell_type": "code",
   "execution_count": 4,
   "id": "9538696e",
   "metadata": {},
   "outputs": [
    {
     "data": {
      "text/html": [
       "<div>\n",
       "<style scoped>\n",
       "    .dataframe tbody tr th:only-of-type {\n",
       "        vertical-align: middle;\n",
       "    }\n",
       "\n",
       "    .dataframe tbody tr th {\n",
       "        vertical-align: top;\n",
       "    }\n",
       "\n",
       "    .dataframe thead th {\n",
       "        text-align: right;\n",
       "    }\n",
       "</style>\n",
       "<table border=\"1\" class=\"dataframe\">\n",
       "  <thead>\n",
       "    <tr style=\"text-align: right;\">\n",
       "      <th></th>\n",
       "      <th>user_id</th>\n",
       "      <th>movie_id</th>\n",
       "      <th>rating</th>\n",
       "    </tr>\n",
       "  </thead>\n",
       "  <tbody>\n",
       "    <tr>\n",
       "      <th>0</th>\n",
       "      <td>1</td>\n",
       "      <td>3186</td>\n",
       "      <td>4</td>\n",
       "    </tr>\n",
       "    <tr>\n",
       "      <th>1</th>\n",
       "      <td>1</td>\n",
       "      <td>1270</td>\n",
       "      <td>5</td>\n",
       "    </tr>\n",
       "    <tr>\n",
       "      <th>2</th>\n",
       "      <td>1</td>\n",
       "      <td>1721</td>\n",
       "      <td>4</td>\n",
       "    </tr>\n",
       "    <tr>\n",
       "      <th>3</th>\n",
       "      <td>1</td>\n",
       "      <td>1022</td>\n",
       "      <td>5</td>\n",
       "    </tr>\n",
       "    <tr>\n",
       "      <th>4</th>\n",
       "      <td>1</td>\n",
       "      <td>2340</td>\n",
       "      <td>3</td>\n",
       "    </tr>\n",
       "    <tr>\n",
       "      <th>...</th>\n",
       "      <td>...</td>\n",
       "      <td>...</td>\n",
       "      <td>...</td>\n",
       "    </tr>\n",
       "    <tr>\n",
       "      <th>1000204</th>\n",
       "      <td>6040</td>\n",
       "      <td>2917</td>\n",
       "      <td>4</td>\n",
       "    </tr>\n",
       "    <tr>\n",
       "      <th>1000205</th>\n",
       "      <td>6040</td>\n",
       "      <td>1921</td>\n",
       "      <td>4</td>\n",
       "    </tr>\n",
       "    <tr>\n",
       "      <th>1000206</th>\n",
       "      <td>6040</td>\n",
       "      <td>1784</td>\n",
       "      <td>3</td>\n",
       "    </tr>\n",
       "    <tr>\n",
       "      <th>1000207</th>\n",
       "      <td>6040</td>\n",
       "      <td>161</td>\n",
       "      <td>3</td>\n",
       "    </tr>\n",
       "    <tr>\n",
       "      <th>1000208</th>\n",
       "      <td>6040</td>\n",
       "      <td>1221</td>\n",
       "      <td>4</td>\n",
       "    </tr>\n",
       "  </tbody>\n",
       "</table>\n",
       "<p>1000209 rows × 3 columns</p>\n",
       "</div>"
      ],
      "text/plain": [
       "         user_id  movie_id  rating\n",
       "0              1      3186       4\n",
       "1              1      1270       5\n",
       "2              1      1721       4\n",
       "3              1      1022       5\n",
       "4              1      2340       3\n",
       "...          ...       ...     ...\n",
       "1000204     6040      2917       4\n",
       "1000205     6040      1921       4\n",
       "1000206     6040      1784       3\n",
       "1000207     6040       161       3\n",
       "1000208     6040      1221       4\n",
       "\n",
       "[1000209 rows x 3 columns]"
      ]
     },
     "execution_count": 4,
     "metadata": {},
     "output_type": "execute_result"
    }
   ],
   "source": [
    "ratings.sort_values([\"user_id\", \"timestamp\"], inplace=True)\n",
    "\n",
    "ratings = ratings[[\"user_id\", \"movie_id\", \"rating\"]]\n",
    "\n",
    "ratings.reset_index(drop=True, inplace=True)\n",
    "\n",
    "ratings = ratings.astype(int)\n",
    "\n",
    "ratings"
   ]
  },
  {
   "cell_type": "code",
   "execution_count": 5,
   "id": "1d73ed87",
   "metadata": {},
   "outputs": [
    {
     "data": {
      "text/plain": [
       "(6040, 1, 6040)"
      ]
     },
     "execution_count": 5,
     "metadata": {},
     "output_type": "execute_result"
    }
   ],
   "source": [
    "ratings.user_id.nunique(), ratings.user_id.min(), ratings.user_id.max()"
   ]
  },
  {
   "cell_type": "code",
   "execution_count": 6,
   "id": "6877c399",
   "metadata": {},
   "outputs": [
    {
     "data": {
      "text/plain": [
       "(3706, 1, 3952)"
      ]
     },
     "execution_count": 6,
     "metadata": {},
     "output_type": "execute_result"
    }
   ],
   "source": [
    "ratings.movie_id.nunique(), ratings.movie_id.min(), ratings.movie_id.max()"
   ]
  },
  {
   "cell_type": "code",
   "execution_count": 7,
   "id": "b7657cc0",
   "metadata": {},
   "outputs": [
    {
     "data": {
      "text/html": [
       "<div>\n",
       "<style scoped>\n",
       "    .dataframe tbody tr th:only-of-type {\n",
       "        vertical-align: middle;\n",
       "    }\n",
       "\n",
       "    .dataframe tbody tr th {\n",
       "        vertical-align: top;\n",
       "    }\n",
       "\n",
       "    .dataframe thead th {\n",
       "        text-align: right;\n",
       "    }\n",
       "</style>\n",
       "<table border=\"1\" class=\"dataframe\">\n",
       "  <thead>\n",
       "    <tr style=\"text-align: right;\">\n",
       "      <th></th>\n",
       "      <th>user_id</th>\n",
       "      <th>movie_id</th>\n",
       "      <th>rating</th>\n",
       "    </tr>\n",
       "  </thead>\n",
       "  <tbody>\n",
       "    <tr>\n",
       "      <th>0</th>\n",
       "      <td>1</td>\n",
       "      <td>3186</td>\n",
       "      <td>1</td>\n",
       "    </tr>\n",
       "    <tr>\n",
       "      <th>1</th>\n",
       "      <td>1</td>\n",
       "      <td>1270</td>\n",
       "      <td>1</td>\n",
       "    </tr>\n",
       "    <tr>\n",
       "      <th>2</th>\n",
       "      <td>1</td>\n",
       "      <td>1721</td>\n",
       "      <td>1</td>\n",
       "    </tr>\n",
       "    <tr>\n",
       "      <th>3</th>\n",
       "      <td>1</td>\n",
       "      <td>1022</td>\n",
       "      <td>1</td>\n",
       "    </tr>\n",
       "    <tr>\n",
       "      <th>4</th>\n",
       "      <td>1</td>\n",
       "      <td>2340</td>\n",
       "      <td>1</td>\n",
       "    </tr>\n",
       "    <tr>\n",
       "      <th>...</th>\n",
       "      <td>...</td>\n",
       "      <td>...</td>\n",
       "      <td>...</td>\n",
       "    </tr>\n",
       "    <tr>\n",
       "      <th>1000204</th>\n",
       "      <td>6040</td>\n",
       "      <td>2917</td>\n",
       "      <td>1</td>\n",
       "    </tr>\n",
       "    <tr>\n",
       "      <th>1000205</th>\n",
       "      <td>6040</td>\n",
       "      <td>1921</td>\n",
       "      <td>1</td>\n",
       "    </tr>\n",
       "    <tr>\n",
       "      <th>1000206</th>\n",
       "      <td>6040</td>\n",
       "      <td>1784</td>\n",
       "      <td>1</td>\n",
       "    </tr>\n",
       "    <tr>\n",
       "      <th>1000207</th>\n",
       "      <td>6040</td>\n",
       "      <td>161</td>\n",
       "      <td>1</td>\n",
       "    </tr>\n",
       "    <tr>\n",
       "      <th>1000208</th>\n",
       "      <td>6040</td>\n",
       "      <td>1221</td>\n",
       "      <td>1</td>\n",
       "    </tr>\n",
       "  </tbody>\n",
       "</table>\n",
       "<p>1000209 rows × 3 columns</p>\n",
       "</div>"
      ],
      "text/plain": [
       "         user_id  movie_id  rating\n",
       "0              1      3186       1\n",
       "1              1      1270       1\n",
       "2              1      1721       1\n",
       "3              1      1022       1\n",
       "4              1      2340       1\n",
       "...          ...       ...     ...\n",
       "1000204     6040      2917       1\n",
       "1000205     6040      1921       1\n",
       "1000206     6040      1784       1\n",
       "1000207     6040       161       1\n",
       "1000208     6040      1221       1\n",
       "\n",
       "[1000209 rows x 3 columns]"
      ]
     },
     "execution_count": 7,
     "metadata": {},
     "output_type": "execute_result"
    }
   ],
   "source": [
    "# every rated movie (even if its 1) is being considered as implicit positive - he decided to watch this movie\n",
    "ratings.rating = 1\n",
    "\n",
    "ratings"
   ]
  },
  {
   "cell_type": "code",
   "execution_count": 8,
   "id": "01575fac",
   "metadata": {},
   "outputs": [
    {
     "data": {
      "text/html": [
       "<div>\n",
       "<style scoped>\n",
       "    .dataframe tbody tr th:only-of-type {\n",
       "        vertical-align: middle;\n",
       "    }\n",
       "\n",
       "    .dataframe tbody tr th {\n",
       "        vertical-align: top;\n",
       "    }\n",
       "\n",
       "    .dataframe thead th {\n",
       "        text-align: right;\n",
       "    }\n",
       "</style>\n",
       "<table border=\"1\" class=\"dataframe\">\n",
       "  <thead>\n",
       "    <tr style=\"text-align: right;\">\n",
       "      <th></th>\n",
       "      <th>user_id</th>\n",
       "      <th>movie_id</th>\n",
       "      <th>rating</th>\n",
       "    </tr>\n",
       "  </thead>\n",
       "  <tbody>\n",
       "    <tr>\n",
       "      <th>0</th>\n",
       "      <td>1</td>\n",
       "      <td>3186</td>\n",
       "      <td>1</td>\n",
       "    </tr>\n",
       "    <tr>\n",
       "      <th>1</th>\n",
       "      <td>1</td>\n",
       "      <td>1270</td>\n",
       "      <td>1</td>\n",
       "    </tr>\n",
       "    <tr>\n",
       "      <th>2</th>\n",
       "      <td>1</td>\n",
       "      <td>1721</td>\n",
       "      <td>1</td>\n",
       "    </tr>\n",
       "    <tr>\n",
       "      <th>3</th>\n",
       "      <td>1</td>\n",
       "      <td>1022</td>\n",
       "      <td>1</td>\n",
       "    </tr>\n",
       "    <tr>\n",
       "      <th>4</th>\n",
       "      <td>1</td>\n",
       "      <td>2340</td>\n",
       "      <td>1</td>\n",
       "    </tr>\n",
       "    <tr>\n",
       "      <th>...</th>\n",
       "      <td>...</td>\n",
       "      <td>...</td>\n",
       "      <td>...</td>\n",
       "    </tr>\n",
       "    <tr>\n",
       "      <th>1000204</th>\n",
       "      <td>6040</td>\n",
       "      <td>2917</td>\n",
       "      <td>1</td>\n",
       "    </tr>\n",
       "    <tr>\n",
       "      <th>1000205</th>\n",
       "      <td>6040</td>\n",
       "      <td>1921</td>\n",
       "      <td>1</td>\n",
       "    </tr>\n",
       "    <tr>\n",
       "      <th>1000206</th>\n",
       "      <td>6040</td>\n",
       "      <td>1784</td>\n",
       "      <td>1</td>\n",
       "    </tr>\n",
       "    <tr>\n",
       "      <th>1000207</th>\n",
       "      <td>6040</td>\n",
       "      <td>161</td>\n",
       "      <td>1</td>\n",
       "    </tr>\n",
       "    <tr>\n",
       "      <th>1000208</th>\n",
       "      <td>6040</td>\n",
       "      <td>1221</td>\n",
       "      <td>1</td>\n",
       "    </tr>\n",
       "  </tbody>\n",
       "</table>\n",
       "<p>1000209 rows × 3 columns</p>\n",
       "</div>"
      ],
      "text/plain": [
       "         user_id  movie_id  rating\n",
       "0              1      3186       1\n",
       "1              1      1270       1\n",
       "2              1      1721       1\n",
       "3              1      1022       1\n",
       "4              1      2340       1\n",
       "...          ...       ...     ...\n",
       "1000204     6040      2917       1\n",
       "1000205     6040      1921       1\n",
       "1000206     6040      1784       1\n",
       "1000207     6040       161       1\n",
       "1000208     6040      1221       1\n",
       "\n",
       "[1000209 rows x 3 columns]"
      ]
     },
     "execution_count": 8,
     "metadata": {},
     "output_type": "execute_result"
    }
   ],
   "source": [
    "# to match bert4rec paper's statistics of dataset\n",
    "# ratings = ratings[ratings.groupby(\"user_id\")['movie_id'].transform('count') >= 5]\n",
    "# ratings = ratings[ratings.groupby(\"movie_id\")['user_id'].transform('count') >= 5]\n",
    "\n",
    "ratings.reset_index(drop=True, inplace=True)\n",
    "\n",
    "ratings"
   ]
  },
  {
   "cell_type": "code",
   "execution_count": 9,
   "id": "d6e828be",
   "metadata": {},
   "outputs": [
    {
     "name": "stdout",
     "output_type": "stream",
     "text": [
      "statistics: 6040 3706\n"
     ]
    }
   ],
   "source": [
    "print(\"statistics:\", ratings.user_id.nunique(), ratings.movie_id.nunique())"
   ]
  },
  {
   "attachments": {
    "image.png": {
     "image/png": "[encoded data removed]"
    }
   },
   "cell_type": "markdown",
   "id": "afa62e3f",
   "metadata": {},
   "source": [
    "![image.png](attachment:image.png)"
   ]
  },
  {
   "cell_type": "code",
   "execution_count": 10,
   "id": "7de48ad9",
   "metadata": {},
   "outputs": [],
   "source": [
    "def create_index_mapping(df):\n",
    "    u2ix = {user_id: i for i, user_id in enumerate(df.user_id.unique())}\n",
    "    i2ix = {item_id: i for i, item_id in enumerate(df.movie_id.unique())}\n",
    "    return u2ix, i2ix\n",
    "\n",
    "def apply_index_mapping(df, u2ix, i2ix):\n",
    "    df.user_id = df.user_id.map(lambda x: u2ix[x])\n",
    "    df.movie_id = df.movie_id.map(lambda x: i2ix[x])\n",
    "    return df\n",
    "\n",
    "u2ix, i2ix = create_index_mapping(ratings)\n",
    "ratings = apply_index_mapping(ratings, u2ix, i2ix)"
   ]
  },
  {
   "cell_type": "code",
   "execution_count": 11,
   "id": "df243679",
   "metadata": {},
   "outputs": [
    {
     "data": {
      "text/plain": [
       "(0, 6039)"
      ]
     },
     "execution_count": 11,
     "metadata": {},
     "output_type": "execute_result"
    }
   ],
   "source": [
    "ratings.user_id.min(), ratings.user_id.max()"
   ]
  },
  {
   "cell_type": "code",
   "execution_count": 12,
   "id": "929a781f",
   "metadata": {},
   "outputs": [
    {
     "data": {
      "text/plain": [
       "(0, 3705)"
      ]
     },
     "execution_count": 12,
     "metadata": {},
     "output_type": "execute_result"
    }
   ],
   "source": [
    "ratings.movie_id.min(), ratings.movie_id.max()"
   ]
  },
  {
   "cell_type": "markdown",
   "id": "12b02439",
   "metadata": {},
   "source": [
    "leave-last-out:"
   ]
  },
  {
   "cell_type": "code",
   "execution_count": 13,
   "id": "dde8ede0",
   "metadata": {},
   "outputs": [
    {
     "data": {
      "text/html": [
       "<div>\n",
       "<style scoped>\n",
       "    .dataframe tbody tr th:only-of-type {\n",
       "        vertical-align: middle;\n",
       "    }\n",
       "\n",
       "    .dataframe tbody tr th {\n",
       "        vertical-align: top;\n",
       "    }\n",
       "\n",
       "    .dataframe thead th {\n",
       "        text-align: right;\n",
       "    }\n",
       "</style>\n",
       "<table border=\"1\" class=\"dataframe\">\n",
       "  <thead>\n",
       "    <tr style=\"text-align: right;\">\n",
       "      <th></th>\n",
       "      <th>user_id</th>\n",
       "      <th>movie_id</th>\n",
       "      <th>rating</th>\n",
       "    </tr>\n",
       "  </thead>\n",
       "  <tbody>\n",
       "    <tr>\n",
       "      <th>52</th>\n",
       "      <td>0</td>\n",
       "      <td>52</td>\n",
       "      <td>1</td>\n",
       "    </tr>\n",
       "    <tr>\n",
       "      <th>181</th>\n",
       "      <td>1</td>\n",
       "      <td>174</td>\n",
       "      <td>1</td>\n",
       "    </tr>\n",
       "    <tr>\n",
       "      <th>232</th>\n",
       "      <td>2</td>\n",
       "      <td>207</td>\n",
       "      <td>1</td>\n",
       "    </tr>\n",
       "    <tr>\n",
       "      <th>253</th>\n",
       "      <td>3</td>\n",
       "      <td>88</td>\n",
       "      <td>1</td>\n",
       "    </tr>\n",
       "    <tr>\n",
       "      <th>451</th>\n",
       "      <td>4</td>\n",
       "      <td>384</td>\n",
       "      <td>1</td>\n",
       "    </tr>\n",
       "    <tr>\n",
       "      <th>...</th>\n",
       "      <td>...</td>\n",
       "      <td>...</td>\n",
       "      <td>...</td>\n",
       "    </tr>\n",
       "    <tr>\n",
       "      <th>999522</th>\n",
       "      <td>6035</td>\n",
       "      <td>927</td>\n",
       "      <td>1</td>\n",
       "    </tr>\n",
       "    <tr>\n",
       "      <th>999724</th>\n",
       "      <td>6036</td>\n",
       "      <td>684</td>\n",
       "      <td>1</td>\n",
       "    </tr>\n",
       "    <tr>\n",
       "      <th>999744</th>\n",
       "      <td>6037</td>\n",
       "      <td>1587</td>\n",
       "      <td>1</td>\n",
       "    </tr>\n",
       "    <tr>\n",
       "      <th>999867</th>\n",
       "      <td>6038</td>\n",
       "      <td>579</td>\n",
       "      <td>1</td>\n",
       "    </tr>\n",
       "    <tr>\n",
       "      <th>1000208</th>\n",
       "      <td>6039</td>\n",
       "      <td>430</td>\n",
       "      <td>1</td>\n",
       "    </tr>\n",
       "  </tbody>\n",
       "</table>\n",
       "<p>6040 rows × 3 columns</p>\n",
       "</div>"
      ],
      "text/plain": [
       "         user_id  movie_id  rating\n",
       "52             0        52       1\n",
       "181            1       174       1\n",
       "232            2       207       1\n",
       "253            3        88       1\n",
       "451            4       384       1\n",
       "...          ...       ...     ...\n",
       "999522      6035       927       1\n",
       "999724      6036       684       1\n",
       "999744      6037      1587       1\n",
       "999867      6038       579       1\n",
       "1000208     6039       430       1\n",
       "\n",
       "[6040 rows x 3 columns]"
      ]
     },
     "execution_count": 13,
     "metadata": {},
     "output_type": "execute_result"
    }
   ],
   "source": [
    "test = ratings.groupby(\"user_id\").tail(1)\n",
    "\n",
    "test"
   ]
  },
  {
   "cell_type": "code",
   "execution_count": 14,
   "id": "90c8c63f",
   "metadata": {},
   "outputs": [
    {
     "data": {
      "text/html": [
       "<div>\n",
       "<style scoped>\n",
       "    .dataframe tbody tr th:only-of-type {\n",
       "        vertical-align: middle;\n",
       "    }\n",
       "\n",
       "    .dataframe tbody tr th {\n",
       "        vertical-align: top;\n",
       "    }\n",
       "\n",
       "    .dataframe thead th {\n",
       "        text-align: right;\n",
       "    }\n",
       "</style>\n",
       "<table border=\"1\" class=\"dataframe\">\n",
       "  <thead>\n",
       "    <tr style=\"text-align: right;\">\n",
       "      <th></th>\n",
       "      <th>user_id</th>\n",
       "      <th>movie_id</th>\n",
       "      <th>rating</th>\n",
       "    </tr>\n",
       "  </thead>\n",
       "  <tbody>\n",
       "    <tr>\n",
       "      <th>0</th>\n",
       "      <td>0</td>\n",
       "      <td>0</td>\n",
       "      <td>1</td>\n",
       "    </tr>\n",
       "    <tr>\n",
       "      <th>1</th>\n",
       "      <td>0</td>\n",
       "      <td>1</td>\n",
       "      <td>1</td>\n",
       "    </tr>\n",
       "    <tr>\n",
       "      <th>2</th>\n",
       "      <td>0</td>\n",
       "      <td>2</td>\n",
       "      <td>1</td>\n",
       "    </tr>\n",
       "    <tr>\n",
       "      <th>3</th>\n",
       "      <td>0</td>\n",
       "      <td>3</td>\n",
       "      <td>1</td>\n",
       "    </tr>\n",
       "    <tr>\n",
       "      <th>4</th>\n",
       "      <td>0</td>\n",
       "      <td>4</td>\n",
       "      <td>1</td>\n",
       "    </tr>\n",
       "    <tr>\n",
       "      <th>...</th>\n",
       "      <td>...</td>\n",
       "      <td>...</td>\n",
       "      <td>...</td>\n",
       "    </tr>\n",
       "    <tr>\n",
       "      <th>1000203</th>\n",
       "      <td>6039</td>\n",
       "      <td>1097</td>\n",
       "      <td>1</td>\n",
       "    </tr>\n",
       "    <tr>\n",
       "      <th>1000204</th>\n",
       "      <td>6039</td>\n",
       "      <td>1248</td>\n",
       "      <td>1</td>\n",
       "    </tr>\n",
       "    <tr>\n",
       "      <th>1000205</th>\n",
       "      <td>6039</td>\n",
       "      <td>370</td>\n",
       "      <td>1</td>\n",
       "    </tr>\n",
       "    <tr>\n",
       "      <th>1000206</th>\n",
       "      <td>6039</td>\n",
       "      <td>89</td>\n",
       "      <td>1</td>\n",
       "    </tr>\n",
       "    <tr>\n",
       "      <th>1000207</th>\n",
       "      <td>6039</td>\n",
       "      <td>464</td>\n",
       "      <td>1</td>\n",
       "    </tr>\n",
       "  </tbody>\n",
       "</table>\n",
       "<p>994169 rows × 3 columns</p>\n",
       "</div>"
      ],
      "text/plain": [
       "         user_id  movie_id  rating\n",
       "0              0         0       1\n",
       "1              0         1       1\n",
       "2              0         2       1\n",
       "3              0         3       1\n",
       "4              0         4       1\n",
       "...          ...       ...     ...\n",
       "1000203     6039      1097       1\n",
       "1000204     6039      1248       1\n",
       "1000205     6039       370       1\n",
       "1000206     6039        89       1\n",
       "1000207     6039       464       1\n",
       "\n",
       "[994169 rows x 3 columns]"
      ]
     },
     "execution_count": 14,
     "metadata": {},
     "output_type": "execute_result"
    }
   ],
   "source": [
    "train_and_val = ratings.drop(test.index, axis=0)\n",
    "\n",
    "train_and_val"
   ]
  },
  {
   "cell_type": "code",
   "execution_count": 15,
   "id": "9475a56d",
   "metadata": {},
   "outputs": [
    {
     "data": {
      "text/html": [
       "<div>\n",
       "<style scoped>\n",
       "    .dataframe tbody tr th:only-of-type {\n",
       "        vertical-align: middle;\n",
       "    }\n",
       "\n",
       "    .dataframe tbody tr th {\n",
       "        vertical-align: top;\n",
       "    }\n",
       "\n",
       "    .dataframe thead th {\n",
       "        text-align: right;\n",
       "    }\n",
       "</style>\n",
       "<table border=\"1\" class=\"dataframe\">\n",
       "  <thead>\n",
       "    <tr style=\"text-align: right;\">\n",
       "      <th></th>\n",
       "      <th>user_id</th>\n",
       "      <th>movie_id</th>\n",
       "      <th>rating</th>\n",
       "    </tr>\n",
       "  </thead>\n",
       "  <tbody>\n",
       "    <tr>\n",
       "      <th>51</th>\n",
       "      <td>0</td>\n",
       "      <td>51</td>\n",
       "      <td>1</td>\n",
       "    </tr>\n",
       "    <tr>\n",
       "      <th>180</th>\n",
       "      <td>1</td>\n",
       "      <td>173</td>\n",
       "      <td>1</td>\n",
       "    </tr>\n",
       "    <tr>\n",
       "      <th>231</th>\n",
       "      <td>2</td>\n",
       "      <td>206</td>\n",
       "      <td>1</td>\n",
       "    </tr>\n",
       "    <tr>\n",
       "      <th>252</th>\n",
       "      <td>3</td>\n",
       "      <td>217</td>\n",
       "      <td>1</td>\n",
       "    </tr>\n",
       "    <tr>\n",
       "      <th>450</th>\n",
       "      <td>4</td>\n",
       "      <td>383</td>\n",
       "      <td>1</td>\n",
       "    </tr>\n",
       "    <tr>\n",
       "      <th>...</th>\n",
       "      <td>...</td>\n",
       "      <td>...</td>\n",
       "      <td>...</td>\n",
       "    </tr>\n",
       "    <tr>\n",
       "      <th>999521</th>\n",
       "      <td>6035</td>\n",
       "      <td>3356</td>\n",
       "      <td>1</td>\n",
       "    </tr>\n",
       "    <tr>\n",
       "      <th>999723</th>\n",
       "      <td>6036</td>\n",
       "      <td>244</td>\n",
       "      <td>1</td>\n",
       "    </tr>\n",
       "    <tr>\n",
       "      <th>999743</th>\n",
       "      <td>6037</td>\n",
       "      <td>252</td>\n",
       "      <td>1</td>\n",
       "    </tr>\n",
       "    <tr>\n",
       "      <th>999866</th>\n",
       "      <td>6038</td>\n",
       "      <td>562</td>\n",
       "      <td>1</td>\n",
       "    </tr>\n",
       "    <tr>\n",
       "      <th>1000207</th>\n",
       "      <td>6039</td>\n",
       "      <td>464</td>\n",
       "      <td>1</td>\n",
       "    </tr>\n",
       "  </tbody>\n",
       "</table>\n",
       "<p>6040 rows × 3 columns</p>\n",
       "</div>"
      ],
      "text/plain": [
       "         user_id  movie_id  rating\n",
       "51             0        51       1\n",
       "180            1       173       1\n",
       "231            2       206       1\n",
       "252            3       217       1\n",
       "450            4       383       1\n",
       "...          ...       ...     ...\n",
       "999521      6035      3356       1\n",
       "999723      6036       244       1\n",
       "999743      6037       252       1\n",
       "999866      6038       562       1\n",
       "1000207     6039       464       1\n",
       "\n",
       "[6040 rows x 3 columns]"
      ]
     },
     "execution_count": 15,
     "metadata": {},
     "output_type": "execute_result"
    }
   ],
   "source": [
    "val = train_and_val.groupby(\"user_id\").tail(1)\n",
    "\n",
    "val"
   ]
  },
  {
   "cell_type": "code",
   "execution_count": 16,
   "id": "b1998430",
   "metadata": {},
   "outputs": [
    {
     "data": {
      "text/html": [
       "<div>\n",
       "<style scoped>\n",
       "    .dataframe tbody tr th:only-of-type {\n",
       "        vertical-align: middle;\n",
       "    }\n",
       "\n",
       "    .dataframe tbody tr th {\n",
       "        vertical-align: top;\n",
       "    }\n",
       "\n",
       "    .dataframe thead th {\n",
       "        text-align: right;\n",
       "    }\n",
       "</style>\n",
       "<table border=\"1\" class=\"dataframe\">\n",
       "  <thead>\n",
       "    <tr style=\"text-align: right;\">\n",
       "      <th></th>\n",
       "      <th>user_id</th>\n",
       "      <th>movie_id</th>\n",
       "      <th>rating</th>\n",
       "    </tr>\n",
       "  </thead>\n",
       "  <tbody>\n",
       "    <tr>\n",
       "      <th>0</th>\n",
       "      <td>0</td>\n",
       "      <td>0</td>\n",
       "      <td>1</td>\n",
       "    </tr>\n",
       "    <tr>\n",
       "      <th>1</th>\n",
       "      <td>0</td>\n",
       "      <td>1</td>\n",
       "      <td>1</td>\n",
       "    </tr>\n",
       "    <tr>\n",
       "      <th>2</th>\n",
       "      <td>0</td>\n",
       "      <td>2</td>\n",
       "      <td>1</td>\n",
       "    </tr>\n",
       "    <tr>\n",
       "      <th>3</th>\n",
       "      <td>0</td>\n",
       "      <td>3</td>\n",
       "      <td>1</td>\n",
       "    </tr>\n",
       "    <tr>\n",
       "      <th>4</th>\n",
       "      <td>0</td>\n",
       "      <td>4</td>\n",
       "      <td>1</td>\n",
       "    </tr>\n",
       "    <tr>\n",
       "      <th>...</th>\n",
       "      <td>...</td>\n",
       "      <td>...</td>\n",
       "      <td>...</td>\n",
       "    </tr>\n",
       "    <tr>\n",
       "      <th>1000202</th>\n",
       "      <td>6039</td>\n",
       "      <td>180</td>\n",
       "      <td>1</td>\n",
       "    </tr>\n",
       "    <tr>\n",
       "      <th>1000203</th>\n",
       "      <td>6039</td>\n",
       "      <td>1097</td>\n",
       "      <td>1</td>\n",
       "    </tr>\n",
       "    <tr>\n",
       "      <th>1000204</th>\n",
       "      <td>6039</td>\n",
       "      <td>1248</td>\n",
       "      <td>1</td>\n",
       "    </tr>\n",
       "    <tr>\n",
       "      <th>1000205</th>\n",
       "      <td>6039</td>\n",
       "      <td>370</td>\n",
       "      <td>1</td>\n",
       "    </tr>\n",
       "    <tr>\n",
       "      <th>1000206</th>\n",
       "      <td>6039</td>\n",
       "      <td>89</td>\n",
       "      <td>1</td>\n",
       "    </tr>\n",
       "  </tbody>\n",
       "</table>\n",
       "<p>988129 rows × 3 columns</p>\n",
       "</div>"
      ],
      "text/plain": [
       "         user_id  movie_id  rating\n",
       "0              0         0       1\n",
       "1              0         1       1\n",
       "2              0         2       1\n",
       "3              0         3       1\n",
       "4              0         4       1\n",
       "...          ...       ...     ...\n",
       "1000202     6039       180       1\n",
       "1000203     6039      1097       1\n",
       "1000204     6039      1248       1\n",
       "1000205     6039       370       1\n",
       "1000206     6039        89       1\n",
       "\n",
       "[988129 rows x 3 columns]"
      ]
     },
     "execution_count": 16,
     "metadata": {},
     "output_type": "execute_result"
    }
   ],
   "source": [
    "train = train_and_val.drop(val.index, axis=0)\n",
    "\n",
    "train"
   ]
  },
  {
   "cell_type": "code",
   "execution_count": 17,
   "id": "0b02997a",
   "metadata": {},
   "outputs": [],
   "source": [
    "train.reset_index(drop=True, inplace=True)\n",
    "val.reset_index(drop=True, inplace=True)\n",
    "test.reset_index(drop=True, inplace=True)\n",
    "\n",
    "# we need this only for baselines and als - we dont use validation holdout in these, only test\n",
    "train_and_val.reset_index(drop=True, inplace=True)"
   ]
  },
  {
   "cell_type": "code",
   "execution_count": 18,
   "id": "1e9af677",
   "metadata": {},
   "outputs": [],
   "source": [
    "train_dict = dict(train.groupby('user_id').apply(lambda d: list(d['movie_id'])))\n",
    "val_dict = dict(val.groupby('user_id').apply(lambda d: list(d['movie_id'])))\n",
    "test_dict = dict(test.groupby('user_id').apply(lambda d: list(d['movie_id'])))"
   ]
  },
  {
   "cell_type": "code",
   "execution_count": 19,
   "id": "4dff1c24",
   "metadata": {},
   "outputs": [],
   "source": [
    "# we will need this data in this format later in bert4rec\n",
    "dataset_for_bert4rec = {'train': train_dict,\n",
    "                       'val': val_dict,\n",
    "                       'test': test_dict,\n",
    "                       'umap': u2ix,\n",
    "                       'smap': i2ix}"
   ]
  },
  {
   "cell_type": "code",
   "execution_count": 20,
   "id": "580b5d19",
   "metadata": {},
   "outputs": [],
   "source": [
    "import pickle\n",
    "\n",
    "with open('prepared_dataset/dataset_for_bert4rec.pickle', 'wb') as handle:\n",
    "    pickle.dump(dataset_for_bert4rec, handle, protocol=pickle.HIGHEST_PROTOCOL)"
   ]
  },
  {
   "cell_type": "markdown",
   "id": "4f6b3e11",
   "metadata": {},
   "source": [
    "##### sample negative examples for each user (popularity sampling strategy):"
   ]
  },
  {
   "cell_type": "code",
   "execution_count": 21,
   "id": "b1c81a99",
   "metadata": {},
   "outputs": [],
   "source": [
    "user_positively_interacted_with = ratings.groupby('user_id')['movie_id'].apply(set).to_dict()"
   ]
  },
  {
   "cell_type": "code",
   "execution_count": 22,
   "id": "febd0785",
   "metadata": {},
   "outputs": [],
   "source": [
    "assert len(user_positively_interacted_with[1]) == len(train_and_val[train_and_val.user_id == 1]) + 1"
   ]
  },
  {
   "cell_type": "code",
   "execution_count": 23,
   "id": "3c1cadf1",
   "metadata": {},
   "outputs": [],
   "source": [
    "item_count = ratings[\"movie_id\"].value_counts().to_dict()\n",
    "item_probabilities = {k: v / sum([x for x in item_count.values()]) for k, v in item_count.items()}"
   ]
  },
  {
   "cell_type": "code",
   "execution_count": 24,
   "id": "09f0a05f",
   "metadata": {},
   "outputs": [
    {
     "data": {
      "text/plain": [
       "[(0, 52, 1),\n",
       " (0, 1068, 0),\n",
       " (0, 731, 0),\n",
       " (0, 1026, 0),\n",
       " (0, 314, 0),\n",
       " (0, 1148, 0),\n",
       " (0, 1008, 0),\n",
       " (0, 1030, 0),\n",
       " (0, 1513, 0),\n",
       " (0, 2575, 0)]"
      ]
     },
     "execution_count": 24,
     "metadata": {},
     "output_type": "execute_result"
    }
   ],
   "source": [
    "import numpy as np\n",
    "from numpy.random import choice\n",
    "\n",
    "negative_samples = dict()\n",
    "test_rows = []\n",
    "\n",
    "for _, row in test.iterrows():\n",
    "    test_interactions = [(row[\"user_id\"], row[\"movie_id\"], row[\"rating\"],)]\n",
    "    \n",
    "    np.random.seed(row[\"user_id\"])\n",
    "    negative_sampled_interactions = list(choice(list(item_probabilities.keys()), 800, replace=False, p=list(item_probabilities.values())))\n",
    "    negative_sampled_interactions = [x for x in negative_sampled_interactions if x not in user_positively_interacted_with[row[\"user_id\"]]]\n",
    "    negative_sampled_interactions = negative_sampled_interactions[:100]\n",
    "    \n",
    "    # we will use this negative_samples in bert4rec:\n",
    "    negative_samples[row[\"user_id\"]] = negative_sampled_interactions\n",
    "\n",
    "    test_interactions.extend([(row[\"user_id\"], x, 0,) for x in negative_sampled_interactions])\n",
    "    \n",
    "    test_rows.extend(test_interactions)\n",
    "    \n",
    "test_rows[:10]"
   ]
  },
  {
   "cell_type": "code",
   "execution_count": 25,
   "id": "69c6cb15",
   "metadata": {},
   "outputs": [
    {
     "data": {
      "text/plain": [
       "[1068, 731, 1026, 314, 1148, 1008, 1030, 1513, 2575]"
      ]
     },
     "execution_count": 25,
     "metadata": {},
     "output_type": "execute_result"
    }
   ],
   "source": [
    "negative_samples[0][:9]"
   ]
  },
  {
   "cell_type": "code",
   "execution_count": 26,
   "id": "27b3282d",
   "metadata": {},
   "outputs": [
    {
     "data": {
      "text/html": [
       "<div>\n",
       "<style scoped>\n",
       "    .dataframe tbody tr th:only-of-type {\n",
       "        vertical-align: middle;\n",
       "    }\n",
       "\n",
       "    .dataframe tbody tr th {\n",
       "        vertical-align: top;\n",
       "    }\n",
       "\n",
       "    .dataframe thead th {\n",
       "        text-align: right;\n",
       "    }\n",
       "</style>\n",
       "<table border=\"1\" class=\"dataframe\">\n",
       "  <thead>\n",
       "    <tr style=\"text-align: right;\">\n",
       "      <th></th>\n",
       "      <th>user_id</th>\n",
       "      <th>movie_id</th>\n",
       "      <th>rating</th>\n",
       "    </tr>\n",
       "  </thead>\n",
       "  <tbody>\n",
       "    <tr>\n",
       "      <th>0</th>\n",
       "      <td>0</td>\n",
       "      <td>52</td>\n",
       "      <td>1</td>\n",
       "    </tr>\n",
       "    <tr>\n",
       "      <th>1</th>\n",
       "      <td>0</td>\n",
       "      <td>1068</td>\n",
       "      <td>0</td>\n",
       "    </tr>\n",
       "    <tr>\n",
       "      <th>2</th>\n",
       "      <td>0</td>\n",
       "      <td>731</td>\n",
       "      <td>0</td>\n",
       "    </tr>\n",
       "    <tr>\n",
       "      <th>3</th>\n",
       "      <td>0</td>\n",
       "      <td>1026</td>\n",
       "      <td>0</td>\n",
       "    </tr>\n",
       "    <tr>\n",
       "      <th>4</th>\n",
       "      <td>0</td>\n",
       "      <td>314</td>\n",
       "      <td>0</td>\n",
       "    </tr>\n",
       "    <tr>\n",
       "      <th>...</th>\n",
       "      <td>...</td>\n",
       "      <td>...</td>\n",
       "      <td>...</td>\n",
       "    </tr>\n",
       "    <tr>\n",
       "      <th>610035</th>\n",
       "      <td>6039</td>\n",
       "      <td>442</td>\n",
       "      <td>0</td>\n",
       "    </tr>\n",
       "    <tr>\n",
       "      <th>610036</th>\n",
       "      <td>6039</td>\n",
       "      <td>581</td>\n",
       "      <td>0</td>\n",
       "    </tr>\n",
       "    <tr>\n",
       "      <th>610037</th>\n",
       "      <td>6039</td>\n",
       "      <td>147</td>\n",
       "      <td>0</td>\n",
       "    </tr>\n",
       "    <tr>\n",
       "      <th>610038</th>\n",
       "      <td>6039</td>\n",
       "      <td>1327</td>\n",
       "      <td>0</td>\n",
       "    </tr>\n",
       "    <tr>\n",
       "      <th>610039</th>\n",
       "      <td>6039</td>\n",
       "      <td>73</td>\n",
       "      <td>0</td>\n",
       "    </tr>\n",
       "  </tbody>\n",
       "</table>\n",
       "<p>610040 rows × 3 columns</p>\n",
       "</div>"
      ],
      "text/plain": [
       "        user_id  movie_id  rating\n",
       "0             0        52       1\n",
       "1             0      1068       0\n",
       "2             0       731       0\n",
       "3             0      1026       0\n",
       "4             0       314       0\n",
       "...         ...       ...     ...\n",
       "610035     6039       442       0\n",
       "610036     6039       581       0\n",
       "610037     6039       147       0\n",
       "610038     6039      1327       0\n",
       "610039     6039        73       0\n",
       "\n",
       "[610040 rows x 3 columns]"
      ]
     },
     "execution_count": 26,
     "metadata": {},
     "output_type": "execute_result"
    }
   ],
   "source": [
    "neg_sampled_test = pd.DataFrame(test_rows, columns=[\"user_id\", \"movie_id\", \"rating\"])\n",
    "\n",
    "neg_sampled_test"
   ]
  },
  {
   "cell_type": "markdown",
   "id": "b2bf607b",
   "metadata": {},
   "source": [
    "# 2) run baselines:"
   ]
  },
  {
   "cell_type": "markdown",
   "id": "edd90e09",
   "metadata": {},
   "source": [
    "##### random baseline:"
   ]
  },
  {
   "cell_type": "code",
   "execution_count": 27,
   "id": "ae8712af",
   "metadata": {},
   "outputs": [
    {
     "data": {
      "text/plain": [
       "(0.04383581806122516, 0.0015566100955503503)"
      ]
     },
     "execution_count": 27,
     "metadata": {},
     "output_type": "execute_result"
    }
   ],
   "source": [
    "ndcgresults = []\n",
    "for i in range(10):\n",
    "    ndcg_value = calculate_grouped_ndcg_random(train_and_val, neg_sampled_test, 10, i)\n",
    "    \n",
    "    ndcgresults.append(ndcg_value)\n",
    "    \n",
    "np.mean(ndcgresults), np.std(ndcgresults)"
   ]
  },
  {
   "cell_type": "markdown",
   "id": "4e0db11f",
   "metadata": {},
   "source": [
    "##### pop baseline:"
   ]
  },
  {
   "cell_type": "code",
   "execution_count": 28,
   "id": "cdc2843c",
   "metadata": {},
   "outputs": [
    {
     "data": {
      "text/plain": [
       "0.0637115264389976"
      ]
     },
     "execution_count": 28,
     "metadata": {},
     "output_type": "execute_result"
    }
   ],
   "source": [
    "calculate_grouped_ndcg_sum_popularity(train_and_val, neg_sampled_test, 10)"
   ]
  },
  {
   "cell_type": "markdown",
   "id": "f9b8a85f",
   "metadata": {},
   "source": [
    "##### iALS and BPR baselines:"
   ]
  },
  {
   "cell_type": "code",
   "execution_count": 29,
   "id": "07d092c4",
   "metadata": {},
   "outputs": [],
   "source": [
    "import scipy.sparse as sparse\n",
    "\n",
    "def create_sparse_matrix(df):\n",
    "    csr = sparse.csr_matrix((df.rating, (df.user_id, df.movie_id)))\n",
    "    return csr\n",
    "\n",
    "sparse_train_and_val = create_sparse_matrix(train_and_val)"
   ]
  },
  {
   "cell_type": "code",
   "execution_count": 30,
   "id": "c3549aed",
   "metadata": {},
   "outputs": [],
   "source": [
    "import implicit"
   ]
  },
  {
   "cell_type": "code",
   "execution_count": 31,
   "id": "9e4379b7",
   "metadata": {},
   "outputs": [
    {
     "name": "stderr",
     "output_type": "stream",
     "text": [
      "C:\\Users\\atama\\anaconda3\\envs\\conda_bert4rec\\lib\\site-packages\\implicit\\cpu\\als.py:95: RuntimeWarning: OpenBLAS is configured to use 8 threads. It is highly recommended to disable its internal threadpool by setting the environment variable 'OPENBLAS_NUM_THREADS=1' or by calling 'threadpoolctl.threadpool_limits(1, \"blas\")'. Having OpenBLAS use a threadpool can lead to severe performance issues here.\n",
      "  check_blas_config()\n"
     ]
    }
   ],
   "source": [
    "iALS = implicit.als.AlternatingLeastSquares(factors=256, iterations=150)"
   ]
  },
  {
   "cell_type": "code",
   "execution_count": 32,
   "id": "759b71c6",
   "metadata": {},
   "outputs": [
    {
     "data": {
      "application/vnd.jupyter.widget-view+json": {
       "model_id": "7d0da9a740914473be3e3ec213e8bdf4",
       "version_major": 2,
       "version_minor": 0
      },
      "text/plain": [
       "  0%|          | 0/150 [00:00<?, ?it/s]"
      ]
     },
     "metadata": {},
     "output_type": "display_data"
    }
   ],
   "source": [
    "iALS.fit(sparse_train_and_val)"
   ]
  },
  {
   "cell_type": "code",
   "execution_count": 33,
   "id": "c95c109d",
   "metadata": {},
   "outputs": [
    {
     "data": {
      "text/plain": [
       "0.22219820326153908"
      ]
     },
     "execution_count": 33,
     "metadata": {},
     "output_type": "execute_result"
    }
   ],
   "source": [
    "calculate_grouped_ndcg_with_embeddings(neg_sampled_test, iALS, 10)"
   ]
  },
  {
   "cell_type": "code",
   "execution_count": 34,
   "id": "21e94d53",
   "metadata": {},
   "outputs": [],
   "source": [
    "BPRMF = implicit.bpr.BayesianPersonalizedRanking(factors=256, iterations=150)"
   ]
  },
  {
   "cell_type": "code",
   "execution_count": 35,
   "id": "03617276",
   "metadata": {},
   "outputs": [
    {
     "data": {
      "application/vnd.jupyter.widget-view+json": {
       "model_id": "c4a192e4e5a94147b58cb9f7179429a6",
       "version_major": 2,
       "version_minor": 0
      },
      "text/plain": [
       "  0%|          | 0/150 [00:00<?, ?it/s]"
      ]
     },
     "metadata": {},
     "output_type": "display_data"
    }
   ],
   "source": [
    "BPRMF.fit(sparse_train_and_val)"
   ]
  },
  {
   "cell_type": "code",
   "execution_count": 36,
   "id": "73cea776",
   "metadata": {},
   "outputs": [
    {
     "data": {
      "text/plain": [
       "0.2720362446001705"
      ]
     },
     "execution_count": 36,
     "metadata": {},
     "output_type": "execute_result"
    }
   ],
   "source": [
    "calculate_grouped_ndcg_with_embeddings(neg_sampled_test, BPRMF, 10)"
   ]
  },
  {
   "cell_type": "markdown",
   "id": "805e661a",
   "metadata": {},
   "source": [
    "# 3) prepare datasets and dataloaders for bert4rec:"
   ]
  },
  {
   "cell_type": "code",
   "execution_count": 27,
   "id": "11a4b42d",
   "metadata": {},
   "outputs": [],
   "source": [
    "# for using argparse in ipython\n",
    "import sys\n",
    "sys.argv = ['']"
   ]
  },
  {
   "cell_type": "code",
   "execution_count": 28,
   "id": "13f32614",
   "metadata": {},
   "outputs": [],
   "source": [
    "from bert4rec_modules_and_configs.utils import *\n",
    "from bert4rec_modules_and_configs.options import args"
   ]
  },
  {
   "cell_type": "code",
   "execution_count": 29,
   "id": "135ba84f",
   "metadata": {},
   "outputs": [],
   "source": [
    "# load from data preparation step\n",
    "def read_data(prepared_data_path):\n",
    "    with open(prepared_data_path, 'rb') as handle:\n",
    "        dataset = pickle.load(handle)\n",
    "    return dataset"
   ]
  },
  {
   "cell_type": "code",
   "execution_count": 30,
   "id": "7f881ac5",
   "metadata": {},
   "outputs": [],
   "source": [
    "data = read_data(args.prepared_data_path)\n",
    "\n",
    "train_data = data['train']\n",
    "val_data = data['val']\n",
    "test_data = data['test']\n",
    "umap = data['umap']\n",
    "smap = data['smap']"
   ]
  },
  {
   "cell_type": "code",
   "execution_count": 31,
   "id": "e37c198f",
   "metadata": {},
   "outputs": [
    {
     "name": "stdout",
     "output_type": "stream",
     "text": [
      "[0, 1, 2, 3, 4, 5, 6, 7, 8, 9, 10, 11, 12, 13, 14, 15, 16, 17, 18, 19, 20, 21, 22, 23, 24, 25, 26, 27, 28, 29, 30, 31, 32, 33, 34, 35, 36, 37, 38, 39, 40, 41, 42, 43, 44, 45, 46, 47, 48, 49, 50]\n",
      "[51]\n",
      "[52]\n",
      "0\n"
     ]
    }
   ],
   "source": [
    "# track user ix 0 (original user id 1)\n",
    "print(train_data[0])\n",
    "print(val_data[0])\n",
    "print(test_data[0])\n",
    "print(umap[1])"
   ]
  },
  {
   "cell_type": "markdown",
   "id": "4d81742e",
   "metadata": {},
   "source": [
    "prepare train dataset and dataloader:"
   ]
  },
  {
   "cell_type": "code",
   "execution_count": 32,
   "id": "e1b62f2e",
   "metadata": {},
   "outputs": [],
   "source": [
    "class BertTrainDataset(torch.utils.data.Dataset):\n",
    "    def __init__(self, u2seq, max_len, mask_prob, mask_token, num_items, rng):\n",
    "        self.u2seq = u2seq\n",
    "        self.users = sorted(self.u2seq.keys())\n",
    "        self.max_len = max_len\n",
    "        self.mask_prob = mask_prob\n",
    "        self.mask_token = mask_token\n",
    "        self.num_items = num_items\n",
    "        self.rng = rng\n",
    "\n",
    "    def __len__(self):\n",
    "        return len(self.users)\n",
    "\n",
    "    def __getitem__(self, index):\n",
    "        user = self.users[index]\n",
    "        seq = self._getseq(user)\n",
    "\n",
    "        tokens = []\n",
    "        labels = []\n",
    "        for s in seq:\n",
    "            prob = self.rng.random()\n",
    "            if prob < self.mask_prob:\n",
    "                prob /= self.mask_prob\n",
    "\n",
    "                # 1. some strange logic here:\n",
    "                if prob < 0.8:\n",
    "                    tokens.append(self.mask_token) # this is okay\n",
    "                elif prob < 0.9:\n",
    "                    tokens.append(self.rng.randint(1, self.num_items)) # this is weird\n",
    "                else:\n",
    "                    tokens.append(s)  # this is weird\n",
    "\n",
    "                labels.append(s) # 2. if s == 0 and it's masked, then we won't make backprop for this one\n",
    "            else:\n",
    "                tokens.append(s)\n",
    "                labels.append(0)\n",
    "\n",
    "        tokens = tokens[-self.max_len:]\n",
    "        labels = labels[-self.max_len:]\n",
    "\n",
    "        mask_len = self.max_len - len(tokens)\n",
    "\n",
    "        # 3. padding token (0) is the same as item token (s == 0).\n",
    "        tokens = [0] * mask_len + tokens\n",
    "        labels = [0] * mask_len + labels\n",
    "\n",
    "        # example of output:\n",
    "        # tokens    0   0   0   2969, 1574,   957,    1178,   <3707>, 1658,   <3707>, 1117, ...\n",
    "        # labels    0   0   0   0     0       0       0       2147    0       3177    0     ...\n",
    "        return torch.LongTensor(tokens), torch.LongTensor(labels)\n",
    "        \n",
    "    def _getseq(self, user):\n",
    "        return self.u2seq[user]"
   ]
  },
  {
   "cell_type": "code",
   "execution_count": 33,
   "id": "6cdd1d06",
   "metadata": {},
   "outputs": [],
   "source": [
    "train_torch_dataset = BertTrainDataset(\n",
    "    u2seq=      train_data,\n",
    "    max_len=    args.bert_max_len,\n",
    "    mask_prob=  args.bert_mask_prob,\n",
    "    mask_token= len(smap) + 1,\n",
    "    num_items=  len(smap),\n",
    "    rng=        random.Random(args.dataloader_random_seed)\n",
    ")"
   ]
  },
  {
   "cell_type": "code",
   "execution_count": 34,
   "id": "509c2b3d",
   "metadata": {},
   "outputs": [
    {
     "name": "stdout",
     "output_type": "stream",
     "text": [
      "(tensor([   0,    0,    0,    0,    0,    0,    0,    0,    0,    0,    0,    0,\n",
      "           0,    0,    0,    0,    0,    0,    0,    0,    0,    0,    0,    0,\n",
      "           0,    0,    0,    0,    0,    0,    0,    0,    0,    0,    0,    0,\n",
      "           0,    0,    0,    0,    0,    0,    0,    0,    0,    0,    0,    0,\n",
      "           0,    0,    1,    2,    3,    4,    5,    6,    7,    8,    9,   10,\n",
      "          11,   12,   13,   14,   15,   16,   17,   18,   19,   20,   21,   22,\n",
      "          23,   24, 3707,   26,   27,   28,   29,   30,   31,   32,   33,   34,\n",
      "        3707,   36,   37,   38,   39, 3707,   41,   42,   43,   44,   45,   46,\n",
      "          47,   48,   49,   50]), tensor([ 0,  0,  0,  0,  0,  0,  0,  0,  0,  0,  0,  0,  0,  0,  0,  0,  0,  0,\n",
      "         0,  0,  0,  0,  0,  0,  0,  0,  0,  0,  0,  0,  0,  0,  0,  0,  0,  0,\n",
      "         0,  0,  0,  0,  0,  0,  0,  0,  0,  0,  0,  0,  0,  0,  0,  0,  0,  0,\n",
      "         0,  0,  0,  0,  0,  0,  0,  0,  0,  0,  0,  0,  0,  0,  0,  0,  0,  0,\n",
      "         0,  0, 25,  0,  0,  0,  0,  0,  0,  0,  0,  0, 35,  0,  0,  0,  0, 40,\n",
      "         0,  0,  0,  0,  0,  0,  0,  0,  0,  0]))\n"
     ]
    }
   ],
   "source": [
    "# track user ix 0 (original user id 1)\n",
    "print(train_torch_dataset[0])"
   ]
  },
  {
   "cell_type": "code",
   "execution_count": 35,
   "id": "f4d452c5",
   "metadata": {},
   "outputs": [],
   "source": [
    "train_torch_dataloader = torch.utils.data.DataLoader(\n",
    "    dataset=train_torch_dataset,\n",
    "    batch_size=args.train_batch_size,\n",
    "    shuffle=True,\n",
    "    pin_memory=True\n",
    ")"
   ]
  },
  {
   "cell_type": "markdown",
   "id": "13a617c4",
   "metadata": {},
   "source": [
    "prepare val and test dataset and dataloader:"
   ]
  },
  {
   "cell_type": "code",
   "execution_count": 36,
   "id": "943a22a7",
   "metadata": {},
   "outputs": [],
   "source": [
    "# popularity = Counter()\n",
    "# for user in range(len(umap)):\n",
    "#     popularity.update(train_data[user])\n",
    "#     popularity.update(val_data[user])\n",
    "#     popularity.update(test_data[user])\n",
    "# item_probabilities = {k: v / sum([x for x in popularity.values()]) for k, v in popularity.items()}\n",
    "\n",
    "# print(\"PROB CHECK\")\n",
    "# print(item_probabilities[62])\n",
    "# print(item_probabilities[731])\n",
    "\n",
    "# negative_samples = {}\n",
    "# print('Sampling negative items')\n",
    "# for user in trange(len(umap)):\n",
    "#     seen = set(train_data[user])\n",
    "#     seen.update(val_data[user])\n",
    "#     seen.update(test_data[user])\n",
    "\n",
    "#     np.random.seed(user)\n",
    "\n",
    "#     negative_sampled_interactions = list(choice(list(item_probabilities.keys()), 800, replace=False, p=list(item_probabilities.values())))\n",
    "#     negative_sampled_interactions = [x for x in negative_sampled_interactions if x not in seen]\n",
    "#     negative_sampled_interactions = negative_sampled_interactions[:100]\n",
    "\n",
    "#     negative_samples[user] = negative_sampled_interactions"
   ]
  },
  {
   "cell_type": "markdown",
   "id": "9f624966",
   "metadata": {},
   "source": [
    "take negative_samples from data preparation step"
   ]
  },
  {
   "cell_type": "code",
   "execution_count": 37,
   "id": "4cc0f492",
   "metadata": {},
   "outputs": [
    {
     "name": "stdout",
     "output_type": "stream",
     "text": [
      "[1068, 731, 1026, 314, 1148, 1008, 1030, 1513, 2575, 388, 398, 525, 1438, 1682, 215, 258, 129, 2122, 1954, 1869, 2824, 859, 748, 983, 183, 1436, 233, 1803, 1182, 874, 1305, 2056, 752, 844, 971, 1065, 671, 2549, 2153, 325, 981, 1766, 60, 880, 1028, 557, 144, 948, 1302, 3160, 743, 424, 796, 947, 180, 1191, 458, 534, 386, 1110, 622, 208, 592, 2055, 739, 1215, 2751, 489, 2863, 502, 1095, 73, 138, 580, 522, 443, 699, 125, 653, 390, 832, 193, 1906, 284, 663, 147, 1022, 241, 597, 1294, 1776, 1688, 809, 1260, 1529, 738, 652, 631, 665, 203]\n"
     ]
    }
   ],
   "source": [
    "# track user ix 0 (original user id 1)\n",
    "print(negative_samples[0])"
   ]
  },
  {
   "cell_type": "code",
   "execution_count": 38,
   "id": "e7614938",
   "metadata": {},
   "outputs": [],
   "source": [
    "class BertEvalDataset(torch.utils.data.Dataset):\n",
    "    def __init__(self, u2seq, u2answer, max_len, mask_token, negative_samples):\n",
    "        self.u2seq = u2seq\n",
    "        self.users = sorted(self.u2seq.keys())\n",
    "        self.u2answer = u2answer\n",
    "        self.max_len = max_len\n",
    "        self.mask_token = mask_token\n",
    "        self.negative_samples = negative_samples\n",
    "\n",
    "    def __len__(self):\n",
    "        return len(self.users)\n",
    "\n",
    "    def __getitem__(self, index):\n",
    "        user = self.users[index]\n",
    "        seq = self.u2seq[user]\n",
    "        answer = self.u2answer[user]\n",
    "        negs = self.negative_samples[user]\n",
    "\n",
    "        candidates = answer + negs\n",
    "        labels = [1] * len(answer) + [0] * len(negs)\n",
    "\n",
    "        seq = seq + [self.mask_token]\n",
    "\n",
    "        # same as in BertTrainDataset\n",
    "        seq = seq[-self.max_len:]\n",
    "        padding_len = self.max_len - len(seq)\n",
    "        seq = [0] * padding_len + seq\n",
    "\n",
    "        return torch.LongTensor(seq), torch.LongTensor(candidates), torch.LongTensor(labels)\n",
    "        # example as in BertTrainDataset:\n",
    "        # seq (just like tokens in train):  0   0   2969,   1574,   957,    1178,   2147,   1658,   3177,   1117, <3707>\n",
    "        #\n",
    "        # candidates: [ix of real positive item; sampled negatives]\n",
    "        # labels:     [1, 0, 0, 0, 0, ...]"
   ]
  },
  {
   "cell_type": "code",
   "execution_count": 39,
   "id": "e2dcb75d",
   "metadata": {},
   "outputs": [],
   "source": [
    "val_torch_dataset = BertEvalDataset(\n",
    "    u2seq=              train_data,\n",
    "    u2answer=           val_data,\n",
    "    max_len=            args.bert_max_len,\n",
    "    mask_token=         len(smap) + 1,\n",
    "    negative_samples=   negative_samples\n",
    ")"
   ]
  },
  {
   "cell_type": "code",
   "execution_count": 40,
   "id": "ac92c8c4",
   "metadata": {},
   "outputs": [
    {
     "name": "stdout",
     "output_type": "stream",
     "text": [
      "(tensor([   0,    0,    0,    0,    0,    0,    0,    0,    0,    0,    0,    0,\n",
      "           0,    0,    0,    0,    0,    0,    0,    0,    0,    0,    0,    0,\n",
      "           0,    0,    0,    0,    0,    0,    0,    0,    0,    0,    0,    0,\n",
      "           0,    0,    0,    0,    0,    0,    0,    0,    0,    0,    0,    0,\n",
      "           0,    1,    2,    3,    4,    5,    6,    7,    8,    9,   10,   11,\n",
      "          12,   13,   14,   15,   16,   17,   18,   19,   20,   21,   22,   23,\n",
      "          24,   25,   26,   27,   28,   29,   30,   31,   32,   33,   34,   35,\n",
      "          36,   37,   38,   39,   40,   41,   42,   43,   44,   45,   46,   47,\n",
      "          48,   49,   50, 3707]), tensor([  51, 1068,  731, 1026,  314, 1148, 1008, 1030, 1513, 2575,  388,  398,\n",
      "         525, 1438, 1682,  215,  258,  129, 2122, 1954, 1869, 2824,  859,  748,\n",
      "         983,  183, 1436,  233, 1803, 1182,  874, 1305, 2056,  752,  844,  971,\n",
      "        1065,  671, 2549, 2153,  325,  981, 1766,   60,  880, 1028,  557,  144,\n",
      "         948, 1302, 3160,  743,  424,  796,  947,  180, 1191,  458,  534,  386,\n",
      "        1110,  622,  208,  592, 2055,  739, 1215, 2751,  489, 2863,  502, 1095,\n",
      "          73,  138,  580,  522,  443,  699,  125,  653,  390,  832,  193, 1906,\n",
      "         284,  663,  147, 1022,  241,  597, 1294, 1776, 1688,  809, 1260, 1529,\n",
      "         738,  652,  631,  665,  203]), tensor([1, 0, 0, 0, 0, 0, 0, 0, 0, 0, 0, 0, 0, 0, 0, 0, 0, 0, 0, 0, 0, 0, 0, 0,\n",
      "        0, 0, 0, 0, 0, 0, 0, 0, 0, 0, 0, 0, 0, 0, 0, 0, 0, 0, 0, 0, 0, 0, 0, 0,\n",
      "        0, 0, 0, 0, 0, 0, 0, 0, 0, 0, 0, 0, 0, 0, 0, 0, 0, 0, 0, 0, 0, 0, 0, 0,\n",
      "        0, 0, 0, 0, 0, 0, 0, 0, 0, 0, 0, 0, 0, 0, 0, 0, 0, 0, 0, 0, 0, 0, 0, 0,\n",
      "        0, 0, 0, 0, 0]))\n"
     ]
    }
   ],
   "source": [
    "# track user ix 0 (original user id 1)\n",
    "print(val_torch_dataset[0])"
   ]
  },
  {
   "cell_type": "code",
   "execution_count": 41,
   "id": "b65bc603",
   "metadata": {},
   "outputs": [],
   "source": [
    "val_torch_dataloader = torch.utils.data.DataLoader(val_torch_dataset, batch_size=args.val_batch_size,\n",
    "                                       shuffle=False, pin_memory=True)"
   ]
  },
  {
   "cell_type": "code",
   "execution_count": 42,
   "id": "3dcff7d5",
   "metadata": {},
   "outputs": [],
   "source": [
    "test_torch_dataset = BertEvalDataset(\n",
    "        u2seq=              train_data,\n",
    "        u2answer=           test_data,\n",
    "        max_len=            args.bert_max_len,\n",
    "        mask_token=         len(smap) + 1,\n",
    "        negative_samples=   negative_samples\n",
    "    )"
   ]
  },
  {
   "cell_type": "code",
   "execution_count": 43,
   "id": "2c951bd1",
   "metadata": {},
   "outputs": [
    {
     "name": "stdout",
     "output_type": "stream",
     "text": [
      "(tensor([   0,    0,    0,    0,    0,    0,    0,    0,    0,    0,    0,    0,\n",
      "           0,    0,    0,    0,    0,    0,    0,    0,    0,    0,    0,    0,\n",
      "           0,    0,    0,    0,    0,    0,    0,    0,    0,    0,    0,    0,\n",
      "           0,    0,    0,    0,    0,    0,    0,    0,    0,    0,    0,    0,\n",
      "           0,    1,    2,    3,    4,    5,    6,    7,    8,    9,   10,   11,\n",
      "          12,   13,   14,   15,   16,   17,   18,   19,   20,   21,   22,   23,\n",
      "          24,   25,   26,   27,   28,   29,   30,   31,   32,   33,   34,   35,\n",
      "          36,   37,   38,   39,   40,   41,   42,   43,   44,   45,   46,   47,\n",
      "          48,   49,   50, 3707]), tensor([  52, 1068,  731, 1026,  314, 1148, 1008, 1030, 1513, 2575,  388,  398,\n",
      "         525, 1438, 1682,  215,  258,  129, 2122, 1954, 1869, 2824,  859,  748,\n",
      "         983,  183, 1436,  233, 1803, 1182,  874, 1305, 2056,  752,  844,  971,\n",
      "        1065,  671, 2549, 2153,  325,  981, 1766,   60,  880, 1028,  557,  144,\n",
      "         948, 1302, 3160,  743,  424,  796,  947,  180, 1191,  458,  534,  386,\n",
      "        1110,  622,  208,  592, 2055,  739, 1215, 2751,  489, 2863,  502, 1095,\n",
      "          73,  138,  580,  522,  443,  699,  125,  653,  390,  832,  193, 1906,\n",
      "         284,  663,  147, 1022,  241,  597, 1294, 1776, 1688,  809, 1260, 1529,\n",
      "         738,  652,  631,  665,  203]), tensor([1, 0, 0, 0, 0, 0, 0, 0, 0, 0, 0, 0, 0, 0, 0, 0, 0, 0, 0, 0, 0, 0, 0, 0,\n",
      "        0, 0, 0, 0, 0, 0, 0, 0, 0, 0, 0, 0, 0, 0, 0, 0, 0, 0, 0, 0, 0, 0, 0, 0,\n",
      "        0, 0, 0, 0, 0, 0, 0, 0, 0, 0, 0, 0, 0, 0, 0, 0, 0, 0, 0, 0, 0, 0, 0, 0,\n",
      "        0, 0, 0, 0, 0, 0, 0, 0, 0, 0, 0, 0, 0, 0, 0, 0, 0, 0, 0, 0, 0, 0, 0, 0,\n",
      "        0, 0, 0, 0, 0]))\n"
     ]
    }
   ],
   "source": [
    "# track user ix 0 (original user id 1)\n",
    "print(test_torch_dataset[0])"
   ]
  },
  {
   "cell_type": "code",
   "execution_count": 44,
   "id": "2869ce91",
   "metadata": {},
   "outputs": [],
   "source": [
    "test_torch_dataloader = torch.utils.data.DataLoader(test_torch_dataset, batch_size=args.test_batch_size,\n",
    "                                                       shuffle=False, pin_memory=True)"
   ]
  },
  {
   "cell_type": "markdown",
   "id": "bc960218",
   "metadata": {},
   "source": [
    "# 4) describe model:"
   ]
  },
  {
   "cell_type": "code",
   "execution_count": 46,
   "id": "1e6a2b1a",
   "metadata": {},
   "outputs": [],
   "source": [
    "from torch import nn as nn\n",
    "\n",
    "from bert4rec_modules_and_configs.models.bert_modules.embedding import BERTEmbedding\n",
    "from bert4rec_modules_and_configs.models.bert_modules.transformer import TransformerBlock\n",
    "\n",
    "\n",
    "class BERT(nn.Module):\n",
    "    def __init__(self, args):\n",
    "        super().__init__()\n",
    "\n",
    "        fix_random_seed_as(args.model_init_seed)\n",
    "        # self.init_weights()\n",
    "\n",
    "        max_len = args.bert_max_len\n",
    "        num_items = args.num_items\n",
    "        n_layers = args.bert_num_blocks\n",
    "        heads = args.bert_num_heads\n",
    "        vocab_size = num_items + 2\n",
    "        hidden = args.bert_hidden_units\n",
    "        self.hidden = hidden\n",
    "        dropout = args.bert_dropout\n",
    "\n",
    "        # embedding for BERT: token emb + positional emb\n",
    "        self.embedding = BERTEmbedding(vocab_size=vocab_size, embed_size=self.hidden, max_len=max_len, dropout=dropout)\n",
    "\n",
    "        # multi-layers transformer blocks, deep network\n",
    "        self.transformer_blocks = nn.ModuleList(\n",
    "            [TransformerBlock(hidden, heads, hidden * 4, dropout) for _ in range(n_layers)])\n",
    "\n",
    "    def forward(self, x):\n",
    "        mask = (x > 0).unsqueeze(1).repeat(1, x.size(1), 1).unsqueeze(1)\n",
    "\n",
    "        # embedding the indexed sequence to sequence of vectors\n",
    "        x = self.embedding(x)\n",
    "        \n",
    "        # running over multiple transformer blocks\n",
    "        for transformer in self.transformer_blocks:\n",
    "            x = transformer.forward(x, mask)\n",
    "\n",
    "        return x\n",
    "\n",
    "    def init_weights(self):\n",
    "        pass"
   ]
  },
  {
   "cell_type": "code",
   "execution_count": 47,
   "id": "63903f7c",
   "metadata": {},
   "outputs": [],
   "source": [
    "class BERTModel(nn.Module):\n",
    "    def __init__(self, args):\n",
    "        super().__init__()\n",
    "        \n",
    "        self.args = args\n",
    "        \n",
    "        self.bert = BERT(args)\n",
    "        self.out = nn.Linear(self.bert.hidden, args.num_items + 1)\n",
    "\n",
    "    def code(cls):\n",
    "        return 'bert'\n",
    "\n",
    "    def forward(self, x):\n",
    "        x = self.bert(x)\n",
    "        return self.out(x)"
   ]
  },
  {
   "cell_type": "code",
   "execution_count": 48,
   "id": "a133f0c7",
   "metadata": {},
   "outputs": [],
   "source": [
    "args.num_items = len(smap)"
   ]
  },
  {
   "cell_type": "code",
   "execution_count": 49,
   "id": "c3ea6ec2",
   "metadata": {},
   "outputs": [],
   "source": [
    "model = BERTModel(args)"
   ]
  },
  {
   "cell_type": "code",
   "execution_count": 50,
   "id": "47216f37",
   "metadata": {},
   "outputs": [
    {
     "data": {
      "text/plain": [
       "torch.Size([128, 100, 3707])"
      ]
     },
     "execution_count": 50,
     "metadata": {},
     "output_type": "execute_result"
    }
   ],
   "source": [
    "# take some batch (only sequence, dont need labels until train) and pass it through bert4rec:\n",
    "some_batch = next(iter(train_torch_dataloader))\n",
    "seq, _ = some_batch\n",
    "\n",
    "model(seq).shape"
   ]
  },
  {
   "cell_type": "markdown",
   "id": "02cde99e",
   "metadata": {},
   "source": [
    "# 5) explanation of every single step in bert4rec:"
   ]
  },
  {
   "cell_type": "markdown",
   "id": "6462ca81",
   "metadata": {},
   "source": [
    "##### 1) input:"
   ]
  },
  {
   "cell_type": "code",
   "execution_count": 120,
   "id": "a71f7c62",
   "metadata": {},
   "outputs": [],
   "source": [
    "# looking for some good batch with easy-to-track user sequence\n",
    "while True:\n",
    "    some_batch = next(iter(train_torch_dataloader))\n",
    "    seq, _ = some_batch # dont need labels until train\n",
    "\n",
    "    seq = seq[:, :10] # for simplicity of tracking - lets make every sequence of len 10 instead of 100\n",
    "    \n",
    "    len_of_padding = (seq[0] == 0).sum()\n",
    "    num_of_mask_tokens = (seq[0] == 3707).sum()\n",
    "    \n",
    "    if (2 <= len_of_padding <= 6) and (num_of_mask_tokens == 2): # first user sequence has some padding and some mask tokens:\n",
    "        break"
   ]
  },
  {
   "cell_type": "code",
   "execution_count": 145,
   "id": "ff435a36",
   "metadata": {},
   "outputs": [
    {
     "name": "stdout",
     "output_type": "stream",
     "text": [
      "torch.Size([128, 10])\n",
      "look at first user:\n",
      "tensor([   0,    0,    0,    0, 1556,  552,  595, 3707,  267, 3707])\n"
     ]
    }
   ],
   "source": [
    "print(seq.shape)\n",
    "print(\"look at first user:\")\n",
    "print(seq[0])"
   ]
  },
  {
   "cell_type": "markdown",
   "id": "8375580f",
   "metadata": {},
   "source": [
    "##### 2) mask (we will need it later in attention part):"
   ]
  },
  {
   "cell_type": "code",
   "execution_count": 146,
   "id": "cf4816a1",
   "metadata": {},
   "outputs": [
    {
     "name": "stdout",
     "output_type": "stream",
     "text": [
      "torch.Size([128, 1, 10, 10])\n",
      "look at mask for first user:\n",
      "tensor([[[False, False, False, False,  True,  True,  True,  True,  True,  True],\n",
      "         [False, False, False, False,  True,  True,  True,  True,  True,  True],\n",
      "         [False, False, False, False,  True,  True,  True,  True,  True,  True],\n",
      "         [False, False, False, False,  True,  True,  True,  True,  True,  True],\n",
      "         [False, False, False, False,  True,  True,  True,  True,  True,  True],\n",
      "         [False, False, False, False,  True,  True,  True,  True,  True,  True],\n",
      "         [False, False, False, False,  True,  True,  True,  True,  True,  True],\n",
      "         [False, False, False, False,  True,  True,  True,  True,  True,  True],\n",
      "         [False, False, False, False,  True,  True,  True,  True,  True,  True],\n",
      "         [False, False, False, False,  True,  True,  True,  True,  True,  True]]])\n"
     ]
    }
   ],
   "source": [
    "mask = (seq > 0).unsqueeze(1).repeat(1, seq.size(1), 1).unsqueeze(1)\n",
    "\n",
    "print(mask.shape)\n",
    "print(\"look at mask for first user:\")\n",
    "print(mask[0])"
   ]
  },
  {
   "cell_type": "markdown",
   "id": "29b56c24",
   "metadata": {},
   "source": [
    "##### 3) beginning of network, first embedding (tok emb + pos emb):"
   ]
  },
  {
   "cell_type": "code",
   "execution_count": 147,
   "id": "32b43478",
   "metadata": {},
   "outputs": [],
   "source": [
    "# reinitialize model with another sequence len for this step-by-step explanation. we will return it back to 100 for train\n",
    "args.bert_max_len = 10\n",
    "\n",
    "model = BERTModel(args)"
   ]
  },
  {
   "cell_type": "code",
   "execution_count": 149,
   "id": "98ce9bac",
   "metadata": {},
   "outputs": [
    {
     "name": "stdout",
     "output_type": "stream",
     "text": [
      "torch.Size([128, 10, 256])\n"
     ]
    }
   ],
   "source": [
    "tok_pos_emb = model.bert.embedding(seq)\n",
    "\n",
    "print(tok_pos_emb.shape)"
   ]
  },
  {
   "attachments": {
    "image.png": {
     "image/png": "[encoded data removed]"
    }
   },
   "cell_type": "markdown",
   "id": "3047f457",
   "metadata": {},
   "source": [
    "![image.png](attachment:image.png)"
   ]
  },
  {
   "cell_type": "markdown",
   "id": "657e5d8f",
   "metadata": {},
   "source": [
    "#### going inside TransformerBlock (inside .bert4rec_modules_and_configs/models/bert_modules/transformer.py):"
   ]
  },
  {
   "cell_type": "code",
   "execution_count": 150,
   "id": "241483fb",
   "metadata": {},
   "outputs": [],
   "source": [
    "tfblock0 = model.bert.transformer_blocks[0]"
   ]
  },
  {
   "cell_type": "markdown",
   "id": "84b0399a",
   "metadata": {},
   "source": [
    "##### 4) going through this part:"
   ]
  },
  {
   "attachments": {
    "image.png": {
     "image/png": "[encoded data removed]"
    }
   },
   "cell_type": "markdown",
   "id": "3f241166",
   "metadata": {},
   "source": [
    "![image.png](attachment:image.png)"
   ]
  },
  {
   "cell_type": "code",
   "execution_count": 151,
   "id": "fae1b20c",
   "metadata": {},
   "outputs": [],
   "source": [
    "skip_connection = tok_pos_emb"
   ]
  },
  {
   "cell_type": "markdown",
   "id": "47944b4f",
   "metadata": {},
   "source": [
    "##### 4.1) normalization per layer:"
   ]
  },
  {
   "cell_type": "markdown",
   "id": "338809a5",
   "metadata": {},
   "source": [
    "(Batch normalization normalizes each feature independently across the mini-batch. Layer normalization normalizes each of the inputs in the batch independently across all features.)"
   ]
  },
  {
   "cell_type": "code",
   "execution_count": 152,
   "id": "42f23126",
   "metadata": {},
   "outputs": [
    {
     "name": "stdout",
     "output_type": "stream",
     "text": [
      "torch.Size([128, 10, 256])\n"
     ]
    }
   ],
   "source": [
    "tok_pos_emb_normalized = tfblock0.layernorm1(tok_pos_emb)\n",
    "\n",
    "print(tok_pos_emb_normalized.shape)"
   ]
  },
  {
   "attachments": {
    "image.png": {
     "image/png": "[encoded data removed]"
    }
   },
   "cell_type": "markdown",
   "id": "b78020fe",
   "metadata": {},
   "source": [
    "![image.png](attachment:image.png)"
   ]
  },
  {
   "cell_type": "markdown",
   "id": "75ad762f",
   "metadata": {},
   "source": [
    "##### 4.2) Multi-Head Attention (inside .bert4rec_modules_and_configs/models/bert_modules/attention/multi_head.py):"
   ]
  },
  {
   "cell_type": "code",
   "execution_count": 153,
   "id": "8dfdc4ea",
   "metadata": {},
   "outputs": [],
   "source": [
    "batch_size = tok_pos_emb_normalized.size(0) # 128\n",
    "sequence_len = tok_pos_emb_normalized.size(1) # 10"
   ]
  },
  {
   "cell_type": "markdown",
   "id": "ef330cf1",
   "metadata": {},
   "source": [
    "##### 4.2.1) making Q, K, V matrices:"
   ]
  },
  {
   "cell_type": "markdown",
   "id": "ecf5010d",
   "metadata": {},
   "source": [
    "illustration from [lena voita's lesson for attention](https://lena-voita.github.io/nlp_course/seq2seq_and_attention.html):"
   ]
  },
  {
   "attachments": {
    "image.png": {
     "image/png": "[encoded data removed]"
    }
   },
   "cell_type": "markdown",
   "id": "a0e2c793",
   "metadata": {},
   "source": [
    "![image.png](attachment:image.png)"
   ]
  },
  {
   "cell_type": "code",
   "execution_count": 154,
   "id": "79b35bc9",
   "metadata": {},
   "outputs": [
    {
     "name": "stdout",
     "output_type": "stream",
     "text": [
      "torch.Size([128, 10, 256])\n"
     ]
    }
   ],
   "source": [
    "# q = emb * Wq:\n",
    "Wq = tfblock0.multiheadedattention.linear_layers[0]\n",
    "\n",
    "Q = Wq(tok_pos_emb_normalized)\n",
    "\n",
    "print(Q.shape)"
   ]
  },
  {
   "attachments": {
    "image.png": {
     "image/png": "[encoded data removed]"
    }
   },
   "cell_type": "markdown",
   "id": "ad68e084",
   "metadata": {},
   "source": [
    "![image.png](attachment:image.png)"
   ]
  },
  {
   "cell_type": "code",
   "execution_count": 155,
   "id": "f611f483",
   "metadata": {},
   "outputs": [
    {
     "name": "stdout",
     "output_type": "stream",
     "text": [
      "torch.Size([128, 10, 4, 64])\n"
     ]
    }
   ],
   "source": [
    "Q_each_head = Q.view(\n",
    "    batch_size, # keep first dim (batch size, 128)\n",
    "    sequence_len, # keep second dim (sequence len, 10)\n",
    "    tfblock0.multiheadedattention.h, # slice embedding dimension 256 into \"number of heads\" dimension 4...\n",
    "    tfblock0.multiheadedattention.d_k # ...and \"embedding inside head\" dimension 64\n",
    ")\n",
    "\n",
    "print(Q_each_head.shape)"
   ]
  },
  {
   "attachments": {
    "image-4.png": {
     "image/png": "[encoded data removed]"
    }
   },
   "cell_type": "markdown",
   "id": "a4ac9f62",
   "metadata": {},
   "source": [
    "![image-4.png](attachment:image-4.png)"
   ]
  },
  {
   "cell_type": "code",
   "execution_count": 156,
   "id": "24f9b5e6",
   "metadata": {},
   "outputs": [
    {
     "name": "stdout",
     "output_type": "stream",
     "text": [
      "torch.Size([128, 4, 10, 64])\n"
     ]
    }
   ],
   "source": [
    "# move \"heads\" dimension outside of user sequence dimension\n",
    "Q_each_head = Q_each_head.transpose(1, 2)\n",
    "\n",
    "print(Q_each_head.shape)"
   ]
  },
  {
   "attachments": {
    "image.png": {
     "image/png": "[encoded data removed]"
    }
   },
   "cell_type": "markdown",
   "id": "d84b11a0",
   "metadata": {},
   "source": [
    "![image.png](attachment:image.png)"
   ]
  },
  {
   "cell_type": "code",
   "execution_count": 157,
   "id": "16085891",
   "metadata": {},
   "outputs": [
    {
     "name": "stdout",
     "output_type": "stream",
     "text": [
      "torch.Size([128, 4, 10, 64])\n"
     ]
    }
   ],
   "source": [
    "# repeat same for \"key\" embeddings:\n",
    "Wk = tfblock0.multiheadedattention.linear_layers[1]\n",
    "\n",
    "K = Wk(tok_pos_emb_normalized)\n",
    "\n",
    "K_each_head = K.view(\n",
    "    batch_size,\n",
    "    sequence_len,\n",
    "    tfblock0.multiheadedattention.h,\n",
    "    tfblock0.multiheadedattention.d_k\n",
    ")\n",
    "\n",
    "K_each_head = K_each_head.transpose(1, 2)\n",
    "\n",
    "print(K_each_head.shape)"
   ]
  },
  {
   "cell_type": "code",
   "execution_count": 158,
   "id": "822baf12",
   "metadata": {},
   "outputs": [
    {
     "name": "stdout",
     "output_type": "stream",
     "text": [
      "torch.Size([128, 4, 10, 64])\n"
     ]
    }
   ],
   "source": [
    "# repeat same for \"value\" embeddings:\n",
    "Wv = tfblock0.multiheadedattention.linear_layers[2]\n",
    "\n",
    "V = Wv(tok_pos_emb_normalized)\n",
    "\n",
    "V_each_head = V.view(\n",
    "    batch_size,\n",
    "    sequence_len,\n",
    "    tfblock0.multiheadedattention.h,\n",
    "    tfblock0.multiheadedattention.d_k\n",
    ")\n",
    "\n",
    "V_each_head = V_each_head.transpose(1, 2)\n",
    "\n",
    "print(V_each_head.shape)"
   ]
  },
  {
   "cell_type": "code",
   "execution_count": 159,
   "id": "52e9577a",
   "metadata": {},
   "outputs": [
    {
     "name": "stdout",
     "output_type": "stream",
     "text": [
      "torch.Size([128, 4, 10, 64]) torch.Size([128, 4, 10, 64]) torch.Size([128, 4, 10, 64])\n"
     ]
    }
   ],
   "source": [
    "print(Q_each_head.shape, K_each_head.shape, V_each_head.shape)"
   ]
  },
  {
   "attachments": {
    "image.png": {
     "image/png": "[encoded data removed]"
    }
   },
   "cell_type": "markdown",
   "id": "fc6b135f",
   "metadata": {},
   "source": [
    "![image.png](attachment:image.png)"
   ]
  },
  {
   "cell_type": "markdown",
   "id": "4f83f84f",
   "metadata": {},
   "source": [
    "##### 4.2.2) applying self-attention:"
   ]
  },
  {
   "cell_type": "markdown",
   "id": "3b6b5e27",
   "metadata": {},
   "source": [
    "illustration from [lena voita's lesson for attention](https://lena-voita.github.io/nlp_course/seq2seq_and_attention.html):"
   ]
  },
  {
   "attachments": {
    "image-2.png": {
     "image/png": "[encoded data removed]"
    }
   },
   "cell_type": "markdown",
   "id": "d671747f",
   "metadata": {},
   "source": [
    "![image-2.png](attachment:image-2.png)"
   ]
  },
  {
   "attachments": {
    "image.png": {
     "image/png": "[encoded data removed]"
    }
   },
   "cell_type": "markdown",
   "id": "79d8c754",
   "metadata": {},
   "source": [
    "![image.png](attachment:image.png)"
   ]
  },
  {
   "cell_type": "code",
   "execution_count": 167,
   "id": "0447a840",
   "metadata": {},
   "outputs": [
    {
     "name": "stdout",
     "output_type": "stream",
     "text": [
      "torch.Size([128, 4, 10, 10])\n"
     ]
    }
   ],
   "source": [
    "# it's just q * k^T\n",
    "scores = torch.matmul(Q_each_head, K_each_head.transpose(-2, -1))\n",
    "\n",
    "print(scores.shape)"
   ]
  },
  {
   "attachments": {
    "image.png": {
     "image/png": "[encoded data removed]"
    }
   },
   "cell_type": "markdown",
   "id": "b4b29602",
   "metadata": {},
   "source": [
    "![image.png](attachment:image.png)"
   ]
  },
  {
   "cell_type": "code",
   "execution_count": 169,
   "id": "4a1db2ef",
   "metadata": {},
   "outputs": [],
   "source": [
    "import math\n",
    "\n",
    "scores = scores / math.sqrt(Q_each_head.size(-1))"
   ]
  },
  {
   "cell_type": "code",
   "execution_count": 171,
   "id": "28655316",
   "metadata": {},
   "outputs": [
    {
     "name": "stdout",
     "output_type": "stream",
     "text": [
      "look at mask for first user:\n",
      "tensor([[[False, False, False, False,  True,  True,  True,  True,  True,  True],\n",
      "         [False, False, False, False,  True,  True,  True,  True,  True,  True],\n",
      "         [False, False, False, False,  True,  True,  True,  True,  True,  True],\n",
      "         [False, False, False, False,  True,  True,  True,  True,  True,  True],\n",
      "         [False, False, False, False,  True,  True,  True,  True,  True,  True],\n",
      "         [False, False, False, False,  True,  True,  True,  True,  True,  True],\n",
      "         [False, False, False, False,  True,  True,  True,  True,  True,  True],\n",
      "         [False, False, False, False,  True,  True,  True,  True,  True,  True],\n",
      "         [False, False, False, False,  True,  True,  True,  True,  True,  True],\n",
      "         [False, False, False, False,  True,  True,  True,  True,  True,  True]]])\n"
     ]
    }
   ],
   "source": [
    "print(\"look at mask for first user:\")\n",
    "print(mask[0])"
   ]
  },
  {
   "cell_type": "code",
   "execution_count": 175,
   "id": "f395978f",
   "metadata": {},
   "outputs": [
    {
     "name": "stdout",
     "output_type": "stream",
     "text": [
      "look at q * k^T results for first user (and first head) after applying mask:\n",
      "tensor([[-1.0000e+09, -1.0000e+09, -1.0000e+09, -1.0000e+09, -3.8624e-01,\n",
      "          1.8232e-01, -2.7510e-01,  4.0484e-01,  1.1977e-02,  2.2363e-01],\n",
      "        [-1.0000e+09, -1.0000e+09, -1.0000e+09, -1.0000e+09,  2.2407e-01,\n",
      "          4.6016e-02,  3.9233e-01, -1.4759e-01,  4.3478e-01, -4.6642e-01],\n",
      "        [-1.0000e+09, -1.0000e+09, -1.0000e+09, -1.0000e+09, -2.9412e-01,\n",
      "          3.7792e-01, -4.3138e-01,  6.1771e-01, -4.1601e-03,  1.3266e-01],\n",
      "        [-1.0000e+09, -1.0000e+09, -1.0000e+09, -1.0000e+09, -5.7382e-01,\n",
      "         -6.0415e-01, -4.4366e-01,  1.7906e-01,  3.3365e-01,  9.1333e-02],\n",
      "        [-1.0000e+09, -1.0000e+09, -1.0000e+09, -1.0000e+09,  2.8659e-01,\n",
      "         -3.3973e-02, -1.7891e-01, -3.5864e-01,  5.1863e-02,  1.2801e-01],\n",
      "        [-1.0000e+09, -1.0000e+09, -1.0000e+09, -1.0000e+09,  6.6538e-01,\n",
      "         -3.3288e-01,  7.2621e-01,  2.5438e-02,  2.1390e-01,  1.2358e-01],\n",
      "        [-1.0000e+09, -1.0000e+09, -1.0000e+09, -1.0000e+09, -1.7926e-02,\n",
      "          1.6957e-02, -3.2201e-02, -7.0564e-02,  3.5732e-01,  1.6225e-01],\n",
      "        [-1.0000e+09, -1.0000e+09, -1.0000e+09, -1.0000e+09, -4.9020e-01,\n",
      "          4.5008e-01, -2.0536e-01, -2.3103e-01,  7.9012e-02,  4.9110e-01],\n",
      "        [-1.0000e+09, -1.0000e+09, -1.0000e+09, -1.0000e+09, -5.1464e-01,\n",
      "         -1.1810e-01, -6.0003e-01,  3.1390e-01, -2.4789e-01,  4.7376e-01],\n",
      "        [-1.0000e+09, -1.0000e+09, -1.0000e+09, -1.0000e+09, -1.2335e-01,\n",
      "          1.2456e-01, -1.2969e-01,  4.1413e-01,  2.9771e-02, -4.0803e-02]],\n",
      "       grad_fn=<SelectBackward0>)\n"
     ]
    }
   ],
   "source": [
    "scores = scores.masked_fill(mask == 0, -1e9)\n",
    "print(\"look at q * k^T results for first user (and first head) after applying mask:\")\n",
    "print(scores[0][0])"
   ]
  },
  {
   "cell_type": "code",
   "execution_count": 177,
   "id": "7778cec4",
   "metadata": {},
   "outputs": [],
   "source": [
    "import torch.nn.functional as F\n",
    "\n",
    "p_attn = F.softmax(scores, dim=-1)"
   ]
  },
  {
   "cell_type": "code",
   "execution_count": 178,
   "id": "85291993",
   "metadata": {},
   "outputs": [],
   "source": [
    "# dropout initialized inside tfblock0.multiheadedattention but used inside tfblock0.multiheadedattention.attention\n",
    "p_attn = tfblock0.multiheadedattention.dropout(p_attn)"
   ]
  },
  {
   "cell_type": "code",
   "execution_count": 179,
   "id": "6ed20367",
   "metadata": {},
   "outputs": [
    {
     "name": "stdout",
     "output_type": "stream",
     "text": [
      "torch.Size([128, 4, 10, 10]) torch.Size([128, 4, 10, 64])\n"
     ]
    }
   ],
   "source": [
    "print(p_attn.shape, V_each_head.shape)"
   ]
  },
  {
   "cell_type": "code",
   "execution_count": 180,
   "id": "83f9b441",
   "metadata": {},
   "outputs": [
    {
     "name": "stdout",
     "output_type": "stream",
     "text": [
      "torch.Size([128, 4, 10, 64])\n"
     ]
    }
   ],
   "source": [
    "result_of_attention = torch.matmul(p_attn, V_each_head)\n",
    "\n",
    "print(result_of_attention.shape)"
   ]
  },
  {
   "attachments": {
    "image.png": {
     "image/png": "[encoded data removed]"
    }
   },
   "cell_type": "markdown",
   "id": "e902fbdd",
   "metadata": {},
   "source": [
    "![image.png](attachment:image.png)"
   ]
  },
  {
   "cell_type": "markdown",
   "id": "0172f2a7",
   "metadata": {},
   "source": [
    "##### 4.2.3) swap heads dimension and sequence dimension again (return it as it was), concatenate 4 x 64 back to 256, run output linear layer"
   ]
  },
  {
   "cell_type": "code",
   "execution_count": 183,
   "id": "b40032a1",
   "metadata": {},
   "outputs": [
    {
     "name": "stdout",
     "output_type": "stream",
     "text": [
      "torch.Size([128, 10, 4, 64])\n"
     ]
    }
   ],
   "source": [
    "end_of_multihead_attention = result_of_attention.transpose(1, 2)\n",
    "\n",
    "print(end_of_multihead_attention.shape)"
   ]
  },
  {
   "cell_type": "code",
   "execution_count": 184,
   "id": "1afd8a7d",
   "metadata": {},
   "outputs": [
    {
     "name": "stdout",
     "output_type": "stream",
     "text": [
      "torch.Size([128, 10, 4, 64])\n"
     ]
    }
   ],
   "source": [
    "# makes a copy of the tensor such that the order of its elements in memory is the same as if it \n",
    "# had been created from scratch with the same data.\n",
    "end_of_multihead_attention = end_of_multihead_attention.contiguous()\n",
    "\n",
    "print(end_of_multihead_attention.shape)"
   ]
  },
  {
   "cell_type": "code",
   "execution_count": 185,
   "id": "c43bb963",
   "metadata": {},
   "outputs": [
    {
     "name": "stdout",
     "output_type": "stream",
     "text": [
      "torch.Size([128, 10, 256])\n"
     ]
    }
   ],
   "source": [
    "# concatenate different heads' outputs\n",
    "end_of_multihead_attention = end_of_multihead_attention.view(\n",
    "    batch_size, \n",
    "    sequence_len, \n",
    "    tfblock0.multiheadedattention.h * tfblock0.multiheadedattention.d_k\n",
    ")\n",
    "\n",
    "print(end_of_multihead_attention.shape)"
   ]
  },
  {
   "cell_type": "code",
   "execution_count": 186,
   "id": "071e9b4d",
   "metadata": {},
   "outputs": [
    {
     "name": "stdout",
     "output_type": "stream",
     "text": [
      "torch.Size([128, 10, 256])\n"
     ]
    }
   ],
   "source": [
    "end_of_multihead_attention = tfblock0.multiheadedattention.output_linear(end_of_multihead_attention)\n",
    "\n",
    "print(end_of_multihead_attention.shape)"
   ]
  },
  {
   "cell_type": "markdown",
   "id": "1df50bf5",
   "metadata": {},
   "source": [
    "Multi-Head Attention done!"
   ]
  },
  {
   "cell_type": "markdown",
   "id": "dc4304ae",
   "metadata": {},
   "source": [
    "##### 4.3) end of sublayer 1 (Multi-Head Attention sublayer):"
   ]
  },
  {
   "cell_type": "code",
   "execution_count": 187,
   "id": "beaa6fcd",
   "metadata": {},
   "outputs": [
    {
     "name": "stdout",
     "output_type": "stream",
     "text": [
      "torch.Size([128, 10, 256])\n"
     ]
    }
   ],
   "source": [
    "multihead_attention_output_with_dropout = tfblock0.dropout1(end_of_multihead_attention)\n",
    "\n",
    "output_of_sublayer1 = multihead_attention_output_with_dropout + skip_connection\n",
    "\n",
    "print(output_of_sublayer1.shape)"
   ]
  },
  {
   "cell_type": "markdown",
   "id": "8fe25c4f",
   "metadata": {},
   "source": [
    "sublayer 1 (Multi-Head Attention sublayer) done!"
   ]
  },
  {
   "cell_type": "markdown",
   "id": "f34fb07b",
   "metadata": {},
   "source": [
    "##### 5) going through this part:"
   ]
  },
  {
   "attachments": {
    "image.png": {
     "image/png": "[encoded data removed]"
    }
   },
   "cell_type": "markdown",
   "id": "765dd8a4",
   "metadata": {},
   "source": [
    "![image.png](attachment:image.png)"
   ]
  },
  {
   "cell_type": "code",
   "execution_count": 188,
   "id": "4022a8e6",
   "metadata": {},
   "outputs": [],
   "source": [
    "x = output_of_sublayer1"
   ]
  },
  {
   "cell_type": "code",
   "execution_count": 189,
   "id": "c6350a3c",
   "metadata": {},
   "outputs": [],
   "source": [
    "# nothing interesting here:\n",
    "x_skip_connection2 = x\n",
    "x = tfblock0.layernorm2(x)\n",
    "x = tfblock0.feed_forward(x) # the only interesting thing is that it uses GELU instead of RELU\n",
    "x = tfblock0.dropout2(x)\n",
    "x += x_skip_connection2"
   ]
  },
  {
   "cell_type": "markdown",
   "id": "726ba874",
   "metadata": {},
   "source": [
    "##### 6) output of TransformerBlock:"
   ]
  },
  {
   "cell_type": "code",
   "execution_count": 190,
   "id": "304ed4d1",
   "metadata": {},
   "outputs": [],
   "source": [
    "tfblock0_output = tfblock0.dropout3(x)"
   ]
  },
  {
   "cell_type": "markdown",
   "id": "353690bb",
   "metadata": {},
   "source": [
    "##### 7) final output of bert4rec:"
   ]
  },
  {
   "cell_type": "code",
   "execution_count": 191,
   "id": "b93afc8a",
   "metadata": {},
   "outputs": [
    {
     "name": "stdout",
     "output_type": "stream",
     "text": [
      "torch.Size([128, 10, 3707])\n"
     ]
    }
   ],
   "source": [
    "logits = model.out(tfblock0_output)\n",
    "\n",
    "print(logits.shape)"
   ]
  },
  {
   "cell_type": "markdown",
   "id": "3f629eee",
   "metadata": {},
   "source": [
    "# 6) train bert4rec and validate on test:"
   ]
  },
  {
   "cell_type": "code",
   "execution_count": 51,
   "id": "38afa007",
   "metadata": {
    "scrolled": true
   },
   "outputs": [
    {
     "name": "stdout",
     "output_type": "stream",
     "text": [
      "Folder created: C:\\Users\\atama\\Documents\\GitHub\\bert4rec_ysda_seminar\\seminar\\experiments\\test_2024-03-13_1\n",
      "experiments\\test_2024-03-13_1\n",
      "experiments\\test_2024-03-13_1\\config.json\n",
      "\n",
      "Namespace(mode='train', template=None, test_model_path=None, dataset_code='ml-1m', min_rating=0, min_uc=5, min_sc=0, split='leave_one_out', dataset_split_seed=98765, eval_set_size=500, prepared_data_path='prepared_dataset/dataset_for_bert4rec.pickle', dataloader_code='bert', dataloader_random_seed=0.0, train_batch_size=128, val_batch_size=128, test_batch_size=128, train_negative_sampler_code='random', train_negative_sample_size=0, train_negative_sampling_seed=0, test_negative_sampler_code='popular', test_negative_sample_size=100, test_negative_sampling_seed=98765, trainer_code='bert', device='cuda', num_gpu=1, device_idx='0', optimizer='Adam', lr=0.001, weight_decay=0, momentum=None, decay_step=25, gamma=1.0, num_epochs=100, log_period_as_iter=12800, metric_ks=[1, 5, 10, 20, 50, 100], best_metric='NDCG@10', find_best_beta=False, total_anneal_steps=2000, anneal_cap=0.2, model_code='bert', model_init_seed=0, bert_max_len=100, bert_num_items=None, bert_hidden_units=256, bert_num_blocks=2, bert_num_heads=4, bert_dropout=0.1, bert_mask_prob=0.15, dae_num_items=None, dae_num_hidden=0, dae_hidden_dim=600, dae_latent_dim=200, dae_dropout=0.5, vae_num_items=None, vae_num_hidden=0, vae_hidden_dim=600, vae_latent_dim=200, vae_dropout=0.5, experiment_dir='experiments', experiment_description='test', enable_lr_schedule=True, num_items=3706)\n",
      "\n",
      "{'mode': 'train', 'template': None, 'test_model_path': None, 'dataset_code': 'ml-1m', 'min_rating': 0, 'min_uc': 5, 'min_sc': 0, 'split': 'leave_one_out', 'dataset_split_seed': 98765, 'eval_set_size': 500, 'prepared_data_path': 'prepared_dataset/dataset_for_bert4rec.pickle', 'dataloader_code': 'bert', 'dataloader_random_seed': 0.0, 'train_batch_size': 128, 'val_batch_size': 128, 'test_batch_size': 128, 'train_negative_sampler_code': 'random', 'train_negative_sample_size': 0, 'train_negative_sampling_seed': 0, 'test_negative_sampler_code': 'popular', 'test_negative_sample_size': 100, 'test_negative_sampling_seed': 98765, 'trainer_code': 'bert', 'device': 'cuda', 'num_gpu': 1, 'device_idx': '0', 'optimizer': 'Adam', 'lr': 0.001, 'weight_decay': 0, 'momentum': None, 'decay_step': 25, 'gamma': 1.0, 'num_epochs': 100, 'log_period_as_iter': 12800, 'metric_ks': [1, 5, 10, 20, 50, 100], 'best_metric': 'NDCG@10', 'find_best_beta': False, 'total_anneal_steps': 2000, 'anneal_cap': 0.2, 'model_code': 'bert', 'model_init_seed': 0, 'bert_max_len': 100, 'bert_num_items': None, 'bert_hidden_units': 256, 'bert_num_blocks': 2, 'bert_num_heads': 4, 'bert_dropout': 0.1, 'bert_mask_prob': 0.15, 'dae_num_items': None, 'dae_num_hidden': 0, 'dae_hidden_dim': 600, 'dae_latent_dim': 200, 'dae_dropout': 0.5, 'vae_num_items': None, 'vae_num_hidden': 0, 'vae_hidden_dim': 600, 'vae_latent_dim': 200, 'vae_dropout': 0.5, 'experiment_dir': 'experiments', 'experiment_description': 'test', 'enable_lr_schedule': True, 'num_items': 3706}\n",
      "{'anneal_cap': 0.2,\n",
      " 'bert_dropout': 0.1,\n",
      " 'bert_hidden_units': 256,\n",
      " 'bert_mask_prob': 0.15,\n",
      " 'bert_max_len': 100,\n",
      " 'bert_num_blocks': 2,\n",
      " 'bert_num_heads': 4,\n",
      " 'best_metric': 'NDCG@10',\n",
      " 'dae_dropout': 0.5,\n",
      " 'dae_hidden_dim': 600,\n",
      " 'dae_latent_dim': 200,\n",
      " 'dae_num_hidden': 0,\n",
      " 'dataloader_code': 'bert',\n",
      " 'dataloader_random_seed': 0.0,\n",
      " 'dataset_code': 'ml-1m',\n",
      " 'dataset_split_seed': 98765,\n",
      " 'decay_step': 25,\n",
      " 'device': 'cuda',\n",
      " 'device_idx': '0',\n",
      " 'enable_lr_schedule': True,\n",
      " 'eval_set_size': 500,\n",
      " 'experiment_description': 'test',\n",
      " 'experiment_dir': 'experiments',\n",
      " 'find_best_beta': False,\n",
      " 'gamma': 1.0,\n",
      " 'log_period_as_iter': 12800,\n",
      " 'lr': 0.001,\n",
      " 'metric_ks': [1,\n",
      "               5,\n",
      "               10,\n",
      "               20,\n",
      "               50,\n",
      "               100],\n",
      " 'min_rating': 0,\n",
      " 'min_sc': 0,\n",
      " 'min_uc': 5,\n",
      " 'mode': 'train',\n",
      " 'model_code': 'bert',\n",
      " 'model_init_seed': 0,\n",
      " 'num_epochs': 100,\n",
      " 'num_gpu': 1,\n",
      " 'num_items': 3706,\n",
      " 'optimizer': 'Adam',\n",
      " 'prepared_data_path': 'prepared_dataset/dataset_for_bert4rec.pickle',\n",
      " 'split': 'leave_one_out',\n",
      " 'test_batch_size': 128,\n",
      " 'test_negative_sample_size': 100,\n",
      " 'test_negative_sampler_code': 'popular',\n",
      " 'test_negative_sampling_seed': 98765,\n",
      " 'total_anneal_steps': 2000,\n",
      " 'train_batch_size': 128,\n",
      " 'train_negative_sample_size': 0,\n",
      " 'train_negative_sampler_code': 'random',\n",
      " 'train_negative_sampling_seed': 0,\n",
      " 'trainer_code': 'bert',\n",
      " 'vae_dropout': 0.5,\n",
      " 'vae_hidden_dim': 600,\n",
      " 'vae_latent_dim': 200,\n",
      " 'vae_num_hidden': 0,\n",
      " 'val_batch_size': 128,\n",
      " 'weight_decay': 0}\n"
     ]
    }
   ],
   "source": [
    "from bert4rec_modules_and_configs.trainers import trainer_factory\n",
    "\n",
    "export_root = setup_train(args)\n",
    "\n",
    "trainer = trainer_factory(args, model, train_torch_dataloader, val_torch_dataloader, test_torch_dataloader, export_root)"
   ]
  },
  {
   "cell_type": "code",
   "execution_count": 52,
   "id": "1c8aafef",
   "metadata": {
    "scrolled": true
   },
   "outputs": [
    {
     "name": "stderr",
     "output_type": "stream",
     "text": [
      "Val: N@1 0.007, N@5 0.028, N@10 0.045, R@1 0.007, R@5 0.050, R@10 0.102: 100%|██████████| 48/48 [00:04<00:00, 10.78it/s]\n",
      "C:\\Users\\atama\\anaconda3\\envs\\conda_bert4rec\\lib\\site-packages\\torch\\optim\\lr_scheduler.py:138: UserWarning: Detected call of `lr_scheduler.step()` before `optimizer.step()`. In PyTorch 1.1.0 and later, you should call them in the opposite order: `optimizer.step()` before `lr_scheduler.step()`.  Failure to do this will result in PyTorch skipping the first value of the learning rate schedule. See more details at https://pytorch.org/docs/stable/optim.html#how-to-adjust-learning-rate\n",
      "  warnings.warn(\"Detected call of `lr_scheduler.step()` before `optimizer.step()`. \"\n"
     ]
    },
    {
     "name": "stdout",
     "output_type": "stream",
     "text": [
      "Update Best NDCG@10 Model at 1\n"
     ]
    },
    {
     "name": "stderr",
     "output_type": "stream",
     "text": [
      "Epoch 1, loss 7.827 : 100%|██████████| 48/48 [00:02<00:00, 18.45it/s]\n",
      "Val: N@1 0.018, N@5 0.048, N@10 0.069, R@1 0.018, R@5 0.078, R@10 0.143: 100%|██████████| 48/48 [00:02<00:00, 21.89it/s]\n"
     ]
    },
    {
     "name": "stdout",
     "output_type": "stream",
     "text": [
      "Update Best NDCG@10 Model at 1\n"
     ]
    },
    {
     "name": "stderr",
     "output_type": "stream",
     "text": [
      "Epoch 2, loss 7.413 : 100%|██████████| 48/48 [00:02<00:00, 18.71it/s]\n",
      "Val: N@1 0.022, N@5 0.057, N@10 0.079, R@1 0.022, R@5 0.092, R@10 0.161: 100%|██████████| 48/48 [00:02<00:00, 22.00it/s]\n"
     ]
    },
    {
     "name": "stdout",
     "output_type": "stream",
     "text": [
      "Update Best NDCG@10 Model at 2\n"
     ]
    },
    {
     "name": "stderr",
     "output_type": "stream",
     "text": [
      "Epoch 3, loss 7.198 : 100%|██████████| 48/48 [00:02<00:00, 18.75it/s] \n",
      "Val: N@1 0.032, N@5 0.080, N@10 0.111, R@1 0.032, R@5 0.130, R@10 0.225: 100%|██████████| 48/48 [00:02<00:00, 21.49it/s]\n"
     ]
    },
    {
     "name": "stdout",
     "output_type": "stream",
     "text": [
      "Update Best NDCG@10 Model at 3\n"
     ]
    },
    {
     "name": "stderr",
     "output_type": "stream",
     "text": [
      "Epoch 4, loss 6.976 : 100%|██████████| 48/48 [00:02<00:00, 18.43it/s]\n",
      "Val: N@1 0.042, N@5 0.101, N@10 0.136, R@1 0.042, R@5 0.159, R@10 0.270: 100%|██████████| 48/48 [00:02<00:00, 21.43it/s]\n"
     ]
    },
    {
     "name": "stdout",
     "output_type": "stream",
     "text": [
      "Update Best NDCG@10 Model at 4\n"
     ]
    },
    {
     "name": "stderr",
     "output_type": "stream",
     "text": [
      "Epoch 5, loss 6.775 : 100%|██████████| 48/48 [00:02<00:00, 18.41it/s]  \n",
      "Val: N@1 0.061, N@5 0.146, N@10 0.186, R@1 0.061, R@5 0.229, R@10 0.354: 100%|██████████| 48/48 [00:02<00:00, 21.47it/s]\n"
     ]
    },
    {
     "name": "stdout",
     "output_type": "stream",
     "text": [
      "Update Best NDCG@10 Model at 5\n"
     ]
    },
    {
     "name": "stderr",
     "output_type": "stream",
     "text": [
      "Epoch 6, loss 6.601 : 100%|██████████| 48/48 [00:02<00:00, 18.36it/s]\n",
      "Val: N@1 0.082, N@5 0.176, N@10 0.218, R@1 0.082, R@5 0.266, R@10 0.398: 100%|██████████| 48/48 [00:02<00:00, 21.68it/s]\n"
     ]
    },
    {
     "name": "stdout",
     "output_type": "stream",
     "text": [
      "Update Best NDCG@10 Model at 6\n"
     ]
    },
    {
     "name": "stderr",
     "output_type": "stream",
     "text": [
      "Epoch 7, loss 6.437 : 100%|██████████| 48/48 [00:02<00:00, 18.18it/s]  \n",
      "Val: N@1 0.095, N@5 0.202, N@10 0.248, R@1 0.095, R@5 0.305, R@10 0.447: 100%|██████████| 48/48 [00:02<00:00, 21.73it/s]\n"
     ]
    },
    {
     "name": "stdout",
     "output_type": "stream",
     "text": [
      "Update Best NDCG@10 Model at 7\n"
     ]
    },
    {
     "name": "stderr",
     "output_type": "stream",
     "text": [
      "Epoch 8, loss 6.306 : 100%|██████████| 48/48 [00:02<00:00, 18.62it/s]\n",
      "Val: N@1 0.111, N@5 0.228, N@10 0.276, R@1 0.111, R@5 0.343, R@10 0.491: 100%|██████████| 48/48 [00:02<00:00, 21.68it/s]\n"
     ]
    },
    {
     "name": "stdout",
     "output_type": "stream",
     "text": [
      "Update Best NDCG@10 Model at 8\n"
     ]
    },
    {
     "name": "stderr",
     "output_type": "stream",
     "text": [
      "Epoch 9, loss 6.180 : 100%|██████████| 48/48 [00:02<00:00, 18.76it/s]  \n",
      "Val: N@1 0.118, N@5 0.238, N@10 0.284, R@1 0.118, R@5 0.354, R@10 0.494: 100%|██████████| 48/48 [00:02<00:00, 21.67it/s]\n"
     ]
    },
    {
     "name": "stdout",
     "output_type": "stream",
     "text": [
      "Update Best NDCG@10 Model at 9\n"
     ]
    },
    {
     "name": "stderr",
     "output_type": "stream",
     "text": [
      "Epoch 10, loss 6.070 : 100%|██████████| 48/48 [00:02<00:00, 18.55it/s]\n",
      "Val: N@1 0.128, N@5 0.251, N@10 0.299, R@1 0.128, R@5 0.368, R@10 0.516: 100%|██████████| 48/48 [00:02<00:00, 22.09it/s]\n"
     ]
    },
    {
     "name": "stdout",
     "output_type": "stream",
     "text": [
      "Update Best NDCG@10 Model at 10\n"
     ]
    },
    {
     "name": "stderr",
     "output_type": "stream",
     "text": [
      "Epoch 11, loss 6.002 : 100%|██████████| 48/48 [00:02<00:00, 18.86it/s] \n",
      "Val: N@1 0.145, N@5 0.274, N@10 0.318, R@1 0.145, R@5 0.397, R@10 0.535: 100%|██████████| 48/48 [00:02<00:00, 22.10it/s]\n"
     ]
    },
    {
     "name": "stdout",
     "output_type": "stream",
     "text": [
      "Update Best NDCG@10 Model at 11\n"
     ]
    },
    {
     "name": "stderr",
     "output_type": "stream",
     "text": [
      "Epoch 12, loss 5.920 : 100%|██████████| 48/48 [00:02<00:00, 18.49it/s]\n",
      "Val: N@1 0.145, N@5 0.284, N@10 0.328, R@1 0.145, R@5 0.415, R@10 0.552: 100%|██████████| 48/48 [00:02<00:00, 21.37it/s]\n"
     ]
    },
    {
     "name": "stdout",
     "output_type": "stream",
     "text": [
      "Update Best NDCG@10 Model at 12\n"
     ]
    },
    {
     "name": "stderr",
     "output_type": "stream",
     "text": [
      "Epoch 13, loss 5.854 : 100%|██████████| 48/48 [00:02<00:00, 18.58it/s] \n",
      "Val: N@1 0.159, N@5 0.297, N@10 0.343, R@1 0.159, R@5 0.430, R@10 0.570: 100%|██████████| 48/48 [00:02<00:00, 21.68it/s]\n"
     ]
    },
    {
     "name": "stdout",
     "output_type": "stream",
     "text": [
      "Update Best NDCG@10 Model at 13\n"
     ]
    },
    {
     "name": "stderr",
     "output_type": "stream",
     "text": [
      "Epoch 14, loss 5.828 : 100%|██████████| 48/48 [00:02<00:00, 18.41it/s]\n",
      "Val: N@1 0.169, N@5 0.307, N@10 0.352, R@1 0.169, R@5 0.437, R@10 0.575: 100%|██████████| 48/48 [00:02<00:00, 22.06it/s]\n"
     ]
    },
    {
     "name": "stdout",
     "output_type": "stream",
     "text": [
      "Update Best NDCG@10 Model at 14\n"
     ]
    },
    {
     "name": "stderr",
     "output_type": "stream",
     "text": [
      "Epoch 15, loss 5.752 : 100%|██████████| 48/48 [00:02<00:00, 18.57it/s] \n",
      "Val: N@1 0.167, N@5 0.311, N@10 0.356, R@1 0.167, R@5 0.446, R@10 0.584: 100%|██████████| 48/48 [00:02<00:00, 21.89it/s]\n"
     ]
    },
    {
     "name": "stdout",
     "output_type": "stream",
     "text": [
      "Update Best NDCG@10 Model at 15\n"
     ]
    },
    {
     "name": "stderr",
     "output_type": "stream",
     "text": [
      "Epoch 16, loss 5.709 : 100%|██████████| 48/48 [00:02<00:00, 18.28it/s]\n",
      "Val: N@1 0.176, N@5 0.320, N@10 0.364, R@1 0.176, R@5 0.455, R@10 0.592: 100%|██████████| 48/48 [00:02<00:00, 21.43it/s]\n"
     ]
    },
    {
     "name": "stdout",
     "output_type": "stream",
     "text": [
      "Update Best NDCG@10 Model at 16\n"
     ]
    },
    {
     "name": "stderr",
     "output_type": "stream",
     "text": [
      "Epoch 17, loss 5.660 : 100%|██████████| 48/48 [00:02<00:00, 18.52it/s] \n",
      "Val: N@1 0.180, N@5 0.326, N@10 0.372, R@1 0.180, R@5 0.461, R@10 0.602: 100%|██████████| 48/48 [00:02<00:00, 22.06it/s]\n"
     ]
    },
    {
     "name": "stdout",
     "output_type": "stream",
     "text": [
      "Update Best NDCG@10 Model at 17\n"
     ]
    },
    {
     "name": "stderr",
     "output_type": "stream",
     "text": [
      "Epoch 18, loss 5.607 : 100%|██████████| 48/48 [00:02<00:00, 18.51it/s]\n",
      "Val: N@1 0.187, N@5 0.330, N@10 0.374, R@1 0.187, R@5 0.462, R@10 0.600: 100%|██████████| 48/48 [00:02<00:00, 22.12it/s]\n"
     ]
    },
    {
     "name": "stdout",
     "output_type": "stream",
     "text": [
      "Update Best NDCG@10 Model at 18\n"
     ]
    },
    {
     "name": "stderr",
     "output_type": "stream",
     "text": [
      "Epoch 19, loss 5.577 : 100%|██████████| 48/48 [00:02<00:00, 18.71it/s]\n",
      "Val: N@1 0.194, N@5 0.338, N@10 0.384, R@1 0.194, R@5 0.470, R@10 0.612: 100%|██████████| 48/48 [00:02<00:00, 22.14it/s]\n"
     ]
    },
    {
     "name": "stdout",
     "output_type": "stream",
     "text": [
      "Update Best NDCG@10 Model at 19\n"
     ]
    },
    {
     "name": "stderr",
     "output_type": "stream",
     "text": [
      "Epoch 20, loss 5.540 : 100%|██████████| 48/48 [00:02<00:00, 18.60it/s]\n",
      "Val: N@1 0.193, N@5 0.346, N@10 0.390, R@1 0.193, R@5 0.489, R@10 0.625: 100%|██████████| 48/48 [00:02<00:00, 22.20it/s]\n"
     ]
    },
    {
     "name": "stdout",
     "output_type": "stream",
     "text": [
      "Update Best NDCG@10 Model at 20\n"
     ]
    },
    {
     "name": "stderr",
     "output_type": "stream",
     "text": [
      "Epoch 21, loss 5.511 : 100%|██████████| 48/48 [00:02<00:00, 17.94it/s]\n",
      "Val: N@1 0.200, N@5 0.347, N@10 0.391, R@1 0.200, R@5 0.483, R@10 0.620: 100%|██████████| 48/48 [00:02<00:00, 21.35it/s]\n"
     ]
    },
    {
     "name": "stdout",
     "output_type": "stream",
     "text": [
      "Update Best NDCG@10 Model at 21\n"
     ]
    },
    {
     "name": "stderr",
     "output_type": "stream",
     "text": [
      "Epoch 22, loss 5.472 : 100%|██████████| 48/48 [00:02<00:00, 18.64it/s] \n",
      "Val: N@1 0.203, N@5 0.351, N@10 0.394, R@1 0.203, R@5 0.487, R@10 0.622: 100%|██████████| 48/48 [00:02<00:00, 22.04it/s]\n"
     ]
    },
    {
     "name": "stdout",
     "output_type": "stream",
     "text": [
      "Update Best NDCG@10 Model at 22\n"
     ]
    },
    {
     "name": "stderr",
     "output_type": "stream",
     "text": [
      "Epoch 23, loss 5.434 : 100%|██████████| 48/48 [00:02<00:00, 18.73it/s]\n",
      "Val: N@1 0.207, N@5 0.361, N@10 0.405, R@1 0.207, R@5 0.503, R@10 0.639: 100%|██████████| 48/48 [00:02<00:00, 21.49it/s]\n"
     ]
    },
    {
     "name": "stdout",
     "output_type": "stream",
     "text": [
      "Update Best NDCG@10 Model at 23\n"
     ]
    },
    {
     "name": "stderr",
     "output_type": "stream",
     "text": [
      "Epoch 24, loss 5.413 : 100%|██████████| 48/48 [00:02<00:00, 18.63it/s] \n",
      "Val: N@1 0.206, N@5 0.356, N@10 0.401, R@1 0.206, R@5 0.495, R@10 0.636: 100%|██████████| 48/48 [00:02<00:00, 21.53it/s]\n",
      "Epoch 25, loss 5.393 : 100%|██████████| 48/48 [00:02<00:00, 18.60it/s]\n",
      "Val: N@1 0.215, N@5 0.368, N@10 0.410, R@1 0.215, R@5 0.507, R@10 0.637: 100%|██████████| 48/48 [00:02<00:00, 21.86it/s]\n"
     ]
    },
    {
     "name": "stdout",
     "output_type": "stream",
     "text": [
      "Update Best NDCG@10 Model at 25\n"
     ]
    },
    {
     "name": "stderr",
     "output_type": "stream",
     "text": [
      "Epoch 26, loss 5.369 : 100%|██████████| 48/48 [00:02<00:00, 18.78it/s] \n",
      "Val: N@1 0.217, N@5 0.365, N@10 0.409, R@1 0.217, R@5 0.499, R@10 0.634: 100%|██████████| 48/48 [00:02<00:00, 21.41it/s]\n",
      "Epoch 27, loss 5.365 : 100%|██████████| 48/48 [00:02<00:00, 18.40it/s]\n",
      "Val: N@1 0.217, N@5 0.367, N@10 0.409, R@1 0.217, R@5 0.507, R@10 0.637: 100%|██████████| 48/48 [00:02<00:00, 21.59it/s]\n",
      "Epoch 28, loss 5.334 : 100%|██████████| 48/48 [00:02<00:00, 18.62it/s] \n",
      "Val: N@1 0.220, N@5 0.373, N@10 0.415, R@1 0.220, R@5 0.514, R@10 0.643: 100%|██████████| 48/48 [00:02<00:00, 21.94it/s]\n"
     ]
    },
    {
     "name": "stdout",
     "output_type": "stream",
     "text": [
      "Update Best NDCG@10 Model at 28\n"
     ]
    },
    {
     "name": "stderr",
     "output_type": "stream",
     "text": [
      "Epoch 29, loss 5.283 : 100%|██████████| 48/48 [00:02<00:00, 18.34it/s]\n",
      "Val: N@1 0.230, N@5 0.377, N@10 0.421, R@1 0.230, R@5 0.513, R@10 0.646: 100%|██████████| 48/48 [00:02<00:00, 21.77it/s]\n"
     ]
    },
    {
     "name": "stdout",
     "output_type": "stream",
     "text": [
      "Update Best NDCG@10 Model at 29\n"
     ]
    },
    {
     "name": "stderr",
     "output_type": "stream",
     "text": [
      "Epoch 30, loss 5.275 : 100%|██████████| 48/48 [00:02<00:00, 18.55it/s] \n",
      "Val: N@1 0.225, N@5 0.379, N@10 0.421, R@1 0.225, R@5 0.521, R@10 0.652: 100%|██████████| 48/48 [00:02<00:00, 21.91it/s]\n"
     ]
    },
    {
     "name": "stdout",
     "output_type": "stream",
     "text": [
      "Update Best NDCG@10 Model at 30\n"
     ]
    },
    {
     "name": "stderr",
     "output_type": "stream",
     "text": [
      "Epoch 31, loss 5.257 : 100%|██████████| 48/48 [00:02<00:00, 18.61it/s]\n",
      "Val: N@1 0.227, N@5 0.382, N@10 0.423, R@1 0.227, R@5 0.523, R@10 0.648: 100%|██████████| 48/48 [00:02<00:00, 22.25it/s]\n"
     ]
    },
    {
     "name": "stdout",
     "output_type": "stream",
     "text": [
      "Update Best NDCG@10 Model at 31\n"
     ]
    },
    {
     "name": "stderr",
     "output_type": "stream",
     "text": [
      "Epoch 32, loss 5.241 : 100%|██████████| 48/48 [00:02<00:00, 18.57it/s] \n",
      "Val: N@1 0.231, N@5 0.385, N@10 0.424, R@1 0.231, R@5 0.526, R@10 0.649: 100%|██████████| 48/48 [00:02<00:00, 22.13it/s]\n"
     ]
    },
    {
     "name": "stdout",
     "output_type": "stream",
     "text": [
      "Update Best NDCG@10 Model at 32\n"
     ]
    },
    {
     "name": "stderr",
     "output_type": "stream",
     "text": [
      "Epoch 33, loss 5.242 : 100%|██████████| 48/48 [00:02<00:00, 18.60it/s]\n",
      "Val: N@1 0.234, N@5 0.391, N@10 0.433, R@1 0.234, R@5 0.536, R@10 0.666: 100%|██████████| 48/48 [00:02<00:00, 22.29it/s]\n"
     ]
    },
    {
     "name": "stdout",
     "output_type": "stream",
     "text": [
      "Update Best NDCG@10 Model at 33\n"
     ]
    },
    {
     "name": "stderr",
     "output_type": "stream",
     "text": [
      "Epoch 34, loss 5.218 : 100%|██████████| 48/48 [00:02<00:00, 18.74it/s] \n",
      "Val: N@1 0.234, N@5 0.387, N@10 0.431, R@1 0.234, R@5 0.526, R@10 0.662: 100%|██████████| 48/48 [00:02<00:00, 21.92it/s]\n",
      "Epoch 35, loss 5.181 : 100%|██████████| 48/48 [00:02<00:00, 18.56it/s]\n",
      "Val: N@1 0.235, N@5 0.391, N@10 0.433, R@1 0.235, R@5 0.535, R@10 0.663: 100%|██████████| 48/48 [00:02<00:00, 21.88it/s]\n",
      "Epoch 36, loss 5.175 : 100%|██████████| 48/48 [00:02<00:00, 18.71it/s]\n",
      "Val: N@1 0.230, N@5 0.384, N@10 0.427, R@1 0.230, R@5 0.523, R@10 0.655: 100%|██████████| 48/48 [00:02<00:00, 21.86it/s]\n",
      "Epoch 37, loss 5.131 : 100%|██████████| 48/48 [00:02<00:00, 18.48it/s]\n",
      "Val: N@1 0.236, N@5 0.388, N@10 0.428, R@1 0.236, R@5 0.526, R@10 0.650: 100%|██████████| 48/48 [00:02<00:00, 21.59it/s]\n",
      "Epoch 38, loss 5.142 : 100%|██████████| 48/48 [00:02<00:00, 18.48it/s]\n",
      "Val: N@1 0.249, N@5 0.398, N@10 0.439, R@1 0.249, R@5 0.535, R@10 0.661: 100%|██████████| 48/48 [00:02<00:00, 21.40it/s]\n"
     ]
    },
    {
     "name": "stdout",
     "output_type": "stream",
     "text": [
      "Update Best NDCG@10 Model at 38\n"
     ]
    },
    {
     "name": "stderr",
     "output_type": "stream",
     "text": [
      "Epoch 39, loss 5.135 : 100%|██████████| 48/48 [00:02<00:00, 18.74it/s]\n",
      "Val: N@1 0.250, N@5 0.404, N@10 0.443, R@1 0.250, R@5 0.546, R@10 0.666: 100%|██████████| 48/48 [00:02<00:00, 22.38it/s]\n"
     ]
    },
    {
     "name": "stdout",
     "output_type": "stream",
     "text": [
      "Update Best NDCG@10 Model at 39\n"
     ]
    },
    {
     "name": "stderr",
     "output_type": "stream",
     "text": [
      "Epoch 40, loss 5.114 : 100%|██████████| 48/48 [00:02<00:00, 18.54it/s]\n",
      "Val: N@1 0.248, N@5 0.402, N@10 0.442, R@1 0.248, R@5 0.541, R@10 0.667: 100%|██████████| 48/48 [00:02<00:00, 22.09it/s]\n",
      "Epoch 41, loss 5.095 : 100%|██████████| 48/48 [00:02<00:00, 18.55it/s] \n",
      "Val: N@1 0.248, N@5 0.404, N@10 0.445, R@1 0.248, R@5 0.547, R@10 0.672: 100%|██████████| 48/48 [00:02<00:00, 22.08it/s]\n"
     ]
    },
    {
     "name": "stdout",
     "output_type": "stream",
     "text": [
      "Update Best NDCG@10 Model at 41\n"
     ]
    },
    {
     "name": "stderr",
     "output_type": "stream",
     "text": [
      "Epoch 42, loss 5.091 : 100%|██████████| 48/48 [00:02<00:00, 18.39it/s]\n",
      "Val: N@1 0.246, N@5 0.402, N@10 0.445, R@1 0.246, R@5 0.544, R@10 0.674: 100%|██████████| 48/48 [00:02<00:00, 20.25it/s]\n",
      "Epoch 43, loss 5.083 : 100%|██████████| 48/48 [00:02<00:00, 18.04it/s] \n",
      "Val: N@1 0.247, N@5 0.401, N@10 0.443, R@1 0.247, R@5 0.538, R@10 0.668: 100%|██████████| 48/48 [00:02<00:00, 20.08it/s]\n",
      "Epoch 44, loss 5.076 : 100%|██████████| 48/48 [00:02<00:00, 18.44it/s]\n",
      "Val: N@1 0.230, N@5 0.390, N@10 0.433, R@1 0.230, R@5 0.535, R@10 0.665: 100%|██████████| 48/48 [00:02<00:00, 20.36it/s]\n",
      "Epoch 45, loss 5.063 : 100%|██████████| 48/48 [00:02<00:00, 18.52it/s] \n",
      "Val: N@1 0.242, N@5 0.399, N@10 0.440, R@1 0.242, R@5 0.542, R@10 0.668: 100%|██████████| 48/48 [00:02<00:00, 20.36it/s]\n",
      "Epoch 46, loss 5.048 : 100%|██████████| 48/48 [00:02<00:00, 18.37it/s]\n",
      "Val: N@1 0.250, N@5 0.404, N@10 0.446, R@1 0.250, R@5 0.543, R@10 0.674: 100%|██████████| 48/48 [00:02<00:00, 20.37it/s]\n"
     ]
    },
    {
     "name": "stdout",
     "output_type": "stream",
     "text": [
      "Update Best NDCG@10 Model at 46\n"
     ]
    },
    {
     "name": "stderr",
     "output_type": "stream",
     "text": [
      "Epoch 47, loss 5.033 : 100%|██████████| 48/48 [00:02<00:00, 18.30it/s] \n",
      "Val: N@1 0.248, N@5 0.406, N@10 0.446, R@1 0.248, R@5 0.550, R@10 0.674: 100%|██████████| 48/48 [00:02<00:00, 22.17it/s]\n",
      "Epoch 48, loss 5.018 : 100%|██████████| 48/48 [00:02<00:00, 18.95it/s]\n",
      "Val: N@1 0.253, N@5 0.412, N@10 0.452, R@1 0.253, R@5 0.553, R@10 0.678: 100%|██████████| 48/48 [00:02<00:00, 22.29it/s]\n"
     ]
    },
    {
     "name": "stdout",
     "output_type": "stream",
     "text": [
      "Update Best NDCG@10 Model at 48\n"
     ]
    },
    {
     "name": "stderr",
     "output_type": "stream",
     "text": [
      "Epoch 49, loss 4.998 : 100%|██████████| 48/48 [00:02<00:00, 18.75it/s] \n",
      "Val: N@1 0.252, N@5 0.408, N@10 0.449, R@1 0.252, R@5 0.549, R@10 0.674: 100%|██████████| 48/48 [00:02<00:00, 21.97it/s]\n",
      "Epoch 50, loss 4.999 : 100%|██████████| 48/48 [00:02<00:00, 18.63it/s]\n",
      "Val: N@1 0.247, N@5 0.401, N@10 0.442, R@1 0.247, R@5 0.542, R@10 0.667: 100%|██████████| 48/48 [00:02<00:00, 22.09it/s]\n",
      "Epoch 51, loss 4.974 : 100%|██████████| 48/48 [00:02<00:00, 18.61it/s] \n",
      "Val: N@1 0.254, N@5 0.411, N@10 0.450, R@1 0.254, R@5 0.555, R@10 0.674: 100%|██████████| 48/48 [00:02<00:00, 22.39it/s]\n",
      "Epoch 52, loss 4.985 : 100%|██████████| 48/48 [00:02<00:00, 18.43it/s]\n",
      "Val: N@1 0.257, N@5 0.413, N@10 0.454, R@1 0.257, R@5 0.554, R@10 0.681: 100%|██████████| 48/48 [00:02<00:00, 22.17it/s]\n"
     ]
    },
    {
     "name": "stdout",
     "output_type": "stream",
     "text": [
      "Update Best NDCG@10 Model at 52\n"
     ]
    },
    {
     "name": "stderr",
     "output_type": "stream",
     "text": [
      "Logging to Tensorboard: 100%|██████████| 48/48 [00:02<00:00, 18.57it/s]\n",
      "Val: N@1 0.257, N@5 0.414, N@10 0.454, R@1 0.257, R@5 0.556, R@10 0.679: 100%|██████████| 48/48 [00:02<00:00, 22.09it/s]\n",
      "Epoch 54, loss 4.978 : 100%|██████████| 48/48 [00:02<00:00, 18.84it/s]\n",
      "Val: N@1 0.249, N@5 0.407, N@10 0.447, R@1 0.249, R@5 0.549, R@10 0.673: 100%|██████████| 48/48 [00:02<00:00, 22.35it/s]\n",
      "Epoch 55, loss 4.962 : 100%|██████████| 48/48 [00:02<00:00, 18.88it/s]\n",
      "Val: N@1 0.261, N@5 0.416, N@10 0.455, R@1 0.261, R@5 0.557, R@10 0.678: 100%|██████████| 48/48 [00:02<00:00, 22.16it/s]\n"
     ]
    },
    {
     "name": "stdout",
     "output_type": "stream",
     "text": [
      "Update Best NDCG@10 Model at 55\n"
     ]
    },
    {
     "name": "stderr",
     "output_type": "stream",
     "text": [
      "Epoch 56, loss 4.939 : 100%|██████████| 48/48 [00:02<00:00, 18.66it/s]\n",
      "Val: N@1 0.261, N@5 0.416, N@10 0.454, R@1 0.261, R@5 0.559, R@10 0.676: 100%|██████████| 48/48 [00:02<00:00, 22.06it/s]\n",
      "Epoch 57, loss 4.942 : 100%|██████████| 48/48 [00:02<00:00, 18.60it/s]\n",
      "Val: N@1 0.261, N@5 0.413, N@10 0.452, R@1 0.261, R@5 0.551, R@10 0.670: 100%|██████████| 48/48 [00:02<00:00, 22.23it/s]\n",
      "Epoch 58, loss 4.938 : 100%|██████████| 48/48 [00:02<00:00, 18.62it/s] \n",
      "Val: N@1 0.255, N@5 0.412, N@10 0.453, R@1 0.255, R@5 0.553, R@10 0.679: 100%|██████████| 48/48 [00:02<00:00, 22.25it/s]\n",
      "Epoch 59, loss 4.918 : 100%|██████████| 48/48 [00:02<00:00, 18.70it/s]\n",
      "Val: N@1 0.253, N@5 0.415, N@10 0.453, R@1 0.253, R@5 0.561, R@10 0.679: 100%|██████████| 48/48 [00:02<00:00, 22.11it/s]\n",
      "Epoch 60, loss 4.925 : 100%|██████████| 48/48 [00:02<00:00, 18.74it/s] \n",
      "Val: N@1 0.258, N@5 0.413, N@10 0.455, R@1 0.258, R@5 0.555, R@10 0.682: 100%|██████████| 48/48 [00:02<00:00, 22.02it/s]\n",
      "Epoch 61, loss 4.920 : 100%|██████████| 48/48 [00:02<00:00, 18.77it/s]\n",
      "Val: N@1 0.255, N@5 0.410, N@10 0.452, R@1 0.255, R@5 0.552, R@10 0.680: 100%|██████████| 48/48 [00:02<00:00, 22.19it/s]\n",
      "Epoch 62, loss 4.899 : 100%|██████████| 48/48 [00:02<00:00, 18.67it/s] \n",
      "Val: N@1 0.270, N@5 0.424, N@10 0.463, R@1 0.270, R@5 0.566, R@10 0.685: 100%|██████████| 48/48 [00:02<00:00, 22.22it/s]\n"
     ]
    },
    {
     "name": "stdout",
     "output_type": "stream",
     "text": [
      "Update Best NDCG@10 Model at 62\n"
     ]
    },
    {
     "name": "stderr",
     "output_type": "stream",
     "text": [
      "Epoch 63, loss 4.910 : 100%|██████████| 48/48 [00:02<00:00, 18.57it/s]\n",
      "Val: N@1 0.264, N@5 0.418, N@10 0.458, R@1 0.264, R@5 0.559, R@10 0.681: 100%|██████████| 48/48 [00:02<00:00, 22.07it/s]\n",
      "Epoch 64, loss 4.884 : 100%|██████████| 48/48 [00:02<00:00, 18.51it/s] \n",
      "Val: N@1 0.264, N@5 0.421, N@10 0.461, R@1 0.264, R@5 0.562, R@10 0.687: 100%|██████████| 48/48 [00:02<00:00, 22.27it/s]\n",
      "Epoch 65, loss 4.879 : 100%|██████████| 48/48 [00:02<00:00, 18.67it/s]\n",
      "Val: N@1 0.260, N@5 0.419, N@10 0.457, R@1 0.260, R@5 0.563, R@10 0.681: 100%|██████████| 48/48 [00:02<00:00, 22.11it/s]\n",
      "Epoch 66, loss 4.874 : 100%|██████████| 48/48 [00:02<00:00, 18.50it/s] \n",
      "Val: N@1 0.264, N@5 0.421, N@10 0.461, R@1 0.264, R@5 0.564, R@10 0.687: 100%|██████████| 48/48 [00:02<00:00, 22.39it/s]\n",
      "Epoch 67, loss 4.871 : 100%|██████████| 48/48 [00:02<00:00, 18.50it/s]\n",
      "Val: N@1 0.265, N@5 0.423, N@10 0.463, R@1 0.265, R@5 0.566, R@10 0.689: 100%|██████████| 48/48 [00:02<00:00, 21.95it/s]\n",
      "Epoch 68, loss 4.862 : 100%|██████████| 48/48 [00:02<00:00, 18.59it/s] \n",
      "Val: N@1 0.265, N@5 0.423, N@10 0.462, R@1 0.265, R@5 0.566, R@10 0.685: 100%|██████████| 48/48 [00:02<00:00, 21.91it/s]\n",
      "Epoch 69, loss 4.852 : 100%|██████████| 48/48 [00:02<00:00, 18.63it/s]\n",
      "Val: N@1 0.272, N@5 0.426, N@10 0.466, R@1 0.272, R@5 0.566, R@10 0.691: 100%|██████████| 48/48 [00:02<00:00, 21.76it/s]\n"
     ]
    },
    {
     "name": "stdout",
     "output_type": "stream",
     "text": [
      "Update Best NDCG@10 Model at 69\n"
     ]
    },
    {
     "name": "stderr",
     "output_type": "stream",
     "text": [
      "Epoch 70, loss 4.845 : 100%|██████████| 48/48 [00:02<00:00, 18.80it/s] \n",
      "Val: N@1 0.270, N@5 0.426, N@10 0.467, R@1 0.270, R@5 0.569, R@10 0.693: 100%|██████████| 48/48 [00:02<00:00, 22.22it/s]\n"
     ]
    },
    {
     "name": "stdout",
     "output_type": "stream",
     "text": [
      "Update Best NDCG@10 Model at 70\n"
     ]
    },
    {
     "name": "stderr",
     "output_type": "stream",
     "text": [
      "Epoch 71, loss 4.854 : 100%|██████████| 48/48 [00:02<00:00, 18.48it/s]\n",
      "Val: N@1 0.267, N@5 0.420, N@10 0.462, R@1 0.267, R@5 0.557, R@10 0.686: 100%|██████████| 48/48 [00:02<00:00, 21.97it/s]\n",
      "Epoch 72, loss 4.821 : 100%|██████████| 48/48 [00:02<00:00, 18.58it/s]\n",
      "Val: N@1 0.263, N@5 0.422, N@10 0.462, R@1 0.263, R@5 0.566, R@10 0.687: 100%|██████████| 48/48 [00:02<00:00, 22.12it/s]\n",
      "Epoch 73, loss 4.829 : 100%|██████████| 48/48 [00:02<00:00, 18.60it/s]\n",
      "Val: N@1 0.260, N@5 0.419, N@10 0.457, R@1 0.260, R@5 0.565, R@10 0.683: 100%|██████████| 48/48 [00:02<00:00, 22.18it/s]\n",
      "Epoch 74, loss 4.835 : 100%|██████████| 48/48 [00:02<00:00, 18.65it/s]\n",
      "Val: N@1 0.268, N@5 0.422, N@10 0.460, R@1 0.268, R@5 0.564, R@10 0.682: 100%|██████████| 48/48 [00:02<00:00, 21.94it/s]\n",
      "Epoch 75, loss 4.823 : 100%|██████████| 48/48 [00:02<00:00, 18.61it/s]\n",
      "Val: N@1 0.266, N@5 0.421, N@10 0.462, R@1 0.266, R@5 0.560, R@10 0.685: 100%|██████████| 48/48 [00:02<00:00, 22.22it/s]\n",
      "Epoch 76, loss 4.824 : 100%|██████████| 48/48 [00:02<00:00, 18.65it/s]\n",
      "Val: N@1 0.267, N@5 0.424, N@10 0.463, R@1 0.267, R@5 0.567, R@10 0.686: 100%|██████████| 48/48 [00:02<00:00, 21.98it/s]\n",
      "Epoch 77, loss 4.802 : 100%|██████████| 48/48 [00:02<00:00, 18.65it/s] \n",
      "Val: N@1 0.264, N@5 0.426, N@10 0.464, R@1 0.264, R@5 0.573, R@10 0.690: 100%|██████████| 48/48 [00:02<00:00, 22.23it/s]\n",
      "Epoch 78, loss 4.796 : 100%|██████████| 48/48 [00:02<00:00, 18.81it/s]\n",
      "Val: N@1 0.266, N@5 0.424, N@10 0.464, R@1 0.266, R@5 0.566, R@10 0.687: 100%|██████████| 48/48 [00:02<00:00, 22.09it/s]\n",
      "Epoch 79, loss 4.775 : 100%|██████████| 48/48 [00:02<00:00, 18.62it/s] \n",
      "Val: N@1 0.269, N@5 0.422, N@10 0.464, R@1 0.269, R@5 0.562, R@10 0.688: 100%|██████████| 48/48 [00:02<00:00, 21.96it/s]\n",
      "Epoch 80, loss 4.784 : 100%|██████████| 48/48 [00:02<00:00, 18.66it/s]\n",
      "Val: N@1 0.264, N@5 0.421, N@10 0.460, R@1 0.264, R@5 0.564, R@10 0.684: 100%|██████████| 48/48 [00:02<00:00, 22.13it/s]\n",
      "Epoch 81, loss 4.790 : 100%|██████████| 48/48 [00:02<00:00, 18.72it/s] \n",
      "Val: N@1 0.266, N@5 0.424, N@10 0.463, R@1 0.266, R@5 0.566, R@10 0.686: 100%|██████████| 48/48 [00:02<00:00, 21.64it/s]\n",
      "Epoch 82, loss 4.757 : 100%|██████████| 48/48 [00:02<00:00, 18.63it/s]\n",
      "Val: N@1 0.269, N@5 0.426, N@10 0.464, R@1 0.269, R@5 0.568, R@10 0.688: 100%|██████████| 48/48 [00:02<00:00, 21.87it/s]\n",
      "Epoch 83, loss 4.773 : 100%|██████████| 48/48 [00:02<00:00, 18.60it/s] \n",
      "Val: N@1 0.264, N@5 0.421, N@10 0.460, R@1 0.264, R@5 0.563, R@10 0.682: 100%|██████████| 48/48 [00:02<00:00, 22.30it/s]\n",
      "Epoch 84, loss 4.764 : 100%|██████████| 48/48 [00:02<00:00, 18.70it/s]\n",
      "Val: N@1 0.273, N@5 0.428, N@10 0.466, R@1 0.273, R@5 0.569, R@10 0.687: 100%|██████████| 48/48 [00:02<00:00, 22.20it/s]\n",
      "Epoch 85, loss 4.765 : 100%|██████████| 48/48 [00:02<00:00, 18.50it/s] \n",
      "Val: N@1 0.270, N@5 0.423, N@10 0.463, R@1 0.270, R@5 0.564, R@10 0.688: 100%|██████████| 48/48 [00:02<00:00, 21.94it/s]\n",
      "Epoch 86, loss 4.746 : 100%|██████████| 48/48 [00:02<00:00, 18.63it/s]\n",
      "Val: N@1 0.265, N@5 0.424, N@10 0.464, R@1 0.265, R@5 0.568, R@10 0.689: 100%|██████████| 48/48 [00:02<00:00, 22.08it/s]\n",
      "Epoch 87, loss 4.744 : 100%|██████████| 48/48 [00:02<00:00, 18.46it/s] \n",
      "Val: N@1 0.267, N@5 0.425, N@10 0.465, R@1 0.267, R@5 0.567, R@10 0.689: 100%|██████████| 48/48 [00:02<00:00, 21.95it/s]\n",
      "Epoch 88, loss 4.736 : 100%|██████████| 48/48 [00:02<00:00, 18.60it/s]\n",
      "Val: N@1 0.275, N@5 0.425, N@10 0.465, R@1 0.275, R@5 0.563, R@10 0.687: 100%|██████████| 48/48 [00:02<00:00, 21.14it/s]\n",
      "Epoch 89, loss 4.743 : 100%|██████████| 48/48 [00:02<00:00, 18.72it/s]\n",
      "Val: N@1 0.271, N@5 0.423, N@10 0.461, R@1 0.271, R@5 0.562, R@10 0.681: 100%|██████████| 48/48 [00:02<00:00, 21.96it/s]\n",
      "Epoch 90, loss 4.726 : 100%|██████████| 48/48 [00:02<00:00, 18.62it/s]\n",
      "Val: N@1 0.270, N@5 0.423, N@10 0.463, R@1 0.270, R@5 0.562, R@10 0.687: 100%|██████████| 48/48 [00:02<00:00, 21.88it/s]\n",
      "Epoch 91, loss 4.728 : 100%|██████████| 48/48 [00:02<00:00, 18.50it/s]\n",
      "Val: N@1 0.269, N@5 0.424, N@10 0.464, R@1 0.269, R@5 0.564, R@10 0.687: 100%|██████████| 48/48 [00:02<00:00, 21.73it/s]\n",
      "Epoch 92, loss 4.704 : 100%|██████████| 48/48 [00:02<00:00, 18.39it/s]\n",
      "Val: N@1 0.266, N@5 0.422, N@10 0.460, R@1 0.266, R@5 0.564, R@10 0.683: 100%|██████████| 48/48 [00:02<00:00, 22.10it/s]\n",
      "Epoch 93, loss 4.703 : 100%|██████████| 48/48 [00:02<00:00, 18.62it/s]\n",
      "Val: N@1 0.270, N@5 0.425, N@10 0.464, R@1 0.270, R@5 0.566, R@10 0.686: 100%|██████████| 48/48 [00:02<00:00, 22.02it/s]\n",
      "Epoch 94, loss 4.714 : 100%|██████████| 48/48 [00:02<00:00, 18.52it/s] \n",
      "Val: N@1 0.273, N@5 0.425, N@10 0.465, R@1 0.273, R@5 0.563, R@10 0.688: 100%|██████████| 48/48 [00:02<00:00, 21.91it/s]\n",
      "Epoch 95, loss 4.695 : 100%|██████████| 48/48 [00:02<00:00, 18.72it/s]\n",
      "Val: N@1 0.279, N@5 0.426, N@10 0.465, R@1 0.279, R@5 0.561, R@10 0.684: 100%|██████████| 48/48 [00:02<00:00, 22.13it/s]\n",
      "Epoch 96, loss 4.704 : 100%|██████████| 48/48 [00:02<00:00, 18.74it/s] \n",
      "Val: N@1 0.268, N@5 0.423, N@10 0.463, R@1 0.268, R@5 0.562, R@10 0.685: 100%|██████████| 48/48 [00:02<00:00, 22.00it/s]\n",
      "Epoch 97, loss 4.695 : 100%|██████████| 48/48 [00:02<00:00, 18.68it/s]\n",
      "Val: N@1 0.274, N@5 0.429, N@10 0.466, R@1 0.274, R@5 0.569, R@10 0.685: 100%|██████████| 48/48 [00:02<00:00, 22.03it/s]\n",
      "Epoch 98, loss 4.699 : 100%|██████████| 48/48 [00:02<00:00, 18.54it/s] \n",
      "Val: N@1 0.271, N@5 0.427, N@10 0.467, R@1 0.271, R@5 0.568, R@10 0.691: 100%|██████████| 48/48 [00:02<00:00, 22.14it/s]\n"
     ]
    },
    {
     "name": "stdout",
     "output_type": "stream",
     "text": [
      "Update Best NDCG@10 Model at 98\n"
     ]
    },
    {
     "name": "stderr",
     "output_type": "stream",
     "text": [
      "Epoch 99, loss 4.689 : 100%|██████████| 48/48 [00:02<00:00, 18.83it/s]\n",
      "Val: N@1 0.265, N@5 0.422, N@10 0.459, R@1 0.265, R@5 0.564, R@10 0.679: 100%|██████████| 48/48 [00:02<00:00, 21.66it/s]\n",
      "Epoch 100, loss 4.687 : 100%|██████████| 48/48 [00:02<00:00, 18.78it/s]\n",
      "Val: N@1 0.270, N@5 0.425, N@10 0.463, R@1 0.270, R@5 0.567, R@10 0.685: 100%|██████████| 48/48 [00:02<00:00, 21.73it/s]\n"
     ]
    }
   ],
   "source": [
    "# just train loop with crossentropy loss and some logging\n",
    "trainer.train()"
   ]
  },
  {
   "cell_type": "code",
   "execution_count": 53,
   "id": "eaf03f9f",
   "metadata": {},
   "outputs": [
    {
     "name": "stdout",
     "output_type": "stream",
     "text": [
      "Test best model with test set!\n"
     ]
    },
    {
     "name": "stderr",
     "output_type": "stream",
     "text": [
      "Val: N@1 0.214, N@5 0.359, N@10 0.400, R@1 0.214, R@5 0.489, R@10 0.618: 100%|██████████| 48/48 [00:02<00:00, 17.89it/s]"
     ]
    },
    {
     "name": "stdout",
     "output_type": "stream",
     "text": [
      "{'Recall@100': 0.9982096354166666, 'NDCG@100': 0.4778992434342702, 'Recall@50': 0.8823784726361433, 'NDCG@50': 0.4590541211267312, 'Recall@20': 0.7296006952722868, 'NDCG@20': 0.42861032610138255, 'Recall@10': 0.6177300351361433, 'NDCG@10': 0.4004720418403546, 'Recall@5': 0.48871527798473835, 'NDCG@5': 0.35864060185849667, 'Recall@1': 0.21435546875, 'NDCG@1': 0.21435546875}\n"
     ]
    },
    {
     "name": "stderr",
     "output_type": "stream",
     "text": [
      "\n"
     ]
    }
   ],
   "source": [
    "# run on test_torch_dataloader and compute metrics\n",
    "trainer.test()"
   ]
  },
  {
   "cell_type": "markdown",
   "id": "90cce650",
   "metadata": {},
   "source": [
    "# 7) validate model by the same algorithm which was used in baselines:"
   ]
  },
  {
   "cell_type": "code",
   "execution_count": 54,
   "id": "69aa4ef5",
   "metadata": {},
   "outputs": [],
   "source": [
    "best_model = torch.load(os.path.join(export_root, 'models', 'best_acc_model.pth')).get('model_state_dict')"
   ]
  },
  {
   "cell_type": "code",
   "execution_count": 55,
   "id": "d8d12472",
   "metadata": {
    "scrolled": true
   },
   "outputs": [
    {
     "data": {
      "text/plain": [
       "<All keys matched successfully>"
      ]
     },
     "execution_count": 55,
     "metadata": {},
     "output_type": "execute_result"
    }
   ],
   "source": [
    "model.load_state_dict(best_model)"
   ]
  },
  {
   "cell_type": "code",
   "execution_count": 56,
   "id": "5b3cf2a9",
   "metadata": {
    "scrolled": true
   },
   "outputs": [
    {
     "data": {
      "text/plain": [
       "BERTModel(\n",
       "  (bert): BERT(\n",
       "    (embedding): BERTEmbedding(\n",
       "      (token): TokenEmbedding(3708, 256, padding_idx=0)\n",
       "      (position): PositionalEmbedding(\n",
       "        (pe): Embedding(100, 256)\n",
       "      )\n",
       "      (dropout): Dropout(p=0.1, inplace=False)\n",
       "    )\n",
       "    (transformer_blocks): ModuleList(\n",
       "      (0): TransformerBlock(\n",
       "        (layernorm1): LayerNorm()\n",
       "        (multiheadedattention): MultiHeadedAttention(\n",
       "          (linear_layers): ModuleList(\n",
       "            (0): Linear(in_features=256, out_features=256, bias=True)\n",
       "            (1): Linear(in_features=256, out_features=256, bias=True)\n",
       "            (2): Linear(in_features=256, out_features=256, bias=True)\n",
       "          )\n",
       "          (output_linear): Linear(in_features=256, out_features=256, bias=True)\n",
       "          (attention): Attention()\n",
       "          (dropout): Dropout(p=0.1, inplace=False)\n",
       "        )\n",
       "        (dropout1): Dropout(p=0.1, inplace=False)\n",
       "        (layernorm2): LayerNorm()\n",
       "        (feed_forward): PositionwiseFeedForward(\n",
       "          (w_1): Linear(in_features=256, out_features=1024, bias=True)\n",
       "          (w_2): Linear(in_features=1024, out_features=256, bias=True)\n",
       "          (dropout): Dropout(p=0.1, inplace=False)\n",
       "          (activation): GELU()\n",
       "        )\n",
       "        (dropout2): Dropout(p=0.1, inplace=False)\n",
       "        (dropout3): Dropout(p=0.1, inplace=False)\n",
       "      )\n",
       "      (1): TransformerBlock(\n",
       "        (layernorm1): LayerNorm()\n",
       "        (multiheadedattention): MultiHeadedAttention(\n",
       "          (linear_layers): ModuleList(\n",
       "            (0): Linear(in_features=256, out_features=256, bias=True)\n",
       "            (1): Linear(in_features=256, out_features=256, bias=True)\n",
       "            (2): Linear(in_features=256, out_features=256, bias=True)\n",
       "          )\n",
       "          (output_linear): Linear(in_features=256, out_features=256, bias=True)\n",
       "          (attention): Attention()\n",
       "          (dropout): Dropout(p=0.1, inplace=False)\n",
       "        )\n",
       "        (dropout1): Dropout(p=0.1, inplace=False)\n",
       "        (layernorm2): LayerNorm()\n",
       "        (feed_forward): PositionwiseFeedForward(\n",
       "          (w_1): Linear(in_features=256, out_features=1024, bias=True)\n",
       "          (w_2): Linear(in_features=1024, out_features=256, bias=True)\n",
       "          (dropout): Dropout(p=0.1, inplace=False)\n",
       "          (activation): GELU()\n",
       "        )\n",
       "        (dropout2): Dropout(p=0.1, inplace=False)\n",
       "        (dropout3): Dropout(p=0.1, inplace=False)\n",
       "      )\n",
       "    )\n",
       "  )\n",
       "  (out): Linear(in_features=256, out_features=3707, bias=True)\n",
       ")"
      ]
     },
     "execution_count": 56,
     "metadata": {},
     "output_type": "execute_result"
    }
   ],
   "source": [
    "model.eval()"
   ]
  },
  {
   "cell_type": "code",
   "execution_count": 57,
   "id": "d351e308",
   "metadata": {},
   "outputs": [
    {
     "name": "stderr",
     "output_type": "stream",
     "text": [
      "100%|██████████| 48/48 [00:01<00:00, 41.88it/s]\n"
     ]
    }
   ],
   "source": [
    "from tqdm import tqdm\n",
    "\n",
    "# make predicts for mask_token on test data:\n",
    "scores_for_mask_token_for_each_batch = []\n",
    "\n",
    "with torch.no_grad():\n",
    "    tqdm_dataloader = tqdm(test_torch_dataloader)\n",
    "    \n",
    "    for batch_idx, batch in enumerate(tqdm_dataloader):\n",
    "        batch = [x.to('cuda') for x in batch]\n",
    "        \n",
    "        scores = model(batch[0])\n",
    "        scores_for_mask_token = scores[:, -1, :]\n",
    "        \n",
    "        scores_for_mask_token_for_each_batch.append(scores_for_mask_token.cpu())"
   ]
  },
  {
   "cell_type": "code",
   "execution_count": 58,
   "id": "beb3aeb2",
   "metadata": {},
   "outputs": [
    {
     "data": {
      "text/plain": [
       "torch.Size([6040, 3707])"
      ]
     },
     "execution_count": 58,
     "metadata": {},
     "output_type": "execute_result"
    }
   ],
   "source": [
    "scores_for_mask_token = torch.cat(scores_for_mask_token_for_each_batch, dim=0)\n",
    "\n",
    "scores_for_mask_token.shape"
   ]
  },
  {
   "cell_type": "code",
   "execution_count": 59,
   "id": "67e8fddc",
   "metadata": {},
   "outputs": [],
   "source": [
    "user_to_scores_of_items = dict()\n",
    "\n",
    "for user_ix, scores in enumerate(scores_for_mask_token):\n",
    "    user_to_scores_of_items[user_ix] = dict()\n",
    "    \n",
    "    for item_ix, score in enumerate(scores):\n",
    "        user_to_scores_of_items[user_ix][item_ix] = score.item()"
   ]
  },
  {
   "cell_type": "code",
   "execution_count": 60,
   "id": "d33a2fcd",
   "metadata": {},
   "outputs": [
    {
     "name": "stdout",
     "output_type": "stream",
     "text": [
      "9.1160249710083 8.838234901428223 9.078511238098145 10.268392562866211 2.6223578453063965 2.0956482887268066\n"
     ]
    }
   ],
   "source": [
    "# track user ix 0 (original user id 1)\n",
    "print(\n",
    "    user_to_scores_of_items[0][49], # positive from train\n",
    "    user_to_scores_of_items[0][50], # positive from train\n",
    "    user_to_scores_of_items[0][51], # not seen in train (but should - it's from val data), but in full data it's a positive\n",
    "    user_to_scores_of_items[0][52], # not seen in train, but in full data it's a positive\n",
    "    user_to_scores_of_items[0][53], # not seen in train (didnt exist in train + val + test)\n",
    "    user_to_scores_of_items[0][54], # not seen in train (didnt exist in train + val + test)\n",
    ")"
   ]
  },
  {
   "cell_type": "markdown",
   "id": "bdfb907e",
   "metadata": {},
   "source": [
    "looks nice"
   ]
  },
  {
   "cell_type": "code",
   "execution_count": 61,
   "id": "e8657163",
   "metadata": {},
   "outputs": [
    {
     "data": {
      "text/plain": [
       "0.4000863977446544"
      ]
     },
     "execution_count": 61,
     "metadata": {},
     "output_type": "execute_result"
    }
   ],
   "source": [
    "calculate_grouped_ndcg_for_bert4rec_output(neg_sampled_test, user_to_scores_of_items, 10)"
   ]
  }
 ],
 "metadata": {
  "kernelspec": {
   "display_name": "Python 3 (ipykernel)",
   "language": "python",
   "name": "python3"
  },
  "language_info": {
   "codemirror_mode": {
    "name": "ipython",
    "version": 3
   },
   "file_extension": ".py",
   "mimetype": "text/x-python",
   "name": "python",
   "nbconvert_exporter": "python",
   "pygments_lexer": "ipython3",
   "version": "3.10.9"
  }
 },
 "nbformat": 4,
 "nbformat_minor": 5
}
