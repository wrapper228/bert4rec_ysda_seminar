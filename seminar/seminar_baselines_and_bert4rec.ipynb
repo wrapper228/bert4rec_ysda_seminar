{
 "cells": [
  {
   "cell_type": "markdown",
   "id": "4fcb97db",
   "metadata": {},
   "source": [
    "# бейзлайны:"
   ]
  },
  {
   "cell_type": "code",
   "execution_count": 1,
   "id": "7ad2829b",
   "metadata": {},
   "outputs": [],
   "source": [
    "import pandas as pd\n",
    "import numpy as np\n",
    "import torch\n",
    "import pickle\n",
    "\n",
    "from metrics import ( \n",
    "    calculate_grouped_ndcg_random, \n",
    "    calculate_grouped_ndcg_sum_popularity,\n",
    "    calculate_grouped_ndcg_with_embeddings,\n",
    "    calculate_grouped_ndcg_for_bert4rec_output\n",
    ")"
   ]
  },
  {
   "cell_type": "code",
   "execution_count": 2,
   "id": "8718628f",
   "metadata": {},
   "outputs": [],
   "source": [
    "rnames = ['user_id', 'movie_id', 'rating', 'timestamp']\n",
    "ratings = pd.read_table('movielens_1m_dataset/ratings.dat', sep='::', header=None, names=rnames, engine='python', encoding='ISO-8859-1')"
   ]
  },
  {
   "cell_type": "code",
   "execution_count": 3,
   "id": "70428cbc",
   "metadata": {},
   "outputs": [
    {
     "data": {
      "text/html": [
       "<div>\n",
       "<style scoped>\n",
       "    .dataframe tbody tr th:only-of-type {\n",
       "        vertical-align: middle;\n",
       "    }\n",
       "\n",
       "    .dataframe tbody tr th {\n",
       "        vertical-align: top;\n",
       "    }\n",
       "\n",
       "    .dataframe thead th {\n",
       "        text-align: right;\n",
       "    }\n",
       "</style>\n",
       "<table border=\"1\" class=\"dataframe\">\n",
       "  <thead>\n",
       "    <tr style=\"text-align: right;\">\n",
       "      <th></th>\n",
       "      <th>user_id</th>\n",
       "      <th>movie_id</th>\n",
       "      <th>rating</th>\n",
       "      <th>timestamp</th>\n",
       "    </tr>\n",
       "  </thead>\n",
       "  <tbody>\n",
       "    <tr>\n",
       "      <th>0</th>\n",
       "      <td>1</td>\n",
       "      <td>1193</td>\n",
       "      <td>5</td>\n",
       "      <td>978300760</td>\n",
       "    </tr>\n",
       "    <tr>\n",
       "      <th>1</th>\n",
       "      <td>1</td>\n",
       "      <td>661</td>\n",
       "      <td>3</td>\n",
       "      <td>978302109</td>\n",
       "    </tr>\n",
       "    <tr>\n",
       "      <th>2</th>\n",
       "      <td>1</td>\n",
       "      <td>914</td>\n",
       "      <td>3</td>\n",
       "      <td>978301968</td>\n",
       "    </tr>\n",
       "    <tr>\n",
       "      <th>3</th>\n",
       "      <td>1</td>\n",
       "      <td>3408</td>\n",
       "      <td>4</td>\n",
       "      <td>978300275</td>\n",
       "    </tr>\n",
       "    <tr>\n",
       "      <th>4</th>\n",
       "      <td>1</td>\n",
       "      <td>2355</td>\n",
       "      <td>5</td>\n",
       "      <td>978824291</td>\n",
       "    </tr>\n",
       "    <tr>\n",
       "      <th>...</th>\n",
       "      <td>...</td>\n",
       "      <td>...</td>\n",
       "      <td>...</td>\n",
       "      <td>...</td>\n",
       "    </tr>\n",
       "    <tr>\n",
       "      <th>1000204</th>\n",
       "      <td>6040</td>\n",
       "      <td>1091</td>\n",
       "      <td>1</td>\n",
       "      <td>956716541</td>\n",
       "    </tr>\n",
       "    <tr>\n",
       "      <th>1000205</th>\n",
       "      <td>6040</td>\n",
       "      <td>1094</td>\n",
       "      <td>5</td>\n",
       "      <td>956704887</td>\n",
       "    </tr>\n",
       "    <tr>\n",
       "      <th>1000206</th>\n",
       "      <td>6040</td>\n",
       "      <td>562</td>\n",
       "      <td>5</td>\n",
       "      <td>956704746</td>\n",
       "    </tr>\n",
       "    <tr>\n",
       "      <th>1000207</th>\n",
       "      <td>6040</td>\n",
       "      <td>1096</td>\n",
       "      <td>4</td>\n",
       "      <td>956715648</td>\n",
       "    </tr>\n",
       "    <tr>\n",
       "      <th>1000208</th>\n",
       "      <td>6040</td>\n",
       "      <td>1097</td>\n",
       "      <td>4</td>\n",
       "      <td>956715569</td>\n",
       "    </tr>\n",
       "  </tbody>\n",
       "</table>\n",
       "<p>1000209 rows × 4 columns</p>\n",
       "</div>"
      ],
      "text/plain": [
       "         user_id  movie_id  rating  timestamp\n",
       "0              1      1193       5  978300760\n",
       "1              1       661       3  978302109\n",
       "2              1       914       3  978301968\n",
       "3              1      3408       4  978300275\n",
       "4              1      2355       5  978824291\n",
       "...          ...       ...     ...        ...\n",
       "1000204     6040      1091       1  956716541\n",
       "1000205     6040      1094       5  956704887\n",
       "1000206     6040       562       5  956704746\n",
       "1000207     6040      1096       4  956715648\n",
       "1000208     6040      1097       4  956715569\n",
       "\n",
       "[1000209 rows x 4 columns]"
      ]
     },
     "execution_count": 3,
     "metadata": {},
     "output_type": "execute_result"
    }
   ],
   "source": [
    "ratings"
   ]
  },
  {
   "cell_type": "code",
   "execution_count": 4,
   "id": "9538696e",
   "metadata": {},
   "outputs": [
    {
     "data": {
      "text/html": [
       "<div>\n",
       "<style scoped>\n",
       "    .dataframe tbody tr th:only-of-type {\n",
       "        vertical-align: middle;\n",
       "    }\n",
       "\n",
       "    .dataframe tbody tr th {\n",
       "        vertical-align: top;\n",
       "    }\n",
       "\n",
       "    .dataframe thead th {\n",
       "        text-align: right;\n",
       "    }\n",
       "</style>\n",
       "<table border=\"1\" class=\"dataframe\">\n",
       "  <thead>\n",
       "    <tr style=\"text-align: right;\">\n",
       "      <th></th>\n",
       "      <th>user_id</th>\n",
       "      <th>movie_id</th>\n",
       "      <th>rating</th>\n",
       "    </tr>\n",
       "  </thead>\n",
       "  <tbody>\n",
       "    <tr>\n",
       "      <th>0</th>\n",
       "      <td>1</td>\n",
       "      <td>3186</td>\n",
       "      <td>4</td>\n",
       "    </tr>\n",
       "    <tr>\n",
       "      <th>1</th>\n",
       "      <td>1</td>\n",
       "      <td>1270</td>\n",
       "      <td>5</td>\n",
       "    </tr>\n",
       "    <tr>\n",
       "      <th>2</th>\n",
       "      <td>1</td>\n",
       "      <td>1721</td>\n",
       "      <td>4</td>\n",
       "    </tr>\n",
       "    <tr>\n",
       "      <th>3</th>\n",
       "      <td>1</td>\n",
       "      <td>1022</td>\n",
       "      <td>5</td>\n",
       "    </tr>\n",
       "    <tr>\n",
       "      <th>4</th>\n",
       "      <td>1</td>\n",
       "      <td>2340</td>\n",
       "      <td>3</td>\n",
       "    </tr>\n",
       "    <tr>\n",
       "      <th>...</th>\n",
       "      <td>...</td>\n",
       "      <td>...</td>\n",
       "      <td>...</td>\n",
       "    </tr>\n",
       "    <tr>\n",
       "      <th>1000204</th>\n",
       "      <td>6040</td>\n",
       "      <td>2917</td>\n",
       "      <td>4</td>\n",
       "    </tr>\n",
       "    <tr>\n",
       "      <th>1000205</th>\n",
       "      <td>6040</td>\n",
       "      <td>1921</td>\n",
       "      <td>4</td>\n",
       "    </tr>\n",
       "    <tr>\n",
       "      <th>1000206</th>\n",
       "      <td>6040</td>\n",
       "      <td>1784</td>\n",
       "      <td>3</td>\n",
       "    </tr>\n",
       "    <tr>\n",
       "      <th>1000207</th>\n",
       "      <td>6040</td>\n",
       "      <td>161</td>\n",
       "      <td>3</td>\n",
       "    </tr>\n",
       "    <tr>\n",
       "      <th>1000208</th>\n",
       "      <td>6040</td>\n",
       "      <td>1221</td>\n",
       "      <td>4</td>\n",
       "    </tr>\n",
       "  </tbody>\n",
       "</table>\n",
       "<p>1000209 rows × 3 columns</p>\n",
       "</div>"
      ],
      "text/plain": [
       "         user_id  movie_id  rating\n",
       "0              1      3186       4\n",
       "1              1      1270       5\n",
       "2              1      1721       4\n",
       "3              1      1022       5\n",
       "4              1      2340       3\n",
       "...          ...       ...     ...\n",
       "1000204     6040      2917       4\n",
       "1000205     6040      1921       4\n",
       "1000206     6040      1784       3\n",
       "1000207     6040       161       3\n",
       "1000208     6040      1221       4\n",
       "\n",
       "[1000209 rows x 3 columns]"
      ]
     },
     "execution_count": 4,
     "metadata": {},
     "output_type": "execute_result"
    }
   ],
   "source": [
    "ratings.sort_values([\"user_id\", \"timestamp\"], inplace=True)\n",
    "\n",
    "ratings = ratings[[\"user_id\", \"movie_id\", \"rating\"]]\n",
    "\n",
    "ratings.reset_index(drop=True, inplace=True)\n",
    "\n",
    "ratings = ratings.astype(int)\n",
    "\n",
    "ratings"
   ]
  },
  {
   "cell_type": "code",
   "execution_count": 5,
   "id": "1d73ed87",
   "metadata": {},
   "outputs": [
    {
     "data": {
      "text/plain": [
       "(6040, 1, 6040)"
      ]
     },
     "execution_count": 5,
     "metadata": {},
     "output_type": "execute_result"
    }
   ],
   "source": [
    "ratings.user_id.nunique(), ratings.user_id.min(), ratings.user_id.max()"
   ]
  },
  {
   "cell_type": "code",
   "execution_count": 6,
   "id": "6877c399",
   "metadata": {},
   "outputs": [
    {
     "data": {
      "text/plain": [
       "(3706, 1, 3952)"
      ]
     },
     "execution_count": 6,
     "metadata": {},
     "output_type": "execute_result"
    }
   ],
   "source": [
    "ratings.movie_id.nunique(), ratings.movie_id.min(), ratings.movie_id.max()"
   ]
  },
  {
   "cell_type": "code",
   "execution_count": 7,
   "id": "b7657cc0",
   "metadata": {},
   "outputs": [
    {
     "data": {
      "text/html": [
       "<div>\n",
       "<style scoped>\n",
       "    .dataframe tbody tr th:only-of-type {\n",
       "        vertical-align: middle;\n",
       "    }\n",
       "\n",
       "    .dataframe tbody tr th {\n",
       "        vertical-align: top;\n",
       "    }\n",
       "\n",
       "    .dataframe thead th {\n",
       "        text-align: right;\n",
       "    }\n",
       "</style>\n",
       "<table border=\"1\" class=\"dataframe\">\n",
       "  <thead>\n",
       "    <tr style=\"text-align: right;\">\n",
       "      <th></th>\n",
       "      <th>user_id</th>\n",
       "      <th>movie_id</th>\n",
       "      <th>rating</th>\n",
       "    </tr>\n",
       "  </thead>\n",
       "  <tbody>\n",
       "    <tr>\n",
       "      <th>0</th>\n",
       "      <td>1</td>\n",
       "      <td>3186</td>\n",
       "      <td>1</td>\n",
       "    </tr>\n",
       "    <tr>\n",
       "      <th>1</th>\n",
       "      <td>1</td>\n",
       "      <td>1270</td>\n",
       "      <td>1</td>\n",
       "    </tr>\n",
       "    <tr>\n",
       "      <th>2</th>\n",
       "      <td>1</td>\n",
       "      <td>1721</td>\n",
       "      <td>1</td>\n",
       "    </tr>\n",
       "    <tr>\n",
       "      <th>3</th>\n",
       "      <td>1</td>\n",
       "      <td>1022</td>\n",
       "      <td>1</td>\n",
       "    </tr>\n",
       "    <tr>\n",
       "      <th>4</th>\n",
       "      <td>1</td>\n",
       "      <td>2340</td>\n",
       "      <td>1</td>\n",
       "    </tr>\n",
       "    <tr>\n",
       "      <th>...</th>\n",
       "      <td>...</td>\n",
       "      <td>...</td>\n",
       "      <td>...</td>\n",
       "    </tr>\n",
       "    <tr>\n",
       "      <th>1000204</th>\n",
       "      <td>6040</td>\n",
       "      <td>2917</td>\n",
       "      <td>1</td>\n",
       "    </tr>\n",
       "    <tr>\n",
       "      <th>1000205</th>\n",
       "      <td>6040</td>\n",
       "      <td>1921</td>\n",
       "      <td>1</td>\n",
       "    </tr>\n",
       "    <tr>\n",
       "      <th>1000206</th>\n",
       "      <td>6040</td>\n",
       "      <td>1784</td>\n",
       "      <td>1</td>\n",
       "    </tr>\n",
       "    <tr>\n",
       "      <th>1000207</th>\n",
       "      <td>6040</td>\n",
       "      <td>161</td>\n",
       "      <td>1</td>\n",
       "    </tr>\n",
       "    <tr>\n",
       "      <th>1000208</th>\n",
       "      <td>6040</td>\n",
       "      <td>1221</td>\n",
       "      <td>1</td>\n",
       "    </tr>\n",
       "  </tbody>\n",
       "</table>\n",
       "<p>1000209 rows × 3 columns</p>\n",
       "</div>"
      ],
      "text/plain": [
       "         user_id  movie_id  rating\n",
       "0              1      3186       1\n",
       "1              1      1270       1\n",
       "2              1      1721       1\n",
       "3              1      1022       1\n",
       "4              1      2340       1\n",
       "...          ...       ...     ...\n",
       "1000204     6040      2917       1\n",
       "1000205     6040      1921       1\n",
       "1000206     6040      1784       1\n",
       "1000207     6040       161       1\n",
       "1000208     6040      1221       1\n",
       "\n",
       "[1000209 rows x 3 columns]"
      ]
     },
     "execution_count": 7,
     "metadata": {},
     "output_type": "execute_result"
    }
   ],
   "source": [
    "ratings.rating = 1\n",
    "\n",
    "ratings"
   ]
  },
  {
   "cell_type": "code",
   "execution_count": 8,
   "id": "01575fac",
   "metadata": {},
   "outputs": [
    {
     "data": {
      "text/html": [
       "<div>\n",
       "<style scoped>\n",
       "    .dataframe tbody tr th:only-of-type {\n",
       "        vertical-align: middle;\n",
       "    }\n",
       "\n",
       "    .dataframe tbody tr th {\n",
       "        vertical-align: top;\n",
       "    }\n",
       "\n",
       "    .dataframe thead th {\n",
       "        text-align: right;\n",
       "    }\n",
       "</style>\n",
       "<table border=\"1\" class=\"dataframe\">\n",
       "  <thead>\n",
       "    <tr style=\"text-align: right;\">\n",
       "      <th></th>\n",
       "      <th>user_id</th>\n",
       "      <th>movie_id</th>\n",
       "      <th>rating</th>\n",
       "    </tr>\n",
       "  </thead>\n",
       "  <tbody>\n",
       "    <tr>\n",
       "      <th>0</th>\n",
       "      <td>1</td>\n",
       "      <td>3186</td>\n",
       "      <td>1</td>\n",
       "    </tr>\n",
       "    <tr>\n",
       "      <th>1</th>\n",
       "      <td>1</td>\n",
       "      <td>1270</td>\n",
       "      <td>1</td>\n",
       "    </tr>\n",
       "    <tr>\n",
       "      <th>2</th>\n",
       "      <td>1</td>\n",
       "      <td>1721</td>\n",
       "      <td>1</td>\n",
       "    </tr>\n",
       "    <tr>\n",
       "      <th>3</th>\n",
       "      <td>1</td>\n",
       "      <td>1022</td>\n",
       "      <td>1</td>\n",
       "    </tr>\n",
       "    <tr>\n",
       "      <th>4</th>\n",
       "      <td>1</td>\n",
       "      <td>2340</td>\n",
       "      <td>1</td>\n",
       "    </tr>\n",
       "    <tr>\n",
       "      <th>...</th>\n",
       "      <td>...</td>\n",
       "      <td>...</td>\n",
       "      <td>...</td>\n",
       "    </tr>\n",
       "    <tr>\n",
       "      <th>1000204</th>\n",
       "      <td>6040</td>\n",
       "      <td>2917</td>\n",
       "      <td>1</td>\n",
       "    </tr>\n",
       "    <tr>\n",
       "      <th>1000205</th>\n",
       "      <td>6040</td>\n",
       "      <td>1921</td>\n",
       "      <td>1</td>\n",
       "    </tr>\n",
       "    <tr>\n",
       "      <th>1000206</th>\n",
       "      <td>6040</td>\n",
       "      <td>1784</td>\n",
       "      <td>1</td>\n",
       "    </tr>\n",
       "    <tr>\n",
       "      <th>1000207</th>\n",
       "      <td>6040</td>\n",
       "      <td>161</td>\n",
       "      <td>1</td>\n",
       "    </tr>\n",
       "    <tr>\n",
       "      <th>1000208</th>\n",
       "      <td>6040</td>\n",
       "      <td>1221</td>\n",
       "      <td>1</td>\n",
       "    </tr>\n",
       "  </tbody>\n",
       "</table>\n",
       "<p>1000209 rows × 3 columns</p>\n",
       "</div>"
      ],
      "text/plain": [
       "         user_id  movie_id  rating\n",
       "0              1      3186       1\n",
       "1              1      1270       1\n",
       "2              1      1721       1\n",
       "3              1      1022       1\n",
       "4              1      2340       1\n",
       "...          ...       ...     ...\n",
       "1000204     6040      2917       1\n",
       "1000205     6040      1921       1\n",
       "1000206     6040      1784       1\n",
       "1000207     6040       161       1\n",
       "1000208     6040      1221       1\n",
       "\n",
       "[1000209 rows x 3 columns]"
      ]
     },
     "execution_count": 8,
     "metadata": {},
     "output_type": "execute_result"
    }
   ],
   "source": [
    "# ratings = ratings[ratings.groupby(\"movie_id\")['user_id'].transform('count') >= 5]\n",
    "# дабы подстроиться под берт. потом вернем\n",
    "ratings = ratings[ratings.groupby(\"user_id\")['movie_id'].transform('count') >= 5]\n",
    "ratings = ratings[ratings.groupby(\"movie_id\")['user_id'].transform('count') >= 0]\n",
    "\n",
    "ratings.reset_index(drop=True, inplace=True)\n",
    "\n",
    "ratings"
   ]
  },
  {
   "cell_type": "code",
   "execution_count": 9,
   "id": "d6e828be",
   "metadata": {},
   "outputs": [
    {
     "name": "stdout",
     "output_type": "stream",
     "text": [
      "statistics: 6040 3706\n"
     ]
    }
   ],
   "source": [
    "print(\"statistics:\", ratings.user_id.nunique(), ratings.movie_id.nunique())"
   ]
  },
  {
   "cell_type": "code",
   "execution_count": 10,
   "id": "7de48ad9",
   "metadata": {},
   "outputs": [],
   "source": [
    "def create_index_mapping(df):\n",
    "    \"\"\"\n",
    "    Создает словарь, отображающий айдишники юзеров и айтемов в\n",
    "    небольшие различные числа (соответствующие индексам в enumerate)\n",
    "    Зачем это нужно: implicit ALS хочет спарс матрицу для обучения, а размер scipy спарс\n",
    "    матрицы зависит от максимального значения айдишника. Применение такого отображения к данным\n",
    "    позволит работать с матрицами значительно меньших размеров.\n",
    "    Parameters\n",
    "        df: датасет, с колонок которого создаются словари\n",
    "    Returns\n",
    "        u2ix, i2ix: вышеописанные словари\n",
    "    \"\"\"\n",
    "    u2ix = {user_id: i for i, user_id in enumerate(df.user_id.unique())}\n",
    "    i2ix = {item_id: i for i, item_id in enumerate(df.movie_id.unique())}\n",
    "    return u2ix, i2ix\n",
    "\n",
    "def apply_index_mapping(df, u2ix, i2ix) -> pd.DataFrame:\n",
    "    \"\"\"\n",
    "    Применяет вышеописанные словари к колонкам \"user_id\" и \"movie_id\".\n",
    "    Parameters\n",
    "        df: датасет, к которому применяется маппинг по словарям\n",
    "        u2ix: словарь \"user_id\": \"небольшое число\"\n",
    "        i2ix: словарь \"movie_id\": \"небольшое число\"\n",
    "    Returns\n",
    "        df: датасет с измененными (согласно u2ix и i2ix) значениями в колонках\n",
    "    \"\"\"\n",
    "    df.user_id = df.user_id.map(lambda x: u2ix[x])\n",
    "    df.movie_id = df.movie_id.map(lambda x: i2ix[x])\n",
    "    return df\n",
    "\n",
    "u2ix, i2ix = create_index_mapping(ratings)\n",
    "ratings = apply_index_mapping(ratings, u2ix, i2ix)"
   ]
  },
  {
   "cell_type": "code",
   "execution_count": 11,
   "id": "df243679",
   "metadata": {},
   "outputs": [
    {
     "data": {
      "text/plain": [
       "(0, 6039)"
      ]
     },
     "execution_count": 11,
     "metadata": {},
     "output_type": "execute_result"
    }
   ],
   "source": [
    "ratings.user_id.min(), ratings.user_id.max()"
   ]
  },
  {
   "cell_type": "code",
   "execution_count": 12,
   "id": "929a781f",
   "metadata": {},
   "outputs": [
    {
     "data": {
      "text/plain": [
       "(0, 3705)"
      ]
     },
     "execution_count": 12,
     "metadata": {},
     "output_type": "execute_result"
    }
   ],
   "source": [
    "ratings.movie_id.min(), ratings.movie_id.max()"
   ]
  },
  {
   "cell_type": "markdown",
   "id": "12b02439",
   "metadata": {},
   "source": [
    "leave-last-out:"
   ]
  },
  {
   "cell_type": "code",
   "execution_count": 13,
   "id": "dde8ede0",
   "metadata": {},
   "outputs": [
    {
     "data": {
      "text/html": [
       "<div>\n",
       "<style scoped>\n",
       "    .dataframe tbody tr th:only-of-type {\n",
       "        vertical-align: middle;\n",
       "    }\n",
       "\n",
       "    .dataframe tbody tr th {\n",
       "        vertical-align: top;\n",
       "    }\n",
       "\n",
       "    .dataframe thead th {\n",
       "        text-align: right;\n",
       "    }\n",
       "</style>\n",
       "<table border=\"1\" class=\"dataframe\">\n",
       "  <thead>\n",
       "    <tr style=\"text-align: right;\">\n",
       "      <th></th>\n",
       "      <th>user_id</th>\n",
       "      <th>movie_id</th>\n",
       "      <th>rating</th>\n",
       "    </tr>\n",
       "  </thead>\n",
       "  <tbody>\n",
       "    <tr>\n",
       "      <th>52</th>\n",
       "      <td>0</td>\n",
       "      <td>52</td>\n",
       "      <td>1</td>\n",
       "    </tr>\n",
       "    <tr>\n",
       "      <th>181</th>\n",
       "      <td>1</td>\n",
       "      <td>174</td>\n",
       "      <td>1</td>\n",
       "    </tr>\n",
       "    <tr>\n",
       "      <th>232</th>\n",
       "      <td>2</td>\n",
       "      <td>207</td>\n",
       "      <td>1</td>\n",
       "    </tr>\n",
       "    <tr>\n",
       "      <th>253</th>\n",
       "      <td>3</td>\n",
       "      <td>88</td>\n",
       "      <td>1</td>\n",
       "    </tr>\n",
       "    <tr>\n",
       "      <th>451</th>\n",
       "      <td>4</td>\n",
       "      <td>384</td>\n",
       "      <td>1</td>\n",
       "    </tr>\n",
       "    <tr>\n",
       "      <th>...</th>\n",
       "      <td>...</td>\n",
       "      <td>...</td>\n",
       "      <td>...</td>\n",
       "    </tr>\n",
       "    <tr>\n",
       "      <th>999522</th>\n",
       "      <td>6035</td>\n",
       "      <td>927</td>\n",
       "      <td>1</td>\n",
       "    </tr>\n",
       "    <tr>\n",
       "      <th>999724</th>\n",
       "      <td>6036</td>\n",
       "      <td>684</td>\n",
       "      <td>1</td>\n",
       "    </tr>\n",
       "    <tr>\n",
       "      <th>999744</th>\n",
       "      <td>6037</td>\n",
       "      <td>1587</td>\n",
       "      <td>1</td>\n",
       "    </tr>\n",
       "    <tr>\n",
       "      <th>999867</th>\n",
       "      <td>6038</td>\n",
       "      <td>579</td>\n",
       "      <td>1</td>\n",
       "    </tr>\n",
       "    <tr>\n",
       "      <th>1000208</th>\n",
       "      <td>6039</td>\n",
       "      <td>430</td>\n",
       "      <td>1</td>\n",
       "    </tr>\n",
       "  </tbody>\n",
       "</table>\n",
       "<p>6040 rows × 3 columns</p>\n",
       "</div>"
      ],
      "text/plain": [
       "         user_id  movie_id  rating\n",
       "52             0        52       1\n",
       "181            1       174       1\n",
       "232            2       207       1\n",
       "253            3        88       1\n",
       "451            4       384       1\n",
       "...          ...       ...     ...\n",
       "999522      6035       927       1\n",
       "999724      6036       684       1\n",
       "999744      6037      1587       1\n",
       "999867      6038       579       1\n",
       "1000208     6039       430       1\n",
       "\n",
       "[6040 rows x 3 columns]"
      ]
     },
     "execution_count": 13,
     "metadata": {},
     "output_type": "execute_result"
    }
   ],
   "source": [
    "test = ratings.groupby(\"user_id\").tail(1)\n",
    "\n",
    "test"
   ]
  },
  {
   "cell_type": "code",
   "execution_count": 14,
   "id": "90c8c63f",
   "metadata": {},
   "outputs": [
    {
     "data": {
      "text/html": [
       "<div>\n",
       "<style scoped>\n",
       "    .dataframe tbody tr th:only-of-type {\n",
       "        vertical-align: middle;\n",
       "    }\n",
       "\n",
       "    .dataframe tbody tr th {\n",
       "        vertical-align: top;\n",
       "    }\n",
       "\n",
       "    .dataframe thead th {\n",
       "        text-align: right;\n",
       "    }\n",
       "</style>\n",
       "<table border=\"1\" class=\"dataframe\">\n",
       "  <thead>\n",
       "    <tr style=\"text-align: right;\">\n",
       "      <th></th>\n",
       "      <th>user_id</th>\n",
       "      <th>movie_id</th>\n",
       "      <th>rating</th>\n",
       "    </tr>\n",
       "  </thead>\n",
       "  <tbody>\n",
       "    <tr>\n",
       "      <th>0</th>\n",
       "      <td>0</td>\n",
       "      <td>0</td>\n",
       "      <td>1</td>\n",
       "    </tr>\n",
       "    <tr>\n",
       "      <th>1</th>\n",
       "      <td>0</td>\n",
       "      <td>1</td>\n",
       "      <td>1</td>\n",
       "    </tr>\n",
       "    <tr>\n",
       "      <th>2</th>\n",
       "      <td>0</td>\n",
       "      <td>2</td>\n",
       "      <td>1</td>\n",
       "    </tr>\n",
       "    <tr>\n",
       "      <th>3</th>\n",
       "      <td>0</td>\n",
       "      <td>3</td>\n",
       "      <td>1</td>\n",
       "    </tr>\n",
       "    <tr>\n",
       "      <th>4</th>\n",
       "      <td>0</td>\n",
       "      <td>4</td>\n",
       "      <td>1</td>\n",
       "    </tr>\n",
       "    <tr>\n",
       "      <th>...</th>\n",
       "      <td>...</td>\n",
       "      <td>...</td>\n",
       "      <td>...</td>\n",
       "    </tr>\n",
       "    <tr>\n",
       "      <th>1000203</th>\n",
       "      <td>6039</td>\n",
       "      <td>1097</td>\n",
       "      <td>1</td>\n",
       "    </tr>\n",
       "    <tr>\n",
       "      <th>1000204</th>\n",
       "      <td>6039</td>\n",
       "      <td>1248</td>\n",
       "      <td>1</td>\n",
       "    </tr>\n",
       "    <tr>\n",
       "      <th>1000205</th>\n",
       "      <td>6039</td>\n",
       "      <td>370</td>\n",
       "      <td>1</td>\n",
       "    </tr>\n",
       "    <tr>\n",
       "      <th>1000206</th>\n",
       "      <td>6039</td>\n",
       "      <td>89</td>\n",
       "      <td>1</td>\n",
       "    </tr>\n",
       "    <tr>\n",
       "      <th>1000207</th>\n",
       "      <td>6039</td>\n",
       "      <td>464</td>\n",
       "      <td>1</td>\n",
       "    </tr>\n",
       "  </tbody>\n",
       "</table>\n",
       "<p>994169 rows × 3 columns</p>\n",
       "</div>"
      ],
      "text/plain": [
       "         user_id  movie_id  rating\n",
       "0              0         0       1\n",
       "1              0         1       1\n",
       "2              0         2       1\n",
       "3              0         3       1\n",
       "4              0         4       1\n",
       "...          ...       ...     ...\n",
       "1000203     6039      1097       1\n",
       "1000204     6039      1248       1\n",
       "1000205     6039       370       1\n",
       "1000206     6039        89       1\n",
       "1000207     6039       464       1\n",
       "\n",
       "[994169 rows x 3 columns]"
      ]
     },
     "execution_count": 14,
     "metadata": {},
     "output_type": "execute_result"
    }
   ],
   "source": [
    "train_and_val = ratings.drop(test.index, axis=0)\n",
    "\n",
    "train_and_val"
   ]
  },
  {
   "cell_type": "code",
   "execution_count": 15,
   "id": "9475a56d",
   "metadata": {},
   "outputs": [
    {
     "data": {
      "text/html": [
       "<div>\n",
       "<style scoped>\n",
       "    .dataframe tbody tr th:only-of-type {\n",
       "        vertical-align: middle;\n",
       "    }\n",
       "\n",
       "    .dataframe tbody tr th {\n",
       "        vertical-align: top;\n",
       "    }\n",
       "\n",
       "    .dataframe thead th {\n",
       "        text-align: right;\n",
       "    }\n",
       "</style>\n",
       "<table border=\"1\" class=\"dataframe\">\n",
       "  <thead>\n",
       "    <tr style=\"text-align: right;\">\n",
       "      <th></th>\n",
       "      <th>user_id</th>\n",
       "      <th>movie_id</th>\n",
       "      <th>rating</th>\n",
       "    </tr>\n",
       "  </thead>\n",
       "  <tbody>\n",
       "    <tr>\n",
       "      <th>51</th>\n",
       "      <td>0</td>\n",
       "      <td>51</td>\n",
       "      <td>1</td>\n",
       "    </tr>\n",
       "    <tr>\n",
       "      <th>180</th>\n",
       "      <td>1</td>\n",
       "      <td>173</td>\n",
       "      <td>1</td>\n",
       "    </tr>\n",
       "    <tr>\n",
       "      <th>231</th>\n",
       "      <td>2</td>\n",
       "      <td>206</td>\n",
       "      <td>1</td>\n",
       "    </tr>\n",
       "    <tr>\n",
       "      <th>252</th>\n",
       "      <td>3</td>\n",
       "      <td>217</td>\n",
       "      <td>1</td>\n",
       "    </tr>\n",
       "    <tr>\n",
       "      <th>450</th>\n",
       "      <td>4</td>\n",
       "      <td>383</td>\n",
       "      <td>1</td>\n",
       "    </tr>\n",
       "    <tr>\n",
       "      <th>...</th>\n",
       "      <td>...</td>\n",
       "      <td>...</td>\n",
       "      <td>...</td>\n",
       "    </tr>\n",
       "    <tr>\n",
       "      <th>999521</th>\n",
       "      <td>6035</td>\n",
       "      <td>3356</td>\n",
       "      <td>1</td>\n",
       "    </tr>\n",
       "    <tr>\n",
       "      <th>999723</th>\n",
       "      <td>6036</td>\n",
       "      <td>244</td>\n",
       "      <td>1</td>\n",
       "    </tr>\n",
       "    <tr>\n",
       "      <th>999743</th>\n",
       "      <td>6037</td>\n",
       "      <td>252</td>\n",
       "      <td>1</td>\n",
       "    </tr>\n",
       "    <tr>\n",
       "      <th>999866</th>\n",
       "      <td>6038</td>\n",
       "      <td>562</td>\n",
       "      <td>1</td>\n",
       "    </tr>\n",
       "    <tr>\n",
       "      <th>1000207</th>\n",
       "      <td>6039</td>\n",
       "      <td>464</td>\n",
       "      <td>1</td>\n",
       "    </tr>\n",
       "  </tbody>\n",
       "</table>\n",
       "<p>6040 rows × 3 columns</p>\n",
       "</div>"
      ],
      "text/plain": [
       "         user_id  movie_id  rating\n",
       "51             0        51       1\n",
       "180            1       173       1\n",
       "231            2       206       1\n",
       "252            3       217       1\n",
       "450            4       383       1\n",
       "...          ...       ...     ...\n",
       "999521      6035      3356       1\n",
       "999723      6036       244       1\n",
       "999743      6037       252       1\n",
       "999866      6038       562       1\n",
       "1000207     6039       464       1\n",
       "\n",
       "[6040 rows x 3 columns]"
      ]
     },
     "execution_count": 15,
     "metadata": {},
     "output_type": "execute_result"
    }
   ],
   "source": [
    "val = train_and_val.groupby(\"user_id\").tail(1)\n",
    "\n",
    "val"
   ]
  },
  {
   "cell_type": "code",
   "execution_count": 16,
   "id": "b1998430",
   "metadata": {},
   "outputs": [
    {
     "data": {
      "text/html": [
       "<div>\n",
       "<style scoped>\n",
       "    .dataframe tbody tr th:only-of-type {\n",
       "        vertical-align: middle;\n",
       "    }\n",
       "\n",
       "    .dataframe tbody tr th {\n",
       "        vertical-align: top;\n",
       "    }\n",
       "\n",
       "    .dataframe thead th {\n",
       "        text-align: right;\n",
       "    }\n",
       "</style>\n",
       "<table border=\"1\" class=\"dataframe\">\n",
       "  <thead>\n",
       "    <tr style=\"text-align: right;\">\n",
       "      <th></th>\n",
       "      <th>user_id</th>\n",
       "      <th>movie_id</th>\n",
       "      <th>rating</th>\n",
       "    </tr>\n",
       "  </thead>\n",
       "  <tbody>\n",
       "    <tr>\n",
       "      <th>0</th>\n",
       "      <td>0</td>\n",
       "      <td>0</td>\n",
       "      <td>1</td>\n",
       "    </tr>\n",
       "    <tr>\n",
       "      <th>1</th>\n",
       "      <td>0</td>\n",
       "      <td>1</td>\n",
       "      <td>1</td>\n",
       "    </tr>\n",
       "    <tr>\n",
       "      <th>2</th>\n",
       "      <td>0</td>\n",
       "      <td>2</td>\n",
       "      <td>1</td>\n",
       "    </tr>\n",
       "    <tr>\n",
       "      <th>3</th>\n",
       "      <td>0</td>\n",
       "      <td>3</td>\n",
       "      <td>1</td>\n",
       "    </tr>\n",
       "    <tr>\n",
       "      <th>4</th>\n",
       "      <td>0</td>\n",
       "      <td>4</td>\n",
       "      <td>1</td>\n",
       "    </tr>\n",
       "    <tr>\n",
       "      <th>...</th>\n",
       "      <td>...</td>\n",
       "      <td>...</td>\n",
       "      <td>...</td>\n",
       "    </tr>\n",
       "    <tr>\n",
       "      <th>1000202</th>\n",
       "      <td>6039</td>\n",
       "      <td>180</td>\n",
       "      <td>1</td>\n",
       "    </tr>\n",
       "    <tr>\n",
       "      <th>1000203</th>\n",
       "      <td>6039</td>\n",
       "      <td>1097</td>\n",
       "      <td>1</td>\n",
       "    </tr>\n",
       "    <tr>\n",
       "      <th>1000204</th>\n",
       "      <td>6039</td>\n",
       "      <td>1248</td>\n",
       "      <td>1</td>\n",
       "    </tr>\n",
       "    <tr>\n",
       "      <th>1000205</th>\n",
       "      <td>6039</td>\n",
       "      <td>370</td>\n",
       "      <td>1</td>\n",
       "    </tr>\n",
       "    <tr>\n",
       "      <th>1000206</th>\n",
       "      <td>6039</td>\n",
       "      <td>89</td>\n",
       "      <td>1</td>\n",
       "    </tr>\n",
       "  </tbody>\n",
       "</table>\n",
       "<p>988129 rows × 3 columns</p>\n",
       "</div>"
      ],
      "text/plain": [
       "         user_id  movie_id  rating\n",
       "0              0         0       1\n",
       "1              0         1       1\n",
       "2              0         2       1\n",
       "3              0         3       1\n",
       "4              0         4       1\n",
       "...          ...       ...     ...\n",
       "1000202     6039       180       1\n",
       "1000203     6039      1097       1\n",
       "1000204     6039      1248       1\n",
       "1000205     6039       370       1\n",
       "1000206     6039        89       1\n",
       "\n",
       "[988129 rows x 3 columns]"
      ]
     },
     "execution_count": 16,
     "metadata": {},
     "output_type": "execute_result"
    }
   ],
   "source": [
    "train = train_and_val.drop(val.index, axis=0)\n",
    "\n",
    "train"
   ]
  },
  {
   "cell_type": "code",
   "execution_count": 17,
   "id": "0b02997a",
   "metadata": {},
   "outputs": [],
   "source": [
    "train.reset_index(drop=True, inplace=True)\n",
    "val.reset_index(drop=True, inplace=True)\n",
    "test.reset_index(drop=True, inplace=True)\n",
    "\n",
    "train_and_val.reset_index(drop=True, inplace=True) # нужно только для бейзлайнов и алс, мы там ниче не смотрим на val и не тюним"
   ]
  },
  {
   "cell_type": "code",
   "execution_count": 18,
   "id": "1e9af677",
   "metadata": {},
   "outputs": [],
   "source": [
    "# так, берту не нужно время, ток порядок\n",
    "train_dict = dict(train.groupby('user_id').apply(lambda d: list(d['movie_id'])))\n",
    "val_dict = dict(val.groupby('user_id').apply(lambda d: list(d['movie_id'])))\n",
    "test_dict = dict(test.groupby('user_id').apply(lambda d: list(d['movie_id'])))"
   ]
  },
  {
   "cell_type": "code",
   "execution_count": 19,
   "id": "4dff1c24",
   "metadata": {},
   "outputs": [],
   "source": [
    "dataset_for_bert4rec = {'train': train_dict,\n",
    "                       'val': val_dict,\n",
    "                       'test': test_dict,\n",
    "                       'umap': u2ix,\n",
    "                       'smap': i2ix}"
   ]
  },
  {
   "cell_type": "code",
   "execution_count": 20,
   "id": "580b5d19",
   "metadata": {},
   "outputs": [],
   "source": [
    "# import pickle\n",
    "\n",
    "# with open('prepared_dataset/dataset_for_bert4rec.pickle', 'wb') as handle:\n",
    "#     pickle.dump(dataset_for_bert4rec, handle, protocol=pickle.HIGHEST_PROTOCOL)"
   ]
  },
  {
   "cell_type": "markdown",
   "id": "59b8f991",
   "metadata": {},
   "source": [
    "... продолжаем:"
   ]
  },
  {
   "cell_type": "code",
   "execution_count": 21,
   "id": "155954ac",
   "metadata": {},
   "outputs": [
    {
     "data": {
      "text/html": [
       "<div>\n",
       "<style scoped>\n",
       "    .dataframe tbody tr th:only-of-type {\n",
       "        vertical-align: middle;\n",
       "    }\n",
       "\n",
       "    .dataframe tbody tr th {\n",
       "        vertical-align: top;\n",
       "    }\n",
       "\n",
       "    .dataframe thead th {\n",
       "        text-align: right;\n",
       "    }\n",
       "</style>\n",
       "<table border=\"1\" class=\"dataframe\">\n",
       "  <thead>\n",
       "    <tr style=\"text-align: right;\">\n",
       "      <th></th>\n",
       "      <th>user_id</th>\n",
       "      <th>movie_id</th>\n",
       "      <th>rating</th>\n",
       "    </tr>\n",
       "  </thead>\n",
       "  <tbody>\n",
       "    <tr>\n",
       "      <th>0</th>\n",
       "      <td>0</td>\n",
       "      <td>0</td>\n",
       "      <td>1</td>\n",
       "    </tr>\n",
       "    <tr>\n",
       "      <th>1</th>\n",
       "      <td>0</td>\n",
       "      <td>1</td>\n",
       "      <td>1</td>\n",
       "    </tr>\n",
       "    <tr>\n",
       "      <th>2</th>\n",
       "      <td>0</td>\n",
       "      <td>2</td>\n",
       "      <td>1</td>\n",
       "    </tr>\n",
       "    <tr>\n",
       "      <th>3</th>\n",
       "      <td>0</td>\n",
       "      <td>3</td>\n",
       "      <td>1</td>\n",
       "    </tr>\n",
       "    <tr>\n",
       "      <th>4</th>\n",
       "      <td>0</td>\n",
       "      <td>4</td>\n",
       "      <td>1</td>\n",
       "    </tr>\n",
       "    <tr>\n",
       "      <th>...</th>\n",
       "      <td>...</td>\n",
       "      <td>...</td>\n",
       "      <td>...</td>\n",
       "    </tr>\n",
       "    <tr>\n",
       "      <th>994164</th>\n",
       "      <td>6039</td>\n",
       "      <td>1097</td>\n",
       "      <td>1</td>\n",
       "    </tr>\n",
       "    <tr>\n",
       "      <th>994165</th>\n",
       "      <td>6039</td>\n",
       "      <td>1248</td>\n",
       "      <td>1</td>\n",
       "    </tr>\n",
       "    <tr>\n",
       "      <th>994166</th>\n",
       "      <td>6039</td>\n",
       "      <td>370</td>\n",
       "      <td>1</td>\n",
       "    </tr>\n",
       "    <tr>\n",
       "      <th>994167</th>\n",
       "      <td>6039</td>\n",
       "      <td>89</td>\n",
       "      <td>1</td>\n",
       "    </tr>\n",
       "    <tr>\n",
       "      <th>994168</th>\n",
       "      <td>6039</td>\n",
       "      <td>464</td>\n",
       "      <td>1</td>\n",
       "    </tr>\n",
       "  </tbody>\n",
       "</table>\n",
       "<p>994169 rows × 3 columns</p>\n",
       "</div>"
      ],
      "text/plain": [
       "        user_id  movie_id  rating\n",
       "0             0         0       1\n",
       "1             0         1       1\n",
       "2             0         2       1\n",
       "3             0         3       1\n",
       "4             0         4       1\n",
       "...         ...       ...     ...\n",
       "994164     6039      1097       1\n",
       "994165     6039      1248       1\n",
       "994166     6039       370       1\n",
       "994167     6039        89       1\n",
       "994168     6039       464       1\n",
       "\n",
       "[994169 rows x 3 columns]"
      ]
     },
     "execution_count": 21,
     "metadata": {},
     "output_type": "execute_result"
    }
   ],
   "source": [
    "train_and_val"
   ]
  },
  {
   "cell_type": "code",
   "execution_count": 22,
   "id": "cb8cdcd4",
   "metadata": {},
   "outputs": [
    {
     "data": {
      "text/html": [
       "<div>\n",
       "<style scoped>\n",
       "    .dataframe tbody tr th:only-of-type {\n",
       "        vertical-align: middle;\n",
       "    }\n",
       "\n",
       "    .dataframe tbody tr th {\n",
       "        vertical-align: top;\n",
       "    }\n",
       "\n",
       "    .dataframe thead th {\n",
       "        text-align: right;\n",
       "    }\n",
       "</style>\n",
       "<table border=\"1\" class=\"dataframe\">\n",
       "  <thead>\n",
       "    <tr style=\"text-align: right;\">\n",
       "      <th></th>\n",
       "      <th>user_id</th>\n",
       "      <th>movie_id</th>\n",
       "      <th>rating</th>\n",
       "    </tr>\n",
       "  </thead>\n",
       "  <tbody>\n",
       "    <tr>\n",
       "      <th>0</th>\n",
       "      <td>0</td>\n",
       "      <td>52</td>\n",
       "      <td>1</td>\n",
       "    </tr>\n",
       "    <tr>\n",
       "      <th>1</th>\n",
       "      <td>1</td>\n",
       "      <td>174</td>\n",
       "      <td>1</td>\n",
       "    </tr>\n",
       "    <tr>\n",
       "      <th>2</th>\n",
       "      <td>2</td>\n",
       "      <td>207</td>\n",
       "      <td>1</td>\n",
       "    </tr>\n",
       "    <tr>\n",
       "      <th>3</th>\n",
       "      <td>3</td>\n",
       "      <td>88</td>\n",
       "      <td>1</td>\n",
       "    </tr>\n",
       "    <tr>\n",
       "      <th>4</th>\n",
       "      <td>4</td>\n",
       "      <td>384</td>\n",
       "      <td>1</td>\n",
       "    </tr>\n",
       "    <tr>\n",
       "      <th>...</th>\n",
       "      <td>...</td>\n",
       "      <td>...</td>\n",
       "      <td>...</td>\n",
       "    </tr>\n",
       "    <tr>\n",
       "      <th>6035</th>\n",
       "      <td>6035</td>\n",
       "      <td>927</td>\n",
       "      <td>1</td>\n",
       "    </tr>\n",
       "    <tr>\n",
       "      <th>6036</th>\n",
       "      <td>6036</td>\n",
       "      <td>684</td>\n",
       "      <td>1</td>\n",
       "    </tr>\n",
       "    <tr>\n",
       "      <th>6037</th>\n",
       "      <td>6037</td>\n",
       "      <td>1587</td>\n",
       "      <td>1</td>\n",
       "    </tr>\n",
       "    <tr>\n",
       "      <th>6038</th>\n",
       "      <td>6038</td>\n",
       "      <td>579</td>\n",
       "      <td>1</td>\n",
       "    </tr>\n",
       "    <tr>\n",
       "      <th>6039</th>\n",
       "      <td>6039</td>\n",
       "      <td>430</td>\n",
       "      <td>1</td>\n",
       "    </tr>\n",
       "  </tbody>\n",
       "</table>\n",
       "<p>6040 rows × 3 columns</p>\n",
       "</div>"
      ],
      "text/plain": [
       "      user_id  movie_id  rating\n",
       "0           0        52       1\n",
       "1           1       174       1\n",
       "2           2       207       1\n",
       "3           3        88       1\n",
       "4           4       384       1\n",
       "...       ...       ...     ...\n",
       "6035     6035       927       1\n",
       "6036     6036       684       1\n",
       "6037     6037      1587       1\n",
       "6038     6038       579       1\n",
       "6039     6039       430       1\n",
       "\n",
       "[6040 rows x 3 columns]"
      ]
     },
     "execution_count": 22,
     "metadata": {},
     "output_type": "execute_result"
    }
   ],
   "source": [
    "test"
   ]
  },
  {
   "cell_type": "code",
   "execution_count": 23,
   "id": "b1c81a99",
   "metadata": {},
   "outputs": [],
   "source": [
    "user_positively_interacted_with = ratings.groupby('user_id')['movie_id'].apply(set).to_dict()"
   ]
  },
  {
   "cell_type": "code",
   "execution_count": 24,
   "id": "febd0785",
   "metadata": {},
   "outputs": [],
   "source": [
    "assert len(user_positively_interacted_with[1]) == len(train_and_val[train_and_val.user_id == 1]) + 1"
   ]
  },
  {
   "cell_type": "code",
   "execution_count": 25,
   "id": "3c1cadf1",
   "metadata": {},
   "outputs": [],
   "source": [
    "item_count = ratings[\"movie_id\"].value_counts().to_dict()\n",
    "item_probabilities = {k: v / sum([x for x in item_count.values()]) for k, v in item_count.items()}"
   ]
  },
  {
   "cell_type": "code",
   "execution_count": 26,
   "id": "b8c1d34b",
   "metadata": {},
   "outputs": [
    {
     "data": {
      "text/plain": [
       "0.003427283697707179"
      ]
     },
     "execution_count": 26,
     "metadata": {},
     "output_type": "execute_result"
    }
   ],
   "source": [
    "item_probabilities[62]"
   ]
  },
  {
   "cell_type": "code",
   "execution_count": 27,
   "id": "36cd329c",
   "metadata": {},
   "outputs": [
    {
     "data": {
      "text/plain": [
       "0.00035592561154718663"
      ]
     },
     "execution_count": 27,
     "metadata": {},
     "output_type": "execute_result"
    }
   ],
   "source": [
    "item_probabilities[731]"
   ]
  },
  {
   "cell_type": "code",
   "execution_count": 28,
   "id": "09f0a05f",
   "metadata": {},
   "outputs": [
    {
     "data": {
      "text/plain": [
       "[(0, 52, 1),\n",
       " (0, 1068, 0),\n",
       " (0, 731, 0),\n",
       " (0, 1026, 0),\n",
       " (0, 314, 0),\n",
       " (0, 1148, 0),\n",
       " (0, 1008, 0),\n",
       " (0, 1030, 0),\n",
       " (0, 1513, 0),\n",
       " (0, 2575, 0)]"
      ]
     },
     "execution_count": 28,
     "metadata": {},
     "output_type": "execute_result"
    }
   ],
   "source": [
    "import numpy as np\n",
    "from numpy.random import choice\n",
    "\n",
    "negative_samples = dict()\n",
    "test_rows = []\n",
    "\n",
    "for _, row in test.iterrows():\n",
    "    test_interactions = [(row[\"user_id\"], row[\"movie_id\"], row[\"rating\"],)]\n",
    "    \n",
    "    np.random.seed(row[\"user_id\"])\n",
    "    negative_sampled_interactions = list(choice(list(item_probabilities.keys()), 800, replace=False, p=list(item_probabilities.values())))\n",
    "    negative_sampled_interactions = [x for x in negative_sampled_interactions if x not in user_positively_interacted_with[row[\"user_id\"]]]\n",
    "    negative_sampled_interactions = negative_sampled_interactions[:100]\n",
    "    \n",
    "    # потом, когда будем делать берт, будем ссылаться на сгенерированные здесь негативы:\n",
    "    negative_samples[row[\"user_id\"]] = negative_sampled_interactions\n",
    "\n",
    "    test_interactions.extend([(row[\"user_id\"], x, 0,) for x in negative_sampled_interactions])\n",
    "    \n",
    "    test_rows.extend(test_interactions)\n",
    "    \n",
    "test_rows[:10]"
   ]
  },
  {
   "cell_type": "code",
   "execution_count": 29,
   "id": "69c6cb15",
   "metadata": {},
   "outputs": [
    {
     "data": {
      "text/plain": [
       "[1068, 731, 1026, 314, 1148, 1008, 1030, 1513, 2575]"
      ]
     },
     "execution_count": 29,
     "metadata": {},
     "output_type": "execute_result"
    }
   ],
   "source": [
    "negative_samples[0][:9]"
   ]
  },
  {
   "cell_type": "code",
   "execution_count": 30,
   "id": "27b3282d",
   "metadata": {},
   "outputs": [
    {
     "data": {
      "text/html": [
       "<div>\n",
       "<style scoped>\n",
       "    .dataframe tbody tr th:only-of-type {\n",
       "        vertical-align: middle;\n",
       "    }\n",
       "\n",
       "    .dataframe tbody tr th {\n",
       "        vertical-align: top;\n",
       "    }\n",
       "\n",
       "    .dataframe thead th {\n",
       "        text-align: right;\n",
       "    }\n",
       "</style>\n",
       "<table border=\"1\" class=\"dataframe\">\n",
       "  <thead>\n",
       "    <tr style=\"text-align: right;\">\n",
       "      <th></th>\n",
       "      <th>user_id</th>\n",
       "      <th>movie_id</th>\n",
       "      <th>rating</th>\n",
       "    </tr>\n",
       "  </thead>\n",
       "  <tbody>\n",
       "    <tr>\n",
       "      <th>0</th>\n",
       "      <td>0</td>\n",
       "      <td>52</td>\n",
       "      <td>1</td>\n",
       "    </tr>\n",
       "    <tr>\n",
       "      <th>1</th>\n",
       "      <td>0</td>\n",
       "      <td>1068</td>\n",
       "      <td>0</td>\n",
       "    </tr>\n",
       "    <tr>\n",
       "      <th>2</th>\n",
       "      <td>0</td>\n",
       "      <td>731</td>\n",
       "      <td>0</td>\n",
       "    </tr>\n",
       "    <tr>\n",
       "      <th>3</th>\n",
       "      <td>0</td>\n",
       "      <td>1026</td>\n",
       "      <td>0</td>\n",
       "    </tr>\n",
       "    <tr>\n",
       "      <th>4</th>\n",
       "      <td>0</td>\n",
       "      <td>314</td>\n",
       "      <td>0</td>\n",
       "    </tr>\n",
       "    <tr>\n",
       "      <th>...</th>\n",
       "      <td>...</td>\n",
       "      <td>...</td>\n",
       "      <td>...</td>\n",
       "    </tr>\n",
       "    <tr>\n",
       "      <th>610035</th>\n",
       "      <td>6039</td>\n",
       "      <td>442</td>\n",
       "      <td>0</td>\n",
       "    </tr>\n",
       "    <tr>\n",
       "      <th>610036</th>\n",
       "      <td>6039</td>\n",
       "      <td>581</td>\n",
       "      <td>0</td>\n",
       "    </tr>\n",
       "    <tr>\n",
       "      <th>610037</th>\n",
       "      <td>6039</td>\n",
       "      <td>147</td>\n",
       "      <td>0</td>\n",
       "    </tr>\n",
       "    <tr>\n",
       "      <th>610038</th>\n",
       "      <td>6039</td>\n",
       "      <td>1327</td>\n",
       "      <td>0</td>\n",
       "    </tr>\n",
       "    <tr>\n",
       "      <th>610039</th>\n",
       "      <td>6039</td>\n",
       "      <td>73</td>\n",
       "      <td>0</td>\n",
       "    </tr>\n",
       "  </tbody>\n",
       "</table>\n",
       "<p>610040 rows × 3 columns</p>\n",
       "</div>"
      ],
      "text/plain": [
       "        user_id  movie_id  rating\n",
       "0             0        52       1\n",
       "1             0      1068       0\n",
       "2             0       731       0\n",
       "3             0      1026       0\n",
       "4             0       314       0\n",
       "...         ...       ...     ...\n",
       "610035     6039       442       0\n",
       "610036     6039       581       0\n",
       "610037     6039       147       0\n",
       "610038     6039      1327       0\n",
       "610039     6039        73       0\n",
       "\n",
       "[610040 rows x 3 columns]"
      ]
     },
     "execution_count": 30,
     "metadata": {},
     "output_type": "execute_result"
    }
   ],
   "source": [
    "neg_sampled_test = pd.DataFrame(test_rows, columns=[\"user_id\", \"movie_id\", \"rating\"])\n",
    "\n",
    "neg_sampled_test"
   ]
  },
  {
   "cell_type": "markdown",
   "id": "edd90e09",
   "metadata": {},
   "source": [
    "### random baseline:"
   ]
  },
  {
   "cell_type": "code",
   "execution_count": 29,
   "id": "ae8712af",
   "metadata": {},
   "outputs": [
    {
     "data": {
      "text/plain": [
       "(0.04438110400529842, 0.001780072420999918)"
      ]
     },
     "execution_count": 29,
     "metadata": {},
     "output_type": "execute_result"
    }
   ],
   "source": [
    "ndcgresults = []\n",
    "for i in range(10):\n",
    "    ndcg_value = calculate_grouped_ndcg_random(train_and_val, neg_sampled_test, 10, i)\n",
    "    \n",
    "    ndcgresults.append(ndcg_value)\n",
    "    \n",
    "np.mean(ndcgresults), np.std(ndcgresults)"
   ]
  },
  {
   "cell_type": "markdown",
   "id": "4e0db11f",
   "metadata": {},
   "source": [
    "### pop baseline:"
   ]
  },
  {
   "cell_type": "code",
   "execution_count": 30,
   "id": "cdc2843c",
   "metadata": {},
   "outputs": [
    {
     "data": {
      "text/plain": [
       "0.06391453558404456"
      ]
     },
     "execution_count": 30,
     "metadata": {},
     "output_type": "execute_result"
    }
   ],
   "source": [
    "calculate_grouped_ndcg_sum_popularity(train_and_val, neg_sampled_test, 10)"
   ]
  },
  {
   "cell_type": "markdown",
   "id": "f9b8a85f",
   "metadata": {},
   "source": [
    "### iALS baseline:"
   ]
  },
  {
   "cell_type": "code",
   "execution_count": 31,
   "id": "07d092c4",
   "metadata": {},
   "outputs": [],
   "source": [
    "import scipy.sparse as sparse\n",
    "\n",
    "\n",
    "def create_sparse_matrix(df: pd.DataFrame) -> sparse.csr_matrix:\n",
    "    \"\"\"\n",
    "    Делает разреженную матрицу из пандас датафрейма. Нужно для\n",
    "    обучения implicit.als.AlternatingLeastSquares.\n",
    "    Parameters\n",
    "        df (pd.DataFrame): датасет\n",
    "    Returns\n",
    "        csr (sparse.csr_matrix): разреженная матрица\n",
    "    \"\"\"\n",
    "    csr = sparse.csr_matrix((df.rating, (df.user_id, df.movie_id)))\n",
    "    return csr\n",
    "\n",
    "sparse_train_and_val = create_sparse_matrix(train_and_val)"
   ]
  },
  {
   "cell_type": "code",
   "execution_count": 32,
   "id": "c3549aed",
   "metadata": {},
   "outputs": [],
   "source": [
    "import implicit"
   ]
  },
  {
   "cell_type": "code",
   "execution_count": 33,
   "id": "9e4379b7",
   "metadata": {},
   "outputs": [
    {
     "name": "stderr",
     "output_type": "stream",
     "text": [
      "C:\\Users\\atama\\anaconda3\\envs\\conda_bert4rec\\lib\\site-packages\\implicit\\cpu\\als.py:95: RuntimeWarning: OpenBLAS is configured to use 8 threads. It is highly recommended to disable its internal threadpool by setting the environment variable 'OPENBLAS_NUM_THREADS=1' or by calling 'threadpoolctl.threadpool_limits(1, \"blas\")'. Having OpenBLAS use a threadpool can lead to severe performance issues here.\n",
      "  check_blas_config()\n"
     ]
    }
   ],
   "source": [
    "iALS = implicit.als.AlternatingLeastSquares(factors=256, iterations=150)"
   ]
  },
  {
   "cell_type": "code",
   "execution_count": 34,
   "id": "759b71c6",
   "metadata": {},
   "outputs": [
    {
     "data": {
      "application/vnd.jupyter.widget-view+json": {
       "model_id": "bad47783320c4c4dae2367f5d6a59981",
       "version_major": 2,
       "version_minor": 0
      },
      "text/plain": [
       "  0%|          | 0/150 [00:00<?, ?it/s]"
      ]
     },
     "metadata": {},
     "output_type": "display_data"
    }
   ],
   "source": [
    "iALS.fit(sparse_train_and_val)"
   ]
  },
  {
   "cell_type": "code",
   "execution_count": 35,
   "id": "c95c109d",
   "metadata": {},
   "outputs": [
    {
     "data": {
      "text/plain": [
       "0.2209271961839956"
      ]
     },
     "execution_count": 35,
     "metadata": {},
     "output_type": "execute_result"
    }
   ],
   "source": [
    "calculate_grouped_ndcg_with_embeddings(neg_sampled_test, iALS, 10)"
   ]
  },
  {
   "cell_type": "code",
   "execution_count": 36,
   "id": "21e94d53",
   "metadata": {},
   "outputs": [],
   "source": [
    "BPRMF = implicit.bpr.BayesianPersonalizedRanking(factors=256, iterations=150)"
   ]
  },
  {
   "cell_type": "code",
   "execution_count": 37,
   "id": "03617276",
   "metadata": {},
   "outputs": [
    {
     "data": {
      "application/vnd.jupyter.widget-view+json": {
       "model_id": "6ceadd869fab4dd5a7a36cb8fb3049fd",
       "version_major": 2,
       "version_minor": 0
      },
      "text/plain": [
       "  0%|          | 0/150 [00:00<?, ?it/s]"
      ]
     },
     "metadata": {},
     "output_type": "display_data"
    }
   ],
   "source": [
    "BPRMF.fit(sparse_train_and_val)"
   ]
  },
  {
   "cell_type": "code",
   "execution_count": 38,
   "id": "73cea776",
   "metadata": {},
   "outputs": [
    {
     "data": {
      "text/plain": [
       "0.2718568152928149"
      ]
     },
     "execution_count": 38,
     "metadata": {},
     "output_type": "execute_result"
    }
   ],
   "source": [
    "calculate_grouped_ndcg_with_embeddings(neg_sampled_test, BPRMF, 10)"
   ]
  },
  {
   "cell_type": "markdown",
   "id": "805e661a",
   "metadata": {},
   "source": [
    "# начинаем берт4рек:"
   ]
  },
  {
   "cell_type": "code",
   "execution_count": 31,
   "id": "22c8a9eb",
   "metadata": {},
   "outputs": [],
   "source": [
    "import argparse\n",
    "\n",
    "import pandas as pd\n",
    "import pickle\n",
    "import random\n",
    "import torch\n",
    "\n",
    "from tqdm import trange\n",
    "from collections import Counter\n",
    "\n",
    "import numpy as np\n",
    "from numpy.random import choice"
   ]
  },
  {
   "cell_type": "code",
   "execution_count": 32,
   "id": "11a4b42d",
   "metadata": {},
   "outputs": [],
   "source": [
    "# fix argparse in ipython\n",
    "import sys\n",
    "sys.argv = ['']"
   ]
  },
  {
   "cell_type": "code",
   "execution_count": 33,
   "id": "13f32614",
   "metadata": {},
   "outputs": [],
   "source": [
    "from bert4rec_modules_and_configs.utils import *\n",
    "from bert4rec_modules_and_configs.options import args"
   ]
  },
  {
   "cell_type": "code",
   "execution_count": 34,
   "id": "135ba84f",
   "metadata": {},
   "outputs": [],
   "source": [
    "# то что сохранили\n",
    "\n",
    "def read_data(prepared_data_path):\n",
    "    with open(prepared_data_path, 'rb') as handle:\n",
    "        dataset = pickle.load(handle)\n",
    "    return dataset"
   ]
  },
  {
   "cell_type": "code",
   "execution_count": 35,
   "id": "7f881ac5",
   "metadata": {},
   "outputs": [],
   "source": [
    "data = read_data(args.prepared_data_path)\n",
    "\n",
    "train_data = data['train']\n",
    "val_data = data['val']\n",
    "test_data = data['test']\n",
    "umap = data['umap']\n",
    "smap = data['smap']"
   ]
  },
  {
   "cell_type": "code",
   "execution_count": 36,
   "id": "e37c198f",
   "metadata": {},
   "outputs": [
    {
     "name": "stdout",
     "output_type": "stream",
     "text": [
      "[0, 1, 2, 3, 4, 5, 6, 7, 8, 9, 10, 11, 12, 13, 14, 15, 16, 17, 18, 19, 20, 21, 22, 23, 24, 25, 26, 27, 28, 29, 30, 31, 32, 33, 34, 35, 36, 37, 38, 39, 40, 41, 42, 43, 44, 45, 46, 47, 48, 49, 50]\n",
      "[51]\n",
      "[52]\n",
      "0\n"
     ]
    }
   ],
   "source": [
    "# отслеживаем путь юзера с индексом 0 (оригинальный айди 1)\n",
    "print(train_data[0])\n",
    "print(val_data[0])\n",
    "print(test_data[0])\n",
    "print(umap[1])"
   ]
  },
  {
   "cell_type": "markdown",
   "id": "4d81742e",
   "metadata": {},
   "source": [
    "готовим трейн датасет и даталоадер:"
   ]
  },
  {
   "cell_type": "code",
   "execution_count": 37,
   "id": "e1b62f2e",
   "metadata": {},
   "outputs": [],
   "source": [
    "class BertTrainDataset(torch.utils.data.Dataset):\n",
    "    def __init__(self, u2seq, max_len, mask_prob, mask_token, num_items, rng):\n",
    "        self.u2seq = u2seq\n",
    "        self.users = sorted(self.u2seq.keys())  # дополнительный \"надежный\" (с заданным порядком) способ ходить по train_data, в отличие от хождения по train_data по ключу\n",
    "        self.max_len = max_len\n",
    "        self.mask_prob = mask_prob\n",
    "        print(\"self.mask_prob\", self.mask_prob)\n",
    "        self.mask_token = mask_token\n",
    "        print(\"self.mask_token\", self.mask_token)\n",
    "        self.num_items = num_items\n",
    "        self.rng = rng\n",
    "\n",
    "    def __len__(self):\n",
    "        return len(self.users)\n",
    "\n",
    "    def __getitem__(self, index):\n",
    "        user = self.users[index]\n",
    "        seq = self._getseq(user)\n",
    "\n",
    "        tokens = []\n",
    "        labels = []\n",
    "        for s in seq: # касательно каждого s заполняем токен и лейбл\n",
    "            prob = self.rng.random()  # сгенерили для конкретного s вероятность uniform, deterministic\n",
    "            if prob < self.mask_prob:  # если prob меньше self.mask_prob == 0.15: TLDR С ВЕРОЯТНОСТЬЮ 80% ЗАПОЛНИМ ТОКЕН МАСКТОКЕНОМ, А НЕ ЭТИМ ITEM INDEX\n",
    "                prob /= self.mask_prob  # то сильно бустим, затем...\n",
    "\n",
    "                # if prob < 0.8:\n",
    "                if prob < 0.99:\n",
    "                    tokens.append(self.mask_token)  # если оч слабо то заполняем токен масктокеном - который max(item !INDEX!) + 1 или self.item_count + 1\n",
    "                # if prob < 0.9:\n",
    "                elif prob < 0.999:\n",
    "                    tokens.append(self.rng.randint(1, self.num_items))  # если попал в маленькое окошко - то рандомно между 1 и self.item_count (== self.num_items) НАХУЯ?\n",
    "                else:\n",
    "                    tokens.append(s) # emergency(?) вариант, но лэйбл всё равно заполнится ненормальным значением - он заполнится ЭТИМ ITEM INDEX\n",
    "\n",
    "                labels.append(s)\n",
    "            else:\n",
    "                tokens.append(s)\n",
    "                labels.append(0)  # !!!ЭТО СТРАННО ВЕДЬ СУЩНОСТЬ S [0, MAX INDEX]!!!\n",
    "\n",
    "        # в итоге каждому s присвоится либо (s, 0) если не замаскирован, либо (mask_token<под вопросом>, s). окей, для чего? !!!ЭТО СТРАННО ВЕДЬ СУЩНОСТЬ S [0, MAX INDEX]!!!\n",
    "\n",
    "        # видимо max_len это не длина окна подпоследовательности из всей последовательности (если использование такой подпоследовательности ваще в этой реализации будет как-то фигурировать), а то, раньше чего мы 100% забываем\n",
    "        tokens = tokens[-self.max_len:]\n",
    "        labels = labels[-self.max_len:]\n",
    "        # был 140 - стал 100\n",
    "        # был 90 - стал 90\n",
    "\n",
    "        # тупа паддинг, если изначальный seq был меньше max_len\n",
    "        mask_len = self.max_len - len(tokens)\n",
    "\n",
    "        # прилепляем нули слева. почему нули???? !!!ЭТО СТРАННО ВЕДЬ СУЩНОСТЬ S [0, MAX INDEX]!!!\n",
    "        tokens = [0] * mask_len + tokens\n",
    "        labels = [0] * mask_len + labels\n",
    "\n",
    "        # лол ща попробуем маскировать с 10% вероятностью последний айтем\n",
    "        prob = self.rng.random()\n",
    "        if prob < 0.1:\n",
    "            tokens[-1] = self.mask_token\n",
    "            labels[-1] = seq[-1]\n",
    "\n",
    "        # в итоге каждому s присвоится либо (s, 0) если не замаскирован, либо (mask_token<под вопросом><уже не под вопросом>, s) + в начале будут прилеплены нули, если не дотягивает до max_len, или иначе обрублено [-max_len:]. окей, для чего? !!!ЭТО СТРАННО ВЕДЬ СУЩНОСТЬ S [0, MAX INDEX]!!!\n",
    "        # tokens    0   0   0   2969, 1574,   957,    1178,   <3707>, 1658,   <3707>, 1117\n",
    "        # labels    0   0   0   0     0       0       0       2147    0       3177    0\n",
    "        return torch.LongTensor(tokens), torch.LongTensor(labels)\n",
    "\n",
    "        # КАК ЕЩЁ ЧАСТО ДЕЛАЕТСЯ И КАК ДЕЛАЛОСЬ В СТАТЬЕ: БЕРЕТСЯ СЛУЧАЙНО 10% ЮЗЕРСКИХ ПОСЛЕДОВАТЕЛЬНОСТЕЙ ИЗ ТРЕЙНА И ДЛЯ НИХ ТОЛЬКО ПОСЛЕДНИЙ ТОКЕН ЗАМЕНЯЕТСЯ МАСКОЙ. мы так не делаем, в представленной реализации которую я разбираю такого случайного выбора 10% из трейна (для навешивания маски только на конец) нет.\n",
    "        # теперь я тоже так делаю\n",
    "        \n",
    "    def _getseq(self, user):\n",
    "        return self.u2seq[user]"
   ]
  },
  {
   "cell_type": "code",
   "execution_count": 38,
   "id": "6cdd1d06",
   "metadata": {},
   "outputs": [
    {
     "name": "stdout",
     "output_type": "stream",
     "text": [
      "self.mask_prob 0.15\n",
      "self.mask_token 3707\n"
     ]
    }
   ],
   "source": [
    "train_torch_dataset = BertTrainDataset(\n",
    "    u2seq=      train_data,\n",
    "    max_len=    args.bert_max_len,\n",
    "    mask_prob=  args.bert_mask_prob,\n",
    "    mask_token= len(smap) + 1,\n",
    "    num_items=  len(smap),\n",
    "    rng=        random.Random(args.dataloader_random_seed)\n",
    ")"
   ]
  },
  {
   "cell_type": "code",
   "execution_count": 39,
   "id": "509c2b3d",
   "metadata": {},
   "outputs": [
    {
     "name": "stdout",
     "output_type": "stream",
     "text": [
      "(tensor([   0,    0,    0,    0,    0,    0,    0,    0,    0,    0,    0,    0,\n",
      "           0,    0,    0,    0,    0,    0,    0,    0,    0,    0,    0,    0,\n",
      "           0,    0,    0,    0,    0,    0,    0,    0,    0,    0,    0,    0,\n",
      "           0,    0,    0,    0,    0,    0,    0,    0,    0,    0,    0,    0,\n",
      "           0,    0,    1,    2,    3,    4,    5,    6,    7,    8,    9,   10,\n",
      "          11,   12,   13,   14,   15,   16,   17,   18,   19,   20,   21,   22,\n",
      "          23,   24, 3707,   26,   27,   28,   29,   30,   31,   32,   33,   34,\n",
      "        3707,   36,   37,   38,   39, 3707,   41,   42,   43,   44,   45,   46,\n",
      "          47,   48,   49,   50]), tensor([ 0,  0,  0,  0,  0,  0,  0,  0,  0,  0,  0,  0,  0,  0,  0,  0,  0,  0,\n",
      "         0,  0,  0,  0,  0,  0,  0,  0,  0,  0,  0,  0,  0,  0,  0,  0,  0,  0,\n",
      "         0,  0,  0,  0,  0,  0,  0,  0,  0,  0,  0,  0,  0,  0,  0,  0,  0,  0,\n",
      "         0,  0,  0,  0,  0,  0,  0,  0,  0,  0,  0,  0,  0,  0,  0,  0,  0,  0,\n",
      "         0,  0, 25,  0,  0,  0,  0,  0,  0,  0,  0,  0, 35,  0,  0,  0,  0, 40,\n",
      "         0,  0,  0,  0,  0,  0,  0,  0,  0,  0]))\n"
     ]
    }
   ],
   "source": [
    "# отслеживаем путь юзера с индексом 0 (оригинальный айди 1)\n",
    "print(train_torch_dataset[0])"
   ]
  },
  {
   "cell_type": "code",
   "execution_count": 40,
   "id": "f4d452c5",
   "metadata": {},
   "outputs": [],
   "source": [
    "train_torch_dataloader = torch.utils.data.DataLoader(\n",
    "    dataset=train_torch_dataset,\n",
    "    batch_size=args.train_batch_size,\n",
    "    shuffle=True,\n",
    "    pin_memory=True\n",
    ")"
   ]
  },
  {
   "cell_type": "markdown",
   "id": "13a617c4",
   "metadata": {},
   "source": [
    "готовим валидационные и тестовые датасет и даталоадер:"
   ]
  },
  {
   "cell_type": "markdown",
   "id": "a7321e13",
   "metadata": {},
   "source": [
    "прежде чем сделать эти датасеты, сгенерируем негативы для юзеров, чтобы у них был не только один true positive на отложенной выборке, а ещё сотня негативов - тогда сможем замерить валидац метрики. семплируем по популярности (согласно статье)"
   ]
  },
  {
   "cell_type": "code",
   "execution_count": 41,
   "id": "943a22a7",
   "metadata": {},
   "outputs": [],
   "source": [
    "# popularity = Counter()\n",
    "# for user in range(len(umap)):\n",
    "#     popularity.update(train_data[user])\n",
    "#     popularity.update(val_data[user])\n",
    "#     popularity.update(test_data[user])\n",
    "# item_probabilities = {k: v / sum([x for x in popularity.values()]) for k, v in popularity.items()}\n",
    "\n",
    "# print(\"PROB CHECK\")\n",
    "# print(item_probabilities[62])\n",
    "# print(item_probabilities[731])\n",
    "\n",
    "# negative_samples = {}\n",
    "# print('Sampling negative items')\n",
    "# for user in trange(len(umap)):\n",
    "#     seen = set(train_data[user])\n",
    "#     seen.update(val_data[user])\n",
    "#     seen.update(test_data[user])\n",
    "\n",
    "#     np.random.seed(user)\n",
    "\n",
    "#     negative_sampled_interactions = list(choice(list(item_probabilities.keys()), 800, replace=False, p=list(item_probabilities.values())))\n",
    "#     negative_sampled_interactions = [x for x in negative_sampled_interactions if x not in seen]\n",
    "#     negative_sampled_interactions = negative_sampled_interactions[:100]\n",
    "\n",
    "#     negative_samples[user] = negative_sampled_interactions"
   ]
  },
  {
   "cell_type": "markdown",
   "id": "9f624966",
   "metadata": {},
   "source": [
    "взяли negative_samples, сделанные на этапе построения бейзлайнов, для 100% идентичности замера ndcg@10."
   ]
  },
  {
   "cell_type": "code",
   "execution_count": 42,
   "id": "4cc0f492",
   "metadata": {},
   "outputs": [
    {
     "name": "stdout",
     "output_type": "stream",
     "text": [
      "[1068, 731, 1026, 314, 1148, 1008, 1030, 1513, 2575, 388, 398, 525, 1438, 1682, 215, 258, 129, 2122, 1954, 1869, 2824, 859, 748, 983, 183, 1436, 233, 1803, 1182, 874, 1305, 2056, 752, 844, 971, 1065, 671, 2549, 2153, 325, 981, 1766, 60, 880, 1028, 557, 144, 948, 1302, 3160, 743, 424, 796, 947, 180, 1191, 458, 534, 386, 1110, 622, 208, 592, 2055, 739, 1215, 2751, 489, 2863, 502, 1095, 73, 138, 580, 522, 443, 699, 125, 653, 390, 832, 193, 1906, 284, 663, 147, 1022, 241, 597, 1294, 1776, 1688, 809, 1260, 1529, 738, 652, 631, 665, 203]\n"
     ]
    }
   ],
   "source": [
    "# отслеживаем путь юзера с индексом 0 (оригинальный айди 1)\n",
    "print(negative_samples[0])"
   ]
  },
  {
   "cell_type": "code",
   "execution_count": 43,
   "id": "e7614938",
   "metadata": {},
   "outputs": [],
   "source": [
    "class BertEvalDataset(torch.utils.data.Dataset):\n",
    "    def __init__(self, u2seq, u2answer, max_len, mask_token, negative_samples):\n",
    "        self.u2seq = u2seq\n",
    "        self.users = sorted(self.u2seq.keys()) # дополнительный \"надежный\" (с заданным порядком) способ ходить по train_data, в отличие от хождения по train_data по ключу\n",
    "        self.u2answer = u2answer\n",
    "        self.max_len = max_len\n",
    "        self.mask_token = mask_token\n",
    "        self.negative_samples = negative_samples\n",
    "\n",
    "    def __len__(self):\n",
    "        return len(self.users)\n",
    "\n",
    "    def __getitem__(self, index):\n",
    "        user = self.users[index]\n",
    "        seq = self.u2seq[user]\n",
    "        answer = self.u2answer[user]\n",
    "        negs = self.negative_samples[user]\n",
    "\n",
    "        candidates = answer + negs  # ну понятно, [228] + [142, 1488, 0, ...]\n",
    "        labels = [1] * len(answer) + [0] * len(negs)  # сказали что первое позитив, остальное негативы\n",
    "\n",
    "        seq = seq + [self.mask_token]  # прилепили <3707> в конец. теперь хорошо обученная модель сможет угадать его label\n",
    "\n",
    "        seq = seq[-self.max_len:]  # эти три строки - всё так же как в трейне\n",
    "        padding_len = self.max_len - len(seq)\n",
    "        seq = [0] * padding_len + seq\n",
    "\n",
    "        return torch.LongTensor(seq), torch.LongTensor(candidates), torch.LongTensor(labels)\n",
    "        # например:\n",
    "        # seq (в сущности как tokens в трейне)  0   0   2969,   1574,   957,    1178,   2147,   1658,   3177,   1117, <3707>\n",
    "        #\n",
    "        # candidates: [индекс айтема реального позитива; сгенерированные негативы]\n",
    "        # labels:     [1, 0, 0, 0, 0, ...]"
   ]
  },
  {
   "cell_type": "code",
   "execution_count": 44,
   "id": "e2dcb75d",
   "metadata": {},
   "outputs": [],
   "source": [
    "val_torch_dataset = BertEvalDataset(\n",
    "    u2seq=              train_data,\n",
    "    u2answer=           val_data,\n",
    "    max_len=            args.bert_max_len,\n",
    "    mask_token=         len(smap) + 1,\n",
    "    negative_samples=   negative_samples\n",
    ")"
   ]
  },
  {
   "cell_type": "code",
   "execution_count": 45,
   "id": "ac92c8c4",
   "metadata": {},
   "outputs": [
    {
     "name": "stdout",
     "output_type": "stream",
     "text": [
      "(tensor([   0,    0,    0,    0,    0,    0,    0,    0,    0,    0,    0,    0,\n",
      "           0,    0,    0,    0,    0,    0,    0,    0,    0,    0,    0,    0,\n",
      "           0,    0,    0,    0,    0,    0,    0,    0,    0,    0,    0,    0,\n",
      "           0,    0,    0,    0,    0,    0,    0,    0,    0,    0,    0,    0,\n",
      "           0,    1,    2,    3,    4,    5,    6,    7,    8,    9,   10,   11,\n",
      "          12,   13,   14,   15,   16,   17,   18,   19,   20,   21,   22,   23,\n",
      "          24,   25,   26,   27,   28,   29,   30,   31,   32,   33,   34,   35,\n",
      "          36,   37,   38,   39,   40,   41,   42,   43,   44,   45,   46,   47,\n",
      "          48,   49,   50, 3707]), tensor([  51, 1068,  731, 1026,  314, 1148, 1008, 1030, 1513, 2575,  388,  398,\n",
      "         525, 1438, 1682,  215,  258,  129, 2122, 1954, 1869, 2824,  859,  748,\n",
      "         983,  183, 1436,  233, 1803, 1182,  874, 1305, 2056,  752,  844,  971,\n",
      "        1065,  671, 2549, 2153,  325,  981, 1766,   60,  880, 1028,  557,  144,\n",
      "         948, 1302, 3160,  743,  424,  796,  947,  180, 1191,  458,  534,  386,\n",
      "        1110,  622,  208,  592, 2055,  739, 1215, 2751,  489, 2863,  502, 1095,\n",
      "          73,  138,  580,  522,  443,  699,  125,  653,  390,  832,  193, 1906,\n",
      "         284,  663,  147, 1022,  241,  597, 1294, 1776, 1688,  809, 1260, 1529,\n",
      "         738,  652,  631,  665,  203]), tensor([1, 0, 0, 0, 0, 0, 0, 0, 0, 0, 0, 0, 0, 0, 0, 0, 0, 0, 0, 0, 0, 0, 0, 0,\n",
      "        0, 0, 0, 0, 0, 0, 0, 0, 0, 0, 0, 0, 0, 0, 0, 0, 0, 0, 0, 0, 0, 0, 0, 0,\n",
      "        0, 0, 0, 0, 0, 0, 0, 0, 0, 0, 0, 0, 0, 0, 0, 0, 0, 0, 0, 0, 0, 0, 0, 0,\n",
      "        0, 0, 0, 0, 0, 0, 0, 0, 0, 0, 0, 0, 0, 0, 0, 0, 0, 0, 0, 0, 0, 0, 0, 0,\n",
      "        0, 0, 0, 0, 0]))\n"
     ]
    }
   ],
   "source": [
    "# отслеживаем путь юзера с индексом 0 (оригинальный айди 1)\n",
    "print(val_torch_dataset[0])"
   ]
  },
  {
   "cell_type": "code",
   "execution_count": 46,
   "id": "b65bc603",
   "metadata": {},
   "outputs": [],
   "source": [
    "val_torch_dataloader = torch.utils.data.DataLoader(val_torch_dataset, batch_size=args.val_batch_size,\n",
    "                                       shuffle=False, pin_memory=True)"
   ]
  },
  {
   "cell_type": "code",
   "execution_count": 47,
   "id": "3dcff7d5",
   "metadata": {},
   "outputs": [],
   "source": [
    "test_torch_dataset = BertEvalDataset(\n",
    "        u2seq=              train_data,\n",
    "        u2answer=           test_data,\n",
    "        max_len=            args.bert_max_len,\n",
    "        mask_token=         len(smap) + 1,\n",
    "        negative_samples=   negative_samples\n",
    "    )"
   ]
  },
  {
   "cell_type": "code",
   "execution_count": 48,
   "id": "2c951bd1",
   "metadata": {},
   "outputs": [
    {
     "name": "stdout",
     "output_type": "stream",
     "text": [
      "(tensor([   0,    0,    0,    0,    0,    0,    0,    0,    0,    0,    0,    0,\n",
      "           0,    0,    0,    0,    0,    0,    0,    0,    0,    0,    0,    0,\n",
      "           0,    0,    0,    0,    0,    0,    0,    0,    0,    0,    0,    0,\n",
      "           0,    0,    0,    0,    0,    0,    0,    0,    0,    0,    0,    0,\n",
      "           0,    1,    2,    3,    4,    5,    6,    7,    8,    9,   10,   11,\n",
      "          12,   13,   14,   15,   16,   17,   18,   19,   20,   21,   22,   23,\n",
      "          24,   25,   26,   27,   28,   29,   30,   31,   32,   33,   34,   35,\n",
      "          36,   37,   38,   39,   40,   41,   42,   43,   44,   45,   46,   47,\n",
      "          48,   49,   50, 3707]), tensor([  52, 1068,  731, 1026,  314, 1148, 1008, 1030, 1513, 2575,  388,  398,\n",
      "         525, 1438, 1682,  215,  258,  129, 2122, 1954, 1869, 2824,  859,  748,\n",
      "         983,  183, 1436,  233, 1803, 1182,  874, 1305, 2056,  752,  844,  971,\n",
      "        1065,  671, 2549, 2153,  325,  981, 1766,   60,  880, 1028,  557,  144,\n",
      "         948, 1302, 3160,  743,  424,  796,  947,  180, 1191,  458,  534,  386,\n",
      "        1110,  622,  208,  592, 2055,  739, 1215, 2751,  489, 2863,  502, 1095,\n",
      "          73,  138,  580,  522,  443,  699,  125,  653,  390,  832,  193, 1906,\n",
      "         284,  663,  147, 1022,  241,  597, 1294, 1776, 1688,  809, 1260, 1529,\n",
      "         738,  652,  631,  665,  203]), tensor([1, 0, 0, 0, 0, 0, 0, 0, 0, 0, 0, 0, 0, 0, 0, 0, 0, 0, 0, 0, 0, 0, 0, 0,\n",
      "        0, 0, 0, 0, 0, 0, 0, 0, 0, 0, 0, 0, 0, 0, 0, 0, 0, 0, 0, 0, 0, 0, 0, 0,\n",
      "        0, 0, 0, 0, 0, 0, 0, 0, 0, 0, 0, 0, 0, 0, 0, 0, 0, 0, 0, 0, 0, 0, 0, 0,\n",
      "        0, 0, 0, 0, 0, 0, 0, 0, 0, 0, 0, 0, 0, 0, 0, 0, 0, 0, 0, 0, 0, 0, 0, 0,\n",
      "        0, 0, 0, 0, 0]))\n"
     ]
    }
   ],
   "source": [
    "# отслеживаем путь юзера с индексом 0 (оригинальный айди 1)\n",
    "print(test_torch_dataset[0])"
   ]
  },
  {
   "cell_type": "code",
   "execution_count": 49,
   "id": "2869ce91",
   "metadata": {},
   "outputs": [],
   "source": [
    "test_torch_dataloader = torch.utils.data.DataLoader(test_torch_dataset, batch_size=args.test_batch_size,\n",
    "                                                       shuffle=False, pin_memory=True)"
   ]
  },
  {
   "cell_type": "markdown",
   "id": "bc960218",
   "metadata": {},
   "source": [
    "описываем модель:"
   ]
  },
  {
   "cell_type": "code",
   "execution_count": 50,
   "id": "1e6a2b1a",
   "metadata": {},
   "outputs": [],
   "source": [
    "from torch import nn as nn\n",
    "\n",
    "from bert4rec_modules_and_configs.models.bert_modules.embedding import BERTEmbedding\n",
    "from bert4rec_modules_and_configs.models.bert_modules.transformer import TransformerBlock\n",
    "\n",
    "\n",
    "class BERT(nn.Module):\n",
    "    def __init__(self, args):\n",
    "        super().__init__()\n",
    "\n",
    "        fix_random_seed_as(args.model_init_seed)\n",
    "        # self.init_weights()\n",
    "\n",
    "        max_len = args.bert_max_len\n",
    "        num_items = args.num_items\n",
    "        n_layers = args.bert_num_blocks\n",
    "        heads = args.bert_num_heads\n",
    "        vocab_size = num_items + 2\n",
    "        hidden = args.bert_hidden_units\n",
    "        self.hidden = hidden\n",
    "        dropout = args.bert_dropout\n",
    "\n",
    "        # embedding for BERT: token emb + positional emb\n",
    "        self.embedding = BERTEmbedding(vocab_size=vocab_size, embed_size=self.hidden, max_len=max_len, dropout=dropout)\n",
    "\n",
    "        # multi-layers transformer blocks, deep network\n",
    "        self.transformer_blocks = nn.ModuleList(\n",
    "            [TransformerBlock(hidden, heads, hidden * 4, dropout) for _ in range(n_layers)])\n",
    "\n",
    "    def forward(self, x):\n",
    "        mask = (x > 0).unsqueeze(1).repeat(1, x.size(1), 1).unsqueeze(1)\n",
    "\n",
    "        # embedding the indexed sequence to sequence of vectors\n",
    "        x = self.embedding(x)\n",
    "        \n",
    "        # running over multiple transformer blocks\n",
    "        for transformer in self.transformer_blocks:\n",
    "            x = transformer.forward(x, mask)\n",
    "\n",
    "        return x\n",
    "\n",
    "    def init_weights(self):\n",
    "        pass"
   ]
  },
  {
   "cell_type": "code",
   "execution_count": 51,
   "id": "63903f7c",
   "metadata": {},
   "outputs": [],
   "source": [
    "class BERTModel(nn.Module):\n",
    "    def __init__(self, args):\n",
    "        super().__init__()\n",
    "        \n",
    "        self.args = args\n",
    "        \n",
    "        self.bert = BERT(args)\n",
    "        self.out = nn.Linear(self.bert.hidden, args.num_items + 1)\n",
    "\n",
    "    def code(cls):\n",
    "        return 'bert'\n",
    "\n",
    "    def forward(self, x):\n",
    "        x = self.bert(x)\n",
    "        return self.out(x)"
   ]
  },
  {
   "cell_type": "code",
   "execution_count": 52,
   "id": "c3ea6ec2",
   "metadata": {},
   "outputs": [],
   "source": [
    "args.num_items = len(smap)\n",
    "\n",
    "model = BERTModel(args)"
   ]
  },
  {
   "cell_type": "code",
   "execution_count": 53,
   "id": "47216f37",
   "metadata": {},
   "outputs": [
    {
     "name": "stdout",
     "output_type": "stream",
     "text": [
      "mask.shape:  torch.Size([128, 1, 100, 100])\n",
      "x.shape:  torch.Size([128, 100, 256])\n",
      "shape of query:  torch.Size([128, 4, 100, 64])\n",
      "shape of key:  torch.Size([128, 4, 100, 64])\n",
      "shape of value:  torch.Size([128, 4, 100, 64])\n",
      "shape before x.transpose(1, 2)... :  torch.Size([128, 4, 100, 64])\n",
      "shape before self.output_linear(x):  torch.Size([128, 100, 256])\n",
      "shape of query:  torch.Size([128, 4, 100, 64])\n",
      "shape of key:  torch.Size([128, 4, 100, 64])\n",
      "shape of value:  torch.Size([128, 4, 100, 64])\n",
      "shape before x.transpose(1, 2)... :  torch.Size([128, 4, 100, 64])\n",
      "shape before self.output_linear(x):  torch.Size([128, 100, 256])\n"
     ]
    },
    {
     "data": {
      "text/plain": [
       "torch.Size([128, 100, 3707])"
      ]
     },
     "execution_count": 53,
     "metadata": {},
     "output_type": "execute_result"
    }
   ],
   "source": [
    "# в трейн лоадере конкретного юзера отследить не можем - посмотрим на батч целиком:\n",
    "some_batch = next(iter(train_torch_dataloader))\n",
    "seq, _ = some_batch\n",
    "\n",
    "model(seq).shape"
   ]
  },
  {
   "cell_type": "markdown",
   "id": "02cde99e",
   "metadata": {},
   "source": [
    "# explanation:"
   ]
  },
  {
   "cell_type": "markdown",
   "id": "6462ca81",
   "metadata": {},
   "source": [
    "1) input:"
   ]
  },
  {
   "cell_type": "code",
   "execution_count": 54,
   "id": "ff435a36",
   "metadata": {},
   "outputs": [
    {
     "name": "stdout",
     "output_type": "stream",
     "text": [
      "torch.Size([128, 100])\n"
     ]
    }
   ],
   "source": [
    "some_batch = next(iter(train_torch_dataloader))\n",
    "seq, _ = some_batch # dont need labels until train\n",
    "\n",
    "print(seq.shape)"
   ]
  },
  {
   "cell_type": "markdown",
   "id": "8375580f",
   "metadata": {},
   "source": [
    "2) mask (we will need it later in attention part):"
   ]
  },
  {
   "cell_type": "code",
   "execution_count": 55,
   "id": "cf4816a1",
   "metadata": {},
   "outputs": [
    {
     "name": "stdout",
     "output_type": "stream",
     "text": [
      "torch.Size([128, 1, 100, 100])\n"
     ]
    }
   ],
   "source": [
    "mask = (seq > 0).unsqueeze(1).repeat(1, seq.size(1), 1).unsqueeze(1)\n",
    "\n",
    "print(mask.shape)"
   ]
  },
  {
   "cell_type": "markdown",
   "id": "29b56c24",
   "metadata": {},
   "source": [
    "3) beginning of network, first embedding (tok emb + pos emb):"
   ]
  },
  {
   "cell_type": "code",
   "execution_count": 56,
   "id": "98ce9bac",
   "metadata": {},
   "outputs": [
    {
     "name": "stdout",
     "output_type": "stream",
     "text": [
      "torch.Size([128, 100, 256])\n"
     ]
    }
   ],
   "source": [
    "tok_pos_emb = model.bert.embedding(seq)\n",
    "\n",
    "print(tok_pos_emb.shape)"
   ]
  },
  {
   "cell_type": "markdown",
   "id": "657e5d8f",
   "metadata": {},
   "source": [
    "#### going inside TransformerBlock:"
   ]
  },
  {
   "cell_type": "code",
   "execution_count": 57,
   "id": "241483fb",
   "metadata": {},
   "outputs": [],
   "source": [
    "tfblock0 = model.bert.transformer_blocks[0]"
   ]
  },
  {
   "cell_type": "markdown",
   "id": "84b0399a",
   "metadata": {},
   "source": [
    "4) going through this part:"
   ]
  },
  {
   "attachments": {
    "image.png": {
     "image/png": "[encoded data removed]"
    }
   },
   "cell_type": "markdown",
   "id": "3f241166",
   "metadata": {},
   "source": [
    "![image.png](attachment:image.png)"
   ]
  },
  {
   "cell_type": "code",
   "execution_count": 58,
   "id": "fae1b20c",
   "metadata": {},
   "outputs": [],
   "source": [
    "skip_connection = tok_pos_emb"
   ]
  },
  {
   "cell_type": "markdown",
   "id": "47944b4f",
   "metadata": {},
   "source": [
    "4.1) normalization per layer:"
   ]
  },
  {
   "cell_type": "markdown",
   "id": "338809a5",
   "metadata": {},
   "source": [
    "(Batch normalization normalizes each feature independently across the mini-batch. Layer normalization normalizes each of the inputs in the batch independently across all features.)"
   ]
  },
  {
   "cell_type": "code",
   "execution_count": 59,
   "id": "42f23126",
   "metadata": {},
   "outputs": [
    {
     "name": "stdout",
     "output_type": "stream",
     "text": [
      "torch.Size([128, 100, 256])\n"
     ]
    }
   ],
   "source": [
    "tok_pos_emb_normalized = tfblock0.layernorm1(tok_pos_emb)\n",
    "\n",
    "print(tok_pos_emb_normalized.shape)"
   ]
  },
  {
   "cell_type": "markdown",
   "id": "75ad762f",
   "metadata": {},
   "source": [
    "4.2) Multi-Head Attention (inside .bert4rec_modules_and_configs/models/bert_modules/attention/multi_head.py):"
   ]
  },
  {
   "attachments": {
    "image.png": {
     "image/png": "[encoded data removed]"
    }
   },
   "cell_type": "markdown",
   "id": "a0e2c793",
   "metadata": {},
   "source": [
    "![image.png](attachment:image.png)"
   ]
  },
  {
   "cell_type": "code",
   "execution_count": 60,
   "id": "8dfdc4ea",
   "metadata": {},
   "outputs": [],
   "source": [
    "batch_size = tok_pos_emb_normalized.size(0) # 128\n",
    "sequence_len = tok_pos_emb_normalized.size(1) # 100"
   ]
  },
  {
   "cell_type": "code",
   "execution_count": 61,
   "id": "4f93bd3c",
   "metadata": {},
   "outputs": [],
   "source": [
    "# мб можно без этого?\n",
    "query = tok_pos_emb_normalized\n",
    "key = tok_pos_emb_normalized\n",
    "value = tok_pos_emb_normalized"
   ]
  },
  {
   "cell_type": "markdown",
   "id": "e012962b",
   "metadata": {},
   "source": [
    "возьмем некоторые поля из инита класса MultiHeadedAttention, чтобы не описывать их вручную:"
   ]
  },
  {
   "cell_type": "markdown",
   "id": "42b3ed04",
   "metadata": {},
   "source": [
    "объяснить комменты ниже нормально:"
   ]
  },
  {
   "cell_type": "code",
   "execution_count": 62,
   "id": "79b35bc9",
   "metadata": {},
   "outputs": [
    {
     "data": {
      "text/plain": [
       "torch.Size([128, 100, 256])"
      ]
     },
     "execution_count": 62,
     "metadata": {},
     "output_type": "execute_result"
    }
   ],
   "source": [
    "# делаем q = emb * Wq:\n",
    "Wq = tfblock0.multiheadedattention.linear_layers[0]\n",
    "\n",
    "# вот мы его и получили - то же, что на слайде, в случае если бы мы делали только 1 голову:\n",
    "Q = Wq(query)\n",
    "\n",
    "Q.shape"
   ]
  },
  {
   "cell_type": "code",
   "execution_count": 64,
   "id": "f611f483",
   "metadata": {},
   "outputs": [
    {
     "data": {
      "text/plain": [
       "torch.Size([128, 100, 4, 64])"
      ]
     },
     "execution_count": 64,
     "metadata": {},
     "output_type": "execute_result"
    }
   ],
   "source": [
    "# но теперь посмотрим на Q под другими размерностями\n",
    "Q_each_head = Q.view(\n",
    "    batch_size, # первую размерность, которая про размер батча 128, не трогаем\n",
    "    sequence_len, # вторую размерность, которая про длину последовательности 100, тоже не трогаем\n",
    "    tfblock0.multiheadedattention.h, # а вот размерность эмбеда 256 разбиваем на 4...\n",
    "    tfblock0.multiheadedattention.d_k # ...и на 64\n",
    ")\n",
    "\n",
    "# зачем? чтобы подготовить **для каждого токена** (во как надо понимать всё что на 3 размерности и дальше)\n",
    "# по 4 эмбединга query - для каждой из голов\n",
    "Q_each_head.shape"
   ]
  },
  {
   "cell_type": "code",
   "execution_count": 65,
   "id": "24f9b5e6",
   "metadata": {},
   "outputs": [
    {
     "data": {
      "text/plain": [
       "torch.Size([128, 4, 100, 64])"
      ]
     },
     "execution_count": 65,
     "metadata": {},
     "output_type": "execute_result"
    }
   ],
   "source": [
    "# а теперь мы хотим иметь для каждого из 128 семплов по 4 набора: последовательности длины 100, состоящие из эмбедов 64\n",
    "Q_each_head = Q_each_head.transpose(1, 2)\n",
    "\n",
    "Q_each_head.shape"
   ]
  },
  {
   "cell_type": "code",
   "execution_count": 66,
   "id": "16085891",
   "metadata": {},
   "outputs": [
    {
     "data": {
      "text/plain": [
       "torch.Size([128, 4, 100, 64])"
      ]
     },
     "execution_count": 66,
     "metadata": {},
     "output_type": "execute_result"
    }
   ],
   "source": [
    "# повторяем то же самое для key:\n",
    "Wk = tfblock0.multiheadedattention.linear_layers[1]\n",
    "\n",
    "K = Wk(key)\n",
    "\n",
    "K_each_head = K.view(\n",
    "    batch_size, # первую размерность, которая про размер батча 128, не трогаем\n",
    "    sequence_len, # вторую размерность, которая про длину последовательности 100, тоже не трогаем\n",
    "    tfblock0.multiheadedattention.h, # а вот размерность эмбеда 256 разбиваем на 4...\n",
    "    tfblock0.multiheadedattention.d_k # ...и на 64\n",
    ")\n",
    "\n",
    "K_each_head = K_each_head.transpose(1, 2)\n",
    "\n",
    "K_each_head.shape"
   ]
  },
  {
   "cell_type": "code",
   "execution_count": 67,
   "id": "822baf12",
   "metadata": {},
   "outputs": [
    {
     "data": {
      "text/plain": [
       "torch.Size([128, 4, 100, 64])"
      ]
     },
     "execution_count": 67,
     "metadata": {},
     "output_type": "execute_result"
    }
   ],
   "source": [
    "# повторяем то же самое для value:\n",
    "Wv = tfblock0.multiheadedattention.linear_layers[2]\n",
    "\n",
    "V = Wv(value)\n",
    "\n",
    "V_each_head = V.view(\n",
    "    batch_size, # первую размерность, которая про размер батча 128, не трогаем\n",
    "    sequence_len, # вторую размерность, которая про длину последовательности 100, тоже не трогаем\n",
    "    tfblock0.multiheadedattention.h, # а вот размерность эмбеда 256 разбиваем на 4...\n",
    "    tfblock0.multiheadedattention.d_k # ...и на 64\n",
    ")\n",
    "\n",
    "V_each_head = V_each_head.transpose(1, 2)\n",
    "\n",
    "V_each_head.shape"
   ]
  },
  {
   "attachments": {
    "image.png": {
     "image/png": "[encoded data removed]"
    }
   },
   "cell_type": "markdown",
   "id": "79d8c754",
   "metadata": {},
   "source": [
    "![image.png](attachment:image.png)"
   ]
  },
  {
   "cell_type": "code",
   "execution_count": 70,
   "id": "9527792d",
   "metadata": {},
   "outputs": [
    {
     "name": "stdout",
     "output_type": "stream",
     "text": [
      "torch.Size([128, 4, 100, 64])\n"
     ]
    }
   ],
   "source": [
    "# объяснить\n",
    "x, _ = tfblock0.multiheadedattention.attention(Q_each_head, K_each_head, V_each_head, \n",
    "                                               mask=mask, dropout=tfblock0.multiheadedattention.dropout)\n",
    "\n",
    "print(x.shape)"
   ]
  },
  {
   "cell_type": "code",
   "execution_count": 71,
   "id": "92fa3803",
   "metadata": {},
   "outputs": [
    {
     "name": "stdout",
     "output_type": "stream",
     "text": [
      "torch.Size([128, 100, 256])\n"
     ]
    }
   ],
   "source": [
    "# объяснить\n",
    "x = x.transpose(1, 2).contiguous().view(batch_size, -1, tfblock0.multiheadedattention.h * tfblock0.multiheadedattention.d_k)\n",
    "\n",
    "print(x.shape)"
   ]
  },
  {
   "cell_type": "code",
   "execution_count": 72,
   "id": "b2425993",
   "metadata": {},
   "outputs": [
    {
     "name": "stdout",
     "output_type": "stream",
     "text": [
      "torch.Size([128, 100, 256])\n"
     ]
    }
   ],
   "source": [
    "multiheadedattention_output = tfblock0.multiheadedattention.output_linear(x)\n",
    "\n",
    "print(x.shape)"
   ]
  },
  {
   "cell_type": "markdown",
   "id": "2c06e990",
   "metadata": {},
   "source": [
    "Multi-Head Attention done!"
   ]
  },
  {
   "cell_type": "markdown",
   "id": "5c940507",
   "metadata": {},
   "source": [
    "4.3) dropout"
   ]
  },
  {
   "cell_type": "code",
   "execution_count": 74,
   "id": "db0c84fa",
   "metadata": {},
   "outputs": [
    {
     "name": "stdout",
     "output_type": "stream",
     "text": [
      "torch.Size([128, 100, 256])\n"
     ]
    }
   ],
   "source": [
    "multiheadedattention_output_with_dropout = tfblock0.dropout1(multiheadedattention_output)\n",
    "\n",
    "print(multiheadedattention_output_with_dropout.shape)"
   ]
  },
  {
   "cell_type": "markdown",
   "id": "7eca27d4",
   "metadata": {},
   "source": [
    "4.4) sublayer 1 (Multi-Head Attention sublayer) done!"
   ]
  },
  {
   "cell_type": "code",
   "execution_count": 76,
   "id": "52d163b0",
   "metadata": {},
   "outputs": [
    {
     "name": "stdout",
     "output_type": "stream",
     "text": [
      "torch.Size([128, 100, 256])\n"
     ]
    }
   ],
   "source": [
    "output_of_sublayer1 = multiheadedattention_output_with_dropout + skip_connection\n",
    "\n",
    "print(output_of_sublayer1.shape)"
   ]
  },
  {
   "cell_type": "code",
   "execution_count": null,
   "id": "3b10e20c",
   "metadata": {},
   "outputs": [],
   "source": []
  },
  {
   "cell_type": "code",
   "execution_count": null,
   "id": "53cba34f",
   "metadata": {},
   "outputs": [],
   "source": []
  },
  {
   "cell_type": "code",
   "execution_count": null,
   "id": "27901a66",
   "metadata": {},
   "outputs": [],
   "source": []
  },
  {
   "cell_type": "code",
   "execution_count": null,
   "id": "a00a9588",
   "metadata": {},
   "outputs": [],
   "source": []
  },
  {
   "cell_type": "code",
   "execution_count": null,
   "id": "4acede20",
   "metadata": {},
   "outputs": [],
   "source": []
  },
  {
   "cell_type": "code",
   "execution_count": null,
   "id": "4ecebcea",
   "metadata": {},
   "outputs": [],
   "source": []
  },
  {
   "cell_type": "code",
   "execution_count": null,
   "id": "08199d10",
   "metadata": {},
   "outputs": [],
   "source": []
  },
  {
   "cell_type": "code",
   "execution_count": null,
   "id": "164a9088",
   "metadata": {},
   "outputs": [],
   "source": []
  },
  {
   "cell_type": "code",
   "execution_count": null,
   "id": "a197c3b0",
   "metadata": {},
   "outputs": [],
   "source": []
  },
  {
   "cell_type": "code",
   "execution_count": null,
   "id": "f2a25b3c",
   "metadata": {},
   "outputs": [],
   "source": []
  },
  {
   "cell_type": "code",
   "execution_count": null,
   "id": "57f66f8c",
   "metadata": {},
   "outputs": [],
   "source": []
  },
  {
   "cell_type": "code",
   "execution_count": 53,
   "id": "38afa007",
   "metadata": {},
   "outputs": [
    {
     "name": "stdout",
     "output_type": "stream",
     "text": [
      "Folder created: C:\\Users\\atama\\Documents\\GitHub\\bert4rec_ysda_seminar\\seminar\\experiments\\test_2024-03-12_2\n",
      "experiments\\test_2024-03-12_2\n",
      "experiments\\test_2024-03-12_2\\config.json\n",
      "\n",
      "Namespace(mode='train', template=None, test_model_path=None, dataset_code='ml-1m', min_rating=0, min_uc=5, min_sc=0, split='leave_one_out', dataset_split_seed=98765, eval_set_size=500, prepared_data_path='prepared_dataset/dataset_for_bert4rec.pickle', dataloader_code='bert', dataloader_random_seed=0.0, train_batch_size=128, val_batch_size=128, test_batch_size=128, train_negative_sampler_code='random', train_negative_sample_size=0, train_negative_sampling_seed=0, test_negative_sampler_code='popular', test_negative_sample_size=100, test_negative_sampling_seed=98765, trainer_code='bert', device='cuda', num_gpu=1, device_idx='0', optimizer='Adam', lr=0.001, weight_decay=0, momentum=None, decay_step=25, gamma=1.0, num_epochs=100, log_period_as_iter=12800, metric_ks=[1, 5, 10, 20, 50, 100], best_metric='NDCG@10', find_best_beta=False, total_anneal_steps=2000, anneal_cap=0.2, model_code='bert', model_init_seed=0, bert_max_len=100, bert_num_items=None, bert_hidden_units=256, bert_num_blocks=2, bert_num_heads=4, bert_dropout=0.1, bert_mask_prob=0.15, dae_num_items=None, dae_num_hidden=0, dae_hidden_dim=600, dae_latent_dim=200, dae_dropout=0.5, vae_num_items=None, vae_num_hidden=0, vae_hidden_dim=600, vae_latent_dim=200, vae_dropout=0.5, experiment_dir='experiments', experiment_description='test', enable_lr_schedule=True, num_items=3706)\n",
      "\n",
      "{'mode': 'train', 'template': None, 'test_model_path': None, 'dataset_code': 'ml-1m', 'min_rating': 0, 'min_uc': 5, 'min_sc': 0, 'split': 'leave_one_out', 'dataset_split_seed': 98765, 'eval_set_size': 500, 'prepared_data_path': 'prepared_dataset/dataset_for_bert4rec.pickle', 'dataloader_code': 'bert', 'dataloader_random_seed': 0.0, 'train_batch_size': 128, 'val_batch_size': 128, 'test_batch_size': 128, 'train_negative_sampler_code': 'random', 'train_negative_sample_size': 0, 'train_negative_sampling_seed': 0, 'test_negative_sampler_code': 'popular', 'test_negative_sample_size': 100, 'test_negative_sampling_seed': 98765, 'trainer_code': 'bert', 'device': 'cuda', 'num_gpu': 1, 'device_idx': '0', 'optimizer': 'Adam', 'lr': 0.001, 'weight_decay': 0, 'momentum': None, 'decay_step': 25, 'gamma': 1.0, 'num_epochs': 100, 'log_period_as_iter': 12800, 'metric_ks': [1, 5, 10, 20, 50, 100], 'best_metric': 'NDCG@10', 'find_best_beta': False, 'total_anneal_steps': 2000, 'anneal_cap': 0.2, 'model_code': 'bert', 'model_init_seed': 0, 'bert_max_len': 100, 'bert_num_items': None, 'bert_hidden_units': 256, 'bert_num_blocks': 2, 'bert_num_heads': 4, 'bert_dropout': 0.1, 'bert_mask_prob': 0.15, 'dae_num_items': None, 'dae_num_hidden': 0, 'dae_hidden_dim': 600, 'dae_latent_dim': 200, 'dae_dropout': 0.5, 'vae_num_items': None, 'vae_num_hidden': 0, 'vae_hidden_dim': 600, 'vae_latent_dim': 200, 'vae_dropout': 0.5, 'experiment_dir': 'experiments', 'experiment_description': 'test', 'enable_lr_schedule': True, 'num_items': 3706}\n",
      "{'anneal_cap': 0.2,\n",
      " 'bert_dropout': 0.1,\n",
      " 'bert_hidden_units': 256,\n",
      " 'bert_mask_prob': 0.15,\n",
      " 'bert_max_len': 100,\n",
      " 'bert_num_blocks': 2,\n",
      " 'bert_num_heads': 4,\n",
      " 'best_metric': 'NDCG@10',\n",
      " 'dae_dropout': 0.5,\n",
      " 'dae_hidden_dim': 600,\n",
      " 'dae_latent_dim': 200,\n",
      " 'dae_num_hidden': 0,\n",
      " 'dataloader_code': 'bert',\n",
      " 'dataloader_random_seed': 0.0,\n",
      " 'dataset_code': 'ml-1m',\n",
      " 'dataset_split_seed': 98765,\n",
      " 'decay_step': 25,\n",
      " 'device': 'cuda',\n",
      " 'device_idx': '0',\n",
      " 'enable_lr_schedule': True,\n",
      " 'eval_set_size': 500,\n",
      " 'experiment_description': 'test',\n",
      " 'experiment_dir': 'experiments',\n",
      " 'find_best_beta': False,\n",
      " 'gamma': 1.0,\n",
      " 'log_period_as_iter': 12800,\n",
      " 'lr': 0.001,\n",
      " 'metric_ks': [1,\n",
      "               5,\n",
      "               10,\n",
      "               20,\n",
      "               50,\n",
      "               100],\n",
      " 'min_rating': 0,\n",
      " 'min_sc': 0,\n",
      " 'min_uc': 5,\n",
      " 'mode': 'train',\n",
      " 'model_code': 'bert',\n",
      " 'model_init_seed': 0,\n",
      " 'num_epochs': 100,\n",
      " 'num_gpu': 1,\n",
      " 'num_items': 3706,\n",
      " 'optimizer': 'Adam',\n",
      " 'prepared_data_path': 'prepared_dataset/dataset_for_bert4rec.pickle',\n",
      " 'split': 'leave_one_out',\n",
      " 'test_batch_size': 128,\n",
      " 'test_negative_sample_size': 100,\n",
      " 'test_negative_sampler_code': 'popular',\n",
      " 'test_negative_sampling_seed': 98765,\n",
      " 'total_anneal_steps': 2000,\n",
      " 'train_batch_size': 128,\n",
      " 'train_negative_sample_size': 0,\n",
      " 'train_negative_sampler_code': 'random',\n",
      " 'train_negative_sampling_seed': 0,\n",
      " 'trainer_code': 'bert',\n",
      " 'vae_dropout': 0.5,\n",
      " 'vae_hidden_dim': 600,\n",
      " 'vae_latent_dim': 200,\n",
      " 'vae_num_hidden': 0,\n",
      " 'val_batch_size': 128,\n",
      " 'weight_decay': 0}\n"
     ]
    }
   ],
   "source": [
    "from bert4rec_modules_and_configs.trainers import trainer_factory\n",
    "\n",
    "export_root = setup_train(args)\n",
    "\n",
    "trainer = trainer_factory(args, model, train_torch_dataloader, val_torch_dataloader, test_torch_dataloader, export_root)"
   ]
  },
  {
   "cell_type": "code",
   "execution_count": 54,
   "id": "1c8aafef",
   "metadata": {
    "scrolled": true
   },
   "outputs": [
    {
     "name": "stderr",
     "output_type": "stream",
     "text": [
      "Val: N@1 0.007, N@5 0.028, N@10 0.045, R@1 0.007, R@5 0.050, R@10 0.102: 100%|██████████| 48/48 [00:08<00:00,  5.77it/s]\n",
      "C:\\Users\\atama\\anaconda3\\envs\\conda_bert4rec\\lib\\site-packages\\torch\\optim\\lr_scheduler.py:138: UserWarning: Detected call of `lr_scheduler.step()` before `optimizer.step()`. In PyTorch 1.1.0 and later, you should call them in the opposite order: `optimizer.step()` before `lr_scheduler.step()`.  Failure to do this will result in PyTorch skipping the first value of the learning rate schedule. See more details at https://pytorch.org/docs/stable/optim.html#how-to-adjust-learning-rate\n",
      "  warnings.warn(\"Detected call of `lr_scheduler.step()` before `optimizer.step()`. \"\n"
     ]
    },
    {
     "name": "stdout",
     "output_type": "stream",
     "text": [
      "Update Best NDCG@10 Model at 1\n"
     ]
    },
    {
     "name": "stderr",
     "output_type": "stream",
     "text": [
      "Epoch 1, loss 7.832 : 100%|██████████| 48/48 [00:03<00:00, 14.07it/s]\n",
      "Val: N@1 0.019, N@5 0.054, N@10 0.072, R@1 0.019, R@5 0.090, R@10 0.147: 100%|██████████| 48/48 [00:02<00:00, 22.20it/s]\n"
     ]
    },
    {
     "name": "stdout",
     "output_type": "stream",
     "text": [
      "Update Best NDCG@10 Model at 1\n"
     ]
    },
    {
     "name": "stderr",
     "output_type": "stream",
     "text": [
      "Epoch 2, loss 7.524 : 100%|██████████| 48/48 [00:02<00:00, 18.54it/s]\n",
      "Val: N@1 0.021, N@5 0.057, N@10 0.080, R@1 0.021, R@5 0.095, R@10 0.166: 100%|██████████| 48/48 [00:02<00:00, 22.32it/s]\n"
     ]
    },
    {
     "name": "stdout",
     "output_type": "stream",
     "text": [
      "Update Best NDCG@10 Model at 2\n"
     ]
    },
    {
     "name": "stderr",
     "output_type": "stream",
     "text": [
      "Epoch 3, loss 7.380 : 100%|██████████| 48/48 [00:02<00:00, 18.66it/s] \n",
      "Val: N@1 0.033, N@5 0.083, N@10 0.111, R@1 0.033, R@5 0.132, R@10 0.222: 100%|██████████| 48/48 [00:02<00:00, 22.18it/s]\n"
     ]
    },
    {
     "name": "stdout",
     "output_type": "stream",
     "text": [
      "Update Best NDCG@10 Model at 3\n"
     ]
    },
    {
     "name": "stderr",
     "output_type": "stream",
     "text": [
      "Epoch 4, loss 7.188 : 100%|██████████| 48/48 [00:02<00:00, 18.55it/s]\n",
      "Val: N@1 0.057, N@5 0.134, N@10 0.175, R@1 0.057, R@5 0.212, R@10 0.339: 100%|██████████| 48/48 [00:02<00:00, 22.12it/s]\n"
     ]
    },
    {
     "name": "stdout",
     "output_type": "stream",
     "text": [
      "Update Best NDCG@10 Model at 4\n"
     ]
    },
    {
     "name": "stderr",
     "output_type": "stream",
     "text": [
      "Epoch 5, loss 7.008 : 100%|██████████| 48/48 [00:02<00:00, 18.49it/s]  \n",
      "Val: N@1 0.071, N@5 0.164, N@10 0.208, R@1 0.071, R@5 0.256, R@10 0.392: 100%|██████████| 48/48 [00:02<00:00, 21.32it/s]\n"
     ]
    },
    {
     "name": "stdout",
     "output_type": "stream",
     "text": [
      "Update Best NDCG@10 Model at 5\n"
     ]
    },
    {
     "name": "stderr",
     "output_type": "stream",
     "text": [
      "Epoch 6, loss 6.835 : 100%|██████████| 48/48 [00:02<00:00, 18.74it/s]\n",
      "Val: N@1 0.094, N@5 0.199, N@10 0.242, R@1 0.094, R@5 0.303, R@10 0.437: 100%|██████████| 48/48 [00:02<00:00, 22.04it/s]\n"
     ]
    },
    {
     "name": "stdout",
     "output_type": "stream",
     "text": [
      "Update Best NDCG@10 Model at 6\n"
     ]
    },
    {
     "name": "stderr",
     "output_type": "stream",
     "text": [
      "Epoch 7, loss 6.685 : 100%|██████████| 48/48 [00:02<00:00, 18.61it/s]  \n",
      "Val: N@1 0.115, N@5 0.235, N@10 0.282, R@1 0.115, R@5 0.353, R@10 0.498: 100%|██████████| 48/48 [00:02<00:00, 21.99it/s]\n"
     ]
    },
    {
     "name": "stdout",
     "output_type": "stream",
     "text": [
      "Update Best NDCG@10 Model at 7\n"
     ]
    },
    {
     "name": "stderr",
     "output_type": "stream",
     "text": [
      "Epoch 8, loss 6.572 : 100%|██████████| 48/48 [00:02<00:00, 18.70it/s]\n",
      "Val: N@1 0.124, N@5 0.244, N@10 0.291, R@1 0.124, R@5 0.361, R@10 0.507: 100%|██████████| 48/48 [00:02<00:00, 21.27it/s]\n"
     ]
    },
    {
     "name": "stdout",
     "output_type": "stream",
     "text": [
      "Update Best NDCG@10 Model at 8\n"
     ]
    },
    {
     "name": "stderr",
     "output_type": "stream",
     "text": [
      "Epoch 9, loss 6.445 : 100%|██████████| 48/48 [00:02<00:00, 18.64it/s]  \n",
      "Val: N@1 0.137, N@5 0.267, N@10 0.313, R@1 0.137, R@5 0.392, R@10 0.534: 100%|██████████| 48/48 [00:02<00:00, 22.24it/s]\n"
     ]
    },
    {
     "name": "stdout",
     "output_type": "stream",
     "text": [
      "Update Best NDCG@10 Model at 9\n"
     ]
    },
    {
     "name": "stderr",
     "output_type": "stream",
     "text": [
      "Epoch 10, loss 6.372 : 100%|██████████| 48/48 [00:02<00:00, 18.70it/s]\n",
      "Val: N@1 0.146, N@5 0.277, N@10 0.326, R@1 0.146, R@5 0.400, R@10 0.551: 100%|██████████| 48/48 [00:02<00:00, 21.63it/s]\n"
     ]
    },
    {
     "name": "stdout",
     "output_type": "stream",
     "text": [
      "Update Best NDCG@10 Model at 10\n"
     ]
    },
    {
     "name": "stderr",
     "output_type": "stream",
     "text": [
      "Epoch 11, loss 6.285 : 100%|██████████| 48/48 [00:02<00:00, 18.69it/s] \n",
      "Val: N@1 0.160, N@5 0.296, N@10 0.344, R@1 0.160, R@5 0.425, R@10 0.572: 100%|██████████| 48/48 [00:02<00:00, 22.29it/s]\n"
     ]
    },
    {
     "name": "stdout",
     "output_type": "stream",
     "text": [
      "Update Best NDCG@10 Model at 11\n"
     ]
    },
    {
     "name": "stderr",
     "output_type": "stream",
     "text": [
      "Epoch 12, loss 6.219 : 100%|██████████| 48/48 [00:02<00:00, 18.61it/s]\n",
      "Val: N@1 0.168, N@5 0.304, N@10 0.350, R@1 0.168, R@5 0.432, R@10 0.574: 100%|██████████| 48/48 [00:02<00:00, 21.97it/s]\n"
     ]
    },
    {
     "name": "stdout",
     "output_type": "stream",
     "text": [
      "Update Best NDCG@10 Model at 12\n"
     ]
    },
    {
     "name": "stderr",
     "output_type": "stream",
     "text": [
      "Epoch 13, loss 6.145 : 100%|██████████| 48/48 [00:02<00:00, 18.54it/s] \n",
      "Val: N@1 0.177, N@5 0.312, N@10 0.358, R@1 0.177, R@5 0.439, R@10 0.582: 100%|██████████| 48/48 [00:02<00:00, 22.02it/s]\n"
     ]
    },
    {
     "name": "stdout",
     "output_type": "stream",
     "text": [
      "Update Best NDCG@10 Model at 13\n"
     ]
    },
    {
     "name": "stderr",
     "output_type": "stream",
     "text": [
      "Epoch 14, loss 6.097 : 100%|██████████| 48/48 [00:02<00:00, 18.79it/s]\n",
      "Val: N@1 0.182, N@5 0.327, N@10 0.372, R@1 0.182, R@5 0.462, R@10 0.599: 100%|██████████| 48/48 [00:02<00:00, 22.02it/s]\n"
     ]
    },
    {
     "name": "stdout",
     "output_type": "stream",
     "text": [
      "Update Best NDCG@10 Model at 14\n"
     ]
    },
    {
     "name": "stderr",
     "output_type": "stream",
     "text": [
      "Epoch 15, loss 6.049 : 100%|██████████| 48/48 [00:02<00:00, 18.39it/s] \n",
      "Val: N@1 0.187, N@5 0.330, N@10 0.373, R@1 0.187, R@5 0.462, R@10 0.594: 100%|██████████| 48/48 [00:02<00:00, 21.75it/s]\n"
     ]
    },
    {
     "name": "stdout",
     "output_type": "stream",
     "text": [
      "Update Best NDCG@10 Model at 15\n"
     ]
    },
    {
     "name": "stderr",
     "output_type": "stream",
     "text": [
      "Epoch 16, loss 5.991 : 100%|██████████| 48/48 [00:02<00:00, 18.44it/s]\n",
      "Val: N@1 0.192, N@5 0.341, N@10 0.385, R@1 0.192, R@5 0.478, R@10 0.613: 100%|██████████| 48/48 [00:02<00:00, 21.60it/s]\n"
     ]
    },
    {
     "name": "stdout",
     "output_type": "stream",
     "text": [
      "Update Best NDCG@10 Model at 16\n"
     ]
    },
    {
     "name": "stderr",
     "output_type": "stream",
     "text": [
      "Epoch 17, loss 5.933 : 100%|██████████| 48/48 [00:02<00:00, 18.41it/s] \n",
      "Val: N@1 0.202, N@5 0.344, N@10 0.388, R@1 0.202, R@5 0.473, R@10 0.610: 100%|██████████| 48/48 [00:02<00:00, 22.05it/s]\n"
     ]
    },
    {
     "name": "stdout",
     "output_type": "stream",
     "text": [
      "Update Best NDCG@10 Model at 17\n"
     ]
    },
    {
     "name": "stderr",
     "output_type": "stream",
     "text": [
      "Epoch 18, loss 5.918 : 100%|██████████| 48/48 [00:02<00:00, 18.51it/s]\n",
      "Val: N@1 0.209, N@5 0.354, N@10 0.400, R@1 0.209, R@5 0.489, R@10 0.629: 100%|██████████| 48/48 [00:02<00:00, 21.91it/s]\n"
     ]
    },
    {
     "name": "stdout",
     "output_type": "stream",
     "text": [
      "Update Best NDCG@10 Model at 18\n"
     ]
    },
    {
     "name": "stderr",
     "output_type": "stream",
     "text": [
      "Epoch 19, loss 5.877 : 100%|██████████| 48/48 [00:02<00:00, 18.68it/s]\n",
      "Val: N@1 0.210, N@5 0.353, N@10 0.397, R@1 0.210, R@5 0.485, R@10 0.621: 100%|██████████| 48/48 [00:02<00:00, 21.98it/s]\n",
      "Epoch 20, loss 5.836 : 100%|██████████| 48/48 [00:02<00:00, 18.63it/s]\n",
      "Val: N@1 0.218, N@5 0.364, N@10 0.406, R@1 0.218, R@5 0.498, R@10 0.630: 100%|██████████| 48/48 [00:02<00:00, 22.06it/s]\n"
     ]
    },
    {
     "name": "stdout",
     "output_type": "stream",
     "text": [
      "Update Best NDCG@10 Model at 20\n"
     ]
    },
    {
     "name": "stderr",
     "output_type": "stream",
     "text": [
      "Epoch 21, loss 5.799 : 100%|██████████| 48/48 [00:02<00:00, 18.69it/s]\n",
      "Val: N@1 0.212, N@5 0.361, N@10 0.403, R@1 0.212, R@5 0.499, R@10 0.629: 100%|██████████| 48/48 [00:02<00:00, 21.90it/s]\n",
      "Epoch 22, loss 5.778 : 100%|██████████| 48/48 [00:02<00:00, 18.75it/s] \n",
      "Val: N@1 0.221, N@5 0.370, N@10 0.412, R@1 0.221, R@5 0.508, R@10 0.637: 100%|██████████| 48/48 [00:02<00:00, 22.00it/s]\n"
     ]
    },
    {
     "name": "stdout",
     "output_type": "stream",
     "text": [
      "Update Best NDCG@10 Model at 22\n"
     ]
    },
    {
     "name": "stderr",
     "output_type": "stream",
     "text": [
      "Epoch 23, loss 5.756 : 100%|██████████| 48/48 [00:02<00:00, 18.72it/s]\n",
      "Val: N@1 0.224, N@5 0.368, N@10 0.412, R@1 0.224, R@5 0.503, R@10 0.637: 100%|██████████| 48/48 [00:02<00:00, 22.21it/s]\n",
      "Epoch 24, loss 5.718 : 100%|██████████| 48/48 [00:02<00:00, 18.85it/s] \n",
      "Val: N@1 0.225, N@5 0.372, N@10 0.414, R@1 0.225, R@5 0.507, R@10 0.637: 100%|██████████| 48/48 [00:02<00:00, 21.92it/s]\n"
     ]
    },
    {
     "name": "stdout",
     "output_type": "stream",
     "text": [
      "Update Best NDCG@10 Model at 24\n"
     ]
    },
    {
     "name": "stderr",
     "output_type": "stream",
     "text": [
      "Epoch 25, loss 5.708 : 100%|██████████| 48/48 [00:02<00:00, 18.66it/s]\n",
      "Val: N@1 0.229, N@5 0.373, N@10 0.416, R@1 0.229, R@5 0.506, R@10 0.640: 100%|██████████| 48/48 [00:02<00:00, 21.87it/s]\n"
     ]
    },
    {
     "name": "stdout",
     "output_type": "stream",
     "text": [
      "Update Best NDCG@10 Model at 25\n"
     ]
    },
    {
     "name": "stderr",
     "output_type": "stream",
     "text": [
      "Epoch 26, loss 5.680 : 100%|██████████| 48/48 [00:02<00:00, 18.69it/s] \n",
      "Val: N@1 0.231, N@5 0.376, N@10 0.419, R@1 0.231, R@5 0.510, R@10 0.644: 100%|██████████| 48/48 [00:02<00:00, 22.35it/s]\n"
     ]
    },
    {
     "name": "stdout",
     "output_type": "stream",
     "text": [
      "Update Best NDCG@10 Model at 26\n"
     ]
    },
    {
     "name": "stderr",
     "output_type": "stream",
     "text": [
      "Epoch 27, loss 5.641 : 100%|██████████| 48/48 [00:02<00:00, 18.58it/s]\n",
      "Val: N@1 0.234, N@5 0.381, N@10 0.425, R@1 0.234, R@5 0.515, R@10 0.649: 100%|██████████| 48/48 [00:02<00:00, 22.24it/s]\n"
     ]
    },
    {
     "name": "stdout",
     "output_type": "stream",
     "text": [
      "Update Best NDCG@10 Model at 27\n"
     ]
    },
    {
     "name": "stderr",
     "output_type": "stream",
     "text": [
      "Epoch 28, loss 5.635 : 100%|██████████| 48/48 [00:02<00:00, 18.64it/s] \n",
      "Val: N@1 0.236, N@5 0.384, N@10 0.428, R@1 0.236, R@5 0.519, R@10 0.655: 100%|██████████| 48/48 [00:02<00:00, 22.15it/s]\n"
     ]
    },
    {
     "name": "stdout",
     "output_type": "stream",
     "text": [
      "Update Best NDCG@10 Model at 28\n"
     ]
    },
    {
     "name": "stderr",
     "output_type": "stream",
     "text": [
      "Epoch 29, loss 5.610 : 100%|██████████| 48/48 [00:02<00:00, 18.85it/s]\n",
      "Val: N@1 0.238, N@5 0.386, N@10 0.429, R@1 0.238, R@5 0.521, R@10 0.653: 100%|██████████| 48/48 [00:02<00:00, 22.00it/s]\n"
     ]
    },
    {
     "name": "stdout",
     "output_type": "stream",
     "text": [
      "Update Best NDCG@10 Model at 29\n"
     ]
    },
    {
     "name": "stderr",
     "output_type": "stream",
     "text": [
      "Epoch 30, loss 5.591 : 100%|██████████| 48/48 [00:02<00:00, 18.88it/s] \n",
      "Val: N@1 0.245, N@5 0.389, N@10 0.432, R@1 0.245, R@5 0.524, R@10 0.657: 100%|██████████| 48/48 [00:02<00:00, 22.33it/s]\n"
     ]
    },
    {
     "name": "stdout",
     "output_type": "stream",
     "text": [
      "Update Best NDCG@10 Model at 30\n"
     ]
    },
    {
     "name": "stderr",
     "output_type": "stream",
     "text": [
      "Epoch 31, loss 5.575 : 100%|██████████| 48/48 [00:02<00:00, 18.90it/s]\n",
      "Val: N@1 0.244, N@5 0.390, N@10 0.434, R@1 0.244, R@5 0.524, R@10 0.658: 100%|██████████| 48/48 [00:02<00:00, 21.67it/s]\n"
     ]
    },
    {
     "name": "stdout",
     "output_type": "stream",
     "text": [
      "Update Best NDCG@10 Model at 31\n"
     ]
    },
    {
     "name": "stderr",
     "output_type": "stream",
     "text": [
      "Epoch 32, loss 5.549 : 100%|██████████| 48/48 [00:02<00:00, 18.86it/s] \n",
      "Val: N@1 0.243, N@5 0.395, N@10 0.436, R@1 0.243, R@5 0.532, R@10 0.661: 100%|██████████| 48/48 [00:02<00:00, 22.29it/s]\n"
     ]
    },
    {
     "name": "stdout",
     "output_type": "stream",
     "text": [
      "Update Best NDCG@10 Model at 32\n"
     ]
    },
    {
     "name": "stderr",
     "output_type": "stream",
     "text": [
      "Epoch 33, loss 5.534 : 100%|██████████| 48/48 [00:02<00:00, 18.72it/s]\n",
      "Val: N@1 0.242, N@5 0.389, N@10 0.432, R@1 0.242, R@5 0.526, R@10 0.656: 100%|██████████| 48/48 [00:02<00:00, 21.97it/s]\n",
      "Epoch 34, loss 5.515 : 100%|██████████| 48/48 [00:02<00:00, 18.71it/s] \n",
      "Val: N@1 0.247, N@5 0.395, N@10 0.439, R@1 0.247, R@5 0.531, R@10 0.664: 100%|██████████| 48/48 [00:02<00:00, 22.25it/s]\n"
     ]
    },
    {
     "name": "stdout",
     "output_type": "stream",
     "text": [
      "Update Best NDCG@10 Model at 34\n"
     ]
    },
    {
     "name": "stderr",
     "output_type": "stream",
     "text": [
      "Epoch 35, loss 5.515 : 100%|██████████| 48/48 [00:02<00:00, 18.70it/s]\n",
      "Val: N@1 0.250, N@5 0.402, N@10 0.442, R@1 0.250, R@5 0.540, R@10 0.665: 100%|██████████| 48/48 [00:02<00:00, 22.19it/s]\n"
     ]
    },
    {
     "name": "stdout",
     "output_type": "stream",
     "text": [
      "Update Best NDCG@10 Model at 35\n"
     ]
    },
    {
     "name": "stderr",
     "output_type": "stream",
     "text": [
      "Epoch 36, loss 5.482 : 100%|██████████| 48/48 [00:02<00:00, 18.81it/s]\n",
      "Val: N@1 0.245, N@5 0.393, N@10 0.434, R@1 0.245, R@5 0.530, R@10 0.656: 100%|██████████| 48/48 [00:02<00:00, 21.96it/s]\n",
      "Epoch 37, loss 5.469 : 100%|██████████| 48/48 [00:02<00:00, 18.81it/s]\n",
      "Val: N@1 0.248, N@5 0.398, N@10 0.439, R@1 0.248, R@5 0.536, R@10 0.663: 100%|██████████| 48/48 [00:02<00:00, 21.97it/s]\n",
      "Epoch 38, loss 5.451 : 100%|██████████| 48/48 [00:02<00:00, 18.43it/s]\n",
      "Val: N@1 0.251, N@5 0.400, N@10 0.441, R@1 0.251, R@5 0.538, R@10 0.665: 100%|██████████| 48/48 [00:02<00:00, 21.98it/s]\n",
      "Epoch 39, loss 5.448 : 100%|██████████| 48/48 [00:02<00:00, 18.71it/s]\n",
      "Val: N@1 0.253, N@5 0.405, N@10 0.445, R@1 0.253, R@5 0.544, R@10 0.669: 100%|██████████| 48/48 [00:02<00:00, 22.26it/s]\n"
     ]
    },
    {
     "name": "stdout",
     "output_type": "stream",
     "text": [
      "Update Best NDCG@10 Model at 39\n"
     ]
    },
    {
     "name": "stderr",
     "output_type": "stream",
     "text": [
      "Epoch 40, loss 5.431 : 100%|██████████| 48/48 [00:02<00:00, 18.96it/s]\n",
      "Val: N@1 0.257, N@5 0.411, N@10 0.453, R@1 0.257, R@5 0.553, R@10 0.681: 100%|██████████| 48/48 [00:02<00:00, 21.82it/s]\n"
     ]
    },
    {
     "name": "stdout",
     "output_type": "stream",
     "text": [
      "Update Best NDCG@10 Model at 40\n"
     ]
    },
    {
     "name": "stderr",
     "output_type": "stream",
     "text": [
      "Epoch 41, loss 5.404 : 100%|██████████| 48/48 [00:02<00:00, 18.80it/s] \n",
      "Val: N@1 0.261, N@5 0.411, N@10 0.452, R@1 0.261, R@5 0.549, R@10 0.674: 100%|██████████| 48/48 [00:02<00:00, 21.82it/s]\n",
      "Epoch 42, loss 5.407 : 100%|██████████| 48/48 [00:02<00:00, 18.56it/s]\n",
      "Val: N@1 0.250, N@5 0.405, N@10 0.446, R@1 0.250, R@5 0.547, R@10 0.673: 100%|██████████| 48/48 [00:02<00:00, 22.27it/s]\n",
      "Epoch 43, loss 5.389 : 100%|██████████| 48/48 [00:02<00:00, 18.75it/s] \n",
      "Val: N@1 0.251, N@5 0.406, N@10 0.447, R@1 0.251, R@5 0.546, R@10 0.675: 100%|██████████| 48/48 [00:02<00:00, 22.12it/s]\n",
      "Epoch 44, loss 5.384 : 100%|██████████| 48/48 [00:02<00:00, 18.51it/s]\n",
      "Val: N@1 0.255, N@5 0.407, N@10 0.449, R@1 0.255, R@5 0.547, R@10 0.675: 100%|██████████| 48/48 [00:02<00:00, 22.13it/s]\n",
      "Epoch 45, loss 5.353 : 100%|██████████| 48/48 [00:02<00:00, 18.64it/s] \n",
      "Val: N@1 0.258, N@5 0.412, N@10 0.451, R@1 0.258, R@5 0.553, R@10 0.673: 100%|██████████| 48/48 [00:02<00:00, 22.03it/s]\n",
      "Epoch 46, loss 5.356 : 100%|██████████| 48/48 [00:02<00:00, 18.48it/s]\n",
      "Val: N@1 0.255, N@5 0.409, N@10 0.451, R@1 0.255, R@5 0.548, R@10 0.677: 100%|██████████| 48/48 [00:02<00:00, 21.96it/s]\n",
      "Epoch 47, loss 5.362 : 100%|██████████| 48/48 [00:02<00:00, 18.82it/s] \n",
      "Val: N@1 0.259, N@5 0.413, N@10 0.453, R@1 0.259, R@5 0.555, R@10 0.677: 100%|██████████| 48/48 [00:02<00:00, 21.98it/s]\n",
      "Epoch 48, loss 5.335 : 100%|██████████| 48/48 [00:02<00:00, 18.75it/s]\n",
      "Val: N@1 0.263, N@5 0.416, N@10 0.455, R@1 0.263, R@5 0.557, R@10 0.679: 100%|██████████| 48/48 [00:02<00:00, 21.92it/s]\n"
     ]
    },
    {
     "name": "stdout",
     "output_type": "stream",
     "text": [
      "Update Best NDCG@10 Model at 48\n"
     ]
    },
    {
     "name": "stderr",
     "output_type": "stream",
     "text": [
      "Epoch 49, loss 5.320 : 100%|██████████| 48/48 [00:02<00:00, 18.76it/s] \n",
      "Val: N@1 0.260, N@5 0.408, N@10 0.448, R@1 0.260, R@5 0.546, R@10 0.669: 100%|██████████| 48/48 [00:02<00:00, 22.17it/s]\n",
      "Epoch 50, loss 5.313 : 100%|██████████| 48/48 [00:02<00:00, 18.70it/s]\n",
      "Val: N@1 0.261, N@5 0.414, N@10 0.454, R@1 0.261, R@5 0.553, R@10 0.676: 100%|██████████| 48/48 [00:02<00:00, 22.09it/s]\n",
      "Epoch 51, loss 5.321 : 100%|██████████| 48/48 [00:02<00:00, 18.83it/s] \n",
      "Val: N@1 0.262, N@5 0.412, N@10 0.454, R@1 0.262, R@5 0.550, R@10 0.679: 100%|██████████| 48/48 [00:02<00:00, 21.68it/s]\n",
      "Epoch 52, loss 5.289 : 100%|██████████| 48/48 [00:02<00:00, 18.66it/s]\n",
      "Val: N@1 0.261, N@5 0.413, N@10 0.454, R@1 0.261, R@5 0.552, R@10 0.679: 100%|██████████| 48/48 [00:02<00:00, 22.19it/s]\n",
      "Logging to Tensorboard: 100%|██████████| 48/48 [00:02<00:00, 18.57it/s]\n",
      "Val: N@1 0.269, N@5 0.421, N@10 0.461, R@1 0.269, R@5 0.562, R@10 0.684: 100%|██████████| 48/48 [00:02<00:00, 22.11it/s]\n"
     ]
    },
    {
     "name": "stdout",
     "output_type": "stream",
     "text": [
      "Update Best NDCG@10 Model at 53\n"
     ]
    },
    {
     "name": "stderr",
     "output_type": "stream",
     "text": [
      "Epoch 54, loss 5.275 : 100%|██████████| 48/48 [00:02<00:00, 18.66it/s]\n",
      "Val: N@1 0.261, N@5 0.414, N@10 0.453, R@1 0.261, R@5 0.554, R@10 0.675: 100%|██████████| 48/48 [00:02<00:00, 22.17it/s]\n",
      "Epoch 55, loss 5.249 : 100%|██████████| 48/48 [00:02<00:00, 18.53it/s]\n",
      "Val: N@1 0.259, N@5 0.415, N@10 0.455, R@1 0.259, R@5 0.558, R@10 0.680: 100%|██████████| 48/48 [00:02<00:00, 21.82it/s]\n",
      "Epoch 56, loss 5.256 : 100%|██████████| 48/48 [00:02<00:00, 18.65it/s]\n",
      "Val: N@1 0.266, N@5 0.422, N@10 0.461, R@1 0.266, R@5 0.566, R@10 0.686: 100%|██████████| 48/48 [00:02<00:00, 21.67it/s]\n"
     ]
    },
    {
     "name": "stdout",
     "output_type": "stream",
     "text": [
      "Update Best NDCG@10 Model at 56\n"
     ]
    },
    {
     "name": "stderr",
     "output_type": "stream",
     "text": [
      "Epoch 57, loss 5.266 : 100%|██████████| 48/48 [00:02<00:00, 18.53it/s]\n",
      "Val: N@1 0.264, N@5 0.417, N@10 0.454, R@1 0.264, R@5 0.558, R@10 0.672: 100%|██████████| 48/48 [00:02<00:00, 22.20it/s]\n",
      "Epoch 58, loss 5.242 : 100%|██████████| 48/48 [00:02<00:00, 18.50it/s] \n",
      "Val: N@1 0.267, N@5 0.419, N@10 0.458, R@1 0.267, R@5 0.559, R@10 0.679: 100%|██████████| 48/48 [00:02<00:00, 21.86it/s]\n",
      "Epoch 59, loss 5.238 : 100%|██████████| 48/48 [00:02<00:00, 18.78it/s]\n",
      "Val: N@1 0.266, N@5 0.414, N@10 0.455, R@1 0.266, R@5 0.548, R@10 0.675: 100%|██████████| 48/48 [00:02<00:00, 21.95it/s]\n",
      "Epoch 60, loss 5.234 : 100%|██████████| 48/48 [00:02<00:00, 18.73it/s] \n",
      "Val: N@1 0.260, N@5 0.414, N@10 0.453, R@1 0.260, R@5 0.556, R@10 0.676: 100%|██████████| 48/48 [00:02<00:00, 21.93it/s]\n",
      "Epoch 61, loss 5.218 : 100%|██████████| 48/48 [00:02<00:00, 18.55it/s]\n",
      "Val: N@1 0.269, N@5 0.417, N@10 0.456, R@1 0.269, R@5 0.553, R@10 0.674: 100%|██████████| 48/48 [00:02<00:00, 21.50it/s]\n",
      "Epoch 62, loss 5.213 : 100%|██████████| 48/48 [00:02<00:00, 18.63it/s] \n",
      "Val: N@1 0.261, N@5 0.416, N@10 0.456, R@1 0.261, R@5 0.555, R@10 0.679: 100%|██████████| 48/48 [00:02<00:00, 21.88it/s]\n",
      "Epoch 63, loss 5.200 : 100%|██████████| 48/48 [00:02<00:00, 18.72it/s]\n",
      "Val: N@1 0.263, N@5 0.417, N@10 0.456, R@1 0.263, R@5 0.558, R@10 0.677: 100%|██████████| 48/48 [00:02<00:00, 21.99it/s]\n",
      "Epoch 64, loss 5.186 : 100%|██████████| 48/48 [00:02<00:00, 18.73it/s] \n",
      "Val: N@1 0.268, N@5 0.416, N@10 0.457, R@1 0.268, R@5 0.553, R@10 0.677: 100%|██████████| 48/48 [00:02<00:00, 22.21it/s]\n",
      "Epoch 65, loss 5.171 : 100%|██████████| 48/48 [00:02<00:00, 18.82it/s]\n",
      "Val: N@1 0.269, N@5 0.421, N@10 0.461, R@1 0.269, R@5 0.561, R@10 0.683: 100%|██████████| 48/48 [00:02<00:00, 22.18it/s]\n",
      "Epoch 66, loss 5.193 : 100%|██████████| 48/48 [00:02<00:00, 18.62it/s] \n",
      "Val: N@1 0.266, N@5 0.420, N@10 0.461, R@1 0.266, R@5 0.560, R@10 0.683: 100%|██████████| 48/48 [00:02<00:00, 22.07it/s]\n",
      "Epoch 67, loss 5.184 : 100%|██████████| 48/48 [00:02<00:00, 18.65it/s]\n",
      "Val: N@1 0.259, N@5 0.411, N@10 0.451, R@1 0.259, R@5 0.549, R@10 0.672: 100%|██████████| 48/48 [00:02<00:00, 21.97it/s]\n",
      "Epoch 68, loss 5.171 : 100%|██████████| 48/48 [00:02<00:00, 18.54it/s] \n",
      "Val: N@1 0.270, N@5 0.424, N@10 0.462, R@1 0.270, R@5 0.565, R@10 0.683: 100%|██████████| 48/48 [00:02<00:00, 22.11it/s]\n"
     ]
    },
    {
     "name": "stdout",
     "output_type": "stream",
     "text": [
      "Update Best NDCG@10 Model at 68\n"
     ]
    },
    {
     "name": "stderr",
     "output_type": "stream",
     "text": [
      "Epoch 69, loss 5.171 : 100%|██████████| 48/48 [00:02<00:00, 18.70it/s]\n",
      "Val: N@1 0.265, N@5 0.419, N@10 0.460, R@1 0.265, R@5 0.557, R@10 0.684: 100%|██████████| 48/48 [00:02<00:00, 21.69it/s]\n",
      "Epoch 70, loss 5.151 : 100%|██████████| 48/48 [00:02<00:00, 18.60it/s] \n",
      "Val: N@1 0.269, N@5 0.421, N@10 0.461, R@1 0.269, R@5 0.560, R@10 0.683: 100%|██████████| 48/48 [00:02<00:00, 22.13it/s]\n",
      "Epoch 71, loss 5.148 : 100%|██████████| 48/48 [00:02<00:00, 18.76it/s]\n",
      "Val: N@1 0.263, N@5 0.417, N@10 0.457, R@1 0.263, R@5 0.557, R@10 0.682: 100%|██████████| 48/48 [00:02<00:00, 21.70it/s]\n",
      "Epoch 72, loss 5.139 : 100%|██████████| 48/48 [00:02<00:00, 18.62it/s]\n",
      "Val: N@1 0.271, N@5 0.423, N@10 0.464, R@1 0.271, R@5 0.562, R@10 0.687: 100%|██████████| 48/48 [00:02<00:00, 22.26it/s]\n"
     ]
    },
    {
     "name": "stdout",
     "output_type": "stream",
     "text": [
      "Update Best NDCG@10 Model at 72\n"
     ]
    },
    {
     "name": "stderr",
     "output_type": "stream",
     "text": [
      "Epoch 73, loss 5.130 : 100%|██████████| 48/48 [00:02<00:00, 18.60it/s]\n",
      "Val: N@1 0.265, N@5 0.420, N@10 0.459, R@1 0.265, R@5 0.562, R@10 0.681: 100%|██████████| 48/48 [00:02<00:00, 21.76it/s]\n",
      "Epoch 74, loss 5.112 : 100%|██████████| 48/48 [00:02<00:00, 18.72it/s]\n",
      "Val: N@1 0.268, N@5 0.422, N@10 0.459, R@1 0.268, R@5 0.563, R@10 0.677: 100%|██████████| 48/48 [00:02<00:00, 21.56it/s]\n",
      "Epoch 75, loss 5.117 : 100%|██████████| 48/48 [00:02<00:00, 18.39it/s]\n",
      "Val: N@1 0.276, N@5 0.426, N@10 0.465, R@1 0.276, R@5 0.564, R@10 0.683: 100%|██████████| 48/48 [00:02<00:00, 22.18it/s]\n"
     ]
    },
    {
     "name": "stdout",
     "output_type": "stream",
     "text": [
      "Update Best NDCG@10 Model at 75\n"
     ]
    },
    {
     "name": "stderr",
     "output_type": "stream",
     "text": [
      "Epoch 76, loss 5.109 : 100%|██████████| 48/48 [00:02<00:00, 18.66it/s]\n",
      "Val: N@1 0.271, N@5 0.427, N@10 0.464, R@1 0.271, R@5 0.569, R@10 0.684: 100%|██████████| 48/48 [00:02<00:00, 22.12it/s]\n",
      "Epoch 77, loss 5.091 : 100%|██████████| 48/48 [00:02<00:00, 18.66it/s] \n",
      "Val: N@1 0.264, N@5 0.415, N@10 0.452, R@1 0.264, R@5 0.553, R@10 0.669: 100%|██████████| 48/48 [00:02<00:00, 22.25it/s]\n",
      "Epoch 78, loss 5.087 : 100%|██████████| 48/48 [00:02<00:00, 18.80it/s]\n",
      "Val: N@1 0.266, N@5 0.419, N@10 0.461, R@1 0.266, R@5 0.557, R@10 0.683: 100%|██████████| 48/48 [00:02<00:00, 22.01it/s]\n",
      "Epoch 79, loss 5.093 : 100%|██████████| 48/48 [00:02<00:00, 18.64it/s] \n",
      "Val: N@1 0.269, N@5 0.424, N@10 0.461, R@1 0.269, R@5 0.564, R@10 0.677: 100%|██████████| 48/48 [00:02<00:00, 21.99it/s]\n",
      "Epoch 80, loss 5.086 : 100%|██████████| 48/48 [00:02<00:00, 18.62it/s]\n",
      "Val: N@1 0.270, N@5 0.422, N@10 0.461, R@1 0.270, R@5 0.560, R@10 0.679: 100%|██████████| 48/48 [00:02<00:00, 21.92it/s]\n",
      "Epoch 81, loss 5.067 : 100%|██████████| 48/48 [00:02<00:00, 18.57it/s] \n",
      "Val: N@1 0.268, N@5 0.427, N@10 0.464, R@1 0.268, R@5 0.570, R@10 0.684: 100%|██████████| 48/48 [00:02<00:00, 21.56it/s]\n",
      "Epoch 82, loss 5.073 : 100%|██████████| 48/48 [00:02<00:00, 18.67it/s]\n",
      "Val: N@1 0.266, N@5 0.418, N@10 0.458, R@1 0.266, R@5 0.556, R@10 0.678: 100%|██████████| 48/48 [00:02<00:00, 22.07it/s]\n",
      "Epoch 83, loss 5.076 : 100%|██████████| 48/48 [00:02<00:00, 18.70it/s] \n",
      "Val: N@1 0.266, N@5 0.422, N@10 0.459, R@1 0.266, R@5 0.564, R@10 0.678: 100%|██████████| 48/48 [00:02<00:00, 21.91it/s]\n",
      "Epoch 84, loss 5.053 : 100%|██████████| 48/48 [00:02<00:00, 18.70it/s]\n",
      "Val: N@1 0.271, N@5 0.419, N@10 0.460, R@1 0.271, R@5 0.554, R@10 0.678: 100%|██████████| 48/48 [00:02<00:00, 21.92it/s]\n",
      "Epoch 85, loss 5.057 : 100%|██████████| 48/48 [00:02<00:00, 18.46it/s] \n",
      "Val: N@1 0.264, N@5 0.420, N@10 0.459, R@1 0.264, R@5 0.561, R@10 0.680: 100%|██████████| 48/48 [00:02<00:00, 22.06it/s]\n",
      "Epoch 86, loss 5.048 : 100%|██████████| 48/48 [00:02<00:00, 18.50it/s]\n",
      "Val: N@1 0.277, N@5 0.430, N@10 0.467, R@1 0.277, R@5 0.572, R@10 0.685: 100%|██████████| 48/48 [00:02<00:00, 22.20it/s]\n"
     ]
    },
    {
     "name": "stdout",
     "output_type": "stream",
     "text": [
      "Update Best NDCG@10 Model at 86\n"
     ]
    },
    {
     "name": "stderr",
     "output_type": "stream",
     "text": [
      "Epoch 87, loss 5.034 : 100%|██████████| 48/48 [00:02<00:00, 18.85it/s] \n",
      "Val: N@1 0.272, N@5 0.422, N@10 0.461, R@1 0.272, R@5 0.560, R@10 0.681: 100%|██████████| 48/48 [00:02<00:00, 22.18it/s]\n",
      "Epoch 88, loss 5.049 : 100%|██████████| 48/48 [00:02<00:00, 18.45it/s]\n",
      "Val: N@1 0.266, N@5 0.420, N@10 0.457, R@1 0.266, R@5 0.560, R@10 0.674: 100%|██████████| 48/48 [00:02<00:00, 22.15it/s]\n",
      "Epoch 89, loss 5.034 : 100%|██████████| 48/48 [00:02<00:00, 18.62it/s]\n",
      "Val: N@1 0.268, N@5 0.421, N@10 0.461, R@1 0.268, R@5 0.559, R@10 0.682: 100%|██████████| 48/48 [00:02<00:00, 22.12it/s]\n",
      "Epoch 90, loss 5.030 : 100%|██████████| 48/48 [00:02<00:00, 18.87it/s]\n",
      "Val: N@1 0.269, N@5 0.419, N@10 0.459, R@1 0.269, R@5 0.554, R@10 0.679: 100%|██████████| 48/48 [00:02<00:00, 22.09it/s]\n",
      "Epoch 91, loss 5.028 : 100%|██████████| 48/48 [00:02<00:00, 18.58it/s]\n",
      "Val: N@1 0.262, N@5 0.416, N@10 0.456, R@1 0.262, R@5 0.555, R@10 0.677: 100%|██████████| 48/48 [00:02<00:00, 21.79it/s]\n",
      "Epoch 92, loss 5.010 : 100%|██████████| 48/48 [00:02<00:00, 18.71it/s]\n",
      "Val: N@1 0.258, N@5 0.415, N@10 0.454, R@1 0.258, R@5 0.556, R@10 0.677: 100%|██████████| 48/48 [00:02<00:00, 22.08it/s]\n",
      "Epoch 93, loss 4.995 : 100%|██████████| 48/48 [00:02<00:00, 18.53it/s]\n",
      "Val: N@1 0.265, N@5 0.419, N@10 0.459, R@1 0.265, R@5 0.559, R@10 0.681: 100%|██████████| 48/48 [00:02<00:00, 22.25it/s]\n",
      "Epoch 94, loss 4.999 : 100%|██████████| 48/48 [00:02<00:00, 18.77it/s] \n",
      "Val: N@1 0.264, N@5 0.417, N@10 0.455, R@1 0.264, R@5 0.556, R@10 0.673: 100%|██████████| 48/48 [00:02<00:00, 21.91it/s]\n",
      "Epoch 95, loss 5.002 : 100%|██████████| 48/48 [00:02<00:00, 18.80it/s]\n",
      "Val: N@1 0.265, N@5 0.420, N@10 0.457, R@1 0.265, R@5 0.561, R@10 0.678: 100%|██████████| 48/48 [00:02<00:00, 22.02it/s]\n",
      "Epoch 96, loss 4.997 : 100%|██████████| 48/48 [00:02<00:00, 18.66it/s] \n",
      "Val: N@1 0.263, N@5 0.413, N@10 0.453, R@1 0.263, R@5 0.549, R@10 0.671: 100%|██████████| 48/48 [00:02<00:00, 21.98it/s]\n",
      "Epoch 97, loss 4.988 : 100%|██████████| 48/48 [00:02<00:00, 18.66it/s]\n",
      "Val: N@1 0.269, N@5 0.420, N@10 0.457, R@1 0.269, R@5 0.558, R@10 0.673: 100%|██████████| 48/48 [00:02<00:00, 22.09it/s]\n",
      "Epoch 98, loss 4.985 : 100%|██████████| 48/48 [00:02<00:00, 18.57it/s] \n",
      "Val: N@1 0.272, N@5 0.422, N@10 0.461, R@1 0.272, R@5 0.557, R@10 0.676: 100%|██████████| 48/48 [00:02<00:00, 21.97it/s]\n",
      "Epoch 99, loss 4.981 : 100%|██████████| 48/48 [00:02<00:00, 18.79it/s]\n",
      "Val: N@1 0.271, N@5 0.421, N@10 0.457, R@1 0.271, R@5 0.558, R@10 0.669: 100%|██████████| 48/48 [00:02<00:00, 21.51it/s]\n",
      "Epoch 100, loss 4.983 : 100%|██████████| 48/48 [00:02<00:00, 18.68it/s]\n",
      "Val: N@1 0.274, N@5 0.423, N@10 0.462, R@1 0.274, R@5 0.557, R@10 0.678: 100%|██████████| 48/48 [00:02<00:00, 21.86it/s]\n"
     ]
    }
   ],
   "source": [
    "trainer.train()"
   ]
  },
  {
   "cell_type": "code",
   "execution_count": 55,
   "id": "eaf03f9f",
   "metadata": {},
   "outputs": [
    {
     "name": "stdout",
     "output_type": "stream",
     "text": [
      "Test best model with test set!\n"
     ]
    },
    {
     "name": "stderr",
     "output_type": "stream",
     "text": [
      "Val: N@1 0.222, N@5 0.363, N@10 0.399, R@1 0.222, R@5 0.491, R@10 0.603: 100%|██████████| 48/48 [00:02<00:00, 19.21it/s]\n"
     ]
    },
    {
     "name": "stdout",
     "output_type": "stream",
     "text": [
      "{'Recall@100': 0.9970703125, 'NDCG@100': 0.4793995910634597, 'Recall@50': 0.8744032122194767, 'NDCG@50': 0.459500656152765, 'Recall@20': 0.7215711809694767, 'NDCG@20': 0.42913077399134636, 'Recall@10': 0.6033528645833334, 'NDCG@10': 0.3991682343184948, 'Recall@5': 0.4912651913861434, 'NDCG@5': 0.3627896886318922, 'Recall@1': 0.22211371548473835, 'NDCG@1': 0.22211371548473835}\n"
     ]
    }
   ],
   "source": [
    "trainer.test()"
   ]
  },
  {
   "cell_type": "markdown",
   "id": "5f71fa5d",
   "metadata": {},
   "source": [
    "old, recheck reproducibility:"
   ]
  },
  {
   "cell_type": "code",
   "execution_count": 56,
   "id": "f4076eb9",
   "metadata": {
    "scrolled": true
   },
   "outputs": [
    {
     "name": "stderr",
     "output_type": "stream",
     "text": [
      "Val: N@1 0.007, N@5 0.028, N@10 0.045, R@1 0.007, R@5 0.050, R@10 0.102: 100%|██████████| 48/48 [00:05<00:00,  9.57it/s]\n",
      "C:\\Users\\atama\\anaconda3\\envs\\conda_bert4rec\\lib\\site-packages\\torch\\optim\\lr_scheduler.py:138: UserWarning: Detected call of `lr_scheduler.step()` before `optimizer.step()`. In PyTorch 1.1.0 and later, you should call them in the opposite order: `optimizer.step()` before `lr_scheduler.step()`.  Failure to do this will result in PyTorch skipping the first value of the learning rate schedule. See more details at https://pytorch.org/docs/stable/optim.html#how-to-adjust-learning-rate\n",
      "  warnings.warn(\"Detected call of `lr_scheduler.step()` before `optimizer.step()`. \"\n"
     ]
    },
    {
     "name": "stdout",
     "output_type": "stream",
     "text": [
      "Update Best NDCG@10 Model at 1\n"
     ]
    },
    {
     "name": "stderr",
     "output_type": "stream",
     "text": [
      "Epoch 1, loss 7.829 : 100%|██████████| 48/48 [00:02<00:00, 17.95it/s]\n",
      "Val: N@1 0.021, N@5 0.052, N@10 0.074, R@1 0.021, R@5 0.084, R@10 0.154: 100%|██████████| 48/48 [00:02<00:00, 22.47it/s]\n"
     ]
    },
    {
     "name": "stdout",
     "output_type": "stream",
     "text": [
      "Update Best NDCG@10 Model at 1\n"
     ]
    },
    {
     "name": "stderr",
     "output_type": "stream",
     "text": [
      "Epoch 2, loss 7.526 : 100%|██████████| 48/48 [00:02<00:00, 18.91it/s]\n",
      "Val: N@1 0.025, N@5 0.066, N@10 0.089, R@1 0.025, R@5 0.107, R@10 0.180: 100%|██████████| 48/48 [00:02<00:00, 22.52it/s]\n"
     ]
    },
    {
     "name": "stdout",
     "output_type": "stream",
     "text": [
      "Update Best NDCG@10 Model at 2\n"
     ]
    },
    {
     "name": "stderr",
     "output_type": "stream",
     "text": [
      "Epoch 3, loss 7.369 : 100%|██████████| 48/48 [00:02<00:00, 18.76it/s] \n",
      "Val: N@1 0.038, N@5 0.094, N@10 0.125, R@1 0.038, R@5 0.150, R@10 0.248: 100%|██████████| 48/48 [00:02<00:00, 22.51it/s]\n"
     ]
    },
    {
     "name": "stdout",
     "output_type": "stream",
     "text": [
      "Update Best NDCG@10 Model at 3\n"
     ]
    },
    {
     "name": "stderr",
     "output_type": "stream",
     "text": [
      "Epoch 4, loss 7.182 : 100%|██████████| 48/48 [00:02<00:00, 18.83it/s]\n",
      "Val: N@1 0.053, N@5 0.122, N@10 0.160, R@1 0.053, R@5 0.193, R@10 0.312: 100%|██████████| 48/48 [00:02<00:00, 22.24it/s]\n"
     ]
    },
    {
     "name": "stdout",
     "output_type": "stream",
     "text": [
      "Update Best NDCG@10 Model at 4\n"
     ]
    },
    {
     "name": "stderr",
     "output_type": "stream",
     "text": [
      "Epoch 5, loss 6.986 : 100%|██████████| 48/48 [00:02<00:00, 18.89it/s]  \n",
      "Val: N@1 0.070, N@5 0.163, N@10 0.204, R@1 0.070, R@5 0.255, R@10 0.383: 100%|██████████| 48/48 [00:02<00:00, 22.28it/s]\n"
     ]
    },
    {
     "name": "stdout",
     "output_type": "stream",
     "text": [
      "Update Best NDCG@10 Model at 5\n"
     ]
    },
    {
     "name": "stderr",
     "output_type": "stream",
     "text": [
      "Epoch 6, loss 6.835 : 100%|██████████| 48/48 [00:02<00:00, 18.85it/s]\n",
      "Val: N@1 0.095, N@5 0.203, N@10 0.249, R@1 0.095, R@5 0.306, R@10 0.450: 100%|██████████| 48/48 [00:02<00:00, 22.60it/s]\n"
     ]
    },
    {
     "name": "stdout",
     "output_type": "stream",
     "text": [
      "Update Best NDCG@10 Model at 6\n"
     ]
    },
    {
     "name": "stderr",
     "output_type": "stream",
     "text": [
      "Epoch 7, loss 6.678 : 100%|██████████| 48/48 [00:02<00:00, 18.72it/s]  \n",
      "Val: N@1 0.108, N@5 0.228, N@10 0.277, R@1 0.108, R@5 0.342, R@10 0.494: 100%|██████████| 48/48 [00:02<00:00, 21.63it/s]\n"
     ]
    },
    {
     "name": "stdout",
     "output_type": "stream",
     "text": [
      "Update Best NDCG@10 Model at 7\n"
     ]
    },
    {
     "name": "stderr",
     "output_type": "stream",
     "text": [
      "Epoch 8, loss 6.564 : 100%|██████████| 48/48 [00:02<00:00, 18.65it/s]\n",
      "Val: N@1 0.125, N@5 0.243, N@10 0.288, R@1 0.125, R@5 0.357, R@10 0.497: 100%|██████████| 48/48 [00:02<00:00, 22.32it/s]\n"
     ]
    },
    {
     "name": "stdout",
     "output_type": "stream",
     "text": [
      "Update Best NDCG@10 Model at 8\n"
     ]
    },
    {
     "name": "stderr",
     "output_type": "stream",
     "text": [
      "Epoch 9, loss 6.443 : 100%|██████████| 48/48 [00:02<00:00, 18.71it/s]  \n",
      "Val: N@1 0.142, N@5 0.269, N@10 0.317, R@1 0.142, R@5 0.390, R@10 0.539: 100%|██████████| 48/48 [00:02<00:00, 22.44it/s]\n"
     ]
    },
    {
     "name": "stdout",
     "output_type": "stream",
     "text": [
      "Update Best NDCG@10 Model at 9\n"
     ]
    },
    {
     "name": "stderr",
     "output_type": "stream",
     "text": [
      "Epoch 10, loss 6.359 : 100%|██████████| 48/48 [00:02<00:00, 18.73it/s]\n",
      "Val: N@1 0.149, N@5 0.282, N@10 0.327, R@1 0.149, R@5 0.409, R@10 0.550: 100%|██████████| 48/48 [00:02<00:00, 22.46it/s]\n"
     ]
    },
    {
     "name": "stdout",
     "output_type": "stream",
     "text": [
      "Update Best NDCG@10 Model at 10\n"
     ]
    },
    {
     "name": "stderr",
     "output_type": "stream",
     "text": [
      "Epoch 11, loss 6.285 : 100%|██████████| 48/48 [00:02<00:00, 18.80it/s] \n",
      "Val: N@1 0.151, N@5 0.283, N@10 0.329, R@1 0.151, R@5 0.408, R@10 0.548: 100%|██████████| 48/48 [00:02<00:00, 22.46it/s]\n"
     ]
    },
    {
     "name": "stdout",
     "output_type": "stream",
     "text": [
      "Update Best NDCG@10 Model at 11\n"
     ]
    },
    {
     "name": "stderr",
     "output_type": "stream",
     "text": [
      "Epoch 12, loss 6.206 : 100%|██████████| 48/48 [00:02<00:00, 18.79it/s]\n",
      "Val: N@1 0.174, N@5 0.310, N@10 0.356, R@1 0.174, R@5 0.438, R@10 0.578: 100%|██████████| 48/48 [00:02<00:00, 22.53it/s]\n"
     ]
    },
    {
     "name": "stdout",
     "output_type": "stream",
     "text": [
      "Update Best NDCG@10 Model at 12\n"
     ]
    },
    {
     "name": "stderr",
     "output_type": "stream",
     "text": [
      "Epoch 13, loss 6.142 : 100%|██████████| 48/48 [00:02<00:00, 18.74it/s] \n",
      "Val: N@1 0.173, N@5 0.312, N@10 0.357, R@1 0.173, R@5 0.443, R@10 0.581: 100%|██████████| 48/48 [00:02<00:00, 22.42it/s]\n"
     ]
    },
    {
     "name": "stdout",
     "output_type": "stream",
     "text": [
      "Update Best NDCG@10 Model at 13\n"
     ]
    },
    {
     "name": "stderr",
     "output_type": "stream",
     "text": [
      "Epoch 14, loss 6.098 : 100%|██████████| 48/48 [00:02<00:00, 18.70it/s]\n",
      "Val: N@1 0.176, N@5 0.314, N@10 0.360, R@1 0.176, R@5 0.442, R@10 0.585: 100%|██████████| 48/48 [00:02<00:00, 22.28it/s]\n"
     ]
    },
    {
     "name": "stdout",
     "output_type": "stream",
     "text": [
      "Update Best NDCG@10 Model at 14\n"
     ]
    },
    {
     "name": "stderr",
     "output_type": "stream",
     "text": [
      "Epoch 15, loss 6.040 : 100%|██████████| 48/48 [00:02<00:00, 18.76it/s] \n",
      "Val: N@1 0.192, N@5 0.328, N@10 0.374, R@1 0.192, R@5 0.452, R@10 0.593: 100%|██████████| 48/48 [00:02<00:00, 22.32it/s]\n"
     ]
    },
    {
     "name": "stdout",
     "output_type": "stream",
     "text": [
      "Update Best NDCG@10 Model at 15\n"
     ]
    },
    {
     "name": "stderr",
     "output_type": "stream",
     "text": [
      "Epoch 16, loss 5.996 : 100%|██████████| 48/48 [00:02<00:00, 18.79it/s]\n",
      "Val: N@1 0.192, N@5 0.339, N@10 0.382, R@1 0.192, R@5 0.474, R@10 0.609: 100%|██████████| 48/48 [00:02<00:00, 22.22it/s]\n"
     ]
    },
    {
     "name": "stdout",
     "output_type": "stream",
     "text": [
      "Update Best NDCG@10 Model at 16\n"
     ]
    },
    {
     "name": "stderr",
     "output_type": "stream",
     "text": [
      "Epoch 17, loss 5.969 : 100%|██████████| 48/48 [00:02<00:00, 18.76it/s] \n",
      "Val: N@1 0.191, N@5 0.338, N@10 0.382, R@1 0.191, R@5 0.475, R@10 0.611: 100%|██████████| 48/48 [00:02<00:00, 22.04it/s]\n"
     ]
    },
    {
     "name": "stdout",
     "output_type": "stream",
     "text": [
      "Update Best NDCG@10 Model at 17\n"
     ]
    },
    {
     "name": "stderr",
     "output_type": "stream",
     "text": [
      "Epoch 18, loss 5.921 : 100%|██████████| 48/48 [00:02<00:00, 19.01it/s]\n",
      "Val: N@1 0.201, N@5 0.348, N@10 0.392, R@1 0.201, R@5 0.484, R@10 0.619: 100%|██████████| 48/48 [00:02<00:00, 22.24it/s]\n"
     ]
    },
    {
     "name": "stdout",
     "output_type": "stream",
     "text": [
      "Update Best NDCG@10 Model at 18\n"
     ]
    },
    {
     "name": "stderr",
     "output_type": "stream",
     "text": [
      "Epoch 19, loss 5.867 : 100%|██████████| 48/48 [00:02<00:00, 18.97it/s]\n",
      "Val: N@1 0.211, N@5 0.360, N@10 0.401, R@1 0.211, R@5 0.497, R@10 0.626: 100%|██████████| 48/48 [00:02<00:00, 22.50it/s]\n"
     ]
    },
    {
     "name": "stdout",
     "output_type": "stream",
     "text": [
      "Update Best NDCG@10 Model at 19\n"
     ]
    },
    {
     "name": "stderr",
     "output_type": "stream",
     "text": [
      "Epoch 20, loss 5.853 : 100%|██████████| 48/48 [00:02<00:00, 18.87it/s]\n",
      "Val: N@1 0.206, N@5 0.356, N@10 0.399, R@1 0.206, R@5 0.493, R@10 0.625: 100%|██████████| 48/48 [00:02<00:00, 22.32it/s]\n",
      "Epoch 21, loss 5.814 : 100%|██████████| 48/48 [00:02<00:00, 18.60it/s]\n",
      "Val: N@1 0.216, N@5 0.366, N@10 0.411, R@1 0.216, R@5 0.504, R@10 0.640: 100%|██████████| 48/48 [00:02<00:00, 21.98it/s]\n"
     ]
    },
    {
     "name": "stdout",
     "output_type": "stream",
     "text": [
      "Update Best NDCG@10 Model at 21\n"
     ]
    },
    {
     "name": "stderr",
     "output_type": "stream",
     "text": [
      "Epoch 22, loss 5.775 : 100%|██████████| 48/48 [00:02<00:00, 18.49it/s] \n",
      "Val: N@1 0.218, N@5 0.368, N@10 0.410, R@1 0.218, R@5 0.506, R@10 0.635: 100%|██████████| 48/48 [00:02<00:00, 21.78it/s]\n",
      "Epoch 23, loss 5.755 : 100%|██████████| 48/48 [00:02<00:00, 18.91it/s]\n",
      "Val: N@1 0.216, N@5 0.362, N@10 0.406, R@1 0.216, R@5 0.496, R@10 0.631: 100%|██████████| 48/48 [00:02<00:00, 22.29it/s]\n",
      "Epoch 24, loss 5.730 : 100%|██████████| 48/48 [00:02<00:00, 18.76it/s] \n",
      "Val: N@1 0.223, N@5 0.371, N@10 0.412, R@1 0.223, R@5 0.507, R@10 0.634: 100%|██████████| 48/48 [00:02<00:00, 21.86it/s]\n"
     ]
    },
    {
     "name": "stdout",
     "output_type": "stream",
     "text": [
      "Update Best NDCG@10 Model at 24\n"
     ]
    },
    {
     "name": "stderr",
     "output_type": "stream",
     "text": [
      "Epoch 25, loss 5.693 : 100%|██████████| 48/48 [00:02<00:00, 18.45it/s]\n",
      "Val: N@1 0.223, N@5 0.375, N@10 0.417, R@1 0.223, R@5 0.514, R@10 0.645: 100%|██████████| 48/48 [00:02<00:00, 21.04it/s]\n"
     ]
    },
    {
     "name": "stdout",
     "output_type": "stream",
     "text": [
      "Update Best NDCG@10 Model at 25\n"
     ]
    },
    {
     "name": "stderr",
     "output_type": "stream",
     "text": [
      "Epoch 26, loss 5.681 : 100%|██████████| 48/48 [00:02<00:00, 18.86it/s] \n",
      "Val: N@1 0.223, N@5 0.375, N@10 0.418, R@1 0.223, R@5 0.514, R@10 0.644: 100%|██████████| 48/48 [00:02<00:00, 22.27it/s]\n"
     ]
    },
    {
     "name": "stdout",
     "output_type": "stream",
     "text": [
      "Update Best NDCG@10 Model at 26\n"
     ]
    },
    {
     "name": "stderr",
     "output_type": "stream",
     "text": [
      "Epoch 27, loss 5.651 : 100%|██████████| 48/48 [00:02<00:00, 18.78it/s]\n",
      "Val: N@1 0.230, N@5 0.383, N@10 0.427, R@1 0.230, R@5 0.521, R@10 0.656: 100%|██████████| 48/48 [00:02<00:00, 21.95it/s]\n"
     ]
    },
    {
     "name": "stdout",
     "output_type": "stream",
     "text": [
      "Update Best NDCG@10 Model at 27\n"
     ]
    },
    {
     "name": "stderr",
     "output_type": "stream",
     "text": [
      "Epoch 28, loss 5.645 : 100%|██████████| 48/48 [00:02<00:00, 18.82it/s] \n",
      "Val: N@1 0.232, N@5 0.387, N@10 0.428, R@1 0.232, R@5 0.530, R@10 0.656: 100%|██████████| 48/48 [00:02<00:00, 22.08it/s]\n"
     ]
    },
    {
     "name": "stdout",
     "output_type": "stream",
     "text": [
      "Update Best NDCG@10 Model at 28\n"
     ]
    },
    {
     "name": "stderr",
     "output_type": "stream",
     "text": [
      "Epoch 29, loss 5.616 : 100%|██████████| 48/48 [00:02<00:00, 19.03it/s]\n",
      "Val: N@1 0.239, N@5 0.387, N@10 0.427, R@1 0.239, R@5 0.524, R@10 0.647: 100%|██████████| 48/48 [00:02<00:00, 22.20it/s]\n",
      "Epoch 30, loss 5.593 : 100%|██████████| 48/48 [00:02<00:00, 18.81it/s] \n",
      "Val: N@1 0.238, N@5 0.389, N@10 0.431, R@1 0.238, R@5 0.527, R@10 0.657: 100%|██████████| 48/48 [00:02<00:00, 22.28it/s]\n"
     ]
    },
    {
     "name": "stdout",
     "output_type": "stream",
     "text": [
      "Update Best NDCG@10 Model at 30\n"
     ]
    },
    {
     "name": "stderr",
     "output_type": "stream",
     "text": [
      "Epoch 31, loss 5.566 : 100%|██████████| 48/48 [00:02<00:00, 18.66it/s]\n",
      "Val: N@1 0.245, N@5 0.392, N@10 0.433, R@1 0.245, R@5 0.526, R@10 0.653: 100%|██████████| 48/48 [00:02<00:00, 21.82it/s]\n"
     ]
    },
    {
     "name": "stdout",
     "output_type": "stream",
     "text": [
      "Update Best NDCG@10 Model at 31\n"
     ]
    },
    {
     "name": "stderr",
     "output_type": "stream",
     "text": [
      "Epoch 32, loss 5.556 : 100%|██████████| 48/48 [00:02<00:00, 18.82it/s] \n",
      "Val: N@1 0.236, N@5 0.389, N@10 0.429, R@1 0.236, R@5 0.527, R@10 0.650: 100%|██████████| 48/48 [00:02<00:00, 22.31it/s]\n",
      "Epoch 33, loss 5.546 : 100%|██████████| 48/48 [00:02<00:00, 18.63it/s]\n",
      "Val: N@1 0.248, N@5 0.400, N@10 0.442, R@1 0.248, R@5 0.536, R@10 0.666: 100%|██████████| 48/48 [00:02<00:00, 21.87it/s]\n"
     ]
    },
    {
     "name": "stdout",
     "output_type": "stream",
     "text": [
      "Update Best NDCG@10 Model at 33\n"
     ]
    },
    {
     "name": "stderr",
     "output_type": "stream",
     "text": [
      "Epoch 34, loss 5.522 : 100%|██████████| 48/48 [00:02<00:00, 18.79it/s] \n",
      "Val: N@1 0.239, N@5 0.392, N@10 0.433, R@1 0.239, R@5 0.532, R@10 0.659: 100%|██████████| 48/48 [00:02<00:00, 22.04it/s]\n",
      "Epoch 35, loss 5.502 : 100%|██████████| 48/48 [00:02<00:00, 18.88it/s]\n",
      "Val: N@1 0.251, N@5 0.403, N@10 0.443, R@1 0.251, R@5 0.540, R@10 0.665: 100%|██████████| 48/48 [00:02<00:00, 21.10it/s]\n"
     ]
    },
    {
     "name": "stdout",
     "output_type": "stream",
     "text": [
      "Update Best NDCG@10 Model at 35\n"
     ]
    },
    {
     "name": "stderr",
     "output_type": "stream",
     "text": [
      "Epoch 36, loss 5.489 : 100%|██████████| 48/48 [00:02<00:00, 18.22it/s]\n",
      "Val: N@1 0.247, N@5 0.402, N@10 0.442, R@1 0.247, R@5 0.542, R@10 0.665: 100%|██████████| 48/48 [00:02<00:00, 21.45it/s]\n",
      "Epoch 37, loss 5.481 : 100%|██████████| 48/48 [00:02<00:00, 18.79it/s]\n",
      "Val: N@1 0.247, N@5 0.398, N@10 0.440, R@1 0.247, R@5 0.532, R@10 0.663: 100%|██████████| 48/48 [00:02<00:00, 20.75it/s]\n",
      "Epoch 38, loss 5.456 : 100%|██████████| 48/48 [00:02<00:00, 18.46it/s]\n",
      "Val: N@1 0.242, N@5 0.399, N@10 0.440, R@1 0.242, R@5 0.542, R@10 0.668: 100%|██████████| 48/48 [00:02<00:00, 22.21it/s]\n",
      "Epoch 39, loss 5.456 : 100%|██████████| 48/48 [00:02<00:00, 18.98it/s]\n",
      "Val: N@1 0.251, N@5 0.403, N@10 0.444, R@1 0.251, R@5 0.542, R@10 0.668: 100%|██████████| 48/48 [00:02<00:00, 21.95it/s]\n"
     ]
    },
    {
     "name": "stdout",
     "output_type": "stream",
     "text": [
      "Update Best NDCG@10 Model at 39\n"
     ]
    },
    {
     "name": "stderr",
     "output_type": "stream",
     "text": [
      "Epoch 40, loss 5.429 : 100%|██████████| 48/48 [00:02<00:00, 18.88it/s]\n",
      "Val: N@1 0.249, N@5 0.406, N@10 0.445, R@1 0.249, R@5 0.549, R@10 0.671: 100%|██████████| 48/48 [00:02<00:00, 22.10it/s]\n"
     ]
    },
    {
     "name": "stdout",
     "output_type": "stream",
     "text": [
      "Update Best NDCG@10 Model at 40\n"
     ]
    },
    {
     "name": "stderr",
     "output_type": "stream",
     "text": [
      "Epoch 41, loss 5.439 : 100%|██████████| 48/48 [00:02<00:00, 18.71it/s] \n",
      "Val: N@1 0.250, N@5 0.404, N@10 0.444, R@1 0.250, R@5 0.544, R@10 0.667: 100%|██████████| 48/48 [00:02<00:00, 22.29it/s]\n",
      "Epoch 42, loss 5.432 : 100%|██████████| 48/48 [00:02<00:00, 18.98it/s]\n",
      "Val: N@1 0.251, N@5 0.399, N@10 0.443, R@1 0.251, R@5 0.535, R@10 0.669: 100%|██████████| 48/48 [00:02<00:00, 21.75it/s]\n",
      "Epoch 43, loss 5.399 : 100%|██████████| 48/48 [00:02<00:00, 18.89it/s] \n",
      "Val: N@1 0.253, N@5 0.405, N@10 0.449, R@1 0.253, R@5 0.542, R@10 0.678: 100%|██████████| 48/48 [00:02<00:00, 21.98it/s]\n"
     ]
    },
    {
     "name": "stdout",
     "output_type": "stream",
     "text": [
      "Update Best NDCG@10 Model at 43\n"
     ]
    },
    {
     "name": "stderr",
     "output_type": "stream",
     "text": [
      "Epoch 44, loss 5.395 : 100%|██████████| 48/48 [00:02<00:00, 18.60it/s]\n",
      "Val: N@1 0.247, N@5 0.400, N@10 0.444, R@1 0.247, R@5 0.540, R@10 0.678: 100%|██████████| 48/48 [00:02<00:00, 22.10it/s]\n",
      "Epoch 45, loss 5.384 : 100%|██████████| 48/48 [00:02<00:00, 18.92it/s] \n",
      "Val: N@1 0.255, N@5 0.406, N@10 0.450, R@1 0.255, R@5 0.543, R@10 0.676: 100%|██████████| 48/48 [00:02<00:00, 22.11it/s]\n"
     ]
    },
    {
     "name": "stdout",
     "output_type": "stream",
     "text": [
      "Update Best NDCG@10 Model at 45\n"
     ]
    },
    {
     "name": "stderr",
     "output_type": "stream",
     "text": [
      "Epoch 46, loss 5.370 : 100%|██████████| 48/48 [00:02<00:00, 18.72it/s]\n",
      "Val: N@1 0.260, N@5 0.413, N@10 0.454, R@1 0.260, R@5 0.551, R@10 0.680: 100%|██████████| 48/48 [00:02<00:00, 22.04it/s]\n"
     ]
    },
    {
     "name": "stdout",
     "output_type": "stream",
     "text": [
      "Update Best NDCG@10 Model at 46\n"
     ]
    },
    {
     "name": "stderr",
     "output_type": "stream",
     "text": [
      "Epoch 47, loss 5.361 : 100%|██████████| 48/48 [00:02<00:00, 18.77it/s] \n",
      "Val: N@1 0.256, N@5 0.409, N@10 0.450, R@1 0.256, R@5 0.548, R@10 0.675: 100%|██████████| 48/48 [00:02<00:00, 21.84it/s]\n",
      "Epoch 48, loss 5.355 : 100%|██████████| 48/48 [00:02<00:00, 19.00it/s]\n",
      "Val: N@1 0.266, N@5 0.418, N@10 0.458, R@1 0.266, R@5 0.558, R@10 0.682: 100%|██████████| 48/48 [00:02<00:00, 21.95it/s]\n"
     ]
    },
    {
     "name": "stdout",
     "output_type": "stream",
     "text": [
      "Update Best NDCG@10 Model at 48\n"
     ]
    },
    {
     "name": "stderr",
     "output_type": "stream",
     "text": [
      "Epoch 49, loss 5.330 : 100%|██████████| 48/48 [00:02<00:00, 18.49it/s] \n",
      "Val: N@1 0.262, N@5 0.410, N@10 0.453, R@1 0.262, R@5 0.545, R@10 0.675: 100%|██████████| 48/48 [00:02<00:00, 22.07it/s]\n",
      "Epoch 50, loss 5.329 : 100%|██████████| 48/48 [00:02<00:00, 18.42it/s]\n",
      "Val: N@1 0.264, N@5 0.414, N@10 0.455, R@1 0.264, R@5 0.548, R@10 0.673: 100%|██████████| 48/48 [00:02<00:00, 21.95it/s]\n",
      "Epoch 51, loss 5.312 : 100%|██████████| 48/48 [00:02<00:00, 18.69it/s] \n",
      "Val: N@1 0.254, N@5 0.404, N@10 0.448, R@1 0.254, R@5 0.539, R@10 0.674: 100%|██████████| 48/48 [00:02<00:00, 22.03it/s]\n",
      "Epoch 52, loss 5.312 : 100%|██████████| 48/48 [00:02<00:00, 18.51it/s]\n",
      "Val: N@1 0.259, N@5 0.409, N@10 0.449, R@1 0.259, R@5 0.542, R@10 0.668: 100%|██████████| 48/48 [00:02<00:00, 21.87it/s]\n",
      "Logging to Tensorboard: 100%|██████████| 48/48 [00:02<00:00, 18.74it/s]\n",
      "Val: N@1 0.260, N@5 0.411, N@10 0.452, R@1 0.260, R@5 0.549, R@10 0.675: 100%|██████████| 48/48 [00:02<00:00, 22.03it/s]\n",
      "Epoch 54, loss 5.289 : 100%|██████████| 48/48 [00:02<00:00, 18.83it/s]\n",
      "Val: N@1 0.254, N@5 0.408, N@10 0.449, R@1 0.254, R@5 0.547, R@10 0.675: 100%|██████████| 48/48 [00:02<00:00, 22.06it/s]\n",
      "Epoch 55, loss 5.270 : 100%|██████████| 48/48 [00:02<00:00, 18.74it/s]\n",
      "Val: N@1 0.257, N@5 0.406, N@10 0.447, R@1 0.257, R@5 0.542, R@10 0.670: 100%|██████████| 48/48 [00:02<00:00, 22.20it/s]\n",
      "Epoch 56, loss 5.263 : 100%|██████████| 48/48 [00:02<00:00, 18.64it/s]\n",
      "Val: N@1 0.258, N@5 0.410, N@10 0.451, R@1 0.258, R@5 0.548, R@10 0.674: 100%|██████████| 48/48 [00:02<00:00, 21.48it/s]\n",
      "Epoch 57, loss 5.260 : 100%|██████████| 48/48 [00:02<00:00, 18.49it/s]\n",
      "Val: N@1 0.255, N@5 0.410, N@10 0.449, R@1 0.255, R@5 0.549, R@10 0.670: 100%|██████████| 48/48 [00:02<00:00, 21.65it/s]\n",
      "Epoch 58, loss 5.248 : 100%|██████████| 48/48 [00:02<00:00, 18.79it/s] \n",
      "Val: N@1 0.263, N@5 0.416, N@10 0.455, R@1 0.263, R@5 0.556, R@10 0.675: 100%|██████████| 48/48 [00:02<00:00, 22.01it/s]\n",
      "Epoch 59, loss 5.254 : 100%|██████████| 48/48 [00:02<00:00, 18.86it/s]\n",
      "Val: N@1 0.265, N@5 0.415, N@10 0.457, R@1 0.265, R@5 0.550, R@10 0.678: 100%|██████████| 48/48 [00:02<00:00, 22.07it/s]\n",
      "Epoch 60, loss 5.234 : 100%|██████████| 48/48 [00:02<00:00, 18.86it/s] \n",
      "Val: N@1 0.262, N@5 0.414, N@10 0.454, R@1 0.262, R@5 0.552, R@10 0.677: 100%|██████████| 48/48 [00:02<00:00, 21.35it/s]\n",
      "Epoch 61, loss 5.227 : 100%|██████████| 48/48 [00:02<00:00, 18.68it/s]\n",
      "Val: N@1 0.267, N@5 0.416, N@10 0.458, R@1 0.267, R@5 0.551, R@10 0.679: 100%|██████████| 48/48 [00:02<00:00, 21.96it/s]\n",
      "Epoch 62, loss 5.216 : 100%|██████████| 48/48 [00:02<00:00, 18.77it/s] \n",
      "Val: N@1 0.271, N@5 0.422, N@10 0.462, R@1 0.271, R@5 0.560, R@10 0.683: 100%|██████████| 48/48 [00:02<00:00, 22.23it/s]\n"
     ]
    },
    {
     "name": "stdout",
     "output_type": "stream",
     "text": [
      "Update Best NDCG@10 Model at 62\n"
     ]
    },
    {
     "name": "stderr",
     "output_type": "stream",
     "text": [
      "Epoch 63, loss 5.202 : 100%|██████████| 48/48 [00:02<00:00, 18.82it/s]\n",
      "Val: N@1 0.261, N@5 0.410, N@10 0.451, R@1 0.261, R@5 0.546, R@10 0.672: 100%|██████████| 48/48 [00:02<00:00, 22.29it/s]\n",
      "Epoch 64, loss 5.183 : 100%|██████████| 48/48 [00:02<00:00, 18.88it/s] \n",
      "Val: N@1 0.257, N@5 0.408, N@10 0.449, R@1 0.257, R@5 0.545, R@10 0.674: 100%|██████████| 48/48 [00:02<00:00, 22.04it/s]\n",
      "Epoch 65, loss 5.204 : 100%|██████████| 48/48 [00:02<00:00, 18.72it/s]\n",
      "Val: N@1 0.260, N@5 0.413, N@10 0.453, R@1 0.260, R@5 0.553, R@10 0.679: 100%|██████████| 48/48 [00:02<00:00, 22.38it/s]\n",
      "Epoch 66, loss 5.173 : 100%|██████████| 48/48 [00:02<00:00, 18.55it/s] \n",
      "Val: N@1 0.262, N@5 0.415, N@10 0.456, R@1 0.262, R@5 0.553, R@10 0.680: 100%|██████████| 48/48 [00:02<00:00, 21.98it/s]\n",
      "Epoch 67, loss 5.171 : 100%|██████████| 48/48 [00:02<00:00, 18.89it/s]\n",
      "Val: N@1 0.264, N@5 0.412, N@10 0.453, R@1 0.264, R@5 0.549, R@10 0.673: 100%|██████████| 48/48 [00:02<00:00, 21.29it/s]\n",
      "Epoch 68, loss 5.188 : 100%|██████████| 48/48 [00:02<00:00, 18.69it/s] \n",
      "Val: N@1 0.261, N@5 0.411, N@10 0.451, R@1 0.261, R@5 0.549, R@10 0.670: 100%|██████████| 48/48 [00:02<00:00, 21.96it/s]\n",
      "Epoch 69, loss 5.171 : 100%|██████████| 48/48 [00:02<00:00, 18.84it/s]\n",
      "Val: N@1 0.270, N@5 0.418, N@10 0.459, R@1 0.270, R@5 0.554, R@10 0.679: 100%|██████████| 48/48 [00:02<00:00, 22.09it/s]\n",
      "Epoch 70, loss 5.155 : 100%|██████████| 48/48 [00:02<00:00, 18.59it/s] \n",
      "Val: N@1 0.265, N@5 0.418, N@10 0.457, R@1 0.265, R@5 0.556, R@10 0.677: 100%|██████████| 48/48 [00:02<00:00, 22.00it/s]\n",
      "Epoch 71, loss 5.165 : 100%|██████████| 48/48 [00:02<00:00, 18.19it/s]\n",
      "Val: N@1 0.267, N@5 0.418, N@10 0.459, R@1 0.267, R@5 0.554, R@10 0.679: 100%|██████████| 48/48 [00:02<00:00, 22.16it/s]\n",
      "Epoch 72, loss 5.153 : 100%|██████████| 48/48 [00:02<00:00, 18.58it/s]\n",
      "Val: N@1 0.263, N@5 0.417, N@10 0.457, R@1 0.263, R@5 0.556, R@10 0.679: 100%|██████████| 48/48 [00:02<00:00, 21.92it/s]\n",
      "Epoch 73, loss 5.138 : 100%|██████████| 48/48 [00:02<00:00, 18.73it/s]\n",
      "Val: N@1 0.263, N@5 0.417, N@10 0.458, R@1 0.263, R@5 0.556, R@10 0.680: 100%|██████████| 48/48 [00:02<00:00, 22.32it/s]\n",
      "Epoch 74, loss 5.134 : 100%|██████████| 48/48 [00:02<00:00, 18.52it/s]\n",
      "Val: N@1 0.263, N@5 0.417, N@10 0.455, R@1 0.263, R@5 0.556, R@10 0.675: 100%|██████████| 48/48 [00:02<00:00, 22.12it/s]\n",
      "Epoch 75, loss 5.138 : 100%|██████████| 48/48 [00:02<00:00, 18.91it/s]\n",
      "Val: N@1 0.271, N@5 0.422, N@10 0.462, R@1 0.271, R@5 0.559, R@10 0.682: 100%|██████████| 48/48 [00:02<00:00, 22.03it/s]\n"
     ]
    },
    {
     "name": "stdout",
     "output_type": "stream",
     "text": [
      "Update Best NDCG@10 Model at 75\n"
     ]
    },
    {
     "name": "stderr",
     "output_type": "stream",
     "text": [
      "Epoch 76, loss 5.125 : 100%|██████████| 48/48 [00:02<00:00, 18.70it/s]\n",
      "Val: N@1 0.267, N@5 0.415, N@10 0.453, R@1 0.267, R@5 0.547, R@10 0.665: 100%|██████████| 48/48 [00:02<00:00, 22.02it/s]\n",
      "Epoch 77, loss 5.117 : 100%|██████████| 48/48 [00:02<00:00, 18.89it/s] \n",
      "Val: N@1 0.264, N@5 0.415, N@10 0.454, R@1 0.264, R@5 0.553, R@10 0.670: 100%|██████████| 48/48 [00:02<00:00, 21.87it/s]\n",
      "Epoch 78, loss 5.095 : 100%|██████████| 48/48 [00:02<00:00, 18.72it/s]\n",
      "Val: N@1 0.267, N@5 0.419, N@10 0.459, R@1 0.267, R@5 0.555, R@10 0.678: 100%|██████████| 48/48 [00:02<00:00, 22.18it/s]\n",
      "Epoch 79, loss 5.104 : 100%|██████████| 48/48 [00:02<00:00, 18.75it/s] \n",
      "Val: N@1 0.262, N@5 0.416, N@10 0.455, R@1 0.262, R@5 0.558, R@10 0.678: 100%|██████████| 48/48 [00:02<00:00, 21.91it/s]\n",
      "Epoch 80, loss 5.089 : 100%|██████████| 48/48 [00:02<00:00, 18.22it/s]\n",
      "Val: N@1 0.273, N@5 0.424, N@10 0.462, R@1 0.273, R@5 0.561, R@10 0.679: 100%|██████████| 48/48 [00:02<00:00, 21.44it/s]\n",
      "Epoch 81, loss 5.088 : 100%|██████████| 48/48 [00:02<00:00, 18.51it/s] \n",
      "Val: N@1 0.268, N@5 0.418, N@10 0.457, R@1 0.268, R@5 0.554, R@10 0.675: 100%|██████████| 48/48 [00:02<00:00, 22.14it/s]\n",
      "Epoch 82, loss 5.086 : 100%|██████████| 48/48 [00:02<00:00, 18.82it/s]\n",
      "Val: N@1 0.267, N@5 0.416, N@10 0.456, R@1 0.267, R@5 0.551, R@10 0.674: 100%|██████████| 48/48 [00:02<00:00, 21.50it/s]\n",
      "Epoch 83, loss 5.077 : 100%|██████████| 48/48 [00:02<00:00, 18.53it/s] \n",
      "Val: N@1 0.263, N@5 0.416, N@10 0.455, R@1 0.263, R@5 0.553, R@10 0.673: 100%|██████████| 48/48 [00:02<00:00, 20.61it/s]\n",
      "Epoch 84, loss 5.066 : 100%|██████████| 48/48 [00:02<00:00, 18.48it/s]\n",
      "Val: N@1 0.276, N@5 0.426, N@10 0.465, R@1 0.276, R@5 0.563, R@10 0.684: 100%|██████████| 48/48 [00:02<00:00, 22.27it/s]\n"
     ]
    },
    {
     "name": "stdout",
     "output_type": "stream",
     "text": [
      "Update Best NDCG@10 Model at 84\n"
     ]
    },
    {
     "name": "stderr",
     "output_type": "stream",
     "text": [
      "Epoch 85, loss 5.056 : 100%|██████████| 48/48 [00:02<00:00, 18.75it/s] \n",
      "Val: N@1 0.262, N@5 0.418, N@10 0.456, R@1 0.262, R@5 0.558, R@10 0.677: 100%|██████████| 48/48 [00:02<00:00, 22.17it/s]\n",
      "Epoch 86, loss 5.055 : 100%|██████████| 48/48 [00:02<00:00, 18.59it/s]\n",
      "Val: N@1 0.268, N@5 0.422, N@10 0.461, R@1 0.268, R@5 0.561, R@10 0.680: 100%|██████████| 48/48 [00:02<00:00, 21.40it/s]\n",
      "Epoch 87, loss 5.057 : 100%|██████████| 48/48 [00:02<00:00, 18.67it/s] \n",
      "Val: N@1 0.268, N@5 0.420, N@10 0.461, R@1 0.268, R@5 0.558, R@10 0.684: 100%|██████████| 48/48 [00:02<00:00, 21.52it/s]\n",
      "Epoch 88, loss 5.049 : 100%|██████████| 48/48 [00:02<00:00, 18.68it/s]\n",
      "Val: N@1 0.271, N@5 0.423, N@10 0.462, R@1 0.271, R@5 0.560, R@10 0.681: 100%|██████████| 48/48 [00:02<00:00, 22.24it/s]\n",
      "Epoch 89, loss 5.041 : 100%|██████████| 48/48 [00:02<00:00, 18.76it/s]\n",
      "Val: N@1 0.269, N@5 0.418, N@10 0.456, R@1 0.269, R@5 0.554, R@10 0.672: 100%|██████████| 48/48 [00:02<00:00, 22.05it/s]\n",
      "Epoch 90, loss 5.046 : 100%|██████████| 48/48 [00:02<00:00, 18.69it/s]\n",
      "Val: N@1 0.263, N@5 0.418, N@10 0.457, R@1 0.263, R@5 0.557, R@10 0.677: 100%|██████████| 48/48 [00:02<00:00, 22.07it/s]\n",
      "Epoch 91, loss 5.032 : 100%|██████████| 48/48 [00:02<00:00, 18.79it/s]\n",
      "Val: N@1 0.269, N@5 0.422, N@10 0.462, R@1 0.269, R@5 0.560, R@10 0.682: 100%|██████████| 48/48 [00:02<00:00, 22.17it/s]\n",
      "Epoch 92, loss 5.024 : 100%|██████████| 48/48 [00:02<00:00, 18.80it/s]\n",
      "Val: N@1 0.268, N@5 0.420, N@10 0.458, R@1 0.268, R@5 0.559, R@10 0.676: 100%|██████████| 48/48 [00:02<00:00, 22.20it/s]\n",
      "Epoch 93, loss 5.012 : 100%|██████████| 48/48 [00:02<00:00, 18.84it/s]\n",
      "Val: N@1 0.274, N@5 0.425, N@10 0.463, R@1 0.274, R@5 0.563, R@10 0.680: 100%|██████████| 48/48 [00:02<00:00, 21.98it/s]\n",
      "Epoch 94, loss 5.018 : 100%|██████████| 48/48 [00:02<00:00, 18.59it/s] \n",
      "Val: N@1 0.269, N@5 0.419, N@10 0.460, R@1 0.269, R@5 0.556, R@10 0.682: 100%|██████████| 48/48 [00:02<00:00, 22.07it/s]\n",
      "Epoch 95, loss 5.001 : 100%|██████████| 48/48 [00:02<00:00, 18.72it/s]\n",
      "Val: N@1 0.269, N@5 0.421, N@10 0.461, R@1 0.269, R@5 0.558, R@10 0.681: 100%|██████████| 48/48 [00:02<00:00, 21.97it/s]\n",
      "Epoch 96, loss 5.000 : 100%|██████████| 48/48 [00:02<00:00, 18.62it/s] \n",
      "Val: N@1 0.262, N@5 0.416, N@10 0.456, R@1 0.262, R@5 0.555, R@10 0.678: 100%|██████████| 48/48 [00:02<00:00, 22.19it/s]\n",
      "Epoch 97, loss 5.003 : 100%|██████████| 48/48 [00:02<00:00, 19.03it/s]\n",
      "Val: N@1 0.267, N@5 0.419, N@10 0.459, R@1 0.267, R@5 0.556, R@10 0.677: 100%|██████████| 48/48 [00:02<00:00, 21.86it/s]\n",
      "Epoch 98, loss 4.997 : 100%|██████████| 48/48 [00:02<00:00, 18.77it/s] \n",
      "Val: N@1 0.268, N@5 0.420, N@10 0.459, R@1 0.268, R@5 0.559, R@10 0.677: 100%|██████████| 48/48 [00:02<00:00, 22.06it/s]\n",
      "Epoch 99, loss 5.009 : 100%|██████████| 48/48 [00:02<00:00, 18.80it/s]\n",
      "Val: N@1 0.265, N@5 0.416, N@10 0.455, R@1 0.265, R@5 0.553, R@10 0.674: 100%|██████████| 48/48 [00:02<00:00, 22.10it/s]\n",
      "Epoch 100, loss 4.989 : 100%|██████████| 48/48 [00:02<00:00, 18.73it/s]\n",
      "Val: N@1 0.270, N@5 0.418, N@10 0.458, R@1 0.270, R@5 0.552, R@10 0.676: 100%|██████████| 48/48 [00:02<00:00, 21.94it/s]\n"
     ]
    }
   ],
   "source": [
    "trainer.train()"
   ]
  },
  {
   "cell_type": "code",
   "execution_count": 57,
   "id": "29a84f26",
   "metadata": {},
   "outputs": [
    {
     "name": "stdout",
     "output_type": "stream",
     "text": [
      "Test best model with test set!\n"
     ]
    },
    {
     "name": "stderr",
     "output_type": "stream",
     "text": [
      "Val: N@1 0.215, N@5 0.356, N@10 0.395, R@1 0.215, R@5 0.486, R@10 0.605: 100%|██████████| 48/48 [00:02<00:00, 19.79it/s]"
     ]
    },
    {
     "name": "stdout",
     "output_type": "stream",
     "text": [
      "{'Recall@100': 0.9970703125, 'NDCG@100': 0.47501263581216335, 'Recall@50': 0.8770073788861433, 'NDCG@50': 0.4555890740205844, 'Recall@20': 0.7222764765222868, 'NDCG@20': 0.42481197354694206, 'Recall@10': 0.60498046875, 'NDCG@10': 0.3951025288552046, 'Recall@5': 0.4856228306889534, 'NDCG@5': 0.35642762916783494, 'Recall@1': 0.2152235247194767, 'NDCG@1': 0.2152235247194767}\n"
     ]
    },
    {
     "name": "stderr",
     "output_type": "stream",
     "text": [
      "\n"
     ]
    }
   ],
   "source": [
    "trainer.test()"
   ]
  },
  {
   "cell_type": "markdown",
   "id": "088cc103",
   "metadata": {},
   "source": [
    "---"
   ]
  },
  {
   "cell_type": "markdown",
   "id": "90cce650",
   "metadata": {},
   "source": [
    "посчитаем ndcg@10 как в бейзлайнах - по датафрейму neg_sampled_test и по той функции рассчёта, которая использовалась там:"
   ]
  },
  {
   "cell_type": "code",
   "execution_count": 56,
   "id": "69aa4ef5",
   "metadata": {},
   "outputs": [],
   "source": [
    "best_model = torch.load(os.path.join(export_root, 'models', 'best_acc_model.pth')).get('model_state_dict')"
   ]
  },
  {
   "cell_type": "code",
   "execution_count": 57,
   "id": "d8d12472",
   "metadata": {
    "scrolled": true
   },
   "outputs": [
    {
     "data": {
      "text/plain": [
       "<All keys matched successfully>"
      ]
     },
     "execution_count": 57,
     "metadata": {},
     "output_type": "execute_result"
    }
   ],
   "source": [
    "model.load_state_dict(best_model)"
   ]
  },
  {
   "cell_type": "code",
   "execution_count": 58,
   "id": "5b3cf2a9",
   "metadata": {
    "scrolled": true
   },
   "outputs": [
    {
     "data": {
      "text/plain": [
       "BERTModel(\n",
       "  (bert): BERT(\n",
       "    (embedding): BERTEmbedding(\n",
       "      (token): TokenEmbedding(3708, 256, padding_idx=0)\n",
       "      (position): PositionalEmbedding(\n",
       "        (pe): Embedding(100, 256)\n",
       "      )\n",
       "      (dropout): Dropout(p=0.1, inplace=False)\n",
       "    )\n",
       "    (transformer_blocks): ModuleList(\n",
       "      (0): TransformerBlock(\n",
       "        (layernorm1): LayerNorm()\n",
       "        (multiheadedattention): MultiHeadedAttention(\n",
       "          (linear_layers): ModuleList(\n",
       "            (0): Linear(in_features=256, out_features=256, bias=True)\n",
       "            (1): Linear(in_features=256, out_features=256, bias=True)\n",
       "            (2): Linear(in_features=256, out_features=256, bias=True)\n",
       "          )\n",
       "          (output_linear): Linear(in_features=256, out_features=256, bias=True)\n",
       "          (attention): Attention()\n",
       "          (dropout): Dropout(p=0.1, inplace=False)\n",
       "        )\n",
       "        (dropout1): Dropout(p=0.1, inplace=False)\n",
       "        (layernorm2): LayerNorm()\n",
       "        (feed_forward): PositionwiseFeedForward(\n",
       "          (w_1): Linear(in_features=256, out_features=1024, bias=True)\n",
       "          (w_2): Linear(in_features=1024, out_features=256, bias=True)\n",
       "          (dropout): Dropout(p=0.1, inplace=False)\n",
       "          (activation): GELU()\n",
       "        )\n",
       "        (dropout2): Dropout(p=0.1, inplace=False)\n",
       "        (dropout3): Dropout(p=0.1, inplace=False)\n",
       "      )\n",
       "      (1): TransformerBlock(\n",
       "        (layernorm1): LayerNorm()\n",
       "        (multiheadedattention): MultiHeadedAttention(\n",
       "          (linear_layers): ModuleList(\n",
       "            (0): Linear(in_features=256, out_features=256, bias=True)\n",
       "            (1): Linear(in_features=256, out_features=256, bias=True)\n",
       "            (2): Linear(in_features=256, out_features=256, bias=True)\n",
       "          )\n",
       "          (output_linear): Linear(in_features=256, out_features=256, bias=True)\n",
       "          (attention): Attention()\n",
       "          (dropout): Dropout(p=0.1, inplace=False)\n",
       "        )\n",
       "        (dropout1): Dropout(p=0.1, inplace=False)\n",
       "        (layernorm2): LayerNorm()\n",
       "        (feed_forward): PositionwiseFeedForward(\n",
       "          (w_1): Linear(in_features=256, out_features=1024, bias=True)\n",
       "          (w_2): Linear(in_features=1024, out_features=256, bias=True)\n",
       "          (dropout): Dropout(p=0.1, inplace=False)\n",
       "          (activation): GELU()\n",
       "        )\n",
       "        (dropout2): Dropout(p=0.1, inplace=False)\n",
       "        (dropout3): Dropout(p=0.1, inplace=False)\n",
       "      )\n",
       "    )\n",
       "  )\n",
       "  (out): Linear(in_features=256, out_features=3707, bias=True)\n",
       ")"
      ]
     },
     "execution_count": 58,
     "metadata": {},
     "output_type": "execute_result"
    }
   ],
   "source": [
    "model.eval()"
   ]
  },
  {
   "cell_type": "code",
   "execution_count": 59,
   "id": "d351e308",
   "metadata": {},
   "outputs": [
    {
     "name": "stderr",
     "output_type": "stream",
     "text": [
      "100%|██████████| 48/48 [00:01<00:00, 41.66it/s]\n"
     ]
    }
   ],
   "source": [
    "from tqdm import tqdm\n",
    "\n",
    "# получаем предикты для mask_token на тестовой последовательности:\n",
    "scores_for_mask_token_for_each_batch = []\n",
    "\n",
    "with torch.no_grad():\n",
    "    tqdm_dataloader = tqdm(test_torch_dataloader)\n",
    "    \n",
    "    for batch_idx, batch in enumerate(tqdm_dataloader):\n",
    "        batch = [x.to('cuda') for x in batch]\n",
    "        \n",
    "        scores = model(batch[0])\n",
    "        scores_for_mask_token = scores[:, -1, :]\n",
    "        \n",
    "        scores_for_mask_token_for_each_batch.append(scores_for_mask_token.cpu())"
   ]
  },
  {
   "cell_type": "code",
   "execution_count": 60,
   "id": "beb3aeb2",
   "metadata": {},
   "outputs": [
    {
     "data": {
      "text/plain": [
       "torch.Size([6040, 3707])"
      ]
     },
     "execution_count": 60,
     "metadata": {},
     "output_type": "execute_result"
    }
   ],
   "source": [
    "scores_for_mask_token = torch.cat(scores_for_mask_token_for_each_batch, dim=0)\n",
    "\n",
    "scores_for_mask_token.shape"
   ]
  },
  {
   "cell_type": "code",
   "execution_count": 61,
   "id": "67e8fddc",
   "metadata": {},
   "outputs": [],
   "source": [
    "user_to_scores_of_items = dict()\n",
    "\n",
    "for user_ix, scores in enumerate(scores_for_mask_token):\n",
    "    user_to_scores_of_items[user_ix] = dict()\n",
    "    \n",
    "    for item_ix, score in enumerate(scores):\n",
    "        user_to_scores_of_items[user_ix][item_ix] = score.item()"
   ]
  },
  {
   "cell_type": "code",
   "execution_count": 62,
   "id": "d33a2fcd",
   "metadata": {},
   "outputs": [
    {
     "name": "stdout",
     "output_type": "stream",
     "text": [
      "8.800130844116211 9.801734924316406 10.547264099121094 9.773677825927734 2.118375062942505 2.109822988510132\n"
     ]
    }
   ],
   "source": [
    "# отслеживаем путь юзера с индексом 0 (оригинальный айди 1)\n",
    "print(\n",
    "    user_to_scores_of_items[0][49], # видел на трейне\n",
    "    user_to_scores_of_items[0][50], # видел на трейне\n",
    "    user_to_scores_of_items[0][51], # не видел на трейне (а стоило бы вернуть - мы его украли в валидационное взаимодействие)\n",
    "    user_to_scores_of_items[0][52], # не видел на трейне\n",
    "    user_to_scores_of_items[0][53], # не видел на трейне (и в реальности его не было в train + val + test)\n",
    "    user_to_scores_of_items[0][54], # не видел на трейне (и в реальности его не было в train + val + test)\n",
    ")"
   ]
  },
  {
   "cell_type": "markdown",
   "id": "bdfb907e",
   "metadata": {},
   "source": [
    "выглядит правдоподобно"
   ]
  },
  {
   "cell_type": "code",
   "execution_count": 65,
   "id": "59c457d7",
   "metadata": {},
   "outputs": [],
   "source": [
    "from metrics import *"
   ]
  },
  {
   "cell_type": "code",
   "execution_count": 66,
   "id": "a940286a",
   "metadata": {},
   "outputs": [],
   "source": [
    "def calculate_grouped_ndcg_for_bert4rec_output(valDf, model_scores, k):\n",
    "    data = valDf.copy()\n",
    "    \n",
    "    data[\"predicted_rating\"] = data.apply(lambda row: model_scores[row[\"user_id\"]][row[\"movie_id\"]], axis=1)\n",
    "    \n",
    "    nonnull_users = set(data[data.rating > 0].user_id)\n",
    "    data = data[data.user_id.isin(nonnull_users)]\n",
    "    \n",
    "    return np.mean(data.groupby(\"user_id\").apply(lambda x: ndcg_score(x.rating, x.predicted_rating, k)))"
   ]
  },
  {
   "cell_type": "code",
   "execution_count": 67,
   "id": "e8657163",
   "metadata": {},
   "outputs": [
    {
     "data": {
      "text/plain": [
       "0.39689939838386823"
      ]
     },
     "execution_count": 67,
     "metadata": {},
     "output_type": "execute_result"
    }
   ],
   "source": [
    "calculate_grouped_ndcg_for_bert4rec_output(neg_sampled_test, user_to_scores_of_items, 10)"
   ]
  },
  {
   "cell_type": "code",
   "execution_count": null,
   "id": "57f66ce5",
   "metadata": {},
   "outputs": [],
   "source": []
  }
 ],
 "metadata": {
  "kernelspec": {
   "display_name": "Python 3 (ipykernel)",
   "language": "python",
   "name": "python3"
  },
  "language_info": {
   "codemirror_mode": {
    "name": "ipython",
    "version": 3
   },
   "file_extension": ".py",
   "mimetype": "text/x-python",
   "name": "python",
   "nbconvert_exporter": "python",
   "pygments_lexer": "ipython3",
   "version": "3.10.9"
  }
 },
 "nbformat": 4,
 "nbformat_minor": 5
}
